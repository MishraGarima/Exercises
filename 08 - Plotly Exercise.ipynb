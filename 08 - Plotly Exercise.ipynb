{
 "cells": [
  {
   "cell_type": "markdown",
   "metadata": {},
   "source": [
    "# Plotly and Cufflinks Exercises"
   ]
  },
  {
   "cell_type": "markdown",
   "metadata": {},
   "source": [
    "**Plotly is a library that allows creation of interactive plots that can be used in dashboards or websites (can be saved as html files or static images).**\n",
    "\n",
    "### Installation\n",
    "Install plotly and cufflinks to call plots directly off of a pandas dataframe. These libraries are not currently available through **conda** but are available through **pip** install the libraries at your command line/terminal using:\n",
    "\n",
    "    pip install plotly\n",
    "    pip install cufflinks"
   ]
  },
  {
   "cell_type": "markdown",
   "metadata": {},
   "source": [
    "### Imports and Set-up"
   ]
  },
  {
   "cell_type": "code",
   "execution_count": 1,
   "metadata": {},
   "outputs": [],
   "source": [
    "import pandas as pd\n",
    "import numpy as np\n",
    "%matplotlib inline"
   ]
  },
  {
   "cell_type": "code",
   "execution_count": 2,
   "metadata": {},
   "outputs": [],
   "source": [
    "from plotly.offline import download_plotlyjs, init_notebook_mode, plot, iplot\n",
    "import cufflinks as cf"
   ]
  },
  {
   "cell_type": "code",
   "execution_count": 3,
   "metadata": {},
   "outputs": [
    {
     "data": {
      "text/html": [
       "        <script type=\"text/javascript\">\n",
       "        window.PlotlyConfig = {MathJaxConfig: 'local'};\n",
       "        if (window.MathJax) {MathJax.Hub.Config({SVG: {font: \"STIX-Web\"}});}\n",
       "        if (typeof require !== 'undefined') {\n",
       "        require.undef(\"plotly\");\n",
       "        requirejs.config({\n",
       "            paths: {\n",
       "                'plotly': ['https://cdn.plot.ly/plotly-latest.min']\n",
       "            }\n",
       "        });\n",
       "        require(['plotly'], function(Plotly) {\n",
       "            window._Plotly = Plotly;\n",
       "        });\n",
       "        }\n",
       "        </script>\n",
       "        "
      ]
     },
     "metadata": {},
     "output_type": "display_data"
    }
   ],
   "source": [
    "#for Notebooks\n",
    "init_notebook_mode(connected=True)"
   ]
  },
  {
   "cell_type": "code",
   "execution_count": 4,
   "metadata": {},
   "outputs": [
    {
     "data": {
      "text/html": [
       "        <script type=\"text/javascript\">\n",
       "        window.PlotlyConfig = {MathJaxConfig: 'local'};\n",
       "        if (window.MathJax) {MathJax.Hub.Config({SVG: {font: \"STIX-Web\"}});}\n",
       "        if (typeof require !== 'undefined') {\n",
       "        require.undef(\"plotly\");\n",
       "        requirejs.config({\n",
       "            paths: {\n",
       "                'plotly': ['https://cdn.plot.ly/plotly-latest.min']\n",
       "            }\n",
       "        });\n",
       "        require(['plotly'], function(Plotly) {\n",
       "            window._Plotly = Plotly;\n",
       "        });\n",
       "        }\n",
       "        </script>\n",
       "        "
      ]
     },
     "metadata": {},
     "output_type": "display_data"
    }
   ],
   "source": [
    "#for offline use\n",
    "cf.go_offline()"
   ]
  },
  {
   "cell_type": "markdown",
   "metadata": {},
   "source": [
    "### Fake Data"
   ]
  },
  {
   "cell_type": "code",
   "execution_count": 5,
   "metadata": {},
   "outputs": [],
   "source": [
    "df = pd.DataFrame(np.random.randn(100,4),columns='A B C D'.split())"
   ]
  },
  {
   "cell_type": "code",
   "execution_count": 6,
   "metadata": {},
   "outputs": [
    {
     "data": {
      "text/html": [
       "<div>\n",
       "<style scoped>\n",
       "    .dataframe tbody tr th:only-of-type {\n",
       "        vertical-align: middle;\n",
       "    }\n",
       "\n",
       "    .dataframe tbody tr th {\n",
       "        vertical-align: top;\n",
       "    }\n",
       "\n",
       "    .dataframe thead th {\n",
       "        text-align: right;\n",
       "    }\n",
       "</style>\n",
       "<table border=\"1\" class=\"dataframe\">\n",
       "  <thead>\n",
       "    <tr style=\"text-align: right;\">\n",
       "      <th></th>\n",
       "      <th>A</th>\n",
       "      <th>B</th>\n",
       "      <th>C</th>\n",
       "      <th>D</th>\n",
       "    </tr>\n",
       "  </thead>\n",
       "  <tbody>\n",
       "    <tr>\n",
       "      <th>0</th>\n",
       "      <td>-0.290863</td>\n",
       "      <td>-0.605725</td>\n",
       "      <td>0.160125</td>\n",
       "      <td>1.342674</td>\n",
       "    </tr>\n",
       "    <tr>\n",
       "      <th>1</th>\n",
       "      <td>0.752203</td>\n",
       "      <td>-0.189300</td>\n",
       "      <td>0.294674</td>\n",
       "      <td>-0.183405</td>\n",
       "    </tr>\n",
       "    <tr>\n",
       "      <th>2</th>\n",
       "      <td>-0.320220</td>\n",
       "      <td>0.266906</td>\n",
       "      <td>0.356888</td>\n",
       "      <td>0.532870</td>\n",
       "    </tr>\n",
       "    <tr>\n",
       "      <th>3</th>\n",
       "      <td>-0.384319</td>\n",
       "      <td>0.880151</td>\n",
       "      <td>0.493391</td>\n",
       "      <td>-1.656656</td>\n",
       "    </tr>\n",
       "    <tr>\n",
       "      <th>4</th>\n",
       "      <td>-0.119311</td>\n",
       "      <td>-2.163785</td>\n",
       "      <td>0.165303</td>\n",
       "      <td>0.059588</td>\n",
       "    </tr>\n",
       "  </tbody>\n",
       "</table>\n",
       "</div>"
      ],
      "text/plain": [
       "          A         B         C         D\n",
       "0 -0.290863 -0.605725  0.160125  1.342674\n",
       "1  0.752203 -0.189300  0.294674 -0.183405\n",
       "2 -0.320220  0.266906  0.356888  0.532870\n",
       "3 -0.384319  0.880151  0.493391 -1.656656\n",
       "4 -0.119311 -2.163785  0.165303  0.059588"
      ]
     },
     "execution_count": 6,
     "metadata": {},
     "output_type": "execute_result"
    }
   ],
   "source": [
    "df.head()"
   ]
  },
  {
   "cell_type": "code",
   "execution_count": 7,
   "metadata": {},
   "outputs": [],
   "source": [
    "df2 = pd.DataFrame({'Category':['A','B','C'],'Values':[32,43,50]})"
   ]
  },
  {
   "cell_type": "code",
   "execution_count": 8,
   "metadata": {},
   "outputs": [
    {
     "data": {
      "text/html": [
       "<div>\n",
       "<style scoped>\n",
       "    .dataframe tbody tr th:only-of-type {\n",
       "        vertical-align: middle;\n",
       "    }\n",
       "\n",
       "    .dataframe tbody tr th {\n",
       "        vertical-align: top;\n",
       "    }\n",
       "\n",
       "    .dataframe thead th {\n",
       "        text-align: right;\n",
       "    }\n",
       "</style>\n",
       "<table border=\"1\" class=\"dataframe\">\n",
       "  <thead>\n",
       "    <tr style=\"text-align: right;\">\n",
       "      <th></th>\n",
       "      <th>Category</th>\n",
       "      <th>Values</th>\n",
       "    </tr>\n",
       "  </thead>\n",
       "  <tbody>\n",
       "    <tr>\n",
       "      <th>0</th>\n",
       "      <td>A</td>\n",
       "      <td>32</td>\n",
       "    </tr>\n",
       "    <tr>\n",
       "      <th>1</th>\n",
       "      <td>B</td>\n",
       "      <td>43</td>\n",
       "    </tr>\n",
       "    <tr>\n",
       "      <th>2</th>\n",
       "      <td>C</td>\n",
       "      <td>50</td>\n",
       "    </tr>\n",
       "  </tbody>\n",
       "</table>\n",
       "</div>"
      ],
      "text/plain": [
       "  Category  Values\n",
       "0        A      32\n",
       "1        B      43\n",
       "2        C      50"
      ]
     },
     "execution_count": 8,
     "metadata": {},
     "output_type": "execute_result"
    }
   ],
   "source": [
    "df2.head()"
   ]
  },
  {
   "cell_type": "markdown",
   "metadata": {},
   "source": [
    "### Using iplot()\n",
    "\n",
    "* Scatter Plot\n",
    "* Bar Plot\n",
    "* Box Plot\n",
    "* 3D Surface Plot\n",
    "* Spread Plot\n",
    "* Histogram\n",
    "* Bubble Plot\n",
    "* Scatter Matrix"
   ]
  },
  {
   "cell_type": "markdown",
   "metadata": {},
   "source": [
    "### Scatter Plot"
   ]
  },
  {
   "cell_type": "code",
   "execution_count": 9,
   "metadata": {},
   "outputs": [
    {
     "data": {
      "application/vnd.plotly.v1+json": {
       "config": {
        "linkText": "Export to plot.ly",
        "plotlyServerURL": "https://plot.ly",
        "showLink": true
       },
       "data": [
        {
         "line": {
          "color": "rgba(255, 153, 51, 1.0)",
          "dash": "solid",
          "shape": "linear",
          "width": 1.3
         },
         "marker": {
          "size": 15,
          "symbol": "circle"
         },
         "mode": "markers",
         "name": "B",
         "text": "",
         "type": "scatter",
         "x": [
          -0.2908630835904841,
          0.7522026671935028,
          -0.3202202412277464,
          -0.3843185240987831,
          -0.11931133758015264,
          -0.06817300711027062,
          0.8622886800722961,
          -0.31057746212150983,
          0.8125623712304261,
          -1.5640669400281466,
          1.2355425375738671,
          0.8324247793641801,
          -0.24619011485215633,
          0.8599638885984369,
          2.515608696935039,
          -0.07276308416211145,
          0.5513061271034504,
          -1.073197145275396,
          -2.0003814065736987,
          0.08474756277100214,
          -0.47531304602403646,
          0.2849603958855241,
          0.3128040140963513,
          -0.1335933447541138,
          -0.561357095225552,
          0.5683662400926341,
          1.0250353032278872,
          -1.0102201871084513,
          0.6989540721372159,
          -0.4470276481220417,
          -1.4318993670426283,
          -1.778709711352007,
          -0.2013150386506052,
          0.90594323014043,
          -0.7068585466458727,
          0.6769572604577522,
          0.7939864245468552,
          -0.7538463469490789,
          -1.5109525329437004,
          0.03241263103920048,
          0.9457202231941569,
          -0.6361641291847315,
          0.8719018266954653,
          0.4866077668978206,
          -0.28575776536307634,
          -2.3753288076766776,
          -1.122899970532789,
          -0.7693332131825008,
          -0.6486311302735432,
          0.272670354146497,
          1.0501723719960416,
          -0.3652989022843855,
          -0.6162279728796006,
          0.4587412631291952,
          -0.5019271653215122,
          -0.2515218329079029,
          -0.6317256522448005,
          -0.08223348033417892,
          -0.0036923666681755664,
          1.266456167863406,
          -0.3560151451082724,
          0.3526100081966942,
          0.8185028299045045,
          -0.15608208664826334,
          -0.33548634877417594,
          0.11600603838969752,
          0.2712996817591125,
          -0.36049681660033206,
          -1.7525330513020736,
          1.450464166516479,
          -1.216821613042049,
          0.6034493801477613,
          -1.8379363094945262,
          1.138064473201576,
          0.8394327104637465,
          -1.929090849772803,
          -1.072691459283474,
          -0.43038935680185325,
          -0.7400367966877052,
          -1.322632993361467,
          0.5787215505345139,
          -1.357954952041852,
          -0.6021767109518883,
          0.13132077562065864,
          1.5594079056934678,
          1.535216779827442,
          -0.19368758523366292,
          -0.3557438285284079,
          0.7849209968717704,
          -1.7621278569068,
          0.6267176980025514,
          -2.8652636529097717,
          -0.770483051114564,
          0.5280043573619357,
          -0.800516072738706,
          -1.743415921195421,
          -3.1720879132649635,
          -0.9725183317291045,
          0.6848046759556948,
          -1.0177256470591118
         ],
         "y": [
          -0.6057254125189131,
          -0.1892998620186739,
          0.26690625989144934,
          0.8801506841686696,
          -2.163784553004971,
          -0.4614535843193734,
          -0.477493821743666,
          1.415970231503484,
          -0.32532434268508886,
          -0.623502578386509,
          0.46107409795762677,
          -0.17597837771622932,
          -0.010493028851549516,
          0.12707067248642415,
          1.6821349613945324,
          1.4896885981293346,
          1.6774362491281654,
          1.7768769787637884,
          0.02482122889581526,
          -0.08490748620525963,
          -0.7745530167443184,
          0.7281703263038644,
          0.34604550500472503,
          1.6609483397717384,
          -0.152552190572538,
          -0.23369305198586304,
          -0.7120689525561642,
          0.42787313319929604,
          1.133049796582027,
          -0.6412951044882726,
          0.8955770585287715,
          -0.4726809527145295,
          0.14844968009098905,
          -0.21346438354012479,
          1.1349094316201722,
          0.3303734816044888,
          0.08667582342525072,
          0.8892484751851075,
          -0.12466594725091838,
          0.8827036907344208,
          1.2094937839467363,
          -0.4895836620137229,
          -0.5408427475391092,
          -1.0410265851439164,
          -0.8895250070698203,
          -0.11542371743890872,
          -0.2565703204603735,
          -1.025057326973805,
          -0.17505685722310804,
          0.7156960922973573,
          0.3364902049994554,
          0.3922927246547013,
          -1.3069168912035614,
          1.0855895861961868,
          0.38972558986895434,
          1.3949581546509382,
          -0.15477016380895434,
          -1.0490182284984666,
          -0.7284534907657603,
          -0.43638936764173697,
          0.6725356433554945,
          -1.3786402449176423,
          0.48072039417330187,
          -0.0017498029708925967,
          0.5018239222039128,
          1.6771097664851364,
          0.35373070444751786,
          0.8266608353330749,
          -0.3749302565897924,
          -0.4353583055446691,
          -1.2005208565469987,
          -0.8799068979454695,
          1.0274027527929517,
          0.3647258386082056,
          0.45955622956747993,
          -0.09155025515307294,
          -1.3399406737564568,
          0.616572965129828,
          0.3878866411322037,
          0.32055906658916067,
          0.7972281495815815,
          2.389749279180996,
          -1.2494200166450264,
          1.903338137180644,
          0.736383662558544,
          -0.2549611298886137,
          0.4816846935415098,
          -0.1640079781722683,
          0.4242312582039998,
          0.8552838937608425,
          -1.9059829052191977,
          0.8331154077999772,
          0.443487283792609,
          -0.2301629498760557,
          -0.4811227799019512,
          0.6444819505648139,
          -1.2330396356002027,
          -0.24868752637889677,
          -0.38122386681139986,
          -0.16332571723924683
         ]
        }
       ],
       "layout": {
        "legend": {
         "bgcolor": "#F5F6F9",
         "font": {
          "color": "#4D5663"
         }
        },
        "paper_bgcolor": "#F5F6F9",
        "plot_bgcolor": "#F5F6F9",
        "template": {
         "data": {
          "bar": [
           {
            "error_x": {
             "color": "#2a3f5f"
            },
            "error_y": {
             "color": "#2a3f5f"
            },
            "marker": {
             "line": {
              "color": "#E5ECF6",
              "width": 0.5
             }
            },
            "type": "bar"
           }
          ],
          "barpolar": [
           {
            "marker": {
             "line": {
              "color": "#E5ECF6",
              "width": 0.5
             }
            },
            "type": "barpolar"
           }
          ],
          "carpet": [
           {
            "aaxis": {
             "endlinecolor": "#2a3f5f",
             "gridcolor": "white",
             "linecolor": "white",
             "minorgridcolor": "white",
             "startlinecolor": "#2a3f5f"
            },
            "baxis": {
             "endlinecolor": "#2a3f5f",
             "gridcolor": "white",
             "linecolor": "white",
             "minorgridcolor": "white",
             "startlinecolor": "#2a3f5f"
            },
            "type": "carpet"
           }
          ],
          "choropleth": [
           {
            "colorbar": {
             "outlinewidth": 0,
             "ticks": ""
            },
            "type": "choropleth"
           }
          ],
          "contour": [
           {
            "colorbar": {
             "outlinewidth": 0,
             "ticks": ""
            },
            "colorscale": [
             [
              0,
              "#0d0887"
             ],
             [
              0.1111111111111111,
              "#46039f"
             ],
             [
              0.2222222222222222,
              "#7201a8"
             ],
             [
              0.3333333333333333,
              "#9c179e"
             ],
             [
              0.4444444444444444,
              "#bd3786"
             ],
             [
              0.5555555555555556,
              "#d8576b"
             ],
             [
              0.6666666666666666,
              "#ed7953"
             ],
             [
              0.7777777777777778,
              "#fb9f3a"
             ],
             [
              0.8888888888888888,
              "#fdca26"
             ],
             [
              1,
              "#f0f921"
             ]
            ],
            "type": "contour"
           }
          ],
          "contourcarpet": [
           {
            "colorbar": {
             "outlinewidth": 0,
             "ticks": ""
            },
            "type": "contourcarpet"
           }
          ],
          "heatmap": [
           {
            "colorbar": {
             "outlinewidth": 0,
             "ticks": ""
            },
            "colorscale": [
             [
              0,
              "#0d0887"
             ],
             [
              0.1111111111111111,
              "#46039f"
             ],
             [
              0.2222222222222222,
              "#7201a8"
             ],
             [
              0.3333333333333333,
              "#9c179e"
             ],
             [
              0.4444444444444444,
              "#bd3786"
             ],
             [
              0.5555555555555556,
              "#d8576b"
             ],
             [
              0.6666666666666666,
              "#ed7953"
             ],
             [
              0.7777777777777778,
              "#fb9f3a"
             ],
             [
              0.8888888888888888,
              "#fdca26"
             ],
             [
              1,
              "#f0f921"
             ]
            ],
            "type": "heatmap"
           }
          ],
          "heatmapgl": [
           {
            "colorbar": {
             "outlinewidth": 0,
             "ticks": ""
            },
            "colorscale": [
             [
              0,
              "#0d0887"
             ],
             [
              0.1111111111111111,
              "#46039f"
             ],
             [
              0.2222222222222222,
              "#7201a8"
             ],
             [
              0.3333333333333333,
              "#9c179e"
             ],
             [
              0.4444444444444444,
              "#bd3786"
             ],
             [
              0.5555555555555556,
              "#d8576b"
             ],
             [
              0.6666666666666666,
              "#ed7953"
             ],
             [
              0.7777777777777778,
              "#fb9f3a"
             ],
             [
              0.8888888888888888,
              "#fdca26"
             ],
             [
              1,
              "#f0f921"
             ]
            ],
            "type": "heatmapgl"
           }
          ],
          "histogram": [
           {
            "marker": {
             "colorbar": {
              "outlinewidth": 0,
              "ticks": ""
             }
            },
            "type": "histogram"
           }
          ],
          "histogram2d": [
           {
            "colorbar": {
             "outlinewidth": 0,
             "ticks": ""
            },
            "colorscale": [
             [
              0,
              "#0d0887"
             ],
             [
              0.1111111111111111,
              "#46039f"
             ],
             [
              0.2222222222222222,
              "#7201a8"
             ],
             [
              0.3333333333333333,
              "#9c179e"
             ],
             [
              0.4444444444444444,
              "#bd3786"
             ],
             [
              0.5555555555555556,
              "#d8576b"
             ],
             [
              0.6666666666666666,
              "#ed7953"
             ],
             [
              0.7777777777777778,
              "#fb9f3a"
             ],
             [
              0.8888888888888888,
              "#fdca26"
             ],
             [
              1,
              "#f0f921"
             ]
            ],
            "type": "histogram2d"
           }
          ],
          "histogram2dcontour": [
           {
            "colorbar": {
             "outlinewidth": 0,
             "ticks": ""
            },
            "colorscale": [
             [
              0,
              "#0d0887"
             ],
             [
              0.1111111111111111,
              "#46039f"
             ],
             [
              0.2222222222222222,
              "#7201a8"
             ],
             [
              0.3333333333333333,
              "#9c179e"
             ],
             [
              0.4444444444444444,
              "#bd3786"
             ],
             [
              0.5555555555555556,
              "#d8576b"
             ],
             [
              0.6666666666666666,
              "#ed7953"
             ],
             [
              0.7777777777777778,
              "#fb9f3a"
             ],
             [
              0.8888888888888888,
              "#fdca26"
             ],
             [
              1,
              "#f0f921"
             ]
            ],
            "type": "histogram2dcontour"
           }
          ],
          "mesh3d": [
           {
            "colorbar": {
             "outlinewidth": 0,
             "ticks": ""
            },
            "type": "mesh3d"
           }
          ],
          "parcoords": [
           {
            "line": {
             "colorbar": {
              "outlinewidth": 0,
              "ticks": ""
             }
            },
            "type": "parcoords"
           }
          ],
          "pie": [
           {
            "automargin": true,
            "type": "pie"
           }
          ],
          "scatter": [
           {
            "marker": {
             "colorbar": {
              "outlinewidth": 0,
              "ticks": ""
             }
            },
            "type": "scatter"
           }
          ],
          "scatter3d": [
           {
            "line": {
             "colorbar": {
              "outlinewidth": 0,
              "ticks": ""
             }
            },
            "marker": {
             "colorbar": {
              "outlinewidth": 0,
              "ticks": ""
             }
            },
            "type": "scatter3d"
           }
          ],
          "scattercarpet": [
           {
            "marker": {
             "colorbar": {
              "outlinewidth": 0,
              "ticks": ""
             }
            },
            "type": "scattercarpet"
           }
          ],
          "scattergeo": [
           {
            "marker": {
             "colorbar": {
              "outlinewidth": 0,
              "ticks": ""
             }
            },
            "type": "scattergeo"
           }
          ],
          "scattergl": [
           {
            "marker": {
             "colorbar": {
              "outlinewidth": 0,
              "ticks": ""
             }
            },
            "type": "scattergl"
           }
          ],
          "scattermapbox": [
           {
            "marker": {
             "colorbar": {
              "outlinewidth": 0,
              "ticks": ""
             }
            },
            "type": "scattermapbox"
           }
          ],
          "scatterpolar": [
           {
            "marker": {
             "colorbar": {
              "outlinewidth": 0,
              "ticks": ""
             }
            },
            "type": "scatterpolar"
           }
          ],
          "scatterpolargl": [
           {
            "marker": {
             "colorbar": {
              "outlinewidth": 0,
              "ticks": ""
             }
            },
            "type": "scatterpolargl"
           }
          ],
          "scatterternary": [
           {
            "marker": {
             "colorbar": {
              "outlinewidth": 0,
              "ticks": ""
             }
            },
            "type": "scatterternary"
           }
          ],
          "surface": [
           {
            "colorbar": {
             "outlinewidth": 0,
             "ticks": ""
            },
            "colorscale": [
             [
              0,
              "#0d0887"
             ],
             [
              0.1111111111111111,
              "#46039f"
             ],
             [
              0.2222222222222222,
              "#7201a8"
             ],
             [
              0.3333333333333333,
              "#9c179e"
             ],
             [
              0.4444444444444444,
              "#bd3786"
             ],
             [
              0.5555555555555556,
              "#d8576b"
             ],
             [
              0.6666666666666666,
              "#ed7953"
             ],
             [
              0.7777777777777778,
              "#fb9f3a"
             ],
             [
              0.8888888888888888,
              "#fdca26"
             ],
             [
              1,
              "#f0f921"
             ]
            ],
            "type": "surface"
           }
          ],
          "table": [
           {
            "cells": {
             "fill": {
              "color": "#EBF0F8"
             },
             "line": {
              "color": "white"
             }
            },
            "header": {
             "fill": {
              "color": "#C8D4E3"
             },
             "line": {
              "color": "white"
             }
            },
            "type": "table"
           }
          ]
         },
         "layout": {
          "annotationdefaults": {
           "arrowcolor": "#2a3f5f",
           "arrowhead": 0,
           "arrowwidth": 1
          },
          "autotypenumbers": "strict",
          "coloraxis": {
           "colorbar": {
            "outlinewidth": 0,
            "ticks": ""
           }
          },
          "colorscale": {
           "diverging": [
            [
             0,
             "#8e0152"
            ],
            [
             0.1,
             "#c51b7d"
            ],
            [
             0.2,
             "#de77ae"
            ],
            [
             0.3,
             "#f1b6da"
            ],
            [
             0.4,
             "#fde0ef"
            ],
            [
             0.5,
             "#f7f7f7"
            ],
            [
             0.6,
             "#e6f5d0"
            ],
            [
             0.7,
             "#b8e186"
            ],
            [
             0.8,
             "#7fbc41"
            ],
            [
             0.9,
             "#4d9221"
            ],
            [
             1,
             "#276419"
            ]
           ],
           "sequential": [
            [
             0,
             "#0d0887"
            ],
            [
             0.1111111111111111,
             "#46039f"
            ],
            [
             0.2222222222222222,
             "#7201a8"
            ],
            [
             0.3333333333333333,
             "#9c179e"
            ],
            [
             0.4444444444444444,
             "#bd3786"
            ],
            [
             0.5555555555555556,
             "#d8576b"
            ],
            [
             0.6666666666666666,
             "#ed7953"
            ],
            [
             0.7777777777777778,
             "#fb9f3a"
            ],
            [
             0.8888888888888888,
             "#fdca26"
            ],
            [
             1,
             "#f0f921"
            ]
           ],
           "sequentialminus": [
            [
             0,
             "#0d0887"
            ],
            [
             0.1111111111111111,
             "#46039f"
            ],
            [
             0.2222222222222222,
             "#7201a8"
            ],
            [
             0.3333333333333333,
             "#9c179e"
            ],
            [
             0.4444444444444444,
             "#bd3786"
            ],
            [
             0.5555555555555556,
             "#d8576b"
            ],
            [
             0.6666666666666666,
             "#ed7953"
            ],
            [
             0.7777777777777778,
             "#fb9f3a"
            ],
            [
             0.8888888888888888,
             "#fdca26"
            ],
            [
             1,
             "#f0f921"
            ]
           ]
          },
          "colorway": [
           "#636efa",
           "#EF553B",
           "#00cc96",
           "#ab63fa",
           "#FFA15A",
           "#19d3f3",
           "#FF6692",
           "#B6E880",
           "#FF97FF",
           "#FECB52"
          ],
          "font": {
           "color": "#2a3f5f"
          },
          "geo": {
           "bgcolor": "white",
           "lakecolor": "white",
           "landcolor": "#E5ECF6",
           "showlakes": true,
           "showland": true,
           "subunitcolor": "white"
          },
          "hoverlabel": {
           "align": "left"
          },
          "hovermode": "closest",
          "mapbox": {
           "style": "light"
          },
          "paper_bgcolor": "white",
          "plot_bgcolor": "#E5ECF6",
          "polar": {
           "angularaxis": {
            "gridcolor": "white",
            "linecolor": "white",
            "ticks": ""
           },
           "bgcolor": "#E5ECF6",
           "radialaxis": {
            "gridcolor": "white",
            "linecolor": "white",
            "ticks": ""
           }
          },
          "scene": {
           "xaxis": {
            "backgroundcolor": "#E5ECF6",
            "gridcolor": "white",
            "gridwidth": 2,
            "linecolor": "white",
            "showbackground": true,
            "ticks": "",
            "zerolinecolor": "white"
           },
           "yaxis": {
            "backgroundcolor": "#E5ECF6",
            "gridcolor": "white",
            "gridwidth": 2,
            "linecolor": "white",
            "showbackground": true,
            "ticks": "",
            "zerolinecolor": "white"
           },
           "zaxis": {
            "backgroundcolor": "#E5ECF6",
            "gridcolor": "white",
            "gridwidth": 2,
            "linecolor": "white",
            "showbackground": true,
            "ticks": "",
            "zerolinecolor": "white"
           }
          },
          "shapedefaults": {
           "line": {
            "color": "#2a3f5f"
           }
          },
          "ternary": {
           "aaxis": {
            "gridcolor": "white",
            "linecolor": "white",
            "ticks": ""
           },
           "baxis": {
            "gridcolor": "white",
            "linecolor": "white",
            "ticks": ""
           },
           "bgcolor": "#E5ECF6",
           "caxis": {
            "gridcolor": "white",
            "linecolor": "white",
            "ticks": ""
           }
          },
          "title": {
           "x": 0.05
          },
          "xaxis": {
           "automargin": true,
           "gridcolor": "white",
           "linecolor": "white",
           "ticks": "",
           "title": {
            "standoff": 15
           },
           "zerolinecolor": "white",
           "zerolinewidth": 2
          },
          "yaxis": {
           "automargin": true,
           "gridcolor": "white",
           "linecolor": "white",
           "ticks": "",
           "title": {
            "standoff": 15
           },
           "zerolinecolor": "white",
           "zerolinewidth": 2
          }
         }
        },
        "title": {
         "font": {
          "color": "#4D5663"
         }
        },
        "xaxis": {
         "gridcolor": "#E1E5ED",
         "showgrid": true,
         "tickfont": {
          "color": "#4D5663"
         },
         "title": {
          "font": {
           "color": "#4D5663"
          },
          "text": ""
         },
         "zerolinecolor": "#E1E5ED"
        },
        "yaxis": {
         "gridcolor": "#E1E5ED",
         "showgrid": true,
         "tickfont": {
          "color": "#4D5663"
         },
         "title": {
          "font": {
           "color": "#4D5663"
          },
          "text": ""
         },
         "zerolinecolor": "#E1E5ED"
        }
       }
      },
      "text/html": [
       "<div>                            <div id=\"c9bfad75-36b7-410f-8e7f-56c28a8da17c\" class=\"plotly-graph-div\" style=\"height:525px; width:100%;\"></div>            <script type=\"text/javascript\">                require([\"plotly\"], function(Plotly) {                    window.PLOTLYENV=window.PLOTLYENV || {};\n",
       "                    window.PLOTLYENV.BASE_URL='https://plot.ly';                                    if (document.getElementById(\"c9bfad75-36b7-410f-8e7f-56c28a8da17c\")) {                    Plotly.newPlot(                        \"c9bfad75-36b7-410f-8e7f-56c28a8da17c\",                        [{\"line\": {\"color\": \"rgba(255, 153, 51, 1.0)\", \"dash\": \"solid\", \"shape\": \"linear\", \"width\": 1.3}, \"marker\": {\"size\": 15, \"symbol\": \"circle\"}, \"mode\": \"markers\", \"name\": \"B\", \"text\": \"\", \"type\": \"scatter\", \"x\": [-0.2908630835904841, 0.7522026671935028, -0.3202202412277464, -0.3843185240987831, -0.11931133758015264, -0.06817300711027062, 0.8622886800722961, -0.31057746212150983, 0.8125623712304261, -1.5640669400281466, 1.2355425375738671, 0.8324247793641801, -0.24619011485215633, 0.8599638885984369, 2.515608696935039, -0.07276308416211145, 0.5513061271034504, -1.073197145275396, -2.0003814065736987, 0.08474756277100214, -0.47531304602403646, 0.2849603958855241, 0.3128040140963513, -0.1335933447541138, -0.561357095225552, 0.5683662400926341, 1.0250353032278872, -1.0102201871084513, 0.6989540721372159, -0.4470276481220417, -1.4318993670426283, -1.778709711352007, -0.2013150386506052, 0.90594323014043, -0.7068585466458727, 0.6769572604577522, 0.7939864245468552, -0.7538463469490789, -1.5109525329437004, 0.03241263103920048, 0.9457202231941569, -0.6361641291847315, 0.8719018266954653, 0.4866077668978206, -0.28575776536307634, -2.3753288076766776, -1.122899970532789, -0.7693332131825008, -0.6486311302735432, 0.272670354146497, 1.0501723719960416, -0.3652989022843855, -0.6162279728796006, 0.4587412631291952, -0.5019271653215122, -0.2515218329079029, -0.6317256522448005, -0.08223348033417892, -0.0036923666681755664, 1.266456167863406, -0.3560151451082724, 0.3526100081966942, 0.8185028299045045, -0.15608208664826334, -0.33548634877417594, 0.11600603838969752, 0.2712996817591125, -0.36049681660033206, -1.7525330513020736, 1.450464166516479, -1.216821613042049, 0.6034493801477613, -1.8379363094945262, 1.138064473201576, 0.8394327104637465, -1.929090849772803, -1.072691459283474, -0.43038935680185325, -0.7400367966877052, -1.322632993361467, 0.5787215505345139, -1.357954952041852, -0.6021767109518883, 0.13132077562065864, 1.5594079056934678, 1.535216779827442, -0.19368758523366292, -0.3557438285284079, 0.7849209968717704, -1.7621278569068, 0.6267176980025514, -2.8652636529097717, -0.770483051114564, 0.5280043573619357, -0.800516072738706, -1.743415921195421, -3.1720879132649635, -0.9725183317291045, 0.6848046759556948, -1.0177256470591118], \"y\": [-0.6057254125189131, -0.1892998620186739, 0.26690625989144934, 0.8801506841686696, -2.163784553004971, -0.4614535843193734, -0.477493821743666, 1.415970231503484, -0.32532434268508886, -0.623502578386509, 0.46107409795762677, -0.17597837771622932, -0.010493028851549516, 0.12707067248642415, 1.6821349613945324, 1.4896885981293346, 1.6774362491281654, 1.7768769787637884, 0.02482122889581526, -0.08490748620525963, -0.7745530167443184, 0.7281703263038644, 0.34604550500472503, 1.6609483397717384, -0.152552190572538, -0.23369305198586304, -0.7120689525561642, 0.42787313319929604, 1.133049796582027, -0.6412951044882726, 0.8955770585287715, -0.4726809527145295, 0.14844968009098905, -0.21346438354012479, 1.1349094316201722, 0.3303734816044888, 0.08667582342525072, 0.8892484751851075, -0.12466594725091838, 0.8827036907344208, 1.2094937839467363, -0.4895836620137229, -0.5408427475391092, -1.0410265851439164, -0.8895250070698203, -0.11542371743890872, -0.2565703204603735, -1.025057326973805, -0.17505685722310804, 0.7156960922973573, 0.3364902049994554, 0.3922927246547013, -1.3069168912035614, 1.0855895861961868, 0.38972558986895434, 1.3949581546509382, -0.15477016380895434, -1.0490182284984666, -0.7284534907657603, -0.43638936764173697, 0.6725356433554945, -1.3786402449176423, 0.48072039417330187, -0.0017498029708925967, 0.5018239222039128, 1.6771097664851364, 0.35373070444751786, 0.8266608353330749, -0.3749302565897924, -0.4353583055446691, -1.2005208565469987, -0.8799068979454695, 1.0274027527929517, 0.3647258386082056, 0.45955622956747993, -0.09155025515307294, -1.3399406737564568, 0.616572965129828, 0.3878866411322037, 0.32055906658916067, 0.7972281495815815, 2.389749279180996, -1.2494200166450264, 1.903338137180644, 0.736383662558544, -0.2549611298886137, 0.4816846935415098, -0.1640079781722683, 0.4242312582039998, 0.8552838937608425, -1.9059829052191977, 0.8331154077999772, 0.443487283792609, -0.2301629498760557, -0.4811227799019512, 0.6444819505648139, -1.2330396356002027, -0.24868752637889677, -0.38122386681139986, -0.16332571723924683]}],                        {\"legend\": {\"bgcolor\": \"#F5F6F9\", \"font\": {\"color\": \"#4D5663\"}}, \"paper_bgcolor\": \"#F5F6F9\", \"plot_bgcolor\": \"#F5F6F9\", \"template\": {\"data\": {\"bar\": [{\"error_x\": {\"color\": \"#2a3f5f\"}, \"error_y\": {\"color\": \"#2a3f5f\"}, \"marker\": {\"line\": {\"color\": \"#E5ECF6\", \"width\": 0.5}}, \"type\": \"bar\"}], \"barpolar\": [{\"marker\": {\"line\": {\"color\": \"#E5ECF6\", \"width\": 0.5}}, \"type\": \"barpolar\"}], \"carpet\": [{\"aaxis\": {\"endlinecolor\": \"#2a3f5f\", \"gridcolor\": \"white\", \"linecolor\": \"white\", \"minorgridcolor\": \"white\", \"startlinecolor\": \"#2a3f5f\"}, \"baxis\": {\"endlinecolor\": \"#2a3f5f\", \"gridcolor\": \"white\", \"linecolor\": \"white\", \"minorgridcolor\": \"white\", \"startlinecolor\": \"#2a3f5f\"}, \"type\": \"carpet\"}], \"choropleth\": [{\"colorbar\": {\"outlinewidth\": 0, \"ticks\": \"\"}, \"type\": \"choropleth\"}], \"contour\": [{\"colorbar\": {\"outlinewidth\": 0, \"ticks\": \"\"}, \"colorscale\": [[0.0, \"#0d0887\"], [0.1111111111111111, \"#46039f\"], [0.2222222222222222, \"#7201a8\"], [0.3333333333333333, \"#9c179e\"], [0.4444444444444444, \"#bd3786\"], [0.5555555555555556, \"#d8576b\"], [0.6666666666666666, \"#ed7953\"], [0.7777777777777778, \"#fb9f3a\"], [0.8888888888888888, \"#fdca26\"], [1.0, \"#f0f921\"]], \"type\": \"contour\"}], \"contourcarpet\": [{\"colorbar\": {\"outlinewidth\": 0, \"ticks\": \"\"}, \"type\": \"contourcarpet\"}], \"heatmap\": [{\"colorbar\": {\"outlinewidth\": 0, \"ticks\": \"\"}, \"colorscale\": [[0.0, \"#0d0887\"], [0.1111111111111111, \"#46039f\"], [0.2222222222222222, \"#7201a8\"], [0.3333333333333333, \"#9c179e\"], [0.4444444444444444, \"#bd3786\"], [0.5555555555555556, \"#d8576b\"], [0.6666666666666666, \"#ed7953\"], [0.7777777777777778, \"#fb9f3a\"], [0.8888888888888888, \"#fdca26\"], [1.0, \"#f0f921\"]], \"type\": \"heatmap\"}], \"heatmapgl\": [{\"colorbar\": {\"outlinewidth\": 0, \"ticks\": \"\"}, \"colorscale\": [[0.0, \"#0d0887\"], [0.1111111111111111, \"#46039f\"], [0.2222222222222222, \"#7201a8\"], [0.3333333333333333, \"#9c179e\"], [0.4444444444444444, \"#bd3786\"], [0.5555555555555556, \"#d8576b\"], [0.6666666666666666, \"#ed7953\"], [0.7777777777777778, \"#fb9f3a\"], [0.8888888888888888, \"#fdca26\"], [1.0, \"#f0f921\"]], \"type\": \"heatmapgl\"}], \"histogram\": [{\"marker\": {\"colorbar\": {\"outlinewidth\": 0, \"ticks\": \"\"}}, \"type\": \"histogram\"}], \"histogram2d\": [{\"colorbar\": {\"outlinewidth\": 0, \"ticks\": \"\"}, \"colorscale\": [[0.0, \"#0d0887\"], [0.1111111111111111, \"#46039f\"], [0.2222222222222222, \"#7201a8\"], [0.3333333333333333, \"#9c179e\"], [0.4444444444444444, \"#bd3786\"], [0.5555555555555556, \"#d8576b\"], [0.6666666666666666, \"#ed7953\"], [0.7777777777777778, \"#fb9f3a\"], [0.8888888888888888, \"#fdca26\"], [1.0, \"#f0f921\"]], \"type\": \"histogram2d\"}], \"histogram2dcontour\": [{\"colorbar\": {\"outlinewidth\": 0, \"ticks\": \"\"}, \"colorscale\": [[0.0, \"#0d0887\"], [0.1111111111111111, \"#46039f\"], [0.2222222222222222, \"#7201a8\"], [0.3333333333333333, \"#9c179e\"], [0.4444444444444444, \"#bd3786\"], [0.5555555555555556, \"#d8576b\"], [0.6666666666666666, \"#ed7953\"], [0.7777777777777778, \"#fb9f3a\"], [0.8888888888888888, \"#fdca26\"], [1.0, \"#f0f921\"]], \"type\": \"histogram2dcontour\"}], \"mesh3d\": [{\"colorbar\": {\"outlinewidth\": 0, \"ticks\": \"\"}, \"type\": \"mesh3d\"}], \"parcoords\": [{\"line\": {\"colorbar\": {\"outlinewidth\": 0, \"ticks\": \"\"}}, \"type\": \"parcoords\"}], \"pie\": [{\"automargin\": true, \"type\": \"pie\"}], \"scatter\": [{\"marker\": {\"colorbar\": {\"outlinewidth\": 0, \"ticks\": \"\"}}, \"type\": \"scatter\"}], \"scatter3d\": [{\"line\": {\"colorbar\": {\"outlinewidth\": 0, \"ticks\": \"\"}}, \"marker\": {\"colorbar\": {\"outlinewidth\": 0, \"ticks\": \"\"}}, \"type\": \"scatter3d\"}], \"scattercarpet\": [{\"marker\": {\"colorbar\": {\"outlinewidth\": 0, \"ticks\": \"\"}}, \"type\": \"scattercarpet\"}], \"scattergeo\": [{\"marker\": {\"colorbar\": {\"outlinewidth\": 0, \"ticks\": \"\"}}, \"type\": \"scattergeo\"}], \"scattergl\": [{\"marker\": {\"colorbar\": {\"outlinewidth\": 0, \"ticks\": \"\"}}, \"type\": \"scattergl\"}], \"scattermapbox\": [{\"marker\": {\"colorbar\": {\"outlinewidth\": 0, \"ticks\": \"\"}}, \"type\": \"scattermapbox\"}], \"scatterpolar\": [{\"marker\": {\"colorbar\": {\"outlinewidth\": 0, \"ticks\": \"\"}}, \"type\": \"scatterpolar\"}], \"scatterpolargl\": [{\"marker\": {\"colorbar\": {\"outlinewidth\": 0, \"ticks\": \"\"}}, \"type\": \"scatterpolargl\"}], \"scatterternary\": [{\"marker\": {\"colorbar\": {\"outlinewidth\": 0, \"ticks\": \"\"}}, \"type\": \"scatterternary\"}], \"surface\": [{\"colorbar\": {\"outlinewidth\": 0, \"ticks\": \"\"}, \"colorscale\": [[0.0, \"#0d0887\"], [0.1111111111111111, \"#46039f\"], [0.2222222222222222, \"#7201a8\"], [0.3333333333333333, \"#9c179e\"], [0.4444444444444444, \"#bd3786\"], [0.5555555555555556, \"#d8576b\"], [0.6666666666666666, \"#ed7953\"], [0.7777777777777778, \"#fb9f3a\"], [0.8888888888888888, \"#fdca26\"], [1.0, \"#f0f921\"]], \"type\": \"surface\"}], \"table\": [{\"cells\": {\"fill\": {\"color\": \"#EBF0F8\"}, \"line\": {\"color\": \"white\"}}, \"header\": {\"fill\": {\"color\": \"#C8D4E3\"}, \"line\": {\"color\": \"white\"}}, \"type\": \"table\"}]}, \"layout\": {\"annotationdefaults\": {\"arrowcolor\": \"#2a3f5f\", \"arrowhead\": 0, \"arrowwidth\": 1}, \"autotypenumbers\": \"strict\", \"coloraxis\": {\"colorbar\": {\"outlinewidth\": 0, \"ticks\": \"\"}}, \"colorscale\": {\"diverging\": [[0, \"#8e0152\"], [0.1, \"#c51b7d\"], [0.2, \"#de77ae\"], [0.3, \"#f1b6da\"], [0.4, \"#fde0ef\"], [0.5, \"#f7f7f7\"], [0.6, \"#e6f5d0\"], [0.7, \"#b8e186\"], [0.8, \"#7fbc41\"], [0.9, \"#4d9221\"], [1, \"#276419\"]], \"sequential\": [[0.0, \"#0d0887\"], [0.1111111111111111, \"#46039f\"], [0.2222222222222222, \"#7201a8\"], [0.3333333333333333, \"#9c179e\"], [0.4444444444444444, \"#bd3786\"], [0.5555555555555556, \"#d8576b\"], [0.6666666666666666, \"#ed7953\"], [0.7777777777777778, \"#fb9f3a\"], [0.8888888888888888, \"#fdca26\"], [1.0, \"#f0f921\"]], \"sequentialminus\": [[0.0, \"#0d0887\"], [0.1111111111111111, \"#46039f\"], [0.2222222222222222, \"#7201a8\"], [0.3333333333333333, \"#9c179e\"], [0.4444444444444444, \"#bd3786\"], [0.5555555555555556, \"#d8576b\"], [0.6666666666666666, \"#ed7953\"], [0.7777777777777778, \"#fb9f3a\"], [0.8888888888888888, \"#fdca26\"], [1.0, \"#f0f921\"]]}, \"colorway\": [\"#636efa\", \"#EF553B\", \"#00cc96\", \"#ab63fa\", \"#FFA15A\", \"#19d3f3\", \"#FF6692\", \"#B6E880\", \"#FF97FF\", \"#FECB52\"], \"font\": {\"color\": \"#2a3f5f\"}, \"geo\": {\"bgcolor\": \"white\", \"lakecolor\": \"white\", \"landcolor\": \"#E5ECF6\", \"showlakes\": true, \"showland\": true, \"subunitcolor\": \"white\"}, \"hoverlabel\": {\"align\": \"left\"}, \"hovermode\": \"closest\", \"mapbox\": {\"style\": \"light\"}, \"paper_bgcolor\": \"white\", \"plot_bgcolor\": \"#E5ECF6\", \"polar\": {\"angularaxis\": {\"gridcolor\": \"white\", \"linecolor\": \"white\", \"ticks\": \"\"}, \"bgcolor\": \"#E5ECF6\", \"radialaxis\": {\"gridcolor\": \"white\", \"linecolor\": \"white\", \"ticks\": \"\"}}, \"scene\": {\"xaxis\": {\"backgroundcolor\": \"#E5ECF6\", \"gridcolor\": \"white\", \"gridwidth\": 2, \"linecolor\": \"white\", \"showbackground\": true, \"ticks\": \"\", \"zerolinecolor\": \"white\"}, \"yaxis\": {\"backgroundcolor\": \"#E5ECF6\", \"gridcolor\": \"white\", \"gridwidth\": 2, \"linecolor\": \"white\", \"showbackground\": true, \"ticks\": \"\", \"zerolinecolor\": \"white\"}, \"zaxis\": {\"backgroundcolor\": \"#E5ECF6\", \"gridcolor\": \"white\", \"gridwidth\": 2, \"linecolor\": \"white\", \"showbackground\": true, \"ticks\": \"\", \"zerolinecolor\": \"white\"}}, \"shapedefaults\": {\"line\": {\"color\": \"#2a3f5f\"}}, \"ternary\": {\"aaxis\": {\"gridcolor\": \"white\", \"linecolor\": \"white\", \"ticks\": \"\"}, \"baxis\": {\"gridcolor\": \"white\", \"linecolor\": \"white\", \"ticks\": \"\"}, \"bgcolor\": \"#E5ECF6\", \"caxis\": {\"gridcolor\": \"white\", \"linecolor\": \"white\", \"ticks\": \"\"}}, \"title\": {\"x\": 0.05}, \"xaxis\": {\"automargin\": true, \"gridcolor\": \"white\", \"linecolor\": \"white\", \"ticks\": \"\", \"title\": {\"standoff\": 15}, \"zerolinecolor\": \"white\", \"zerolinewidth\": 2}, \"yaxis\": {\"automargin\": true, \"gridcolor\": \"white\", \"linecolor\": \"white\", \"ticks\": \"\", \"title\": {\"standoff\": 15}, \"zerolinecolor\": \"white\", \"zerolinewidth\": 2}}}, \"title\": {\"font\": {\"color\": \"#4D5663\"}}, \"xaxis\": {\"gridcolor\": \"#E1E5ED\", \"showgrid\": true, \"tickfont\": {\"color\": \"#4D5663\"}, \"title\": {\"font\": {\"color\": \"#4D5663\"}, \"text\": \"\"}, \"zerolinecolor\": \"#E1E5ED\"}, \"yaxis\": {\"gridcolor\": \"#E1E5ED\", \"showgrid\": true, \"tickfont\": {\"color\": \"#4D5663\"}, \"title\": {\"font\": {\"color\": \"#4D5663\"}, \"text\": \"\"}, \"zerolinecolor\": \"#E1E5ED\"}},                        {\"showLink\": true, \"linkText\": \"Export to plot.ly\", \"plotlyServerURL\": \"https://plot.ly\", \"responsive\": true}                    ).then(function(){\n",
       "                            \n",
       "var gd = document.getElementById('c9bfad75-36b7-410f-8e7f-56c28a8da17c');\n",
       "var x = new MutationObserver(function (mutations, observer) {{\n",
       "        var display = window.getComputedStyle(gd).display;\n",
       "        if (!display || display === 'none') {{\n",
       "            console.log([gd, 'removed!']);\n",
       "            Plotly.purge(gd);\n",
       "            observer.disconnect();\n",
       "        }}\n",
       "}});\n",
       "\n",
       "// Listen for the removal of the full notebook cells\n",
       "var notebookContainer = gd.closest('#notebook-container');\n",
       "if (notebookContainer) {{\n",
       "    x.observe(notebookContainer, {childList: true});\n",
       "}}\n",
       "\n",
       "// Listen for the clearing of the current output cell\n",
       "var outputEl = gd.closest('.output');\n",
       "if (outputEl) {{\n",
       "    x.observe(outputEl, {childList: true});\n",
       "}}\n",
       "\n",
       "                        })                };                });            </script>        </div>"
      ]
     },
     "metadata": {},
     "output_type": "display_data"
    }
   ],
   "source": [
    "df.iplot(kind='scatter',x='A',y='B',mode='markers',size=15)"
   ]
  },
  {
   "cell_type": "markdown",
   "metadata": {},
   "source": [
    "### Bar Plots"
   ]
  },
  {
   "cell_type": "code",
   "execution_count": 10,
   "metadata": {},
   "outputs": [
    {
     "data": {
      "application/vnd.plotly.v1+json": {
       "config": {
        "linkText": "Export to plot.ly",
        "plotlyServerURL": "https://plot.ly",
        "showLink": true
       },
       "data": [
        {
         "marker": {
          "color": "rgba(255, 153, 51, 0.6)",
          "line": {
           "color": "rgba(255, 153, 51, 1.0)",
           "width": 1
          }
         },
         "name": "Values",
         "orientation": "v",
         "text": "",
         "type": "bar",
         "x": [
          "A",
          "B",
          "C"
         ],
         "y": [
          32,
          43,
          50
         ]
        }
       ],
       "layout": {
        "legend": {
         "bgcolor": "#F5F6F9",
         "font": {
          "color": "#4D5663"
         }
        },
        "paper_bgcolor": "#F5F6F9",
        "plot_bgcolor": "#F5F6F9",
        "template": {
         "data": {
          "bar": [
           {
            "error_x": {
             "color": "#2a3f5f"
            },
            "error_y": {
             "color": "#2a3f5f"
            },
            "marker": {
             "line": {
              "color": "#E5ECF6",
              "width": 0.5
             }
            },
            "type": "bar"
           }
          ],
          "barpolar": [
           {
            "marker": {
             "line": {
              "color": "#E5ECF6",
              "width": 0.5
             }
            },
            "type": "barpolar"
           }
          ],
          "carpet": [
           {
            "aaxis": {
             "endlinecolor": "#2a3f5f",
             "gridcolor": "white",
             "linecolor": "white",
             "minorgridcolor": "white",
             "startlinecolor": "#2a3f5f"
            },
            "baxis": {
             "endlinecolor": "#2a3f5f",
             "gridcolor": "white",
             "linecolor": "white",
             "minorgridcolor": "white",
             "startlinecolor": "#2a3f5f"
            },
            "type": "carpet"
           }
          ],
          "choropleth": [
           {
            "colorbar": {
             "outlinewidth": 0,
             "ticks": ""
            },
            "type": "choropleth"
           }
          ],
          "contour": [
           {
            "colorbar": {
             "outlinewidth": 0,
             "ticks": ""
            },
            "colorscale": [
             [
              0,
              "#0d0887"
             ],
             [
              0.1111111111111111,
              "#46039f"
             ],
             [
              0.2222222222222222,
              "#7201a8"
             ],
             [
              0.3333333333333333,
              "#9c179e"
             ],
             [
              0.4444444444444444,
              "#bd3786"
             ],
             [
              0.5555555555555556,
              "#d8576b"
             ],
             [
              0.6666666666666666,
              "#ed7953"
             ],
             [
              0.7777777777777778,
              "#fb9f3a"
             ],
             [
              0.8888888888888888,
              "#fdca26"
             ],
             [
              1,
              "#f0f921"
             ]
            ],
            "type": "contour"
           }
          ],
          "contourcarpet": [
           {
            "colorbar": {
             "outlinewidth": 0,
             "ticks": ""
            },
            "type": "contourcarpet"
           }
          ],
          "heatmap": [
           {
            "colorbar": {
             "outlinewidth": 0,
             "ticks": ""
            },
            "colorscale": [
             [
              0,
              "#0d0887"
             ],
             [
              0.1111111111111111,
              "#46039f"
             ],
             [
              0.2222222222222222,
              "#7201a8"
             ],
             [
              0.3333333333333333,
              "#9c179e"
             ],
             [
              0.4444444444444444,
              "#bd3786"
             ],
             [
              0.5555555555555556,
              "#d8576b"
             ],
             [
              0.6666666666666666,
              "#ed7953"
             ],
             [
              0.7777777777777778,
              "#fb9f3a"
             ],
             [
              0.8888888888888888,
              "#fdca26"
             ],
             [
              1,
              "#f0f921"
             ]
            ],
            "type": "heatmap"
           }
          ],
          "heatmapgl": [
           {
            "colorbar": {
             "outlinewidth": 0,
             "ticks": ""
            },
            "colorscale": [
             [
              0,
              "#0d0887"
             ],
             [
              0.1111111111111111,
              "#46039f"
             ],
             [
              0.2222222222222222,
              "#7201a8"
             ],
             [
              0.3333333333333333,
              "#9c179e"
             ],
             [
              0.4444444444444444,
              "#bd3786"
             ],
             [
              0.5555555555555556,
              "#d8576b"
             ],
             [
              0.6666666666666666,
              "#ed7953"
             ],
             [
              0.7777777777777778,
              "#fb9f3a"
             ],
             [
              0.8888888888888888,
              "#fdca26"
             ],
             [
              1,
              "#f0f921"
             ]
            ],
            "type": "heatmapgl"
           }
          ],
          "histogram": [
           {
            "marker": {
             "colorbar": {
              "outlinewidth": 0,
              "ticks": ""
             }
            },
            "type": "histogram"
           }
          ],
          "histogram2d": [
           {
            "colorbar": {
             "outlinewidth": 0,
             "ticks": ""
            },
            "colorscale": [
             [
              0,
              "#0d0887"
             ],
             [
              0.1111111111111111,
              "#46039f"
             ],
             [
              0.2222222222222222,
              "#7201a8"
             ],
             [
              0.3333333333333333,
              "#9c179e"
             ],
             [
              0.4444444444444444,
              "#bd3786"
             ],
             [
              0.5555555555555556,
              "#d8576b"
             ],
             [
              0.6666666666666666,
              "#ed7953"
             ],
             [
              0.7777777777777778,
              "#fb9f3a"
             ],
             [
              0.8888888888888888,
              "#fdca26"
             ],
             [
              1,
              "#f0f921"
             ]
            ],
            "type": "histogram2d"
           }
          ],
          "histogram2dcontour": [
           {
            "colorbar": {
             "outlinewidth": 0,
             "ticks": ""
            },
            "colorscale": [
             [
              0,
              "#0d0887"
             ],
             [
              0.1111111111111111,
              "#46039f"
             ],
             [
              0.2222222222222222,
              "#7201a8"
             ],
             [
              0.3333333333333333,
              "#9c179e"
             ],
             [
              0.4444444444444444,
              "#bd3786"
             ],
             [
              0.5555555555555556,
              "#d8576b"
             ],
             [
              0.6666666666666666,
              "#ed7953"
             ],
             [
              0.7777777777777778,
              "#fb9f3a"
             ],
             [
              0.8888888888888888,
              "#fdca26"
             ],
             [
              1,
              "#f0f921"
             ]
            ],
            "type": "histogram2dcontour"
           }
          ],
          "mesh3d": [
           {
            "colorbar": {
             "outlinewidth": 0,
             "ticks": ""
            },
            "type": "mesh3d"
           }
          ],
          "parcoords": [
           {
            "line": {
             "colorbar": {
              "outlinewidth": 0,
              "ticks": ""
             }
            },
            "type": "parcoords"
           }
          ],
          "pie": [
           {
            "automargin": true,
            "type": "pie"
           }
          ],
          "scatter": [
           {
            "marker": {
             "colorbar": {
              "outlinewidth": 0,
              "ticks": ""
             }
            },
            "type": "scatter"
           }
          ],
          "scatter3d": [
           {
            "line": {
             "colorbar": {
              "outlinewidth": 0,
              "ticks": ""
             }
            },
            "marker": {
             "colorbar": {
              "outlinewidth": 0,
              "ticks": ""
             }
            },
            "type": "scatter3d"
           }
          ],
          "scattercarpet": [
           {
            "marker": {
             "colorbar": {
              "outlinewidth": 0,
              "ticks": ""
             }
            },
            "type": "scattercarpet"
           }
          ],
          "scattergeo": [
           {
            "marker": {
             "colorbar": {
              "outlinewidth": 0,
              "ticks": ""
             }
            },
            "type": "scattergeo"
           }
          ],
          "scattergl": [
           {
            "marker": {
             "colorbar": {
              "outlinewidth": 0,
              "ticks": ""
             }
            },
            "type": "scattergl"
           }
          ],
          "scattermapbox": [
           {
            "marker": {
             "colorbar": {
              "outlinewidth": 0,
              "ticks": ""
             }
            },
            "type": "scattermapbox"
           }
          ],
          "scatterpolar": [
           {
            "marker": {
             "colorbar": {
              "outlinewidth": 0,
              "ticks": ""
             }
            },
            "type": "scatterpolar"
           }
          ],
          "scatterpolargl": [
           {
            "marker": {
             "colorbar": {
              "outlinewidth": 0,
              "ticks": ""
             }
            },
            "type": "scatterpolargl"
           }
          ],
          "scatterternary": [
           {
            "marker": {
             "colorbar": {
              "outlinewidth": 0,
              "ticks": ""
             }
            },
            "type": "scatterternary"
           }
          ],
          "surface": [
           {
            "colorbar": {
             "outlinewidth": 0,
             "ticks": ""
            },
            "colorscale": [
             [
              0,
              "#0d0887"
             ],
             [
              0.1111111111111111,
              "#46039f"
             ],
             [
              0.2222222222222222,
              "#7201a8"
             ],
             [
              0.3333333333333333,
              "#9c179e"
             ],
             [
              0.4444444444444444,
              "#bd3786"
             ],
             [
              0.5555555555555556,
              "#d8576b"
             ],
             [
              0.6666666666666666,
              "#ed7953"
             ],
             [
              0.7777777777777778,
              "#fb9f3a"
             ],
             [
              0.8888888888888888,
              "#fdca26"
             ],
             [
              1,
              "#f0f921"
             ]
            ],
            "type": "surface"
           }
          ],
          "table": [
           {
            "cells": {
             "fill": {
              "color": "#EBF0F8"
             },
             "line": {
              "color": "white"
             }
            },
            "header": {
             "fill": {
              "color": "#C8D4E3"
             },
             "line": {
              "color": "white"
             }
            },
            "type": "table"
           }
          ]
         },
         "layout": {
          "annotationdefaults": {
           "arrowcolor": "#2a3f5f",
           "arrowhead": 0,
           "arrowwidth": 1
          },
          "autotypenumbers": "strict",
          "coloraxis": {
           "colorbar": {
            "outlinewidth": 0,
            "ticks": ""
           }
          },
          "colorscale": {
           "diverging": [
            [
             0,
             "#8e0152"
            ],
            [
             0.1,
             "#c51b7d"
            ],
            [
             0.2,
             "#de77ae"
            ],
            [
             0.3,
             "#f1b6da"
            ],
            [
             0.4,
             "#fde0ef"
            ],
            [
             0.5,
             "#f7f7f7"
            ],
            [
             0.6,
             "#e6f5d0"
            ],
            [
             0.7,
             "#b8e186"
            ],
            [
             0.8,
             "#7fbc41"
            ],
            [
             0.9,
             "#4d9221"
            ],
            [
             1,
             "#276419"
            ]
           ],
           "sequential": [
            [
             0,
             "#0d0887"
            ],
            [
             0.1111111111111111,
             "#46039f"
            ],
            [
             0.2222222222222222,
             "#7201a8"
            ],
            [
             0.3333333333333333,
             "#9c179e"
            ],
            [
             0.4444444444444444,
             "#bd3786"
            ],
            [
             0.5555555555555556,
             "#d8576b"
            ],
            [
             0.6666666666666666,
             "#ed7953"
            ],
            [
             0.7777777777777778,
             "#fb9f3a"
            ],
            [
             0.8888888888888888,
             "#fdca26"
            ],
            [
             1,
             "#f0f921"
            ]
           ],
           "sequentialminus": [
            [
             0,
             "#0d0887"
            ],
            [
             0.1111111111111111,
             "#46039f"
            ],
            [
             0.2222222222222222,
             "#7201a8"
            ],
            [
             0.3333333333333333,
             "#9c179e"
            ],
            [
             0.4444444444444444,
             "#bd3786"
            ],
            [
             0.5555555555555556,
             "#d8576b"
            ],
            [
             0.6666666666666666,
             "#ed7953"
            ],
            [
             0.7777777777777778,
             "#fb9f3a"
            ],
            [
             0.8888888888888888,
             "#fdca26"
            ],
            [
             1,
             "#f0f921"
            ]
           ]
          },
          "colorway": [
           "#636efa",
           "#EF553B",
           "#00cc96",
           "#ab63fa",
           "#FFA15A",
           "#19d3f3",
           "#FF6692",
           "#B6E880",
           "#FF97FF",
           "#FECB52"
          ],
          "font": {
           "color": "#2a3f5f"
          },
          "geo": {
           "bgcolor": "white",
           "lakecolor": "white",
           "landcolor": "#E5ECF6",
           "showlakes": true,
           "showland": true,
           "subunitcolor": "white"
          },
          "hoverlabel": {
           "align": "left"
          },
          "hovermode": "closest",
          "mapbox": {
           "style": "light"
          },
          "paper_bgcolor": "white",
          "plot_bgcolor": "#E5ECF6",
          "polar": {
           "angularaxis": {
            "gridcolor": "white",
            "linecolor": "white",
            "ticks": ""
           },
           "bgcolor": "#E5ECF6",
           "radialaxis": {
            "gridcolor": "white",
            "linecolor": "white",
            "ticks": ""
           }
          },
          "scene": {
           "xaxis": {
            "backgroundcolor": "#E5ECF6",
            "gridcolor": "white",
            "gridwidth": 2,
            "linecolor": "white",
            "showbackground": true,
            "ticks": "",
            "zerolinecolor": "white"
           },
           "yaxis": {
            "backgroundcolor": "#E5ECF6",
            "gridcolor": "white",
            "gridwidth": 2,
            "linecolor": "white",
            "showbackground": true,
            "ticks": "",
            "zerolinecolor": "white"
           },
           "zaxis": {
            "backgroundcolor": "#E5ECF6",
            "gridcolor": "white",
            "gridwidth": 2,
            "linecolor": "white",
            "showbackground": true,
            "ticks": "",
            "zerolinecolor": "white"
           }
          },
          "shapedefaults": {
           "line": {
            "color": "#2a3f5f"
           }
          },
          "ternary": {
           "aaxis": {
            "gridcolor": "white",
            "linecolor": "white",
            "ticks": ""
           },
           "baxis": {
            "gridcolor": "white",
            "linecolor": "white",
            "ticks": ""
           },
           "bgcolor": "#E5ECF6",
           "caxis": {
            "gridcolor": "white",
            "linecolor": "white",
            "ticks": ""
           }
          },
          "title": {
           "x": 0.05
          },
          "xaxis": {
           "automargin": true,
           "gridcolor": "white",
           "linecolor": "white",
           "ticks": "",
           "title": {
            "standoff": 15
           },
           "zerolinecolor": "white",
           "zerolinewidth": 2
          },
          "yaxis": {
           "automargin": true,
           "gridcolor": "white",
           "linecolor": "white",
           "ticks": "",
           "title": {
            "standoff": 15
           },
           "zerolinecolor": "white",
           "zerolinewidth": 2
          }
         }
        },
        "title": {
         "font": {
          "color": "#4D5663"
         }
        },
        "xaxis": {
         "gridcolor": "#E1E5ED",
         "showgrid": true,
         "tickfont": {
          "color": "#4D5663"
         },
         "title": {
          "font": {
           "color": "#4D5663"
          },
          "text": ""
         },
         "zerolinecolor": "#E1E5ED"
        },
        "yaxis": {
         "gridcolor": "#E1E5ED",
         "showgrid": true,
         "tickfont": {
          "color": "#4D5663"
         },
         "title": {
          "font": {
           "color": "#4D5663"
          },
          "text": ""
         },
         "zerolinecolor": "#E1E5ED"
        }
       }
      },
      "text/html": [
       "<div>                            <div id=\"223d54c3-93ae-4ac4-9ba6-b7ad5f87b080\" class=\"plotly-graph-div\" style=\"height:525px; width:100%;\"></div>            <script type=\"text/javascript\">                require([\"plotly\"], function(Plotly) {                    window.PLOTLYENV=window.PLOTLYENV || {};\n",
       "                    window.PLOTLYENV.BASE_URL='https://plot.ly';                                    if (document.getElementById(\"223d54c3-93ae-4ac4-9ba6-b7ad5f87b080\")) {                    Plotly.newPlot(                        \"223d54c3-93ae-4ac4-9ba6-b7ad5f87b080\",                        [{\"marker\": {\"color\": \"rgba(255, 153, 51, 0.6)\", \"line\": {\"color\": \"rgba(255, 153, 51, 1.0)\", \"width\": 1}}, \"name\": \"Values\", \"orientation\": \"v\", \"text\": \"\", \"type\": \"bar\", \"x\": [\"A\", \"B\", \"C\"], \"y\": [32, 43, 50]}],                        {\"legend\": {\"bgcolor\": \"#F5F6F9\", \"font\": {\"color\": \"#4D5663\"}}, \"paper_bgcolor\": \"#F5F6F9\", \"plot_bgcolor\": \"#F5F6F9\", \"template\": {\"data\": {\"bar\": [{\"error_x\": {\"color\": \"#2a3f5f\"}, \"error_y\": {\"color\": \"#2a3f5f\"}, \"marker\": {\"line\": {\"color\": \"#E5ECF6\", \"width\": 0.5}}, \"type\": \"bar\"}], \"barpolar\": [{\"marker\": {\"line\": {\"color\": \"#E5ECF6\", \"width\": 0.5}}, \"type\": \"barpolar\"}], \"carpet\": [{\"aaxis\": {\"endlinecolor\": \"#2a3f5f\", \"gridcolor\": \"white\", \"linecolor\": \"white\", \"minorgridcolor\": \"white\", \"startlinecolor\": \"#2a3f5f\"}, \"baxis\": {\"endlinecolor\": \"#2a3f5f\", \"gridcolor\": \"white\", \"linecolor\": \"white\", \"minorgridcolor\": \"white\", \"startlinecolor\": \"#2a3f5f\"}, \"type\": \"carpet\"}], \"choropleth\": [{\"colorbar\": {\"outlinewidth\": 0, \"ticks\": \"\"}, \"type\": \"choropleth\"}], \"contour\": [{\"colorbar\": {\"outlinewidth\": 0, \"ticks\": \"\"}, \"colorscale\": [[0.0, \"#0d0887\"], [0.1111111111111111, \"#46039f\"], [0.2222222222222222, \"#7201a8\"], [0.3333333333333333, \"#9c179e\"], [0.4444444444444444, \"#bd3786\"], [0.5555555555555556, \"#d8576b\"], [0.6666666666666666, \"#ed7953\"], [0.7777777777777778, \"#fb9f3a\"], [0.8888888888888888, \"#fdca26\"], [1.0, \"#f0f921\"]], \"type\": \"contour\"}], \"contourcarpet\": [{\"colorbar\": {\"outlinewidth\": 0, \"ticks\": \"\"}, \"type\": \"contourcarpet\"}], \"heatmap\": [{\"colorbar\": {\"outlinewidth\": 0, \"ticks\": \"\"}, \"colorscale\": [[0.0, \"#0d0887\"], [0.1111111111111111, \"#46039f\"], [0.2222222222222222, \"#7201a8\"], [0.3333333333333333, \"#9c179e\"], [0.4444444444444444, \"#bd3786\"], [0.5555555555555556, \"#d8576b\"], [0.6666666666666666, \"#ed7953\"], [0.7777777777777778, \"#fb9f3a\"], [0.8888888888888888, \"#fdca26\"], [1.0, \"#f0f921\"]], \"type\": \"heatmap\"}], \"heatmapgl\": [{\"colorbar\": {\"outlinewidth\": 0, \"ticks\": \"\"}, \"colorscale\": [[0.0, \"#0d0887\"], [0.1111111111111111, \"#46039f\"], [0.2222222222222222, \"#7201a8\"], [0.3333333333333333, \"#9c179e\"], [0.4444444444444444, \"#bd3786\"], [0.5555555555555556, \"#d8576b\"], [0.6666666666666666, \"#ed7953\"], [0.7777777777777778, \"#fb9f3a\"], [0.8888888888888888, \"#fdca26\"], [1.0, \"#f0f921\"]], \"type\": \"heatmapgl\"}], \"histogram\": [{\"marker\": {\"colorbar\": {\"outlinewidth\": 0, \"ticks\": \"\"}}, \"type\": \"histogram\"}], \"histogram2d\": [{\"colorbar\": {\"outlinewidth\": 0, \"ticks\": \"\"}, \"colorscale\": [[0.0, \"#0d0887\"], [0.1111111111111111, \"#46039f\"], [0.2222222222222222, \"#7201a8\"], [0.3333333333333333, \"#9c179e\"], [0.4444444444444444, \"#bd3786\"], [0.5555555555555556, \"#d8576b\"], [0.6666666666666666, \"#ed7953\"], [0.7777777777777778, \"#fb9f3a\"], [0.8888888888888888, \"#fdca26\"], [1.0, \"#f0f921\"]], \"type\": \"histogram2d\"}], \"histogram2dcontour\": [{\"colorbar\": {\"outlinewidth\": 0, \"ticks\": \"\"}, \"colorscale\": [[0.0, \"#0d0887\"], [0.1111111111111111, \"#46039f\"], [0.2222222222222222, \"#7201a8\"], [0.3333333333333333, \"#9c179e\"], [0.4444444444444444, \"#bd3786\"], [0.5555555555555556, \"#d8576b\"], [0.6666666666666666, \"#ed7953\"], [0.7777777777777778, \"#fb9f3a\"], [0.8888888888888888, \"#fdca26\"], [1.0, \"#f0f921\"]], \"type\": \"histogram2dcontour\"}], \"mesh3d\": [{\"colorbar\": {\"outlinewidth\": 0, \"ticks\": \"\"}, \"type\": \"mesh3d\"}], \"parcoords\": [{\"line\": {\"colorbar\": {\"outlinewidth\": 0, \"ticks\": \"\"}}, \"type\": \"parcoords\"}], \"pie\": [{\"automargin\": true, \"type\": \"pie\"}], \"scatter\": [{\"marker\": {\"colorbar\": {\"outlinewidth\": 0, \"ticks\": \"\"}}, \"type\": \"scatter\"}], \"scatter3d\": [{\"line\": {\"colorbar\": {\"outlinewidth\": 0, \"ticks\": \"\"}}, \"marker\": {\"colorbar\": {\"outlinewidth\": 0, \"ticks\": \"\"}}, \"type\": \"scatter3d\"}], \"scattercarpet\": [{\"marker\": {\"colorbar\": {\"outlinewidth\": 0, \"ticks\": \"\"}}, \"type\": \"scattercarpet\"}], \"scattergeo\": [{\"marker\": {\"colorbar\": {\"outlinewidth\": 0, \"ticks\": \"\"}}, \"type\": \"scattergeo\"}], \"scattergl\": [{\"marker\": {\"colorbar\": {\"outlinewidth\": 0, \"ticks\": \"\"}}, \"type\": \"scattergl\"}], \"scattermapbox\": [{\"marker\": {\"colorbar\": {\"outlinewidth\": 0, \"ticks\": \"\"}}, \"type\": \"scattermapbox\"}], \"scatterpolar\": [{\"marker\": {\"colorbar\": {\"outlinewidth\": 0, \"ticks\": \"\"}}, \"type\": \"scatterpolar\"}], \"scatterpolargl\": [{\"marker\": {\"colorbar\": {\"outlinewidth\": 0, \"ticks\": \"\"}}, \"type\": \"scatterpolargl\"}], \"scatterternary\": [{\"marker\": {\"colorbar\": {\"outlinewidth\": 0, \"ticks\": \"\"}}, \"type\": \"scatterternary\"}], \"surface\": [{\"colorbar\": {\"outlinewidth\": 0, \"ticks\": \"\"}, \"colorscale\": [[0.0, \"#0d0887\"], [0.1111111111111111, \"#46039f\"], [0.2222222222222222, \"#7201a8\"], [0.3333333333333333, \"#9c179e\"], [0.4444444444444444, \"#bd3786\"], [0.5555555555555556, \"#d8576b\"], [0.6666666666666666, \"#ed7953\"], [0.7777777777777778, \"#fb9f3a\"], [0.8888888888888888, \"#fdca26\"], [1.0, \"#f0f921\"]], \"type\": \"surface\"}], \"table\": [{\"cells\": {\"fill\": {\"color\": \"#EBF0F8\"}, \"line\": {\"color\": \"white\"}}, \"header\": {\"fill\": {\"color\": \"#C8D4E3\"}, \"line\": {\"color\": \"white\"}}, \"type\": \"table\"}]}, \"layout\": {\"annotationdefaults\": {\"arrowcolor\": \"#2a3f5f\", \"arrowhead\": 0, \"arrowwidth\": 1}, \"autotypenumbers\": \"strict\", \"coloraxis\": {\"colorbar\": {\"outlinewidth\": 0, \"ticks\": \"\"}}, \"colorscale\": {\"diverging\": [[0, \"#8e0152\"], [0.1, \"#c51b7d\"], [0.2, \"#de77ae\"], [0.3, \"#f1b6da\"], [0.4, \"#fde0ef\"], [0.5, \"#f7f7f7\"], [0.6, \"#e6f5d0\"], [0.7, \"#b8e186\"], [0.8, \"#7fbc41\"], [0.9, \"#4d9221\"], [1, \"#276419\"]], \"sequential\": [[0.0, \"#0d0887\"], [0.1111111111111111, \"#46039f\"], [0.2222222222222222, \"#7201a8\"], [0.3333333333333333, \"#9c179e\"], [0.4444444444444444, \"#bd3786\"], [0.5555555555555556, \"#d8576b\"], [0.6666666666666666, \"#ed7953\"], [0.7777777777777778, \"#fb9f3a\"], [0.8888888888888888, \"#fdca26\"], [1.0, \"#f0f921\"]], \"sequentialminus\": [[0.0, \"#0d0887\"], [0.1111111111111111, \"#46039f\"], [0.2222222222222222, \"#7201a8\"], [0.3333333333333333, \"#9c179e\"], [0.4444444444444444, \"#bd3786\"], [0.5555555555555556, \"#d8576b\"], [0.6666666666666666, \"#ed7953\"], [0.7777777777777778, \"#fb9f3a\"], [0.8888888888888888, \"#fdca26\"], [1.0, \"#f0f921\"]]}, \"colorway\": [\"#636efa\", \"#EF553B\", \"#00cc96\", \"#ab63fa\", \"#FFA15A\", \"#19d3f3\", \"#FF6692\", \"#B6E880\", \"#FF97FF\", \"#FECB52\"], \"font\": {\"color\": \"#2a3f5f\"}, \"geo\": {\"bgcolor\": \"white\", \"lakecolor\": \"white\", \"landcolor\": \"#E5ECF6\", \"showlakes\": true, \"showland\": true, \"subunitcolor\": \"white\"}, \"hoverlabel\": {\"align\": \"left\"}, \"hovermode\": \"closest\", \"mapbox\": {\"style\": \"light\"}, \"paper_bgcolor\": \"white\", \"plot_bgcolor\": \"#E5ECF6\", \"polar\": {\"angularaxis\": {\"gridcolor\": \"white\", \"linecolor\": \"white\", \"ticks\": \"\"}, \"bgcolor\": \"#E5ECF6\", \"radialaxis\": {\"gridcolor\": \"white\", \"linecolor\": \"white\", \"ticks\": \"\"}}, \"scene\": {\"xaxis\": {\"backgroundcolor\": \"#E5ECF6\", \"gridcolor\": \"white\", \"gridwidth\": 2, \"linecolor\": \"white\", \"showbackground\": true, \"ticks\": \"\", \"zerolinecolor\": \"white\"}, \"yaxis\": {\"backgroundcolor\": \"#E5ECF6\", \"gridcolor\": \"white\", \"gridwidth\": 2, \"linecolor\": \"white\", \"showbackground\": true, \"ticks\": \"\", \"zerolinecolor\": \"white\"}, \"zaxis\": {\"backgroundcolor\": \"#E5ECF6\", \"gridcolor\": \"white\", \"gridwidth\": 2, \"linecolor\": \"white\", \"showbackground\": true, \"ticks\": \"\", \"zerolinecolor\": \"white\"}}, \"shapedefaults\": {\"line\": {\"color\": \"#2a3f5f\"}}, \"ternary\": {\"aaxis\": {\"gridcolor\": \"white\", \"linecolor\": \"white\", \"ticks\": \"\"}, \"baxis\": {\"gridcolor\": \"white\", \"linecolor\": \"white\", \"ticks\": \"\"}, \"bgcolor\": \"#E5ECF6\", \"caxis\": {\"gridcolor\": \"white\", \"linecolor\": \"white\", \"ticks\": \"\"}}, \"title\": {\"x\": 0.05}, \"xaxis\": {\"automargin\": true, \"gridcolor\": \"white\", \"linecolor\": \"white\", \"ticks\": \"\", \"title\": {\"standoff\": 15}, \"zerolinecolor\": \"white\", \"zerolinewidth\": 2}, \"yaxis\": {\"automargin\": true, \"gridcolor\": \"white\", \"linecolor\": \"white\", \"ticks\": \"\", \"title\": {\"standoff\": 15}, \"zerolinecolor\": \"white\", \"zerolinewidth\": 2}}}, \"title\": {\"font\": {\"color\": \"#4D5663\"}}, \"xaxis\": {\"gridcolor\": \"#E1E5ED\", \"showgrid\": true, \"tickfont\": {\"color\": \"#4D5663\"}, \"title\": {\"font\": {\"color\": \"#4D5663\"}, \"text\": \"\"}, \"zerolinecolor\": \"#E1E5ED\"}, \"yaxis\": {\"gridcolor\": \"#E1E5ED\", \"showgrid\": true, \"tickfont\": {\"color\": \"#4D5663\"}, \"title\": {\"font\": {\"color\": \"#4D5663\"}, \"text\": \"\"}, \"zerolinecolor\": \"#E1E5ED\"}},                        {\"showLink\": true, \"linkText\": \"Export to plot.ly\", \"plotlyServerURL\": \"https://plot.ly\", \"responsive\": true}                    ).then(function(){\n",
       "                            \n",
       "var gd = document.getElementById('223d54c3-93ae-4ac4-9ba6-b7ad5f87b080');\n",
       "var x = new MutationObserver(function (mutations, observer) {{\n",
       "        var display = window.getComputedStyle(gd).display;\n",
       "        if (!display || display === 'none') {{\n",
       "            console.log([gd, 'removed!']);\n",
       "            Plotly.purge(gd);\n",
       "            observer.disconnect();\n",
       "        }}\n",
       "}});\n",
       "\n",
       "// Listen for the removal of the full notebook cells\n",
       "var notebookContainer = gd.closest('#notebook-container');\n",
       "if (notebookContainer) {{\n",
       "    x.observe(notebookContainer, {childList: true});\n",
       "}}\n",
       "\n",
       "// Listen for the clearing of the current output cell\n",
       "var outputEl = gd.closest('.output');\n",
       "if (outputEl) {{\n",
       "    x.observe(outputEl, {childList: true});\n",
       "}}\n",
       "\n",
       "                        })                };                });            </script>        </div>"
      ]
     },
     "metadata": {},
     "output_type": "display_data"
    }
   ],
   "source": [
    "df2.iplot(kind='bar',x='Category',y='Values')"
   ]
  },
  {
   "cell_type": "code",
   "execution_count": 11,
   "metadata": {},
   "outputs": [
    {
     "data": {
      "application/vnd.plotly.v1+json": {
       "config": {
        "linkText": "Export to plot.ly",
        "plotlyServerURL": "https://plot.ly",
        "showLink": true
       },
       "data": [
        {
         "marker": {
          "color": "rgba(255, 153, 51, 0.6)",
          "line": {
           "color": "rgba(255, 153, 51, 1.0)",
           "width": 1
          }
         },
         "name": "None",
         "orientation": "v",
         "text": "",
         "type": "bar",
         "x": [
          "A",
          "B",
          "C",
          "D"
         ],
         "y": [
          100,
          100,
          100,
          100
         ]
        }
       ],
       "layout": {
        "legend": {
         "bgcolor": "#F5F6F9",
         "font": {
          "color": "#4D5663"
         }
        },
        "paper_bgcolor": "#F5F6F9",
        "plot_bgcolor": "#F5F6F9",
        "template": {
         "data": {
          "bar": [
           {
            "error_x": {
             "color": "#2a3f5f"
            },
            "error_y": {
             "color": "#2a3f5f"
            },
            "marker": {
             "line": {
              "color": "#E5ECF6",
              "width": 0.5
             }
            },
            "type": "bar"
           }
          ],
          "barpolar": [
           {
            "marker": {
             "line": {
              "color": "#E5ECF6",
              "width": 0.5
             }
            },
            "type": "barpolar"
           }
          ],
          "carpet": [
           {
            "aaxis": {
             "endlinecolor": "#2a3f5f",
             "gridcolor": "white",
             "linecolor": "white",
             "minorgridcolor": "white",
             "startlinecolor": "#2a3f5f"
            },
            "baxis": {
             "endlinecolor": "#2a3f5f",
             "gridcolor": "white",
             "linecolor": "white",
             "minorgridcolor": "white",
             "startlinecolor": "#2a3f5f"
            },
            "type": "carpet"
           }
          ],
          "choropleth": [
           {
            "colorbar": {
             "outlinewidth": 0,
             "ticks": ""
            },
            "type": "choropleth"
           }
          ],
          "contour": [
           {
            "colorbar": {
             "outlinewidth": 0,
             "ticks": ""
            },
            "colorscale": [
             [
              0,
              "#0d0887"
             ],
             [
              0.1111111111111111,
              "#46039f"
             ],
             [
              0.2222222222222222,
              "#7201a8"
             ],
             [
              0.3333333333333333,
              "#9c179e"
             ],
             [
              0.4444444444444444,
              "#bd3786"
             ],
             [
              0.5555555555555556,
              "#d8576b"
             ],
             [
              0.6666666666666666,
              "#ed7953"
             ],
             [
              0.7777777777777778,
              "#fb9f3a"
             ],
             [
              0.8888888888888888,
              "#fdca26"
             ],
             [
              1,
              "#f0f921"
             ]
            ],
            "type": "contour"
           }
          ],
          "contourcarpet": [
           {
            "colorbar": {
             "outlinewidth": 0,
             "ticks": ""
            },
            "type": "contourcarpet"
           }
          ],
          "heatmap": [
           {
            "colorbar": {
             "outlinewidth": 0,
             "ticks": ""
            },
            "colorscale": [
             [
              0,
              "#0d0887"
             ],
             [
              0.1111111111111111,
              "#46039f"
             ],
             [
              0.2222222222222222,
              "#7201a8"
             ],
             [
              0.3333333333333333,
              "#9c179e"
             ],
             [
              0.4444444444444444,
              "#bd3786"
             ],
             [
              0.5555555555555556,
              "#d8576b"
             ],
             [
              0.6666666666666666,
              "#ed7953"
             ],
             [
              0.7777777777777778,
              "#fb9f3a"
             ],
             [
              0.8888888888888888,
              "#fdca26"
             ],
             [
              1,
              "#f0f921"
             ]
            ],
            "type": "heatmap"
           }
          ],
          "heatmapgl": [
           {
            "colorbar": {
             "outlinewidth": 0,
             "ticks": ""
            },
            "colorscale": [
             [
              0,
              "#0d0887"
             ],
             [
              0.1111111111111111,
              "#46039f"
             ],
             [
              0.2222222222222222,
              "#7201a8"
             ],
             [
              0.3333333333333333,
              "#9c179e"
             ],
             [
              0.4444444444444444,
              "#bd3786"
             ],
             [
              0.5555555555555556,
              "#d8576b"
             ],
             [
              0.6666666666666666,
              "#ed7953"
             ],
             [
              0.7777777777777778,
              "#fb9f3a"
             ],
             [
              0.8888888888888888,
              "#fdca26"
             ],
             [
              1,
              "#f0f921"
             ]
            ],
            "type": "heatmapgl"
           }
          ],
          "histogram": [
           {
            "marker": {
             "colorbar": {
              "outlinewidth": 0,
              "ticks": ""
             }
            },
            "type": "histogram"
           }
          ],
          "histogram2d": [
           {
            "colorbar": {
             "outlinewidth": 0,
             "ticks": ""
            },
            "colorscale": [
             [
              0,
              "#0d0887"
             ],
             [
              0.1111111111111111,
              "#46039f"
             ],
             [
              0.2222222222222222,
              "#7201a8"
             ],
             [
              0.3333333333333333,
              "#9c179e"
             ],
             [
              0.4444444444444444,
              "#bd3786"
             ],
             [
              0.5555555555555556,
              "#d8576b"
             ],
             [
              0.6666666666666666,
              "#ed7953"
             ],
             [
              0.7777777777777778,
              "#fb9f3a"
             ],
             [
              0.8888888888888888,
              "#fdca26"
             ],
             [
              1,
              "#f0f921"
             ]
            ],
            "type": "histogram2d"
           }
          ],
          "histogram2dcontour": [
           {
            "colorbar": {
             "outlinewidth": 0,
             "ticks": ""
            },
            "colorscale": [
             [
              0,
              "#0d0887"
             ],
             [
              0.1111111111111111,
              "#46039f"
             ],
             [
              0.2222222222222222,
              "#7201a8"
             ],
             [
              0.3333333333333333,
              "#9c179e"
             ],
             [
              0.4444444444444444,
              "#bd3786"
             ],
             [
              0.5555555555555556,
              "#d8576b"
             ],
             [
              0.6666666666666666,
              "#ed7953"
             ],
             [
              0.7777777777777778,
              "#fb9f3a"
             ],
             [
              0.8888888888888888,
              "#fdca26"
             ],
             [
              1,
              "#f0f921"
             ]
            ],
            "type": "histogram2dcontour"
           }
          ],
          "mesh3d": [
           {
            "colorbar": {
             "outlinewidth": 0,
             "ticks": ""
            },
            "type": "mesh3d"
           }
          ],
          "parcoords": [
           {
            "line": {
             "colorbar": {
              "outlinewidth": 0,
              "ticks": ""
             }
            },
            "type": "parcoords"
           }
          ],
          "pie": [
           {
            "automargin": true,
            "type": "pie"
           }
          ],
          "scatter": [
           {
            "marker": {
             "colorbar": {
              "outlinewidth": 0,
              "ticks": ""
             }
            },
            "type": "scatter"
           }
          ],
          "scatter3d": [
           {
            "line": {
             "colorbar": {
              "outlinewidth": 0,
              "ticks": ""
             }
            },
            "marker": {
             "colorbar": {
              "outlinewidth": 0,
              "ticks": ""
             }
            },
            "type": "scatter3d"
           }
          ],
          "scattercarpet": [
           {
            "marker": {
             "colorbar": {
              "outlinewidth": 0,
              "ticks": ""
             }
            },
            "type": "scattercarpet"
           }
          ],
          "scattergeo": [
           {
            "marker": {
             "colorbar": {
              "outlinewidth": 0,
              "ticks": ""
             }
            },
            "type": "scattergeo"
           }
          ],
          "scattergl": [
           {
            "marker": {
             "colorbar": {
              "outlinewidth": 0,
              "ticks": ""
             }
            },
            "type": "scattergl"
           }
          ],
          "scattermapbox": [
           {
            "marker": {
             "colorbar": {
              "outlinewidth": 0,
              "ticks": ""
             }
            },
            "type": "scattermapbox"
           }
          ],
          "scatterpolar": [
           {
            "marker": {
             "colorbar": {
              "outlinewidth": 0,
              "ticks": ""
             }
            },
            "type": "scatterpolar"
           }
          ],
          "scatterpolargl": [
           {
            "marker": {
             "colorbar": {
              "outlinewidth": 0,
              "ticks": ""
             }
            },
            "type": "scatterpolargl"
           }
          ],
          "scatterternary": [
           {
            "marker": {
             "colorbar": {
              "outlinewidth": 0,
              "ticks": ""
             }
            },
            "type": "scatterternary"
           }
          ],
          "surface": [
           {
            "colorbar": {
             "outlinewidth": 0,
             "ticks": ""
            },
            "colorscale": [
             [
              0,
              "#0d0887"
             ],
             [
              0.1111111111111111,
              "#46039f"
             ],
             [
              0.2222222222222222,
              "#7201a8"
             ],
             [
              0.3333333333333333,
              "#9c179e"
             ],
             [
              0.4444444444444444,
              "#bd3786"
             ],
             [
              0.5555555555555556,
              "#d8576b"
             ],
             [
              0.6666666666666666,
              "#ed7953"
             ],
             [
              0.7777777777777778,
              "#fb9f3a"
             ],
             [
              0.8888888888888888,
              "#fdca26"
             ],
             [
              1,
              "#f0f921"
             ]
            ],
            "type": "surface"
           }
          ],
          "table": [
           {
            "cells": {
             "fill": {
              "color": "#EBF0F8"
             },
             "line": {
              "color": "white"
             }
            },
            "header": {
             "fill": {
              "color": "#C8D4E3"
             },
             "line": {
              "color": "white"
             }
            },
            "type": "table"
           }
          ]
         },
         "layout": {
          "annotationdefaults": {
           "arrowcolor": "#2a3f5f",
           "arrowhead": 0,
           "arrowwidth": 1
          },
          "autotypenumbers": "strict",
          "coloraxis": {
           "colorbar": {
            "outlinewidth": 0,
            "ticks": ""
           }
          },
          "colorscale": {
           "diverging": [
            [
             0,
             "#8e0152"
            ],
            [
             0.1,
             "#c51b7d"
            ],
            [
             0.2,
             "#de77ae"
            ],
            [
             0.3,
             "#f1b6da"
            ],
            [
             0.4,
             "#fde0ef"
            ],
            [
             0.5,
             "#f7f7f7"
            ],
            [
             0.6,
             "#e6f5d0"
            ],
            [
             0.7,
             "#b8e186"
            ],
            [
             0.8,
             "#7fbc41"
            ],
            [
             0.9,
             "#4d9221"
            ],
            [
             1,
             "#276419"
            ]
           ],
           "sequential": [
            [
             0,
             "#0d0887"
            ],
            [
             0.1111111111111111,
             "#46039f"
            ],
            [
             0.2222222222222222,
             "#7201a8"
            ],
            [
             0.3333333333333333,
             "#9c179e"
            ],
            [
             0.4444444444444444,
             "#bd3786"
            ],
            [
             0.5555555555555556,
             "#d8576b"
            ],
            [
             0.6666666666666666,
             "#ed7953"
            ],
            [
             0.7777777777777778,
             "#fb9f3a"
            ],
            [
             0.8888888888888888,
             "#fdca26"
            ],
            [
             1,
             "#f0f921"
            ]
           ],
           "sequentialminus": [
            [
             0,
             "#0d0887"
            ],
            [
             0.1111111111111111,
             "#46039f"
            ],
            [
             0.2222222222222222,
             "#7201a8"
            ],
            [
             0.3333333333333333,
             "#9c179e"
            ],
            [
             0.4444444444444444,
             "#bd3786"
            ],
            [
             0.5555555555555556,
             "#d8576b"
            ],
            [
             0.6666666666666666,
             "#ed7953"
            ],
            [
             0.7777777777777778,
             "#fb9f3a"
            ],
            [
             0.8888888888888888,
             "#fdca26"
            ],
            [
             1,
             "#f0f921"
            ]
           ]
          },
          "colorway": [
           "#636efa",
           "#EF553B",
           "#00cc96",
           "#ab63fa",
           "#FFA15A",
           "#19d3f3",
           "#FF6692",
           "#B6E880",
           "#FF97FF",
           "#FECB52"
          ],
          "font": {
           "color": "#2a3f5f"
          },
          "geo": {
           "bgcolor": "white",
           "lakecolor": "white",
           "landcolor": "#E5ECF6",
           "showlakes": true,
           "showland": true,
           "subunitcolor": "white"
          },
          "hoverlabel": {
           "align": "left"
          },
          "hovermode": "closest",
          "mapbox": {
           "style": "light"
          },
          "paper_bgcolor": "white",
          "plot_bgcolor": "#E5ECF6",
          "polar": {
           "angularaxis": {
            "gridcolor": "white",
            "linecolor": "white",
            "ticks": ""
           },
           "bgcolor": "#E5ECF6",
           "radialaxis": {
            "gridcolor": "white",
            "linecolor": "white",
            "ticks": ""
           }
          },
          "scene": {
           "xaxis": {
            "backgroundcolor": "#E5ECF6",
            "gridcolor": "white",
            "gridwidth": 2,
            "linecolor": "white",
            "showbackground": true,
            "ticks": "",
            "zerolinecolor": "white"
           },
           "yaxis": {
            "backgroundcolor": "#E5ECF6",
            "gridcolor": "white",
            "gridwidth": 2,
            "linecolor": "white",
            "showbackground": true,
            "ticks": "",
            "zerolinecolor": "white"
           },
           "zaxis": {
            "backgroundcolor": "#E5ECF6",
            "gridcolor": "white",
            "gridwidth": 2,
            "linecolor": "white",
            "showbackground": true,
            "ticks": "",
            "zerolinecolor": "white"
           }
          },
          "shapedefaults": {
           "line": {
            "color": "#2a3f5f"
           }
          },
          "ternary": {
           "aaxis": {
            "gridcolor": "white",
            "linecolor": "white",
            "ticks": ""
           },
           "baxis": {
            "gridcolor": "white",
            "linecolor": "white",
            "ticks": ""
           },
           "bgcolor": "#E5ECF6",
           "caxis": {
            "gridcolor": "white",
            "linecolor": "white",
            "ticks": ""
           }
          },
          "title": {
           "x": 0.05
          },
          "xaxis": {
           "automargin": true,
           "gridcolor": "white",
           "linecolor": "white",
           "ticks": "",
           "title": {
            "standoff": 15
           },
           "zerolinecolor": "white",
           "zerolinewidth": 2
          },
          "yaxis": {
           "automargin": true,
           "gridcolor": "white",
           "linecolor": "white",
           "ticks": "",
           "title": {
            "standoff": 15
           },
           "zerolinecolor": "white",
           "zerolinewidth": 2
          }
         }
        },
        "title": {
         "font": {
          "color": "#4D5663"
         }
        },
        "xaxis": {
         "gridcolor": "#E1E5ED",
         "showgrid": true,
         "tickfont": {
          "color": "#4D5663"
         },
         "title": {
          "font": {
           "color": "#4D5663"
          },
          "text": ""
         },
         "zerolinecolor": "#E1E5ED"
        },
        "yaxis": {
         "gridcolor": "#E1E5ED",
         "showgrid": true,
         "tickfont": {
          "color": "#4D5663"
         },
         "title": {
          "font": {
           "color": "#4D5663"
          },
          "text": ""
         },
         "zerolinecolor": "#E1E5ED"
        }
       }
      },
      "text/html": [
       "<div>                            <div id=\"cef70cd8-0642-4580-aba6-f79d700ca528\" class=\"plotly-graph-div\" style=\"height:525px; width:100%;\"></div>            <script type=\"text/javascript\">                require([\"plotly\"], function(Plotly) {                    window.PLOTLYENV=window.PLOTLYENV || {};\n",
       "                    window.PLOTLYENV.BASE_URL='https://plot.ly';                                    if (document.getElementById(\"cef70cd8-0642-4580-aba6-f79d700ca528\")) {                    Plotly.newPlot(                        \"cef70cd8-0642-4580-aba6-f79d700ca528\",                        [{\"marker\": {\"color\": \"rgba(255, 153, 51, 0.6)\", \"line\": {\"color\": \"rgba(255, 153, 51, 1.0)\", \"width\": 1}}, \"name\": \"None\", \"orientation\": \"v\", \"text\": \"\", \"type\": \"bar\", \"x\": [\"A\", \"B\", \"C\", \"D\"], \"y\": [100, 100, 100, 100]}],                        {\"legend\": {\"bgcolor\": \"#F5F6F9\", \"font\": {\"color\": \"#4D5663\"}}, \"paper_bgcolor\": \"#F5F6F9\", \"plot_bgcolor\": \"#F5F6F9\", \"template\": {\"data\": {\"bar\": [{\"error_x\": {\"color\": \"#2a3f5f\"}, \"error_y\": {\"color\": \"#2a3f5f\"}, \"marker\": {\"line\": {\"color\": \"#E5ECF6\", \"width\": 0.5}}, \"type\": \"bar\"}], \"barpolar\": [{\"marker\": {\"line\": {\"color\": \"#E5ECF6\", \"width\": 0.5}}, \"type\": \"barpolar\"}], \"carpet\": [{\"aaxis\": {\"endlinecolor\": \"#2a3f5f\", \"gridcolor\": \"white\", \"linecolor\": \"white\", \"minorgridcolor\": \"white\", \"startlinecolor\": \"#2a3f5f\"}, \"baxis\": {\"endlinecolor\": \"#2a3f5f\", \"gridcolor\": \"white\", \"linecolor\": \"white\", \"minorgridcolor\": \"white\", \"startlinecolor\": \"#2a3f5f\"}, \"type\": \"carpet\"}], \"choropleth\": [{\"colorbar\": {\"outlinewidth\": 0, \"ticks\": \"\"}, \"type\": \"choropleth\"}], \"contour\": [{\"colorbar\": {\"outlinewidth\": 0, \"ticks\": \"\"}, \"colorscale\": [[0.0, \"#0d0887\"], [0.1111111111111111, \"#46039f\"], [0.2222222222222222, \"#7201a8\"], [0.3333333333333333, \"#9c179e\"], [0.4444444444444444, \"#bd3786\"], [0.5555555555555556, \"#d8576b\"], [0.6666666666666666, \"#ed7953\"], [0.7777777777777778, \"#fb9f3a\"], [0.8888888888888888, \"#fdca26\"], [1.0, \"#f0f921\"]], \"type\": \"contour\"}], \"contourcarpet\": [{\"colorbar\": {\"outlinewidth\": 0, \"ticks\": \"\"}, \"type\": \"contourcarpet\"}], \"heatmap\": [{\"colorbar\": {\"outlinewidth\": 0, \"ticks\": \"\"}, \"colorscale\": [[0.0, \"#0d0887\"], [0.1111111111111111, \"#46039f\"], [0.2222222222222222, \"#7201a8\"], [0.3333333333333333, \"#9c179e\"], [0.4444444444444444, \"#bd3786\"], [0.5555555555555556, \"#d8576b\"], [0.6666666666666666, \"#ed7953\"], [0.7777777777777778, \"#fb9f3a\"], [0.8888888888888888, \"#fdca26\"], [1.0, \"#f0f921\"]], \"type\": \"heatmap\"}], \"heatmapgl\": [{\"colorbar\": {\"outlinewidth\": 0, \"ticks\": \"\"}, \"colorscale\": [[0.0, \"#0d0887\"], [0.1111111111111111, \"#46039f\"], [0.2222222222222222, \"#7201a8\"], [0.3333333333333333, \"#9c179e\"], [0.4444444444444444, \"#bd3786\"], [0.5555555555555556, \"#d8576b\"], [0.6666666666666666, \"#ed7953\"], [0.7777777777777778, \"#fb9f3a\"], [0.8888888888888888, \"#fdca26\"], [1.0, \"#f0f921\"]], \"type\": \"heatmapgl\"}], \"histogram\": [{\"marker\": {\"colorbar\": {\"outlinewidth\": 0, \"ticks\": \"\"}}, \"type\": \"histogram\"}], \"histogram2d\": [{\"colorbar\": {\"outlinewidth\": 0, \"ticks\": \"\"}, \"colorscale\": [[0.0, \"#0d0887\"], [0.1111111111111111, \"#46039f\"], [0.2222222222222222, \"#7201a8\"], [0.3333333333333333, \"#9c179e\"], [0.4444444444444444, \"#bd3786\"], [0.5555555555555556, \"#d8576b\"], [0.6666666666666666, \"#ed7953\"], [0.7777777777777778, \"#fb9f3a\"], [0.8888888888888888, \"#fdca26\"], [1.0, \"#f0f921\"]], \"type\": \"histogram2d\"}], \"histogram2dcontour\": [{\"colorbar\": {\"outlinewidth\": 0, \"ticks\": \"\"}, \"colorscale\": [[0.0, \"#0d0887\"], [0.1111111111111111, \"#46039f\"], [0.2222222222222222, \"#7201a8\"], [0.3333333333333333, \"#9c179e\"], [0.4444444444444444, \"#bd3786\"], [0.5555555555555556, \"#d8576b\"], [0.6666666666666666, \"#ed7953\"], [0.7777777777777778, \"#fb9f3a\"], [0.8888888888888888, \"#fdca26\"], [1.0, \"#f0f921\"]], \"type\": \"histogram2dcontour\"}], \"mesh3d\": [{\"colorbar\": {\"outlinewidth\": 0, \"ticks\": \"\"}, \"type\": \"mesh3d\"}], \"parcoords\": [{\"line\": {\"colorbar\": {\"outlinewidth\": 0, \"ticks\": \"\"}}, \"type\": \"parcoords\"}], \"pie\": [{\"automargin\": true, \"type\": \"pie\"}], \"scatter\": [{\"marker\": {\"colorbar\": {\"outlinewidth\": 0, \"ticks\": \"\"}}, \"type\": \"scatter\"}], \"scatter3d\": [{\"line\": {\"colorbar\": {\"outlinewidth\": 0, \"ticks\": \"\"}}, \"marker\": {\"colorbar\": {\"outlinewidth\": 0, \"ticks\": \"\"}}, \"type\": \"scatter3d\"}], \"scattercarpet\": [{\"marker\": {\"colorbar\": {\"outlinewidth\": 0, \"ticks\": \"\"}}, \"type\": \"scattercarpet\"}], \"scattergeo\": [{\"marker\": {\"colorbar\": {\"outlinewidth\": 0, \"ticks\": \"\"}}, \"type\": \"scattergeo\"}], \"scattergl\": [{\"marker\": {\"colorbar\": {\"outlinewidth\": 0, \"ticks\": \"\"}}, \"type\": \"scattergl\"}], \"scattermapbox\": [{\"marker\": {\"colorbar\": {\"outlinewidth\": 0, \"ticks\": \"\"}}, \"type\": \"scattermapbox\"}], \"scatterpolar\": [{\"marker\": {\"colorbar\": {\"outlinewidth\": 0, \"ticks\": \"\"}}, \"type\": \"scatterpolar\"}], \"scatterpolargl\": [{\"marker\": {\"colorbar\": {\"outlinewidth\": 0, \"ticks\": \"\"}}, \"type\": \"scatterpolargl\"}], \"scatterternary\": [{\"marker\": {\"colorbar\": {\"outlinewidth\": 0, \"ticks\": \"\"}}, \"type\": \"scatterternary\"}], \"surface\": [{\"colorbar\": {\"outlinewidth\": 0, \"ticks\": \"\"}, \"colorscale\": [[0.0, \"#0d0887\"], [0.1111111111111111, \"#46039f\"], [0.2222222222222222, \"#7201a8\"], [0.3333333333333333, \"#9c179e\"], [0.4444444444444444, \"#bd3786\"], [0.5555555555555556, \"#d8576b\"], [0.6666666666666666, \"#ed7953\"], [0.7777777777777778, \"#fb9f3a\"], [0.8888888888888888, \"#fdca26\"], [1.0, \"#f0f921\"]], \"type\": \"surface\"}], \"table\": [{\"cells\": {\"fill\": {\"color\": \"#EBF0F8\"}, \"line\": {\"color\": \"white\"}}, \"header\": {\"fill\": {\"color\": \"#C8D4E3\"}, \"line\": {\"color\": \"white\"}}, \"type\": \"table\"}]}, \"layout\": {\"annotationdefaults\": {\"arrowcolor\": \"#2a3f5f\", \"arrowhead\": 0, \"arrowwidth\": 1}, \"autotypenumbers\": \"strict\", \"coloraxis\": {\"colorbar\": {\"outlinewidth\": 0, \"ticks\": \"\"}}, \"colorscale\": {\"diverging\": [[0, \"#8e0152\"], [0.1, \"#c51b7d\"], [0.2, \"#de77ae\"], [0.3, \"#f1b6da\"], [0.4, \"#fde0ef\"], [0.5, \"#f7f7f7\"], [0.6, \"#e6f5d0\"], [0.7, \"#b8e186\"], [0.8, \"#7fbc41\"], [0.9, \"#4d9221\"], [1, \"#276419\"]], \"sequential\": [[0.0, \"#0d0887\"], [0.1111111111111111, \"#46039f\"], [0.2222222222222222, \"#7201a8\"], [0.3333333333333333, \"#9c179e\"], [0.4444444444444444, \"#bd3786\"], [0.5555555555555556, \"#d8576b\"], [0.6666666666666666, \"#ed7953\"], [0.7777777777777778, \"#fb9f3a\"], [0.8888888888888888, \"#fdca26\"], [1.0, \"#f0f921\"]], \"sequentialminus\": [[0.0, \"#0d0887\"], [0.1111111111111111, \"#46039f\"], [0.2222222222222222, \"#7201a8\"], [0.3333333333333333, \"#9c179e\"], [0.4444444444444444, \"#bd3786\"], [0.5555555555555556, \"#d8576b\"], [0.6666666666666666, \"#ed7953\"], [0.7777777777777778, \"#fb9f3a\"], [0.8888888888888888, \"#fdca26\"], [1.0, \"#f0f921\"]]}, \"colorway\": [\"#636efa\", \"#EF553B\", \"#00cc96\", \"#ab63fa\", \"#FFA15A\", \"#19d3f3\", \"#FF6692\", \"#B6E880\", \"#FF97FF\", \"#FECB52\"], \"font\": {\"color\": \"#2a3f5f\"}, \"geo\": {\"bgcolor\": \"white\", \"lakecolor\": \"white\", \"landcolor\": \"#E5ECF6\", \"showlakes\": true, \"showland\": true, \"subunitcolor\": \"white\"}, \"hoverlabel\": {\"align\": \"left\"}, \"hovermode\": \"closest\", \"mapbox\": {\"style\": \"light\"}, \"paper_bgcolor\": \"white\", \"plot_bgcolor\": \"#E5ECF6\", \"polar\": {\"angularaxis\": {\"gridcolor\": \"white\", \"linecolor\": \"white\", \"ticks\": \"\"}, \"bgcolor\": \"#E5ECF6\", \"radialaxis\": {\"gridcolor\": \"white\", \"linecolor\": \"white\", \"ticks\": \"\"}}, \"scene\": {\"xaxis\": {\"backgroundcolor\": \"#E5ECF6\", \"gridcolor\": \"white\", \"gridwidth\": 2, \"linecolor\": \"white\", \"showbackground\": true, \"ticks\": \"\", \"zerolinecolor\": \"white\"}, \"yaxis\": {\"backgroundcolor\": \"#E5ECF6\", \"gridcolor\": \"white\", \"gridwidth\": 2, \"linecolor\": \"white\", \"showbackground\": true, \"ticks\": \"\", \"zerolinecolor\": \"white\"}, \"zaxis\": {\"backgroundcolor\": \"#E5ECF6\", \"gridcolor\": \"white\", \"gridwidth\": 2, \"linecolor\": \"white\", \"showbackground\": true, \"ticks\": \"\", \"zerolinecolor\": \"white\"}}, \"shapedefaults\": {\"line\": {\"color\": \"#2a3f5f\"}}, \"ternary\": {\"aaxis\": {\"gridcolor\": \"white\", \"linecolor\": \"white\", \"ticks\": \"\"}, \"baxis\": {\"gridcolor\": \"white\", \"linecolor\": \"white\", \"ticks\": \"\"}, \"bgcolor\": \"#E5ECF6\", \"caxis\": {\"gridcolor\": \"white\", \"linecolor\": \"white\", \"ticks\": \"\"}}, \"title\": {\"x\": 0.05}, \"xaxis\": {\"automargin\": true, \"gridcolor\": \"white\", \"linecolor\": \"white\", \"ticks\": \"\", \"title\": {\"standoff\": 15}, \"zerolinecolor\": \"white\", \"zerolinewidth\": 2}, \"yaxis\": {\"automargin\": true, \"gridcolor\": \"white\", \"linecolor\": \"white\", \"ticks\": \"\", \"title\": {\"standoff\": 15}, \"zerolinecolor\": \"white\", \"zerolinewidth\": 2}}}, \"title\": {\"font\": {\"color\": \"#4D5663\"}}, \"xaxis\": {\"gridcolor\": \"#E1E5ED\", \"showgrid\": true, \"tickfont\": {\"color\": \"#4D5663\"}, \"title\": {\"font\": {\"color\": \"#4D5663\"}, \"text\": \"\"}, \"zerolinecolor\": \"#E1E5ED\"}, \"yaxis\": {\"gridcolor\": \"#E1E5ED\", \"showgrid\": true, \"tickfont\": {\"color\": \"#4D5663\"}, \"title\": {\"font\": {\"color\": \"#4D5663\"}, \"text\": \"\"}, \"zerolinecolor\": \"#E1E5ED\"}},                        {\"showLink\": true, \"linkText\": \"Export to plot.ly\", \"plotlyServerURL\": \"https://plot.ly\", \"responsive\": true}                    ).then(function(){\n",
       "                            \n",
       "var gd = document.getElementById('cef70cd8-0642-4580-aba6-f79d700ca528');\n",
       "var x = new MutationObserver(function (mutations, observer) {{\n",
       "        var display = window.getComputedStyle(gd).display;\n",
       "        if (!display || display === 'none') {{\n",
       "            console.log([gd, 'removed!']);\n",
       "            Plotly.purge(gd);\n",
       "            observer.disconnect();\n",
       "        }}\n",
       "}});\n",
       "\n",
       "// Listen for the removal of the full notebook cells\n",
       "var notebookContainer = gd.closest('#notebook-container');\n",
       "if (notebookContainer) {{\n",
       "    x.observe(notebookContainer, {childList: true});\n",
       "}}\n",
       "\n",
       "// Listen for the clearing of the current output cell\n",
       "var outputEl = gd.closest('.output');\n",
       "if (outputEl) {{\n",
       "    x.observe(outputEl, {childList: true});\n",
       "}}\n",
       "\n",
       "                        })                };                });            </script>        </div>"
      ]
     },
     "metadata": {},
     "output_type": "display_data"
    }
   ],
   "source": [
    "df.count().iplot(kind='bar')"
   ]
  },
  {
   "cell_type": "markdown",
   "metadata": {},
   "source": [
    "### Boxplots"
   ]
  },
  {
   "cell_type": "code",
   "execution_count": 12,
   "metadata": {},
   "outputs": [
    {
     "data": {
      "application/vnd.plotly.v1+json": {
       "config": {
        "linkText": "Export to plot.ly",
        "plotlyServerURL": "https://plot.ly",
        "showLink": true
       },
       "data": [
        {
         "boxpoints": false,
         "line": {
          "width": 1.3
         },
         "marker": {
          "color": "rgba(255, 153, 51, 1.0)"
         },
         "name": "A",
         "orientation": "v",
         "type": "box",
         "y": [
          -0.2908630835904841,
          0.7522026671935028,
          -0.3202202412277464,
          -0.3843185240987831,
          -0.11931133758015264,
          -0.06817300711027062,
          0.8622886800722961,
          -0.31057746212150983,
          0.8125623712304261,
          -1.5640669400281466,
          1.2355425375738671,
          0.8324247793641801,
          -0.24619011485215633,
          0.8599638885984369,
          2.515608696935039,
          -0.07276308416211145,
          0.5513061271034504,
          -1.073197145275396,
          -2.0003814065736987,
          0.08474756277100214,
          -0.47531304602403646,
          0.2849603958855241,
          0.3128040140963513,
          -0.1335933447541138,
          -0.561357095225552,
          0.5683662400926341,
          1.0250353032278872,
          -1.0102201871084513,
          0.6989540721372159,
          -0.4470276481220417,
          -1.4318993670426283,
          -1.778709711352007,
          -0.2013150386506052,
          0.90594323014043,
          -0.7068585466458727,
          0.6769572604577522,
          0.7939864245468552,
          -0.7538463469490789,
          -1.5109525329437004,
          0.03241263103920048,
          0.9457202231941569,
          -0.6361641291847315,
          0.8719018266954653,
          0.4866077668978206,
          -0.28575776536307634,
          -2.3753288076766776,
          -1.122899970532789,
          -0.7693332131825008,
          -0.6486311302735432,
          0.272670354146497,
          1.0501723719960416,
          -0.3652989022843855,
          -0.6162279728796006,
          0.4587412631291952,
          -0.5019271653215122,
          -0.2515218329079029,
          -0.6317256522448005,
          -0.08223348033417892,
          -0.0036923666681755664,
          1.266456167863406,
          -0.3560151451082724,
          0.3526100081966942,
          0.8185028299045045,
          -0.15608208664826334,
          -0.33548634877417594,
          0.11600603838969752,
          0.2712996817591125,
          -0.36049681660033206,
          -1.7525330513020736,
          1.450464166516479,
          -1.216821613042049,
          0.6034493801477613,
          -1.8379363094945262,
          1.138064473201576,
          0.8394327104637465,
          -1.929090849772803,
          -1.072691459283474,
          -0.43038935680185325,
          -0.7400367966877052,
          -1.322632993361467,
          0.5787215505345139,
          -1.357954952041852,
          -0.6021767109518883,
          0.13132077562065864,
          1.5594079056934678,
          1.535216779827442,
          -0.19368758523366292,
          -0.3557438285284079,
          0.7849209968717704,
          -1.7621278569068,
          0.6267176980025514,
          -2.8652636529097717,
          -0.770483051114564,
          0.5280043573619357,
          -0.800516072738706,
          -1.743415921195421,
          -3.1720879132649635,
          -0.9725183317291045,
          0.6848046759556948,
          -1.0177256470591118
         ]
        },
        {
         "boxpoints": false,
         "line": {
          "width": 1.3
         },
         "marker": {
          "color": "rgba(55, 128, 191, 1.0)"
         },
         "name": "B",
         "orientation": "v",
         "type": "box",
         "y": [
          -0.6057254125189131,
          -0.1892998620186739,
          0.26690625989144934,
          0.8801506841686696,
          -2.163784553004971,
          -0.4614535843193734,
          -0.477493821743666,
          1.415970231503484,
          -0.32532434268508886,
          -0.623502578386509,
          0.46107409795762677,
          -0.17597837771622932,
          -0.010493028851549516,
          0.12707067248642415,
          1.6821349613945324,
          1.4896885981293346,
          1.6774362491281654,
          1.7768769787637884,
          0.02482122889581526,
          -0.08490748620525963,
          -0.7745530167443184,
          0.7281703263038644,
          0.34604550500472503,
          1.6609483397717384,
          -0.152552190572538,
          -0.23369305198586304,
          -0.7120689525561642,
          0.42787313319929604,
          1.133049796582027,
          -0.6412951044882726,
          0.8955770585287715,
          -0.4726809527145295,
          0.14844968009098905,
          -0.21346438354012479,
          1.1349094316201722,
          0.3303734816044888,
          0.08667582342525072,
          0.8892484751851075,
          -0.12466594725091838,
          0.8827036907344208,
          1.2094937839467363,
          -0.4895836620137229,
          -0.5408427475391092,
          -1.0410265851439164,
          -0.8895250070698203,
          -0.11542371743890872,
          -0.2565703204603735,
          -1.025057326973805,
          -0.17505685722310804,
          0.7156960922973573,
          0.3364902049994554,
          0.3922927246547013,
          -1.3069168912035614,
          1.0855895861961868,
          0.38972558986895434,
          1.3949581546509382,
          -0.15477016380895434,
          -1.0490182284984666,
          -0.7284534907657603,
          -0.43638936764173697,
          0.6725356433554945,
          -1.3786402449176423,
          0.48072039417330187,
          -0.0017498029708925967,
          0.5018239222039128,
          1.6771097664851364,
          0.35373070444751786,
          0.8266608353330749,
          -0.3749302565897924,
          -0.4353583055446691,
          -1.2005208565469987,
          -0.8799068979454695,
          1.0274027527929517,
          0.3647258386082056,
          0.45955622956747993,
          -0.09155025515307294,
          -1.3399406737564568,
          0.616572965129828,
          0.3878866411322037,
          0.32055906658916067,
          0.7972281495815815,
          2.389749279180996,
          -1.2494200166450264,
          1.903338137180644,
          0.736383662558544,
          -0.2549611298886137,
          0.4816846935415098,
          -0.1640079781722683,
          0.4242312582039998,
          0.8552838937608425,
          -1.9059829052191977,
          0.8331154077999772,
          0.443487283792609,
          -0.2301629498760557,
          -0.4811227799019512,
          0.6444819505648139,
          -1.2330396356002027,
          -0.24868752637889677,
          -0.38122386681139986,
          -0.16332571723924683
         ]
        },
        {
         "boxpoints": false,
         "line": {
          "width": 1.3
         },
         "marker": {
          "color": "rgba(50, 171, 96, 1.0)"
         },
         "name": "C",
         "orientation": "v",
         "type": "box",
         "y": [
          0.1601249787527821,
          0.29467420148564255,
          0.3568882970336668,
          0.49339091812602603,
          0.16530264922437402,
          2.2807082818300626,
          1.4178626566598593,
          0.5889050796635561,
          0.2979322274628636,
          -0.46252389970771896,
          0.13144175857810902,
          0.5736688504658046,
          1.1827446651909586,
          -0.8718692524802156,
          0.20105309216440514,
          -0.08201145688342751,
          0.49058096735497736,
          0.3073301521120699,
          0.2062732752023993,
          -0.8575271388635829,
          -0.06424561735245785,
          0.813349097868763,
          2.741697991028217,
          -0.2793545347105481,
          -0.41986215159009505,
          -0.11499129002598239,
          -0.5715410238192038,
          1.0007504048377733,
          1.3350996160222715,
          -0.5112842995073376,
          -1.1338750384907732,
          1.5711619122979843,
          0.6870070701377833,
          0.5382487054828127,
          -1.9239708678727752,
          -0.4210262882065965,
          0.5638420270406669,
          0.20511189975442604,
          -0.12907921148531795,
          0.757698401531798,
          0.7424669848460085,
          -1.8127059462077935,
          2.576212391160004,
          1.0680317017372118,
          0.6368591290761687,
          0.01397484001391836,
          -1.3260636410754556,
          -0.3454200227156687,
          0.23104677009196176,
          -1.504623218406821,
          -0.7293169981334667,
          -0.6177334832660625,
          -0.46237664722806426,
          -0.1430308666814354,
          0.6280356845129812,
          0.08167521621781876,
          0.9448994153372875,
          2.4854180051941137,
          1.738936345972523,
          -0.048645016737942116,
          -0.5812073885088923,
          -1.0086837242273425,
          1.5473440295073544,
          1.2822811201946844,
          -0.018777519523717173,
          -1.4534708086641772,
          0.45049743683620114,
          0.45948627986481416,
          0.08059342752465515,
          -0.32707985257690864,
          2.0071909451730634,
          0.8792142349076734,
          -0.5655594051944282,
          -0.2631396115731665,
          1.6359234677717236,
          -1.1272003032769349,
          1.3888430168995958,
          0.6783820575897243,
          0.3339377866861008,
          1.8216227062158385,
          -0.9590968968998035,
          0.2114721317851453,
          1.9049164731508406,
          -0.1501836091332619,
          -0.2756392951508617,
          1.3877819674178027,
          -1.2709051234011197,
          1.0917916681144118,
          -0.8501591958376347,
          0.7004656422210184,
          0.7878066663610747,
          1.074070542351294,
          -0.38940669791984817,
          0.06892194841765428,
          -1.1123923558984532,
          -0.8812451059562298,
          -1.6585485110351523,
          -1.1472413656126865,
          0.19786640777415176,
          0.5077386863533896
         ]
        },
        {
         "boxpoints": false,
         "line": {
          "width": 1.3
         },
         "marker": {
          "color": "rgba(128, 0, 128, 1.0)"
         },
         "name": "D",
         "orientation": "v",
         "type": "box",
         "y": [
          1.3426741245866363,
          -0.1834048490438496,
          0.5328701812928004,
          -1.656655718697109,
          0.05958791043719714,
          -0.19321217176039682,
          0.06697395147157933,
          1.2728946133940555,
          1.6643370286610772,
          -1.5298365985683589,
          -0.9948984208642397,
          -0.289097184657636,
          0.4872438797747574,
          -0.9346972356629407,
          0.634849949945669,
          -0.39628347477726644,
          -2.547089675866158,
          -1.7910532792329155,
          -0.9645522216640807,
          -0.19828174573655213,
          -0.39914923917814354,
          0.45504859536829234,
          -0.8250249932745054,
          -0.20729714524589746,
          0.31887015011812375,
          1.9513687669838113,
          0.15194731092481026,
          0.7383368942851168,
          1.500574460132519,
          -0.4870595150175634,
          1.456454413800416,
          -0.42216075416439364,
          0.6560702633200569,
          1.1792352012079161,
          1.0429843786375605,
          0.7036294942885998,
          0.08074177433226708,
          -1.4487970875512286,
          0.894558078926984,
          -0.0699282582298491,
          -0.9520511502426532,
          -0.8876588084539955,
          0.5781969438845166,
          -1.7430486173832038,
          -1.0073018621411078,
          -0.09471496007539422,
          -0.310076014622057,
          1.4200365177865308,
          0.7422544097753597,
          1.7528188543357193,
          0.7584308483426954,
          0.9261195761969273,
          1.0118865358079006,
          0.4300919260168664,
          0.9294146926947682,
          1.3924465982379013,
          -0.13465429145725835,
          0.11240045614705331,
          2.1263570870016677,
          -1.3760755934994795,
          0.4963343390016291,
          1.7577565294397053,
          -0.4950895720694699,
          0.9182203047219385,
          0.21420340042688107,
          -0.5694921352855646,
          -0.9966297263957835,
          1.8913948677061185,
          -0.6095726404258395,
          0.07937391098492103,
          1.5742394986620833,
          2.2208035124948706,
          1.7931480125786967,
          1.040558149695388,
          -0.14860657963079282,
          0.4183506064769205,
          -0.5825850114800133,
          0.18926300512470912,
          -1.8135214054753488,
          -0.7926467849208718,
          -0.8139609097186383,
          -0.839992505317087,
          -0.7777280525675709,
          1.188828962652113,
          0.20893714463873903,
          -0.8378980888052304,
          0.09162398386714583,
          0.09998081544549062,
          -0.10154735279607056,
          0.5766338514647803,
          0.02486186174479018,
          -0.37183414153807004,
          -0.8281281218747182,
          1.2489116158283142,
          1.0625211745812095,
          -0.21442203657256956,
          1.2391079074889888,
          -0.8440304806921777,
          -1.6817763878890764,
          1.5489363423738167
         ]
        }
       ],
       "layout": {
        "legend": {
         "bgcolor": "#F5F6F9",
         "font": {
          "color": "#4D5663"
         }
        },
        "paper_bgcolor": "#F5F6F9",
        "plot_bgcolor": "#F5F6F9",
        "template": {
         "data": {
          "bar": [
           {
            "error_x": {
             "color": "#2a3f5f"
            },
            "error_y": {
             "color": "#2a3f5f"
            },
            "marker": {
             "line": {
              "color": "#E5ECF6",
              "width": 0.5
             }
            },
            "type": "bar"
           }
          ],
          "barpolar": [
           {
            "marker": {
             "line": {
              "color": "#E5ECF6",
              "width": 0.5
             }
            },
            "type": "barpolar"
           }
          ],
          "carpet": [
           {
            "aaxis": {
             "endlinecolor": "#2a3f5f",
             "gridcolor": "white",
             "linecolor": "white",
             "minorgridcolor": "white",
             "startlinecolor": "#2a3f5f"
            },
            "baxis": {
             "endlinecolor": "#2a3f5f",
             "gridcolor": "white",
             "linecolor": "white",
             "minorgridcolor": "white",
             "startlinecolor": "#2a3f5f"
            },
            "type": "carpet"
           }
          ],
          "choropleth": [
           {
            "colorbar": {
             "outlinewidth": 0,
             "ticks": ""
            },
            "type": "choropleth"
           }
          ],
          "contour": [
           {
            "colorbar": {
             "outlinewidth": 0,
             "ticks": ""
            },
            "colorscale": [
             [
              0,
              "#0d0887"
             ],
             [
              0.1111111111111111,
              "#46039f"
             ],
             [
              0.2222222222222222,
              "#7201a8"
             ],
             [
              0.3333333333333333,
              "#9c179e"
             ],
             [
              0.4444444444444444,
              "#bd3786"
             ],
             [
              0.5555555555555556,
              "#d8576b"
             ],
             [
              0.6666666666666666,
              "#ed7953"
             ],
             [
              0.7777777777777778,
              "#fb9f3a"
             ],
             [
              0.8888888888888888,
              "#fdca26"
             ],
             [
              1,
              "#f0f921"
             ]
            ],
            "type": "contour"
           }
          ],
          "contourcarpet": [
           {
            "colorbar": {
             "outlinewidth": 0,
             "ticks": ""
            },
            "type": "contourcarpet"
           }
          ],
          "heatmap": [
           {
            "colorbar": {
             "outlinewidth": 0,
             "ticks": ""
            },
            "colorscale": [
             [
              0,
              "#0d0887"
             ],
             [
              0.1111111111111111,
              "#46039f"
             ],
             [
              0.2222222222222222,
              "#7201a8"
             ],
             [
              0.3333333333333333,
              "#9c179e"
             ],
             [
              0.4444444444444444,
              "#bd3786"
             ],
             [
              0.5555555555555556,
              "#d8576b"
             ],
             [
              0.6666666666666666,
              "#ed7953"
             ],
             [
              0.7777777777777778,
              "#fb9f3a"
             ],
             [
              0.8888888888888888,
              "#fdca26"
             ],
             [
              1,
              "#f0f921"
             ]
            ],
            "type": "heatmap"
           }
          ],
          "heatmapgl": [
           {
            "colorbar": {
             "outlinewidth": 0,
             "ticks": ""
            },
            "colorscale": [
             [
              0,
              "#0d0887"
             ],
             [
              0.1111111111111111,
              "#46039f"
             ],
             [
              0.2222222222222222,
              "#7201a8"
             ],
             [
              0.3333333333333333,
              "#9c179e"
             ],
             [
              0.4444444444444444,
              "#bd3786"
             ],
             [
              0.5555555555555556,
              "#d8576b"
             ],
             [
              0.6666666666666666,
              "#ed7953"
             ],
             [
              0.7777777777777778,
              "#fb9f3a"
             ],
             [
              0.8888888888888888,
              "#fdca26"
             ],
             [
              1,
              "#f0f921"
             ]
            ],
            "type": "heatmapgl"
           }
          ],
          "histogram": [
           {
            "marker": {
             "colorbar": {
              "outlinewidth": 0,
              "ticks": ""
             }
            },
            "type": "histogram"
           }
          ],
          "histogram2d": [
           {
            "colorbar": {
             "outlinewidth": 0,
             "ticks": ""
            },
            "colorscale": [
             [
              0,
              "#0d0887"
             ],
             [
              0.1111111111111111,
              "#46039f"
             ],
             [
              0.2222222222222222,
              "#7201a8"
             ],
             [
              0.3333333333333333,
              "#9c179e"
             ],
             [
              0.4444444444444444,
              "#bd3786"
             ],
             [
              0.5555555555555556,
              "#d8576b"
             ],
             [
              0.6666666666666666,
              "#ed7953"
             ],
             [
              0.7777777777777778,
              "#fb9f3a"
             ],
             [
              0.8888888888888888,
              "#fdca26"
             ],
             [
              1,
              "#f0f921"
             ]
            ],
            "type": "histogram2d"
           }
          ],
          "histogram2dcontour": [
           {
            "colorbar": {
             "outlinewidth": 0,
             "ticks": ""
            },
            "colorscale": [
             [
              0,
              "#0d0887"
             ],
             [
              0.1111111111111111,
              "#46039f"
             ],
             [
              0.2222222222222222,
              "#7201a8"
             ],
             [
              0.3333333333333333,
              "#9c179e"
             ],
             [
              0.4444444444444444,
              "#bd3786"
             ],
             [
              0.5555555555555556,
              "#d8576b"
             ],
             [
              0.6666666666666666,
              "#ed7953"
             ],
             [
              0.7777777777777778,
              "#fb9f3a"
             ],
             [
              0.8888888888888888,
              "#fdca26"
             ],
             [
              1,
              "#f0f921"
             ]
            ],
            "type": "histogram2dcontour"
           }
          ],
          "mesh3d": [
           {
            "colorbar": {
             "outlinewidth": 0,
             "ticks": ""
            },
            "type": "mesh3d"
           }
          ],
          "parcoords": [
           {
            "line": {
             "colorbar": {
              "outlinewidth": 0,
              "ticks": ""
             }
            },
            "type": "parcoords"
           }
          ],
          "pie": [
           {
            "automargin": true,
            "type": "pie"
           }
          ],
          "scatter": [
           {
            "marker": {
             "colorbar": {
              "outlinewidth": 0,
              "ticks": ""
             }
            },
            "type": "scatter"
           }
          ],
          "scatter3d": [
           {
            "line": {
             "colorbar": {
              "outlinewidth": 0,
              "ticks": ""
             }
            },
            "marker": {
             "colorbar": {
              "outlinewidth": 0,
              "ticks": ""
             }
            },
            "type": "scatter3d"
           }
          ],
          "scattercarpet": [
           {
            "marker": {
             "colorbar": {
              "outlinewidth": 0,
              "ticks": ""
             }
            },
            "type": "scattercarpet"
           }
          ],
          "scattergeo": [
           {
            "marker": {
             "colorbar": {
              "outlinewidth": 0,
              "ticks": ""
             }
            },
            "type": "scattergeo"
           }
          ],
          "scattergl": [
           {
            "marker": {
             "colorbar": {
              "outlinewidth": 0,
              "ticks": ""
             }
            },
            "type": "scattergl"
           }
          ],
          "scattermapbox": [
           {
            "marker": {
             "colorbar": {
              "outlinewidth": 0,
              "ticks": ""
             }
            },
            "type": "scattermapbox"
           }
          ],
          "scatterpolar": [
           {
            "marker": {
             "colorbar": {
              "outlinewidth": 0,
              "ticks": ""
             }
            },
            "type": "scatterpolar"
           }
          ],
          "scatterpolargl": [
           {
            "marker": {
             "colorbar": {
              "outlinewidth": 0,
              "ticks": ""
             }
            },
            "type": "scatterpolargl"
           }
          ],
          "scatterternary": [
           {
            "marker": {
             "colorbar": {
              "outlinewidth": 0,
              "ticks": ""
             }
            },
            "type": "scatterternary"
           }
          ],
          "surface": [
           {
            "colorbar": {
             "outlinewidth": 0,
             "ticks": ""
            },
            "colorscale": [
             [
              0,
              "#0d0887"
             ],
             [
              0.1111111111111111,
              "#46039f"
             ],
             [
              0.2222222222222222,
              "#7201a8"
             ],
             [
              0.3333333333333333,
              "#9c179e"
             ],
             [
              0.4444444444444444,
              "#bd3786"
             ],
             [
              0.5555555555555556,
              "#d8576b"
             ],
             [
              0.6666666666666666,
              "#ed7953"
             ],
             [
              0.7777777777777778,
              "#fb9f3a"
             ],
             [
              0.8888888888888888,
              "#fdca26"
             ],
             [
              1,
              "#f0f921"
             ]
            ],
            "type": "surface"
           }
          ],
          "table": [
           {
            "cells": {
             "fill": {
              "color": "#EBF0F8"
             },
             "line": {
              "color": "white"
             }
            },
            "header": {
             "fill": {
              "color": "#C8D4E3"
             },
             "line": {
              "color": "white"
             }
            },
            "type": "table"
           }
          ]
         },
         "layout": {
          "annotationdefaults": {
           "arrowcolor": "#2a3f5f",
           "arrowhead": 0,
           "arrowwidth": 1
          },
          "autotypenumbers": "strict",
          "coloraxis": {
           "colorbar": {
            "outlinewidth": 0,
            "ticks": ""
           }
          },
          "colorscale": {
           "diverging": [
            [
             0,
             "#8e0152"
            ],
            [
             0.1,
             "#c51b7d"
            ],
            [
             0.2,
             "#de77ae"
            ],
            [
             0.3,
             "#f1b6da"
            ],
            [
             0.4,
             "#fde0ef"
            ],
            [
             0.5,
             "#f7f7f7"
            ],
            [
             0.6,
             "#e6f5d0"
            ],
            [
             0.7,
             "#b8e186"
            ],
            [
             0.8,
             "#7fbc41"
            ],
            [
             0.9,
             "#4d9221"
            ],
            [
             1,
             "#276419"
            ]
           ],
           "sequential": [
            [
             0,
             "#0d0887"
            ],
            [
             0.1111111111111111,
             "#46039f"
            ],
            [
             0.2222222222222222,
             "#7201a8"
            ],
            [
             0.3333333333333333,
             "#9c179e"
            ],
            [
             0.4444444444444444,
             "#bd3786"
            ],
            [
             0.5555555555555556,
             "#d8576b"
            ],
            [
             0.6666666666666666,
             "#ed7953"
            ],
            [
             0.7777777777777778,
             "#fb9f3a"
            ],
            [
             0.8888888888888888,
             "#fdca26"
            ],
            [
             1,
             "#f0f921"
            ]
           ],
           "sequentialminus": [
            [
             0,
             "#0d0887"
            ],
            [
             0.1111111111111111,
             "#46039f"
            ],
            [
             0.2222222222222222,
             "#7201a8"
            ],
            [
             0.3333333333333333,
             "#9c179e"
            ],
            [
             0.4444444444444444,
             "#bd3786"
            ],
            [
             0.5555555555555556,
             "#d8576b"
            ],
            [
             0.6666666666666666,
             "#ed7953"
            ],
            [
             0.7777777777777778,
             "#fb9f3a"
            ],
            [
             0.8888888888888888,
             "#fdca26"
            ],
            [
             1,
             "#f0f921"
            ]
           ]
          },
          "colorway": [
           "#636efa",
           "#EF553B",
           "#00cc96",
           "#ab63fa",
           "#FFA15A",
           "#19d3f3",
           "#FF6692",
           "#B6E880",
           "#FF97FF",
           "#FECB52"
          ],
          "font": {
           "color": "#2a3f5f"
          },
          "geo": {
           "bgcolor": "white",
           "lakecolor": "white",
           "landcolor": "#E5ECF6",
           "showlakes": true,
           "showland": true,
           "subunitcolor": "white"
          },
          "hoverlabel": {
           "align": "left"
          },
          "hovermode": "closest",
          "mapbox": {
           "style": "light"
          },
          "paper_bgcolor": "white",
          "plot_bgcolor": "#E5ECF6",
          "polar": {
           "angularaxis": {
            "gridcolor": "white",
            "linecolor": "white",
            "ticks": ""
           },
           "bgcolor": "#E5ECF6",
           "radialaxis": {
            "gridcolor": "white",
            "linecolor": "white",
            "ticks": ""
           }
          },
          "scene": {
           "xaxis": {
            "backgroundcolor": "#E5ECF6",
            "gridcolor": "white",
            "gridwidth": 2,
            "linecolor": "white",
            "showbackground": true,
            "ticks": "",
            "zerolinecolor": "white"
           },
           "yaxis": {
            "backgroundcolor": "#E5ECF6",
            "gridcolor": "white",
            "gridwidth": 2,
            "linecolor": "white",
            "showbackground": true,
            "ticks": "",
            "zerolinecolor": "white"
           },
           "zaxis": {
            "backgroundcolor": "#E5ECF6",
            "gridcolor": "white",
            "gridwidth": 2,
            "linecolor": "white",
            "showbackground": true,
            "ticks": "",
            "zerolinecolor": "white"
           }
          },
          "shapedefaults": {
           "line": {
            "color": "#2a3f5f"
           }
          },
          "ternary": {
           "aaxis": {
            "gridcolor": "white",
            "linecolor": "white",
            "ticks": ""
           },
           "baxis": {
            "gridcolor": "white",
            "linecolor": "white",
            "ticks": ""
           },
           "bgcolor": "#E5ECF6",
           "caxis": {
            "gridcolor": "white",
            "linecolor": "white",
            "ticks": ""
           }
          },
          "title": {
           "x": 0.05
          },
          "xaxis": {
           "automargin": true,
           "gridcolor": "white",
           "linecolor": "white",
           "ticks": "",
           "title": {
            "standoff": 15
           },
           "zerolinecolor": "white",
           "zerolinewidth": 2
          },
          "yaxis": {
           "automargin": true,
           "gridcolor": "white",
           "linecolor": "white",
           "ticks": "",
           "title": {
            "standoff": 15
           },
           "zerolinecolor": "white",
           "zerolinewidth": 2
          }
         }
        },
        "title": {
         "font": {
          "color": "#4D5663"
         }
        },
        "xaxis": {
         "gridcolor": "#E1E5ED",
         "showgrid": true,
         "tickfont": {
          "color": "#4D5663"
         },
         "title": {
          "font": {
           "color": "#4D5663"
          },
          "text": ""
         },
         "zerolinecolor": "#E1E5ED"
        },
        "yaxis": {
         "gridcolor": "#E1E5ED",
         "showgrid": true,
         "tickfont": {
          "color": "#4D5663"
         },
         "title": {
          "font": {
           "color": "#4D5663"
          },
          "text": ""
         },
         "zerolinecolor": "#E1E5ED"
        }
       }
      },
      "text/html": [
       "<div>                            <div id=\"1bbd1208-8863-4def-8065-8b209c440e0e\" class=\"plotly-graph-div\" style=\"height:525px; width:100%;\"></div>            <script type=\"text/javascript\">                require([\"plotly\"], function(Plotly) {                    window.PLOTLYENV=window.PLOTLYENV || {};\n",
       "                    window.PLOTLYENV.BASE_URL='https://plot.ly';                                    if (document.getElementById(\"1bbd1208-8863-4def-8065-8b209c440e0e\")) {                    Plotly.newPlot(                        \"1bbd1208-8863-4def-8065-8b209c440e0e\",                        [{\"boxpoints\": false, \"line\": {\"width\": 1.3}, \"marker\": {\"color\": \"rgba(255, 153, 51, 1.0)\"}, \"name\": \"A\", \"orientation\": \"v\", \"type\": \"box\", \"y\": [-0.2908630835904841, 0.7522026671935028, -0.3202202412277464, -0.3843185240987831, -0.11931133758015264, -0.06817300711027062, 0.8622886800722961, -0.31057746212150983, 0.8125623712304261, -1.5640669400281466, 1.2355425375738671, 0.8324247793641801, -0.24619011485215633, 0.8599638885984369, 2.515608696935039, -0.07276308416211145, 0.5513061271034504, -1.073197145275396, -2.0003814065736987, 0.08474756277100214, -0.47531304602403646, 0.2849603958855241, 0.3128040140963513, -0.1335933447541138, -0.561357095225552, 0.5683662400926341, 1.0250353032278872, -1.0102201871084513, 0.6989540721372159, -0.4470276481220417, -1.4318993670426283, -1.778709711352007, -0.2013150386506052, 0.90594323014043, -0.7068585466458727, 0.6769572604577522, 0.7939864245468552, -0.7538463469490789, -1.5109525329437004, 0.03241263103920048, 0.9457202231941569, -0.6361641291847315, 0.8719018266954653, 0.4866077668978206, -0.28575776536307634, -2.3753288076766776, -1.122899970532789, -0.7693332131825008, -0.6486311302735432, 0.272670354146497, 1.0501723719960416, -0.3652989022843855, -0.6162279728796006, 0.4587412631291952, -0.5019271653215122, -0.2515218329079029, -0.6317256522448005, -0.08223348033417892, -0.0036923666681755664, 1.266456167863406, -0.3560151451082724, 0.3526100081966942, 0.8185028299045045, -0.15608208664826334, -0.33548634877417594, 0.11600603838969752, 0.2712996817591125, -0.36049681660033206, -1.7525330513020736, 1.450464166516479, -1.216821613042049, 0.6034493801477613, -1.8379363094945262, 1.138064473201576, 0.8394327104637465, -1.929090849772803, -1.072691459283474, -0.43038935680185325, -0.7400367966877052, -1.322632993361467, 0.5787215505345139, -1.357954952041852, -0.6021767109518883, 0.13132077562065864, 1.5594079056934678, 1.535216779827442, -0.19368758523366292, -0.3557438285284079, 0.7849209968717704, -1.7621278569068, 0.6267176980025514, -2.8652636529097717, -0.770483051114564, 0.5280043573619357, -0.800516072738706, -1.743415921195421, -3.1720879132649635, -0.9725183317291045, 0.6848046759556948, -1.0177256470591118]}, {\"boxpoints\": false, \"line\": {\"width\": 1.3}, \"marker\": {\"color\": \"rgba(55, 128, 191, 1.0)\"}, \"name\": \"B\", \"orientation\": \"v\", \"type\": \"box\", \"y\": [-0.6057254125189131, -0.1892998620186739, 0.26690625989144934, 0.8801506841686696, -2.163784553004971, -0.4614535843193734, -0.477493821743666, 1.415970231503484, -0.32532434268508886, -0.623502578386509, 0.46107409795762677, -0.17597837771622932, -0.010493028851549516, 0.12707067248642415, 1.6821349613945324, 1.4896885981293346, 1.6774362491281654, 1.7768769787637884, 0.02482122889581526, -0.08490748620525963, -0.7745530167443184, 0.7281703263038644, 0.34604550500472503, 1.6609483397717384, -0.152552190572538, -0.23369305198586304, -0.7120689525561642, 0.42787313319929604, 1.133049796582027, -0.6412951044882726, 0.8955770585287715, -0.4726809527145295, 0.14844968009098905, -0.21346438354012479, 1.1349094316201722, 0.3303734816044888, 0.08667582342525072, 0.8892484751851075, -0.12466594725091838, 0.8827036907344208, 1.2094937839467363, -0.4895836620137229, -0.5408427475391092, -1.0410265851439164, -0.8895250070698203, -0.11542371743890872, -0.2565703204603735, -1.025057326973805, -0.17505685722310804, 0.7156960922973573, 0.3364902049994554, 0.3922927246547013, -1.3069168912035614, 1.0855895861961868, 0.38972558986895434, 1.3949581546509382, -0.15477016380895434, -1.0490182284984666, -0.7284534907657603, -0.43638936764173697, 0.6725356433554945, -1.3786402449176423, 0.48072039417330187, -0.0017498029708925967, 0.5018239222039128, 1.6771097664851364, 0.35373070444751786, 0.8266608353330749, -0.3749302565897924, -0.4353583055446691, -1.2005208565469987, -0.8799068979454695, 1.0274027527929517, 0.3647258386082056, 0.45955622956747993, -0.09155025515307294, -1.3399406737564568, 0.616572965129828, 0.3878866411322037, 0.32055906658916067, 0.7972281495815815, 2.389749279180996, -1.2494200166450264, 1.903338137180644, 0.736383662558544, -0.2549611298886137, 0.4816846935415098, -0.1640079781722683, 0.4242312582039998, 0.8552838937608425, -1.9059829052191977, 0.8331154077999772, 0.443487283792609, -0.2301629498760557, -0.4811227799019512, 0.6444819505648139, -1.2330396356002027, -0.24868752637889677, -0.38122386681139986, -0.16332571723924683]}, {\"boxpoints\": false, \"line\": {\"width\": 1.3}, \"marker\": {\"color\": \"rgba(50, 171, 96, 1.0)\"}, \"name\": \"C\", \"orientation\": \"v\", \"type\": \"box\", \"y\": [0.1601249787527821, 0.29467420148564255, 0.3568882970336668, 0.49339091812602603, 0.16530264922437402, 2.2807082818300626, 1.4178626566598593, 0.5889050796635561, 0.2979322274628636, -0.46252389970771896, 0.13144175857810902, 0.5736688504658046, 1.1827446651909586, -0.8718692524802156, 0.20105309216440514, -0.08201145688342751, 0.49058096735497736, 0.3073301521120699, 0.2062732752023993, -0.8575271388635829, -0.06424561735245785, 0.813349097868763, 2.741697991028217, -0.2793545347105481, -0.41986215159009505, -0.11499129002598239, -0.5715410238192038, 1.0007504048377733, 1.3350996160222715, -0.5112842995073376, -1.1338750384907732, 1.5711619122979843, 0.6870070701377833, 0.5382487054828127, -1.9239708678727752, -0.4210262882065965, 0.5638420270406669, 0.20511189975442604, -0.12907921148531795, 0.757698401531798, 0.7424669848460085, -1.8127059462077935, 2.576212391160004, 1.0680317017372118, 0.6368591290761687, 0.01397484001391836, -1.3260636410754556, -0.3454200227156687, 0.23104677009196176, -1.504623218406821, -0.7293169981334667, -0.6177334832660625, -0.46237664722806426, -0.1430308666814354, 0.6280356845129812, 0.08167521621781876, 0.9448994153372875, 2.4854180051941137, 1.738936345972523, -0.048645016737942116, -0.5812073885088923, -1.0086837242273425, 1.5473440295073544, 1.2822811201946844, -0.018777519523717173, -1.4534708086641772, 0.45049743683620114, 0.45948627986481416, 0.08059342752465515, -0.32707985257690864, 2.0071909451730634, 0.8792142349076734, -0.5655594051944282, -0.2631396115731665, 1.6359234677717236, -1.1272003032769349, 1.3888430168995958, 0.6783820575897243, 0.3339377866861008, 1.8216227062158385, -0.9590968968998035, 0.2114721317851453, 1.9049164731508406, -0.1501836091332619, -0.2756392951508617, 1.3877819674178027, -1.2709051234011197, 1.0917916681144118, -0.8501591958376347, 0.7004656422210184, 0.7878066663610747, 1.074070542351294, -0.38940669791984817, 0.06892194841765428, -1.1123923558984532, -0.8812451059562298, -1.6585485110351523, -1.1472413656126865, 0.19786640777415176, 0.5077386863533896]}, {\"boxpoints\": false, \"line\": {\"width\": 1.3}, \"marker\": {\"color\": \"rgba(128, 0, 128, 1.0)\"}, \"name\": \"D\", \"orientation\": \"v\", \"type\": \"box\", \"y\": [1.3426741245866363, -0.1834048490438496, 0.5328701812928004, -1.656655718697109, 0.05958791043719714, -0.19321217176039682, 0.06697395147157933, 1.2728946133940555, 1.6643370286610772, -1.5298365985683589, -0.9948984208642397, -0.289097184657636, 0.4872438797747574, -0.9346972356629407, 0.634849949945669, -0.39628347477726644, -2.547089675866158, -1.7910532792329155, -0.9645522216640807, -0.19828174573655213, -0.39914923917814354, 0.45504859536829234, -0.8250249932745054, -0.20729714524589746, 0.31887015011812375, 1.9513687669838113, 0.15194731092481026, 0.7383368942851168, 1.500574460132519, -0.4870595150175634, 1.456454413800416, -0.42216075416439364, 0.6560702633200569, 1.1792352012079161, 1.0429843786375605, 0.7036294942885998, 0.08074177433226708, -1.4487970875512286, 0.894558078926984, -0.0699282582298491, -0.9520511502426532, -0.8876588084539955, 0.5781969438845166, -1.7430486173832038, -1.0073018621411078, -0.09471496007539422, -0.310076014622057, 1.4200365177865308, 0.7422544097753597, 1.7528188543357193, 0.7584308483426954, 0.9261195761969273, 1.0118865358079006, 0.4300919260168664, 0.9294146926947682, 1.3924465982379013, -0.13465429145725835, 0.11240045614705331, 2.1263570870016677, -1.3760755934994795, 0.4963343390016291, 1.7577565294397053, -0.4950895720694699, 0.9182203047219385, 0.21420340042688107, -0.5694921352855646, -0.9966297263957835, 1.8913948677061185, -0.6095726404258395, 0.07937391098492103, 1.5742394986620833, 2.2208035124948706, 1.7931480125786967, 1.040558149695388, -0.14860657963079282, 0.4183506064769205, -0.5825850114800133, 0.18926300512470912, -1.8135214054753488, -0.7926467849208718, -0.8139609097186383, -0.839992505317087, -0.7777280525675709, 1.188828962652113, 0.20893714463873903, -0.8378980888052304, 0.09162398386714583, 0.09998081544549062, -0.10154735279607056, 0.5766338514647803, 0.02486186174479018, -0.37183414153807004, -0.8281281218747182, 1.2489116158283142, 1.0625211745812095, -0.21442203657256956, 1.2391079074889888, -0.8440304806921777, -1.6817763878890764, 1.5489363423738167]}],                        {\"legend\": {\"bgcolor\": \"#F5F6F9\", \"font\": {\"color\": \"#4D5663\"}}, \"paper_bgcolor\": \"#F5F6F9\", \"plot_bgcolor\": \"#F5F6F9\", \"template\": {\"data\": {\"bar\": [{\"error_x\": {\"color\": \"#2a3f5f\"}, \"error_y\": {\"color\": \"#2a3f5f\"}, \"marker\": {\"line\": {\"color\": \"#E5ECF6\", \"width\": 0.5}}, \"type\": \"bar\"}], \"barpolar\": [{\"marker\": {\"line\": {\"color\": \"#E5ECF6\", \"width\": 0.5}}, \"type\": \"barpolar\"}], \"carpet\": [{\"aaxis\": {\"endlinecolor\": \"#2a3f5f\", \"gridcolor\": \"white\", \"linecolor\": \"white\", \"minorgridcolor\": \"white\", \"startlinecolor\": \"#2a3f5f\"}, \"baxis\": {\"endlinecolor\": \"#2a3f5f\", \"gridcolor\": \"white\", \"linecolor\": \"white\", \"minorgridcolor\": \"white\", \"startlinecolor\": \"#2a3f5f\"}, \"type\": \"carpet\"}], \"choropleth\": [{\"colorbar\": {\"outlinewidth\": 0, \"ticks\": \"\"}, \"type\": \"choropleth\"}], \"contour\": [{\"colorbar\": {\"outlinewidth\": 0, \"ticks\": \"\"}, \"colorscale\": [[0.0, \"#0d0887\"], [0.1111111111111111, \"#46039f\"], [0.2222222222222222, \"#7201a8\"], [0.3333333333333333, \"#9c179e\"], [0.4444444444444444, \"#bd3786\"], [0.5555555555555556, \"#d8576b\"], [0.6666666666666666, \"#ed7953\"], [0.7777777777777778, \"#fb9f3a\"], [0.8888888888888888, \"#fdca26\"], [1.0, \"#f0f921\"]], \"type\": \"contour\"}], \"contourcarpet\": [{\"colorbar\": {\"outlinewidth\": 0, \"ticks\": \"\"}, \"type\": \"contourcarpet\"}], \"heatmap\": [{\"colorbar\": {\"outlinewidth\": 0, \"ticks\": \"\"}, \"colorscale\": [[0.0, \"#0d0887\"], [0.1111111111111111, \"#46039f\"], [0.2222222222222222, \"#7201a8\"], [0.3333333333333333, \"#9c179e\"], [0.4444444444444444, \"#bd3786\"], [0.5555555555555556, \"#d8576b\"], [0.6666666666666666, \"#ed7953\"], [0.7777777777777778, \"#fb9f3a\"], [0.8888888888888888, \"#fdca26\"], [1.0, \"#f0f921\"]], \"type\": \"heatmap\"}], \"heatmapgl\": [{\"colorbar\": {\"outlinewidth\": 0, \"ticks\": \"\"}, \"colorscale\": [[0.0, \"#0d0887\"], [0.1111111111111111, \"#46039f\"], [0.2222222222222222, \"#7201a8\"], [0.3333333333333333, \"#9c179e\"], [0.4444444444444444, \"#bd3786\"], [0.5555555555555556, \"#d8576b\"], [0.6666666666666666, \"#ed7953\"], [0.7777777777777778, \"#fb9f3a\"], [0.8888888888888888, \"#fdca26\"], [1.0, \"#f0f921\"]], \"type\": \"heatmapgl\"}], \"histogram\": [{\"marker\": {\"colorbar\": {\"outlinewidth\": 0, \"ticks\": \"\"}}, \"type\": \"histogram\"}], \"histogram2d\": [{\"colorbar\": {\"outlinewidth\": 0, \"ticks\": \"\"}, \"colorscale\": [[0.0, \"#0d0887\"], [0.1111111111111111, \"#46039f\"], [0.2222222222222222, \"#7201a8\"], [0.3333333333333333, \"#9c179e\"], [0.4444444444444444, \"#bd3786\"], [0.5555555555555556, \"#d8576b\"], [0.6666666666666666, \"#ed7953\"], [0.7777777777777778, \"#fb9f3a\"], [0.8888888888888888, \"#fdca26\"], [1.0, \"#f0f921\"]], \"type\": \"histogram2d\"}], \"histogram2dcontour\": [{\"colorbar\": {\"outlinewidth\": 0, \"ticks\": \"\"}, \"colorscale\": [[0.0, \"#0d0887\"], [0.1111111111111111, \"#46039f\"], [0.2222222222222222, \"#7201a8\"], [0.3333333333333333, \"#9c179e\"], [0.4444444444444444, \"#bd3786\"], [0.5555555555555556, \"#d8576b\"], [0.6666666666666666, \"#ed7953\"], [0.7777777777777778, \"#fb9f3a\"], [0.8888888888888888, \"#fdca26\"], [1.0, \"#f0f921\"]], \"type\": \"histogram2dcontour\"}], \"mesh3d\": [{\"colorbar\": {\"outlinewidth\": 0, \"ticks\": \"\"}, \"type\": \"mesh3d\"}], \"parcoords\": [{\"line\": {\"colorbar\": {\"outlinewidth\": 0, \"ticks\": \"\"}}, \"type\": \"parcoords\"}], \"pie\": [{\"automargin\": true, \"type\": \"pie\"}], \"scatter\": [{\"marker\": {\"colorbar\": {\"outlinewidth\": 0, \"ticks\": \"\"}}, \"type\": \"scatter\"}], \"scatter3d\": [{\"line\": {\"colorbar\": {\"outlinewidth\": 0, \"ticks\": \"\"}}, \"marker\": {\"colorbar\": {\"outlinewidth\": 0, \"ticks\": \"\"}}, \"type\": \"scatter3d\"}], \"scattercarpet\": [{\"marker\": {\"colorbar\": {\"outlinewidth\": 0, \"ticks\": \"\"}}, \"type\": \"scattercarpet\"}], \"scattergeo\": [{\"marker\": {\"colorbar\": {\"outlinewidth\": 0, \"ticks\": \"\"}}, \"type\": \"scattergeo\"}], \"scattergl\": [{\"marker\": {\"colorbar\": {\"outlinewidth\": 0, \"ticks\": \"\"}}, \"type\": \"scattergl\"}], \"scattermapbox\": [{\"marker\": {\"colorbar\": {\"outlinewidth\": 0, \"ticks\": \"\"}}, \"type\": \"scattermapbox\"}], \"scatterpolar\": [{\"marker\": {\"colorbar\": {\"outlinewidth\": 0, \"ticks\": \"\"}}, \"type\": \"scatterpolar\"}], \"scatterpolargl\": [{\"marker\": {\"colorbar\": {\"outlinewidth\": 0, \"ticks\": \"\"}}, \"type\": \"scatterpolargl\"}], \"scatterternary\": [{\"marker\": {\"colorbar\": {\"outlinewidth\": 0, \"ticks\": \"\"}}, \"type\": \"scatterternary\"}], \"surface\": [{\"colorbar\": {\"outlinewidth\": 0, \"ticks\": \"\"}, \"colorscale\": [[0.0, \"#0d0887\"], [0.1111111111111111, \"#46039f\"], [0.2222222222222222, \"#7201a8\"], [0.3333333333333333, \"#9c179e\"], [0.4444444444444444, \"#bd3786\"], [0.5555555555555556, \"#d8576b\"], [0.6666666666666666, \"#ed7953\"], [0.7777777777777778, \"#fb9f3a\"], [0.8888888888888888, \"#fdca26\"], [1.0, \"#f0f921\"]], \"type\": \"surface\"}], \"table\": [{\"cells\": {\"fill\": {\"color\": \"#EBF0F8\"}, \"line\": {\"color\": \"white\"}}, \"header\": {\"fill\": {\"color\": \"#C8D4E3\"}, \"line\": {\"color\": \"white\"}}, \"type\": \"table\"}]}, \"layout\": {\"annotationdefaults\": {\"arrowcolor\": \"#2a3f5f\", \"arrowhead\": 0, \"arrowwidth\": 1}, \"autotypenumbers\": \"strict\", \"coloraxis\": {\"colorbar\": {\"outlinewidth\": 0, \"ticks\": \"\"}}, \"colorscale\": {\"diverging\": [[0, \"#8e0152\"], [0.1, \"#c51b7d\"], [0.2, \"#de77ae\"], [0.3, \"#f1b6da\"], [0.4, \"#fde0ef\"], [0.5, \"#f7f7f7\"], [0.6, \"#e6f5d0\"], [0.7, \"#b8e186\"], [0.8, \"#7fbc41\"], [0.9, \"#4d9221\"], [1, \"#276419\"]], \"sequential\": [[0.0, \"#0d0887\"], [0.1111111111111111, \"#46039f\"], [0.2222222222222222, \"#7201a8\"], [0.3333333333333333, \"#9c179e\"], [0.4444444444444444, \"#bd3786\"], [0.5555555555555556, \"#d8576b\"], [0.6666666666666666, \"#ed7953\"], [0.7777777777777778, \"#fb9f3a\"], [0.8888888888888888, \"#fdca26\"], [1.0, \"#f0f921\"]], \"sequentialminus\": [[0.0, \"#0d0887\"], [0.1111111111111111, \"#46039f\"], [0.2222222222222222, \"#7201a8\"], [0.3333333333333333, \"#9c179e\"], [0.4444444444444444, \"#bd3786\"], [0.5555555555555556, \"#d8576b\"], [0.6666666666666666, \"#ed7953\"], [0.7777777777777778, \"#fb9f3a\"], [0.8888888888888888, \"#fdca26\"], [1.0, \"#f0f921\"]]}, \"colorway\": [\"#636efa\", \"#EF553B\", \"#00cc96\", \"#ab63fa\", \"#FFA15A\", \"#19d3f3\", \"#FF6692\", \"#B6E880\", \"#FF97FF\", \"#FECB52\"], \"font\": {\"color\": \"#2a3f5f\"}, \"geo\": {\"bgcolor\": \"white\", \"lakecolor\": \"white\", \"landcolor\": \"#E5ECF6\", \"showlakes\": true, \"showland\": true, \"subunitcolor\": \"white\"}, \"hoverlabel\": {\"align\": \"left\"}, \"hovermode\": \"closest\", \"mapbox\": {\"style\": \"light\"}, \"paper_bgcolor\": \"white\", \"plot_bgcolor\": \"#E5ECF6\", \"polar\": {\"angularaxis\": {\"gridcolor\": \"white\", \"linecolor\": \"white\", \"ticks\": \"\"}, \"bgcolor\": \"#E5ECF6\", \"radialaxis\": {\"gridcolor\": \"white\", \"linecolor\": \"white\", \"ticks\": \"\"}}, \"scene\": {\"xaxis\": {\"backgroundcolor\": \"#E5ECF6\", \"gridcolor\": \"white\", \"gridwidth\": 2, \"linecolor\": \"white\", \"showbackground\": true, \"ticks\": \"\", \"zerolinecolor\": \"white\"}, \"yaxis\": {\"backgroundcolor\": \"#E5ECF6\", \"gridcolor\": \"white\", \"gridwidth\": 2, \"linecolor\": \"white\", \"showbackground\": true, \"ticks\": \"\", \"zerolinecolor\": \"white\"}, \"zaxis\": {\"backgroundcolor\": \"#E5ECF6\", \"gridcolor\": \"white\", \"gridwidth\": 2, \"linecolor\": \"white\", \"showbackground\": true, \"ticks\": \"\", \"zerolinecolor\": \"white\"}}, \"shapedefaults\": {\"line\": {\"color\": \"#2a3f5f\"}}, \"ternary\": {\"aaxis\": {\"gridcolor\": \"white\", \"linecolor\": \"white\", \"ticks\": \"\"}, \"baxis\": {\"gridcolor\": \"white\", \"linecolor\": \"white\", \"ticks\": \"\"}, \"bgcolor\": \"#E5ECF6\", \"caxis\": {\"gridcolor\": \"white\", \"linecolor\": \"white\", \"ticks\": \"\"}}, \"title\": {\"x\": 0.05}, \"xaxis\": {\"automargin\": true, \"gridcolor\": \"white\", \"linecolor\": \"white\", \"ticks\": \"\", \"title\": {\"standoff\": 15}, \"zerolinecolor\": \"white\", \"zerolinewidth\": 2}, \"yaxis\": {\"automargin\": true, \"gridcolor\": \"white\", \"linecolor\": \"white\", \"ticks\": \"\", \"title\": {\"standoff\": 15}, \"zerolinecolor\": \"white\", \"zerolinewidth\": 2}}}, \"title\": {\"font\": {\"color\": \"#4D5663\"}}, \"xaxis\": {\"gridcolor\": \"#E1E5ED\", \"showgrid\": true, \"tickfont\": {\"color\": \"#4D5663\"}, \"title\": {\"font\": {\"color\": \"#4D5663\"}, \"text\": \"\"}, \"zerolinecolor\": \"#E1E5ED\"}, \"yaxis\": {\"gridcolor\": \"#E1E5ED\", \"showgrid\": true, \"tickfont\": {\"color\": \"#4D5663\"}, \"title\": {\"font\": {\"color\": \"#4D5663\"}, \"text\": \"\"}, \"zerolinecolor\": \"#E1E5ED\"}},                        {\"showLink\": true, \"linkText\": \"Export to plot.ly\", \"plotlyServerURL\": \"https://plot.ly\", \"responsive\": true}                    ).then(function(){\n",
       "                            \n",
       "var gd = document.getElementById('1bbd1208-8863-4def-8065-8b209c440e0e');\n",
       "var x = new MutationObserver(function (mutations, observer) {{\n",
       "        var display = window.getComputedStyle(gd).display;\n",
       "        if (!display || display === 'none') {{\n",
       "            console.log([gd, 'removed!']);\n",
       "            Plotly.purge(gd);\n",
       "            observer.disconnect();\n",
       "        }}\n",
       "}});\n",
       "\n",
       "// Listen for the removal of the full notebook cells\n",
       "var notebookContainer = gd.closest('#notebook-container');\n",
       "if (notebookContainer) {{\n",
       "    x.observe(notebookContainer, {childList: true});\n",
       "}}\n",
       "\n",
       "// Listen for the clearing of the current output cell\n",
       "var outputEl = gd.closest('.output');\n",
       "if (outputEl) {{\n",
       "    x.observe(outputEl, {childList: true});\n",
       "}}\n",
       "\n",
       "                        })                };                });            </script>        </div>"
      ]
     },
     "metadata": {},
     "output_type": "display_data"
    }
   ],
   "source": [
    "df.iplot(kind='box')"
   ]
  },
  {
   "cell_type": "markdown",
   "metadata": {},
   "source": [
    "### 3D Surface Plot"
   ]
  },
  {
   "cell_type": "code",
   "execution_count": 13,
   "metadata": {},
   "outputs": [
    {
     "data": {
      "application/vnd.plotly.v1+json": {
       "config": {
        "linkText": "Export to plot.ly",
        "plotlyServerURL": "https://plot.ly",
        "showLink": true
       },
       "data": [
        {
         "colorscale": [
          [
           0,
           "rgb(165,0,38)"
          ],
          [
           0.1,
           "rgb(215,48,39)"
          ],
          [
           0.2,
           "rgb(244,109,67)"
          ],
          [
           0.3,
           "rgb(253,174,97)"
          ],
          [
           0.4,
           "rgb(254,224,144)"
          ],
          [
           0.5,
           "rgb(255,255,191)"
          ],
          [
           0.6,
           "rgb(224,243,248)"
          ],
          [
           0.7,
           "rgb(171,217,233)"
          ],
          [
           0.8,
           "rgb(116,173,209)"
          ],
          [
           0.9,
           "rgb(69,117,180)"
          ],
          [
           1,
           "rgb(49,54,149)"
          ]
         ],
         "type": "surface",
         "x": [
          0,
          1,
          2,
          3,
          4
         ],
         "y": [
          "x",
          "y",
          "z"
         ],
         "z": [
          [
           1,
           2,
           3,
           4,
           5
          ],
          [
           10,
           20,
           30,
           20,
           10
          ],
          [
           5,
           4,
           3,
           2,
           1
          ]
         ]
        }
       ],
       "layout": {
        "legend": {
         "bgcolor": "#F5F6F9",
         "font": {
          "color": "#4D5663"
         }
        },
        "paper_bgcolor": "#F5F6F9",
        "plot_bgcolor": "#F5F6F9",
        "template": {
         "data": {
          "bar": [
           {
            "error_x": {
             "color": "#2a3f5f"
            },
            "error_y": {
             "color": "#2a3f5f"
            },
            "marker": {
             "line": {
              "color": "#E5ECF6",
              "width": 0.5
             }
            },
            "type": "bar"
           }
          ],
          "barpolar": [
           {
            "marker": {
             "line": {
              "color": "#E5ECF6",
              "width": 0.5
             }
            },
            "type": "barpolar"
           }
          ],
          "carpet": [
           {
            "aaxis": {
             "endlinecolor": "#2a3f5f",
             "gridcolor": "white",
             "linecolor": "white",
             "minorgridcolor": "white",
             "startlinecolor": "#2a3f5f"
            },
            "baxis": {
             "endlinecolor": "#2a3f5f",
             "gridcolor": "white",
             "linecolor": "white",
             "minorgridcolor": "white",
             "startlinecolor": "#2a3f5f"
            },
            "type": "carpet"
           }
          ],
          "choropleth": [
           {
            "colorbar": {
             "outlinewidth": 0,
             "ticks": ""
            },
            "type": "choropleth"
           }
          ],
          "contour": [
           {
            "colorbar": {
             "outlinewidth": 0,
             "ticks": ""
            },
            "colorscale": [
             [
              0,
              "#0d0887"
             ],
             [
              0.1111111111111111,
              "#46039f"
             ],
             [
              0.2222222222222222,
              "#7201a8"
             ],
             [
              0.3333333333333333,
              "#9c179e"
             ],
             [
              0.4444444444444444,
              "#bd3786"
             ],
             [
              0.5555555555555556,
              "#d8576b"
             ],
             [
              0.6666666666666666,
              "#ed7953"
             ],
             [
              0.7777777777777778,
              "#fb9f3a"
             ],
             [
              0.8888888888888888,
              "#fdca26"
             ],
             [
              1,
              "#f0f921"
             ]
            ],
            "type": "contour"
           }
          ],
          "contourcarpet": [
           {
            "colorbar": {
             "outlinewidth": 0,
             "ticks": ""
            },
            "type": "contourcarpet"
           }
          ],
          "heatmap": [
           {
            "colorbar": {
             "outlinewidth": 0,
             "ticks": ""
            },
            "colorscale": [
             [
              0,
              "#0d0887"
             ],
             [
              0.1111111111111111,
              "#46039f"
             ],
             [
              0.2222222222222222,
              "#7201a8"
             ],
             [
              0.3333333333333333,
              "#9c179e"
             ],
             [
              0.4444444444444444,
              "#bd3786"
             ],
             [
              0.5555555555555556,
              "#d8576b"
             ],
             [
              0.6666666666666666,
              "#ed7953"
             ],
             [
              0.7777777777777778,
              "#fb9f3a"
             ],
             [
              0.8888888888888888,
              "#fdca26"
             ],
             [
              1,
              "#f0f921"
             ]
            ],
            "type": "heatmap"
           }
          ],
          "heatmapgl": [
           {
            "colorbar": {
             "outlinewidth": 0,
             "ticks": ""
            },
            "colorscale": [
             [
              0,
              "#0d0887"
             ],
             [
              0.1111111111111111,
              "#46039f"
             ],
             [
              0.2222222222222222,
              "#7201a8"
             ],
             [
              0.3333333333333333,
              "#9c179e"
             ],
             [
              0.4444444444444444,
              "#bd3786"
             ],
             [
              0.5555555555555556,
              "#d8576b"
             ],
             [
              0.6666666666666666,
              "#ed7953"
             ],
             [
              0.7777777777777778,
              "#fb9f3a"
             ],
             [
              0.8888888888888888,
              "#fdca26"
             ],
             [
              1,
              "#f0f921"
             ]
            ],
            "type": "heatmapgl"
           }
          ],
          "histogram": [
           {
            "marker": {
             "colorbar": {
              "outlinewidth": 0,
              "ticks": ""
             }
            },
            "type": "histogram"
           }
          ],
          "histogram2d": [
           {
            "colorbar": {
             "outlinewidth": 0,
             "ticks": ""
            },
            "colorscale": [
             [
              0,
              "#0d0887"
             ],
             [
              0.1111111111111111,
              "#46039f"
             ],
             [
              0.2222222222222222,
              "#7201a8"
             ],
             [
              0.3333333333333333,
              "#9c179e"
             ],
             [
              0.4444444444444444,
              "#bd3786"
             ],
             [
              0.5555555555555556,
              "#d8576b"
             ],
             [
              0.6666666666666666,
              "#ed7953"
             ],
             [
              0.7777777777777778,
              "#fb9f3a"
             ],
             [
              0.8888888888888888,
              "#fdca26"
             ],
             [
              1,
              "#f0f921"
             ]
            ],
            "type": "histogram2d"
           }
          ],
          "histogram2dcontour": [
           {
            "colorbar": {
             "outlinewidth": 0,
             "ticks": ""
            },
            "colorscale": [
             [
              0,
              "#0d0887"
             ],
             [
              0.1111111111111111,
              "#46039f"
             ],
             [
              0.2222222222222222,
              "#7201a8"
             ],
             [
              0.3333333333333333,
              "#9c179e"
             ],
             [
              0.4444444444444444,
              "#bd3786"
             ],
             [
              0.5555555555555556,
              "#d8576b"
             ],
             [
              0.6666666666666666,
              "#ed7953"
             ],
             [
              0.7777777777777778,
              "#fb9f3a"
             ],
             [
              0.8888888888888888,
              "#fdca26"
             ],
             [
              1,
              "#f0f921"
             ]
            ],
            "type": "histogram2dcontour"
           }
          ],
          "mesh3d": [
           {
            "colorbar": {
             "outlinewidth": 0,
             "ticks": ""
            },
            "type": "mesh3d"
           }
          ],
          "parcoords": [
           {
            "line": {
             "colorbar": {
              "outlinewidth": 0,
              "ticks": ""
             }
            },
            "type": "parcoords"
           }
          ],
          "pie": [
           {
            "automargin": true,
            "type": "pie"
           }
          ],
          "scatter": [
           {
            "marker": {
             "colorbar": {
              "outlinewidth": 0,
              "ticks": ""
             }
            },
            "type": "scatter"
           }
          ],
          "scatter3d": [
           {
            "line": {
             "colorbar": {
              "outlinewidth": 0,
              "ticks": ""
             }
            },
            "marker": {
             "colorbar": {
              "outlinewidth": 0,
              "ticks": ""
             }
            },
            "type": "scatter3d"
           }
          ],
          "scattercarpet": [
           {
            "marker": {
             "colorbar": {
              "outlinewidth": 0,
              "ticks": ""
             }
            },
            "type": "scattercarpet"
           }
          ],
          "scattergeo": [
           {
            "marker": {
             "colorbar": {
              "outlinewidth": 0,
              "ticks": ""
             }
            },
            "type": "scattergeo"
           }
          ],
          "scattergl": [
           {
            "marker": {
             "colorbar": {
              "outlinewidth": 0,
              "ticks": ""
             }
            },
            "type": "scattergl"
           }
          ],
          "scattermapbox": [
           {
            "marker": {
             "colorbar": {
              "outlinewidth": 0,
              "ticks": ""
             }
            },
            "type": "scattermapbox"
           }
          ],
          "scatterpolar": [
           {
            "marker": {
             "colorbar": {
              "outlinewidth": 0,
              "ticks": ""
             }
            },
            "type": "scatterpolar"
           }
          ],
          "scatterpolargl": [
           {
            "marker": {
             "colorbar": {
              "outlinewidth": 0,
              "ticks": ""
             }
            },
            "type": "scatterpolargl"
           }
          ],
          "scatterternary": [
           {
            "marker": {
             "colorbar": {
              "outlinewidth": 0,
              "ticks": ""
             }
            },
            "type": "scatterternary"
           }
          ],
          "surface": [
           {
            "colorbar": {
             "outlinewidth": 0,
             "ticks": ""
            },
            "colorscale": [
             [
              0,
              "#0d0887"
             ],
             [
              0.1111111111111111,
              "#46039f"
             ],
             [
              0.2222222222222222,
              "#7201a8"
             ],
             [
              0.3333333333333333,
              "#9c179e"
             ],
             [
              0.4444444444444444,
              "#bd3786"
             ],
             [
              0.5555555555555556,
              "#d8576b"
             ],
             [
              0.6666666666666666,
              "#ed7953"
             ],
             [
              0.7777777777777778,
              "#fb9f3a"
             ],
             [
              0.8888888888888888,
              "#fdca26"
             ],
             [
              1,
              "#f0f921"
             ]
            ],
            "type": "surface"
           }
          ],
          "table": [
           {
            "cells": {
             "fill": {
              "color": "#EBF0F8"
             },
             "line": {
              "color": "white"
             }
            },
            "header": {
             "fill": {
              "color": "#C8D4E3"
             },
             "line": {
              "color": "white"
             }
            },
            "type": "table"
           }
          ]
         },
         "layout": {
          "annotationdefaults": {
           "arrowcolor": "#2a3f5f",
           "arrowhead": 0,
           "arrowwidth": 1
          },
          "autotypenumbers": "strict",
          "coloraxis": {
           "colorbar": {
            "outlinewidth": 0,
            "ticks": ""
           }
          },
          "colorscale": {
           "diverging": [
            [
             0,
             "#8e0152"
            ],
            [
             0.1,
             "#c51b7d"
            ],
            [
             0.2,
             "#de77ae"
            ],
            [
             0.3,
             "#f1b6da"
            ],
            [
             0.4,
             "#fde0ef"
            ],
            [
             0.5,
             "#f7f7f7"
            ],
            [
             0.6,
             "#e6f5d0"
            ],
            [
             0.7,
             "#b8e186"
            ],
            [
             0.8,
             "#7fbc41"
            ],
            [
             0.9,
             "#4d9221"
            ],
            [
             1,
             "#276419"
            ]
           ],
           "sequential": [
            [
             0,
             "#0d0887"
            ],
            [
             0.1111111111111111,
             "#46039f"
            ],
            [
             0.2222222222222222,
             "#7201a8"
            ],
            [
             0.3333333333333333,
             "#9c179e"
            ],
            [
             0.4444444444444444,
             "#bd3786"
            ],
            [
             0.5555555555555556,
             "#d8576b"
            ],
            [
             0.6666666666666666,
             "#ed7953"
            ],
            [
             0.7777777777777778,
             "#fb9f3a"
            ],
            [
             0.8888888888888888,
             "#fdca26"
            ],
            [
             1,
             "#f0f921"
            ]
           ],
           "sequentialminus": [
            [
             0,
             "#0d0887"
            ],
            [
             0.1111111111111111,
             "#46039f"
            ],
            [
             0.2222222222222222,
             "#7201a8"
            ],
            [
             0.3333333333333333,
             "#9c179e"
            ],
            [
             0.4444444444444444,
             "#bd3786"
            ],
            [
             0.5555555555555556,
             "#d8576b"
            ],
            [
             0.6666666666666666,
             "#ed7953"
            ],
            [
             0.7777777777777778,
             "#fb9f3a"
            ],
            [
             0.8888888888888888,
             "#fdca26"
            ],
            [
             1,
             "#f0f921"
            ]
           ]
          },
          "colorway": [
           "#636efa",
           "#EF553B",
           "#00cc96",
           "#ab63fa",
           "#FFA15A",
           "#19d3f3",
           "#FF6692",
           "#B6E880",
           "#FF97FF",
           "#FECB52"
          ],
          "font": {
           "color": "#2a3f5f"
          },
          "geo": {
           "bgcolor": "white",
           "lakecolor": "white",
           "landcolor": "#E5ECF6",
           "showlakes": true,
           "showland": true,
           "subunitcolor": "white"
          },
          "hoverlabel": {
           "align": "left"
          },
          "hovermode": "closest",
          "mapbox": {
           "style": "light"
          },
          "paper_bgcolor": "white",
          "plot_bgcolor": "#E5ECF6",
          "polar": {
           "angularaxis": {
            "gridcolor": "white",
            "linecolor": "white",
            "ticks": ""
           },
           "bgcolor": "#E5ECF6",
           "radialaxis": {
            "gridcolor": "white",
            "linecolor": "white",
            "ticks": ""
           }
          },
          "scene": {
           "xaxis": {
            "backgroundcolor": "#E5ECF6",
            "gridcolor": "white",
            "gridwidth": 2,
            "linecolor": "white",
            "showbackground": true,
            "ticks": "",
            "zerolinecolor": "white"
           },
           "yaxis": {
            "backgroundcolor": "#E5ECF6",
            "gridcolor": "white",
            "gridwidth": 2,
            "linecolor": "white",
            "showbackground": true,
            "ticks": "",
            "zerolinecolor": "white"
           },
           "zaxis": {
            "backgroundcolor": "#E5ECF6",
            "gridcolor": "white",
            "gridwidth": 2,
            "linecolor": "white",
            "showbackground": true,
            "ticks": "",
            "zerolinecolor": "white"
           }
          },
          "shapedefaults": {
           "line": {
            "color": "#2a3f5f"
           }
          },
          "ternary": {
           "aaxis": {
            "gridcolor": "white",
            "linecolor": "white",
            "ticks": ""
           },
           "baxis": {
            "gridcolor": "white",
            "linecolor": "white",
            "ticks": ""
           },
           "bgcolor": "#E5ECF6",
           "caxis": {
            "gridcolor": "white",
            "linecolor": "white",
            "ticks": ""
           }
          },
          "title": {
           "x": 0.05
          },
          "xaxis": {
           "automargin": true,
           "gridcolor": "white",
           "linecolor": "white",
           "ticks": "",
           "title": {
            "standoff": 15
           },
           "zerolinecolor": "white",
           "zerolinewidth": 2
          },
          "yaxis": {
           "automargin": true,
           "gridcolor": "white",
           "linecolor": "white",
           "ticks": "",
           "title": {
            "standoff": 15
           },
           "zerolinecolor": "white",
           "zerolinewidth": 2
          }
         }
        },
        "title": {
         "font": {
          "color": "#4D5663"
         }
        },
        "xaxis": {
         "gridcolor": "#E1E5ED",
         "showgrid": true,
         "tickfont": {
          "color": "#4D5663"
         },
         "title": {
          "font": {
           "color": "#4D5663"
          },
          "text": ""
         },
         "zerolinecolor": "#E1E5ED"
        },
        "yaxis": {
         "gridcolor": "#E1E5ED",
         "showgrid": true,
         "tickfont": {
          "color": "#4D5663"
         },
         "title": {
          "font": {
           "color": "#4D5663"
          },
          "text": ""
         },
         "zerolinecolor": "#E1E5ED"
        }
       }
      },
      "text/html": [
       "<div>                            <div id=\"714e4b91-e029-4420-9248-03ec1f6ce114\" class=\"plotly-graph-div\" style=\"height:525px; width:100%;\"></div>            <script type=\"text/javascript\">                require([\"plotly\"], function(Plotly) {                    window.PLOTLYENV=window.PLOTLYENV || {};\n",
       "                    window.PLOTLYENV.BASE_URL='https://plot.ly';                                    if (document.getElementById(\"714e4b91-e029-4420-9248-03ec1f6ce114\")) {                    Plotly.newPlot(                        \"714e4b91-e029-4420-9248-03ec1f6ce114\",                        [{\"colorscale\": [[0.0, \"rgb(165,0,38)\"], [0.1, \"rgb(215,48,39)\"], [0.2, \"rgb(244,109,67)\"], [0.3, \"rgb(253,174,97)\"], [0.4, \"rgb(254,224,144)\"], [0.5, \"rgb(255,255,191)\"], [0.6, \"rgb(224,243,248)\"], [0.7, \"rgb(171,217,233)\"], [0.8, \"rgb(116,173,209)\"], [0.9, \"rgb(69,117,180)\"], [1.0, \"rgb(49,54,149)\"]], \"type\": \"surface\", \"x\": [0, 1, 2, 3, 4], \"y\": [\"x\", \"y\", \"z\"], \"z\": [[1, 2, 3, 4, 5], [10, 20, 30, 20, 10], [5, 4, 3, 2, 1]]}],                        {\"legend\": {\"bgcolor\": \"#F5F6F9\", \"font\": {\"color\": \"#4D5663\"}}, \"paper_bgcolor\": \"#F5F6F9\", \"plot_bgcolor\": \"#F5F6F9\", \"template\": {\"data\": {\"bar\": [{\"error_x\": {\"color\": \"#2a3f5f\"}, \"error_y\": {\"color\": \"#2a3f5f\"}, \"marker\": {\"line\": {\"color\": \"#E5ECF6\", \"width\": 0.5}}, \"type\": \"bar\"}], \"barpolar\": [{\"marker\": {\"line\": {\"color\": \"#E5ECF6\", \"width\": 0.5}}, \"type\": \"barpolar\"}], \"carpet\": [{\"aaxis\": {\"endlinecolor\": \"#2a3f5f\", \"gridcolor\": \"white\", \"linecolor\": \"white\", \"minorgridcolor\": \"white\", \"startlinecolor\": \"#2a3f5f\"}, \"baxis\": {\"endlinecolor\": \"#2a3f5f\", \"gridcolor\": \"white\", \"linecolor\": \"white\", \"minorgridcolor\": \"white\", \"startlinecolor\": \"#2a3f5f\"}, \"type\": \"carpet\"}], \"choropleth\": [{\"colorbar\": {\"outlinewidth\": 0, \"ticks\": \"\"}, \"type\": \"choropleth\"}], \"contour\": [{\"colorbar\": {\"outlinewidth\": 0, \"ticks\": \"\"}, \"colorscale\": [[0.0, \"#0d0887\"], [0.1111111111111111, \"#46039f\"], [0.2222222222222222, \"#7201a8\"], [0.3333333333333333, \"#9c179e\"], [0.4444444444444444, \"#bd3786\"], [0.5555555555555556, \"#d8576b\"], [0.6666666666666666, \"#ed7953\"], [0.7777777777777778, \"#fb9f3a\"], [0.8888888888888888, \"#fdca26\"], [1.0, \"#f0f921\"]], \"type\": \"contour\"}], \"contourcarpet\": [{\"colorbar\": {\"outlinewidth\": 0, \"ticks\": \"\"}, \"type\": \"contourcarpet\"}], \"heatmap\": [{\"colorbar\": {\"outlinewidth\": 0, \"ticks\": \"\"}, \"colorscale\": [[0.0, \"#0d0887\"], [0.1111111111111111, \"#46039f\"], [0.2222222222222222, \"#7201a8\"], [0.3333333333333333, \"#9c179e\"], [0.4444444444444444, \"#bd3786\"], [0.5555555555555556, \"#d8576b\"], [0.6666666666666666, \"#ed7953\"], [0.7777777777777778, \"#fb9f3a\"], [0.8888888888888888, \"#fdca26\"], [1.0, \"#f0f921\"]], \"type\": \"heatmap\"}], \"heatmapgl\": [{\"colorbar\": {\"outlinewidth\": 0, \"ticks\": \"\"}, \"colorscale\": [[0.0, \"#0d0887\"], [0.1111111111111111, \"#46039f\"], [0.2222222222222222, \"#7201a8\"], [0.3333333333333333, \"#9c179e\"], [0.4444444444444444, \"#bd3786\"], [0.5555555555555556, \"#d8576b\"], [0.6666666666666666, \"#ed7953\"], [0.7777777777777778, \"#fb9f3a\"], [0.8888888888888888, \"#fdca26\"], [1.0, \"#f0f921\"]], \"type\": \"heatmapgl\"}], \"histogram\": [{\"marker\": {\"colorbar\": {\"outlinewidth\": 0, \"ticks\": \"\"}}, \"type\": \"histogram\"}], \"histogram2d\": [{\"colorbar\": {\"outlinewidth\": 0, \"ticks\": \"\"}, \"colorscale\": [[0.0, \"#0d0887\"], [0.1111111111111111, \"#46039f\"], [0.2222222222222222, \"#7201a8\"], [0.3333333333333333, \"#9c179e\"], [0.4444444444444444, \"#bd3786\"], [0.5555555555555556, \"#d8576b\"], [0.6666666666666666, \"#ed7953\"], [0.7777777777777778, \"#fb9f3a\"], [0.8888888888888888, \"#fdca26\"], [1.0, \"#f0f921\"]], \"type\": \"histogram2d\"}], \"histogram2dcontour\": [{\"colorbar\": {\"outlinewidth\": 0, \"ticks\": \"\"}, \"colorscale\": [[0.0, \"#0d0887\"], [0.1111111111111111, \"#46039f\"], [0.2222222222222222, \"#7201a8\"], [0.3333333333333333, \"#9c179e\"], [0.4444444444444444, \"#bd3786\"], [0.5555555555555556, \"#d8576b\"], [0.6666666666666666, \"#ed7953\"], [0.7777777777777778, \"#fb9f3a\"], [0.8888888888888888, \"#fdca26\"], [1.0, \"#f0f921\"]], \"type\": \"histogram2dcontour\"}], \"mesh3d\": [{\"colorbar\": {\"outlinewidth\": 0, \"ticks\": \"\"}, \"type\": \"mesh3d\"}], \"parcoords\": [{\"line\": {\"colorbar\": {\"outlinewidth\": 0, \"ticks\": \"\"}}, \"type\": \"parcoords\"}], \"pie\": [{\"automargin\": true, \"type\": \"pie\"}], \"scatter\": [{\"marker\": {\"colorbar\": {\"outlinewidth\": 0, \"ticks\": \"\"}}, \"type\": \"scatter\"}], \"scatter3d\": [{\"line\": {\"colorbar\": {\"outlinewidth\": 0, \"ticks\": \"\"}}, \"marker\": {\"colorbar\": {\"outlinewidth\": 0, \"ticks\": \"\"}}, \"type\": \"scatter3d\"}], \"scattercarpet\": [{\"marker\": {\"colorbar\": {\"outlinewidth\": 0, \"ticks\": \"\"}}, \"type\": \"scattercarpet\"}], \"scattergeo\": [{\"marker\": {\"colorbar\": {\"outlinewidth\": 0, \"ticks\": \"\"}}, \"type\": \"scattergeo\"}], \"scattergl\": [{\"marker\": {\"colorbar\": {\"outlinewidth\": 0, \"ticks\": \"\"}}, \"type\": \"scattergl\"}], \"scattermapbox\": [{\"marker\": {\"colorbar\": {\"outlinewidth\": 0, \"ticks\": \"\"}}, \"type\": \"scattermapbox\"}], \"scatterpolar\": [{\"marker\": {\"colorbar\": {\"outlinewidth\": 0, \"ticks\": \"\"}}, \"type\": \"scatterpolar\"}], \"scatterpolargl\": [{\"marker\": {\"colorbar\": {\"outlinewidth\": 0, \"ticks\": \"\"}}, \"type\": \"scatterpolargl\"}], \"scatterternary\": [{\"marker\": {\"colorbar\": {\"outlinewidth\": 0, \"ticks\": \"\"}}, \"type\": \"scatterternary\"}], \"surface\": [{\"colorbar\": {\"outlinewidth\": 0, \"ticks\": \"\"}, \"colorscale\": [[0.0, \"#0d0887\"], [0.1111111111111111, \"#46039f\"], [0.2222222222222222, \"#7201a8\"], [0.3333333333333333, \"#9c179e\"], [0.4444444444444444, \"#bd3786\"], [0.5555555555555556, \"#d8576b\"], [0.6666666666666666, \"#ed7953\"], [0.7777777777777778, \"#fb9f3a\"], [0.8888888888888888, \"#fdca26\"], [1.0, \"#f0f921\"]], \"type\": \"surface\"}], \"table\": [{\"cells\": {\"fill\": {\"color\": \"#EBF0F8\"}, \"line\": {\"color\": \"white\"}}, \"header\": {\"fill\": {\"color\": \"#C8D4E3\"}, \"line\": {\"color\": \"white\"}}, \"type\": \"table\"}]}, \"layout\": {\"annotationdefaults\": {\"arrowcolor\": \"#2a3f5f\", \"arrowhead\": 0, \"arrowwidth\": 1}, \"autotypenumbers\": \"strict\", \"coloraxis\": {\"colorbar\": {\"outlinewidth\": 0, \"ticks\": \"\"}}, \"colorscale\": {\"diverging\": [[0, \"#8e0152\"], [0.1, \"#c51b7d\"], [0.2, \"#de77ae\"], [0.3, \"#f1b6da\"], [0.4, \"#fde0ef\"], [0.5, \"#f7f7f7\"], [0.6, \"#e6f5d0\"], [0.7, \"#b8e186\"], [0.8, \"#7fbc41\"], [0.9, \"#4d9221\"], [1, \"#276419\"]], \"sequential\": [[0.0, \"#0d0887\"], [0.1111111111111111, \"#46039f\"], [0.2222222222222222, \"#7201a8\"], [0.3333333333333333, \"#9c179e\"], [0.4444444444444444, \"#bd3786\"], [0.5555555555555556, \"#d8576b\"], [0.6666666666666666, \"#ed7953\"], [0.7777777777777778, \"#fb9f3a\"], [0.8888888888888888, \"#fdca26\"], [1.0, \"#f0f921\"]], \"sequentialminus\": [[0.0, \"#0d0887\"], [0.1111111111111111, \"#46039f\"], [0.2222222222222222, \"#7201a8\"], [0.3333333333333333, \"#9c179e\"], [0.4444444444444444, \"#bd3786\"], [0.5555555555555556, \"#d8576b\"], [0.6666666666666666, \"#ed7953\"], [0.7777777777777778, \"#fb9f3a\"], [0.8888888888888888, \"#fdca26\"], [1.0, \"#f0f921\"]]}, \"colorway\": [\"#636efa\", \"#EF553B\", \"#00cc96\", \"#ab63fa\", \"#FFA15A\", \"#19d3f3\", \"#FF6692\", \"#B6E880\", \"#FF97FF\", \"#FECB52\"], \"font\": {\"color\": \"#2a3f5f\"}, \"geo\": {\"bgcolor\": \"white\", \"lakecolor\": \"white\", \"landcolor\": \"#E5ECF6\", \"showlakes\": true, \"showland\": true, \"subunitcolor\": \"white\"}, \"hoverlabel\": {\"align\": \"left\"}, \"hovermode\": \"closest\", \"mapbox\": {\"style\": \"light\"}, \"paper_bgcolor\": \"white\", \"plot_bgcolor\": \"#E5ECF6\", \"polar\": {\"angularaxis\": {\"gridcolor\": \"white\", \"linecolor\": \"white\", \"ticks\": \"\"}, \"bgcolor\": \"#E5ECF6\", \"radialaxis\": {\"gridcolor\": \"white\", \"linecolor\": \"white\", \"ticks\": \"\"}}, \"scene\": {\"xaxis\": {\"backgroundcolor\": \"#E5ECF6\", \"gridcolor\": \"white\", \"gridwidth\": 2, \"linecolor\": \"white\", \"showbackground\": true, \"ticks\": \"\", \"zerolinecolor\": \"white\"}, \"yaxis\": {\"backgroundcolor\": \"#E5ECF6\", \"gridcolor\": \"white\", \"gridwidth\": 2, \"linecolor\": \"white\", \"showbackground\": true, \"ticks\": \"\", \"zerolinecolor\": \"white\"}, \"zaxis\": {\"backgroundcolor\": \"#E5ECF6\", \"gridcolor\": \"white\", \"gridwidth\": 2, \"linecolor\": \"white\", \"showbackground\": true, \"ticks\": \"\", \"zerolinecolor\": \"white\"}}, \"shapedefaults\": {\"line\": {\"color\": \"#2a3f5f\"}}, \"ternary\": {\"aaxis\": {\"gridcolor\": \"white\", \"linecolor\": \"white\", \"ticks\": \"\"}, \"baxis\": {\"gridcolor\": \"white\", \"linecolor\": \"white\", \"ticks\": \"\"}, \"bgcolor\": \"#E5ECF6\", \"caxis\": {\"gridcolor\": \"white\", \"linecolor\": \"white\", \"ticks\": \"\"}}, \"title\": {\"x\": 0.05}, \"xaxis\": {\"automargin\": true, \"gridcolor\": \"white\", \"linecolor\": \"white\", \"ticks\": \"\", \"title\": {\"standoff\": 15}, \"zerolinecolor\": \"white\", \"zerolinewidth\": 2}, \"yaxis\": {\"automargin\": true, \"gridcolor\": \"white\", \"linecolor\": \"white\", \"ticks\": \"\", \"title\": {\"standoff\": 15}, \"zerolinecolor\": \"white\", \"zerolinewidth\": 2}}}, \"title\": {\"font\": {\"color\": \"#4D5663\"}}, \"xaxis\": {\"gridcolor\": \"#E1E5ED\", \"showgrid\": true, \"tickfont\": {\"color\": \"#4D5663\"}, \"title\": {\"font\": {\"color\": \"#4D5663\"}, \"text\": \"\"}, \"zerolinecolor\": \"#E1E5ED\"}, \"yaxis\": {\"gridcolor\": \"#E1E5ED\", \"showgrid\": true, \"tickfont\": {\"color\": \"#4D5663\"}, \"title\": {\"font\": {\"color\": \"#4D5663\"}, \"text\": \"\"}, \"zerolinecolor\": \"#E1E5ED\"}},                        {\"showLink\": true, \"linkText\": \"Export to plot.ly\", \"plotlyServerURL\": \"https://plot.ly\", \"responsive\": true}                    ).then(function(){\n",
       "                            \n",
       "var gd = document.getElementById('714e4b91-e029-4420-9248-03ec1f6ce114');\n",
       "var x = new MutationObserver(function (mutations, observer) {{\n",
       "        var display = window.getComputedStyle(gd).display;\n",
       "        if (!display || display === 'none') {{\n",
       "            console.log([gd, 'removed!']);\n",
       "            Plotly.purge(gd);\n",
       "            observer.disconnect();\n",
       "        }}\n",
       "}});\n",
       "\n",
       "// Listen for the removal of the full notebook cells\n",
       "var notebookContainer = gd.closest('#notebook-container');\n",
       "if (notebookContainer) {{\n",
       "    x.observe(notebookContainer, {childList: true});\n",
       "}}\n",
       "\n",
       "// Listen for the clearing of the current output cell\n",
       "var outputEl = gd.closest('.output');\n",
       "if (outputEl) {{\n",
       "    x.observe(outputEl, {childList: true});\n",
       "}}\n",
       "\n",
       "                        })                };                });            </script>        </div>"
      ]
     },
     "metadata": {},
     "output_type": "display_data"
    }
   ],
   "source": [
    "df3 = pd.DataFrame({'x':[1,2,3,4,5],'y':[10,20,30,20,10],'z':[5,4,3,2,1]})\n",
    "df3.iplot(kind='surface',colorscale='rdylbu')"
   ]
  },
  {
   "cell_type": "markdown",
   "metadata": {},
   "source": [
    "### Spread Plot"
   ]
  },
  {
   "cell_type": "code",
   "execution_count": 15,
   "metadata": {},
   "outputs": [
    {
     "data": {
      "application/vnd.plotly.v1+json": {
       "config": {
        "linkText": "Export to plot.ly",
        "plotlyServerURL": "https://plot.ly",
        "showLink": true
       },
       "data": [
        {
         "line": {
          "color": "rgba(255, 153, 51, 1.0)",
          "dash": "solid",
          "shape": "linear",
          "width": 1.3
         },
         "mode": "lines",
         "name": "A",
         "text": "",
         "type": "scatter",
         "x": [
          0,
          1,
          2,
          3,
          4,
          5,
          6,
          7,
          8,
          9,
          10,
          11,
          12,
          13,
          14,
          15,
          16,
          17,
          18,
          19,
          20,
          21,
          22,
          23,
          24,
          25,
          26,
          27,
          28,
          29,
          30,
          31,
          32,
          33,
          34,
          35,
          36,
          37,
          38,
          39,
          40,
          41,
          42,
          43,
          44,
          45,
          46,
          47,
          48,
          49,
          50,
          51,
          52,
          53,
          54,
          55,
          56,
          57,
          58,
          59,
          60,
          61,
          62,
          63,
          64,
          65,
          66,
          67,
          68,
          69,
          70,
          71,
          72,
          73,
          74,
          75,
          76,
          77,
          78,
          79,
          80,
          81,
          82,
          83,
          84,
          85,
          86,
          87,
          88,
          89,
          90,
          91,
          92,
          93,
          94,
          95,
          96,
          97,
          98,
          99
         ],
         "y": [
          -0.2908630835904841,
          0.7522026671935028,
          -0.3202202412277464,
          -0.3843185240987831,
          -0.11931133758015264,
          -0.06817300711027062,
          0.8622886800722961,
          -0.31057746212150983,
          0.8125623712304261,
          -1.5640669400281466,
          1.2355425375738671,
          0.8324247793641801,
          -0.24619011485215633,
          0.8599638885984369,
          2.515608696935039,
          -0.07276308416211145,
          0.5513061271034504,
          -1.073197145275396,
          -2.0003814065736987,
          0.08474756277100214,
          -0.47531304602403646,
          0.2849603958855241,
          0.3128040140963513,
          -0.1335933447541138,
          -0.561357095225552,
          0.5683662400926341,
          1.0250353032278872,
          -1.0102201871084513,
          0.6989540721372159,
          -0.4470276481220417,
          -1.4318993670426283,
          -1.778709711352007,
          -0.2013150386506052,
          0.90594323014043,
          -0.7068585466458727,
          0.6769572604577522,
          0.7939864245468552,
          -0.7538463469490789,
          -1.5109525329437004,
          0.03241263103920048,
          0.9457202231941569,
          -0.6361641291847315,
          0.8719018266954653,
          0.4866077668978206,
          -0.28575776536307634,
          -2.3753288076766776,
          -1.122899970532789,
          -0.7693332131825008,
          -0.6486311302735432,
          0.272670354146497,
          1.0501723719960416,
          -0.3652989022843855,
          -0.6162279728796006,
          0.4587412631291952,
          -0.5019271653215122,
          -0.2515218329079029,
          -0.6317256522448005,
          -0.08223348033417892,
          -0.0036923666681755664,
          1.266456167863406,
          -0.3560151451082724,
          0.3526100081966942,
          0.8185028299045045,
          -0.15608208664826334,
          -0.33548634877417594,
          0.11600603838969752,
          0.2712996817591125,
          -0.36049681660033206,
          -1.7525330513020736,
          1.450464166516479,
          -1.216821613042049,
          0.6034493801477613,
          -1.8379363094945262,
          1.138064473201576,
          0.8394327104637465,
          -1.929090849772803,
          -1.072691459283474,
          -0.43038935680185325,
          -0.7400367966877052,
          -1.322632993361467,
          0.5787215505345139,
          -1.357954952041852,
          -0.6021767109518883,
          0.13132077562065864,
          1.5594079056934678,
          1.535216779827442,
          -0.19368758523366292,
          -0.3557438285284079,
          0.7849209968717704,
          -1.7621278569068,
          0.6267176980025514,
          -2.8652636529097717,
          -0.770483051114564,
          0.5280043573619357,
          -0.800516072738706,
          -1.743415921195421,
          -3.1720879132649635,
          -0.9725183317291045,
          0.6848046759556948,
          -1.0177256470591118
         ]
        },
        {
         "line": {
          "color": "rgba(55, 128, 191, 1.0)",
          "dash": "solid",
          "shape": "linear",
          "width": 1.3
         },
         "mode": "lines",
         "name": "B",
         "text": "",
         "type": "scatter",
         "x": [
          0,
          1,
          2,
          3,
          4,
          5,
          6,
          7,
          8,
          9,
          10,
          11,
          12,
          13,
          14,
          15,
          16,
          17,
          18,
          19,
          20,
          21,
          22,
          23,
          24,
          25,
          26,
          27,
          28,
          29,
          30,
          31,
          32,
          33,
          34,
          35,
          36,
          37,
          38,
          39,
          40,
          41,
          42,
          43,
          44,
          45,
          46,
          47,
          48,
          49,
          50,
          51,
          52,
          53,
          54,
          55,
          56,
          57,
          58,
          59,
          60,
          61,
          62,
          63,
          64,
          65,
          66,
          67,
          68,
          69,
          70,
          71,
          72,
          73,
          74,
          75,
          76,
          77,
          78,
          79,
          80,
          81,
          82,
          83,
          84,
          85,
          86,
          87,
          88,
          89,
          90,
          91,
          92,
          93,
          94,
          95,
          96,
          97,
          98,
          99
         ],
         "y": [
          -0.6057254125189131,
          -0.1892998620186739,
          0.26690625989144934,
          0.8801506841686696,
          -2.163784553004971,
          -0.4614535843193734,
          -0.477493821743666,
          1.415970231503484,
          -0.32532434268508886,
          -0.623502578386509,
          0.46107409795762677,
          -0.17597837771622932,
          -0.010493028851549516,
          0.12707067248642415,
          1.6821349613945324,
          1.4896885981293346,
          1.6774362491281654,
          1.7768769787637884,
          0.02482122889581526,
          -0.08490748620525963,
          -0.7745530167443184,
          0.7281703263038644,
          0.34604550500472503,
          1.6609483397717384,
          -0.152552190572538,
          -0.23369305198586304,
          -0.7120689525561642,
          0.42787313319929604,
          1.133049796582027,
          -0.6412951044882726,
          0.8955770585287715,
          -0.4726809527145295,
          0.14844968009098905,
          -0.21346438354012479,
          1.1349094316201722,
          0.3303734816044888,
          0.08667582342525072,
          0.8892484751851075,
          -0.12466594725091838,
          0.8827036907344208,
          1.2094937839467363,
          -0.4895836620137229,
          -0.5408427475391092,
          -1.0410265851439164,
          -0.8895250070698203,
          -0.11542371743890872,
          -0.2565703204603735,
          -1.025057326973805,
          -0.17505685722310804,
          0.7156960922973573,
          0.3364902049994554,
          0.3922927246547013,
          -1.3069168912035614,
          1.0855895861961868,
          0.38972558986895434,
          1.3949581546509382,
          -0.15477016380895434,
          -1.0490182284984666,
          -0.7284534907657603,
          -0.43638936764173697,
          0.6725356433554945,
          -1.3786402449176423,
          0.48072039417330187,
          -0.0017498029708925967,
          0.5018239222039128,
          1.6771097664851364,
          0.35373070444751786,
          0.8266608353330749,
          -0.3749302565897924,
          -0.4353583055446691,
          -1.2005208565469987,
          -0.8799068979454695,
          1.0274027527929517,
          0.3647258386082056,
          0.45955622956747993,
          -0.09155025515307294,
          -1.3399406737564568,
          0.616572965129828,
          0.3878866411322037,
          0.32055906658916067,
          0.7972281495815815,
          2.389749279180996,
          -1.2494200166450264,
          1.903338137180644,
          0.736383662558544,
          -0.2549611298886137,
          0.4816846935415098,
          -0.1640079781722683,
          0.4242312582039998,
          0.8552838937608425,
          -1.9059829052191977,
          0.8331154077999772,
          0.443487283792609,
          -0.2301629498760557,
          -0.4811227799019512,
          0.6444819505648139,
          -1.2330396356002027,
          -0.24868752637889677,
          -0.38122386681139986,
          -0.16332571723924683
         ]
        },
        {
         "connectgaps": false,
         "fill": "tozeroy",
         "line": {
          "color": "green",
          "dash": "solid",
          "shape": "linear",
          "width": 0.5
         },
         "mode": "lines",
         "name": "Spread",
         "showlegend": false,
         "type": "scatter",
         "x": [
          0,
          1,
          2,
          3,
          4,
          5,
          6,
          7,
          8,
          9,
          10,
          11,
          12,
          13,
          14,
          15,
          16,
          17,
          18,
          19,
          20,
          21,
          22,
          23,
          24,
          25,
          26,
          27,
          28,
          29,
          30,
          31,
          32,
          33,
          34,
          35,
          36,
          37,
          38,
          39,
          40,
          41,
          42,
          43,
          44,
          45,
          46,
          47,
          48,
          49,
          50,
          51,
          52,
          53,
          54,
          55,
          56,
          57,
          58,
          59,
          60,
          61,
          62,
          63,
          64,
          65,
          66,
          67,
          68,
          69,
          70,
          71,
          72,
          73,
          74,
          75,
          76,
          77,
          78,
          79,
          80,
          81,
          82,
          83,
          84,
          85,
          86,
          87,
          88,
          89,
          90,
          91,
          92,
          93,
          94,
          95,
          96,
          97,
          98,
          99
         ],
         "xaxis": "x2",
         "y": [
          0.314862328928429,
          0.9415025292121767,
          "",
          "",
          2.0444732154248184,
          0.39328057720910276,
          1.3397825018159621,
          "",
          1.1378867139155149,
          "",
          0.7744684396162403,
          1.0084031570804095,
          "",
          0.7328932161120127,
          0.8334737355405064,
          "",
          "",
          "",
          "",
          0.16965504897626177,
          0.29923997072028197,
          "",
          "",
          "",
          "",
          0.8020592920784972,
          1.7371042557840513,
          "",
          "",
          0.19426745636623094,
          "",
          "",
          "",
          1.1194076136805549,
          "",
          0.34658377885326336,
          0.7073106011216045,
          "",
          "",
          "",
          "",
          "",
          1.4127445742345746,
          1.527634352041737,
          0.6037672417067439,
          "",
          "",
          0.2557241137913042,
          "",
          "",
          0.7136821669965863,
          "",
          0.6906889183239607,
          "",
          "",
          "",
          "",
          0.9667847481642877,
          0.7247611240975848,
          1.702845535505143,
          "",
          1.7312502531143363,
          0.33778243573120265,
          "",
          "",
          "",
          "",
          "",
          "",
          1.885822472061148,
          "",
          1.4833562780932308,
          "",
          0.7733386345933705,
          0.3798764808962665,
          "",
          0.2672492144729828,
          "",
          "",
          "",
          "",
          "",
          0.6472433056931381,
          "",
          0.8230242431349237,
          1.7901779097160557,
          "",
          "",
          0.3606897386677706,
          "",
          2.532700603221749,
          "",
          "",
          0.7581673072379914,
          "",
          "",
          "",
          "",
          1.0660285427670946,
          ""
         ],
         "yaxis": "y2"
        },
        {
         "connectgaps": false,
         "fill": "tozeroy",
         "line": {
          "color": "red",
          "dash": "solid",
          "shape": "linear",
          "width": 0.5
         },
         "mode": "lines",
         "name": "Spread",
         "showlegend": false,
         "type": "scatter",
         "x": [
          0,
          1,
          2,
          3,
          4,
          5,
          6,
          7,
          8,
          9,
          10,
          11,
          12,
          13,
          14,
          15,
          16,
          17,
          18,
          19,
          20,
          21,
          22,
          23,
          24,
          25,
          26,
          27,
          28,
          29,
          30,
          31,
          32,
          33,
          34,
          35,
          36,
          37,
          38,
          39,
          40,
          41,
          42,
          43,
          44,
          45,
          46,
          47,
          48,
          49,
          50,
          51,
          52,
          53,
          54,
          55,
          56,
          57,
          58,
          59,
          60,
          61,
          62,
          63,
          64,
          65,
          66,
          67,
          68,
          69,
          70,
          71,
          72,
          73,
          74,
          75,
          76,
          77,
          78,
          79,
          80,
          81,
          82,
          83,
          84,
          85,
          86,
          87,
          88,
          89,
          90,
          91,
          92,
          93,
          94,
          95,
          96,
          97,
          98,
          99
         ],
         "xaxis": "x2",
         "y": [
          "",
          "",
          -0.5871265011191957,
          -1.2644692082674527,
          "",
          "",
          "",
          -1.7265476936249937,
          "",
          -0.9405643616416376,
          "",
          "",
          -0.23569708600060682,
          "",
          "",
          -1.562451682291446,
          -1.126130122024715,
          -2.8500741240391845,
          -2.025202635469514,
          "",
          "",
          -0.4432099304183403,
          -0.03324149090837375,
          -1.7945416845258522,
          -0.408804904653014,
          "",
          "",
          -1.4380933203077473,
          -0.43409572444481104,
          "",
          -2.3274764255713998,
          -1.3060287586374775,
          -0.34976471874159426,
          "",
          -1.841767978266045,
          "",
          "",
          -1.6430948221341866,
          -1.386286585692782,
          -0.8502910596952203,
          -0.2637735607525794,
          -0.14658046717100864,
          "",
          "",
          "",
          -2.259905090237769,
          -0.8663296500724154,
          "",
          -0.4735742730504352,
          -0.4430257381508603,
          "",
          -0.7575916269390868,
          "",
          -0.6268483230669917,
          -0.8916527551904665,
          -1.6464799875588412,
          -0.4769554884358461,
          "",
          "",
          "",
          -1.028550788463767,
          "",
          "",
          -0.15433228367737076,
          -0.8373102709780887,
          -1.561103728095439,
          -0.08243102268840535,
          -1.1871576519334068,
          -1.3776027947122813,
          "",
          -0.01630075649505036,
          "",
          -2.865339062287478,
          "",
          "",
          -1.83754059461973,
          "",
          -1.0469623219316813,
          -1.1279234378199088,
          -1.6431920599506276,
          -0.2185065990470676,
          -3.747704231222848,
          "",
          -1.7720173615599852,
          "",
          "",
          -0.6753722787751727,
          -0.1917358503561396,
          "",
          -2.6174117506676424,
          "",
          -3.698379060709749,
          -1.213970334907173,
          "",
          -0.31939329283675477,
          -2.387897871760235,
          -1.9390482776647608,
          -0.7238308053502077,
          "",
          -0.854399929819865
         ],
         "yaxis": "y2"
        }
       ],
       "layout": {
        "hovermode": "x",
        "legend": {
         "bgcolor": "#F5F6F9",
         "font": {
          "color": "#4D5663"
         }
        },
        "paper_bgcolor": "#F5F6F9",
        "plot_bgcolor": "#F5F6F9",
        "template": {
         "data": {
          "bar": [
           {
            "error_x": {
             "color": "#2a3f5f"
            },
            "error_y": {
             "color": "#2a3f5f"
            },
            "marker": {
             "line": {
              "color": "#E5ECF6",
              "width": 0.5
             }
            },
            "type": "bar"
           }
          ],
          "barpolar": [
           {
            "marker": {
             "line": {
              "color": "#E5ECF6",
              "width": 0.5
             }
            },
            "type": "barpolar"
           }
          ],
          "carpet": [
           {
            "aaxis": {
             "endlinecolor": "#2a3f5f",
             "gridcolor": "white",
             "linecolor": "white",
             "minorgridcolor": "white",
             "startlinecolor": "#2a3f5f"
            },
            "baxis": {
             "endlinecolor": "#2a3f5f",
             "gridcolor": "white",
             "linecolor": "white",
             "minorgridcolor": "white",
             "startlinecolor": "#2a3f5f"
            },
            "type": "carpet"
           }
          ],
          "choropleth": [
           {
            "colorbar": {
             "outlinewidth": 0,
             "ticks": ""
            },
            "type": "choropleth"
           }
          ],
          "contour": [
           {
            "colorbar": {
             "outlinewidth": 0,
             "ticks": ""
            },
            "colorscale": [
             [
              0,
              "#0d0887"
             ],
             [
              0.1111111111111111,
              "#46039f"
             ],
             [
              0.2222222222222222,
              "#7201a8"
             ],
             [
              0.3333333333333333,
              "#9c179e"
             ],
             [
              0.4444444444444444,
              "#bd3786"
             ],
             [
              0.5555555555555556,
              "#d8576b"
             ],
             [
              0.6666666666666666,
              "#ed7953"
             ],
             [
              0.7777777777777778,
              "#fb9f3a"
             ],
             [
              0.8888888888888888,
              "#fdca26"
             ],
             [
              1,
              "#f0f921"
             ]
            ],
            "type": "contour"
           }
          ],
          "contourcarpet": [
           {
            "colorbar": {
             "outlinewidth": 0,
             "ticks": ""
            },
            "type": "contourcarpet"
           }
          ],
          "heatmap": [
           {
            "colorbar": {
             "outlinewidth": 0,
             "ticks": ""
            },
            "colorscale": [
             [
              0,
              "#0d0887"
             ],
             [
              0.1111111111111111,
              "#46039f"
             ],
             [
              0.2222222222222222,
              "#7201a8"
             ],
             [
              0.3333333333333333,
              "#9c179e"
             ],
             [
              0.4444444444444444,
              "#bd3786"
             ],
             [
              0.5555555555555556,
              "#d8576b"
             ],
             [
              0.6666666666666666,
              "#ed7953"
             ],
             [
              0.7777777777777778,
              "#fb9f3a"
             ],
             [
              0.8888888888888888,
              "#fdca26"
             ],
             [
              1,
              "#f0f921"
             ]
            ],
            "type": "heatmap"
           }
          ],
          "heatmapgl": [
           {
            "colorbar": {
             "outlinewidth": 0,
             "ticks": ""
            },
            "colorscale": [
             [
              0,
              "#0d0887"
             ],
             [
              0.1111111111111111,
              "#46039f"
             ],
             [
              0.2222222222222222,
              "#7201a8"
             ],
             [
              0.3333333333333333,
              "#9c179e"
             ],
             [
              0.4444444444444444,
              "#bd3786"
             ],
             [
              0.5555555555555556,
              "#d8576b"
             ],
             [
              0.6666666666666666,
              "#ed7953"
             ],
             [
              0.7777777777777778,
              "#fb9f3a"
             ],
             [
              0.8888888888888888,
              "#fdca26"
             ],
             [
              1,
              "#f0f921"
             ]
            ],
            "type": "heatmapgl"
           }
          ],
          "histogram": [
           {
            "marker": {
             "colorbar": {
              "outlinewidth": 0,
              "ticks": ""
             }
            },
            "type": "histogram"
           }
          ],
          "histogram2d": [
           {
            "colorbar": {
             "outlinewidth": 0,
             "ticks": ""
            },
            "colorscale": [
             [
              0,
              "#0d0887"
             ],
             [
              0.1111111111111111,
              "#46039f"
             ],
             [
              0.2222222222222222,
              "#7201a8"
             ],
             [
              0.3333333333333333,
              "#9c179e"
             ],
             [
              0.4444444444444444,
              "#bd3786"
             ],
             [
              0.5555555555555556,
              "#d8576b"
             ],
             [
              0.6666666666666666,
              "#ed7953"
             ],
             [
              0.7777777777777778,
              "#fb9f3a"
             ],
             [
              0.8888888888888888,
              "#fdca26"
             ],
             [
              1,
              "#f0f921"
             ]
            ],
            "type": "histogram2d"
           }
          ],
          "histogram2dcontour": [
           {
            "colorbar": {
             "outlinewidth": 0,
             "ticks": ""
            },
            "colorscale": [
             [
              0,
              "#0d0887"
             ],
             [
              0.1111111111111111,
              "#46039f"
             ],
             [
              0.2222222222222222,
              "#7201a8"
             ],
             [
              0.3333333333333333,
              "#9c179e"
             ],
             [
              0.4444444444444444,
              "#bd3786"
             ],
             [
              0.5555555555555556,
              "#d8576b"
             ],
             [
              0.6666666666666666,
              "#ed7953"
             ],
             [
              0.7777777777777778,
              "#fb9f3a"
             ],
             [
              0.8888888888888888,
              "#fdca26"
             ],
             [
              1,
              "#f0f921"
             ]
            ],
            "type": "histogram2dcontour"
           }
          ],
          "mesh3d": [
           {
            "colorbar": {
             "outlinewidth": 0,
             "ticks": ""
            },
            "type": "mesh3d"
           }
          ],
          "parcoords": [
           {
            "line": {
             "colorbar": {
              "outlinewidth": 0,
              "ticks": ""
             }
            },
            "type": "parcoords"
           }
          ],
          "pie": [
           {
            "automargin": true,
            "type": "pie"
           }
          ],
          "scatter": [
           {
            "marker": {
             "colorbar": {
              "outlinewidth": 0,
              "ticks": ""
             }
            },
            "type": "scatter"
           }
          ],
          "scatter3d": [
           {
            "line": {
             "colorbar": {
              "outlinewidth": 0,
              "ticks": ""
             }
            },
            "marker": {
             "colorbar": {
              "outlinewidth": 0,
              "ticks": ""
             }
            },
            "type": "scatter3d"
           }
          ],
          "scattercarpet": [
           {
            "marker": {
             "colorbar": {
              "outlinewidth": 0,
              "ticks": ""
             }
            },
            "type": "scattercarpet"
           }
          ],
          "scattergeo": [
           {
            "marker": {
             "colorbar": {
              "outlinewidth": 0,
              "ticks": ""
             }
            },
            "type": "scattergeo"
           }
          ],
          "scattergl": [
           {
            "marker": {
             "colorbar": {
              "outlinewidth": 0,
              "ticks": ""
             }
            },
            "type": "scattergl"
           }
          ],
          "scattermapbox": [
           {
            "marker": {
             "colorbar": {
              "outlinewidth": 0,
              "ticks": ""
             }
            },
            "type": "scattermapbox"
           }
          ],
          "scatterpolar": [
           {
            "marker": {
             "colorbar": {
              "outlinewidth": 0,
              "ticks": ""
             }
            },
            "type": "scatterpolar"
           }
          ],
          "scatterpolargl": [
           {
            "marker": {
             "colorbar": {
              "outlinewidth": 0,
              "ticks": ""
             }
            },
            "type": "scatterpolargl"
           }
          ],
          "scatterternary": [
           {
            "marker": {
             "colorbar": {
              "outlinewidth": 0,
              "ticks": ""
             }
            },
            "type": "scatterternary"
           }
          ],
          "surface": [
           {
            "colorbar": {
             "outlinewidth": 0,
             "ticks": ""
            },
            "colorscale": [
             [
              0,
              "#0d0887"
             ],
             [
              0.1111111111111111,
              "#46039f"
             ],
             [
              0.2222222222222222,
              "#7201a8"
             ],
             [
              0.3333333333333333,
              "#9c179e"
             ],
             [
              0.4444444444444444,
              "#bd3786"
             ],
             [
              0.5555555555555556,
              "#d8576b"
             ],
             [
              0.6666666666666666,
              "#ed7953"
             ],
             [
              0.7777777777777778,
              "#fb9f3a"
             ],
             [
              0.8888888888888888,
              "#fdca26"
             ],
             [
              1,
              "#f0f921"
             ]
            ],
            "type": "surface"
           }
          ],
          "table": [
           {
            "cells": {
             "fill": {
              "color": "#EBF0F8"
             },
             "line": {
              "color": "white"
             }
            },
            "header": {
             "fill": {
              "color": "#C8D4E3"
             },
             "line": {
              "color": "white"
             }
            },
            "type": "table"
           }
          ]
         },
         "layout": {
          "annotationdefaults": {
           "arrowcolor": "#2a3f5f",
           "arrowhead": 0,
           "arrowwidth": 1
          },
          "autotypenumbers": "strict",
          "coloraxis": {
           "colorbar": {
            "outlinewidth": 0,
            "ticks": ""
           }
          },
          "colorscale": {
           "diverging": [
            [
             0,
             "#8e0152"
            ],
            [
             0.1,
             "#c51b7d"
            ],
            [
             0.2,
             "#de77ae"
            ],
            [
             0.3,
             "#f1b6da"
            ],
            [
             0.4,
             "#fde0ef"
            ],
            [
             0.5,
             "#f7f7f7"
            ],
            [
             0.6,
             "#e6f5d0"
            ],
            [
             0.7,
             "#b8e186"
            ],
            [
             0.8,
             "#7fbc41"
            ],
            [
             0.9,
             "#4d9221"
            ],
            [
             1,
             "#276419"
            ]
           ],
           "sequential": [
            [
             0,
             "#0d0887"
            ],
            [
             0.1111111111111111,
             "#46039f"
            ],
            [
             0.2222222222222222,
             "#7201a8"
            ],
            [
             0.3333333333333333,
             "#9c179e"
            ],
            [
             0.4444444444444444,
             "#bd3786"
            ],
            [
             0.5555555555555556,
             "#d8576b"
            ],
            [
             0.6666666666666666,
             "#ed7953"
            ],
            [
             0.7777777777777778,
             "#fb9f3a"
            ],
            [
             0.8888888888888888,
             "#fdca26"
            ],
            [
             1,
             "#f0f921"
            ]
           ],
           "sequentialminus": [
            [
             0,
             "#0d0887"
            ],
            [
             0.1111111111111111,
             "#46039f"
            ],
            [
             0.2222222222222222,
             "#7201a8"
            ],
            [
             0.3333333333333333,
             "#9c179e"
            ],
            [
             0.4444444444444444,
             "#bd3786"
            ],
            [
             0.5555555555555556,
             "#d8576b"
            ],
            [
             0.6666666666666666,
             "#ed7953"
            ],
            [
             0.7777777777777778,
             "#fb9f3a"
            ],
            [
             0.8888888888888888,
             "#fdca26"
            ],
            [
             1,
             "#f0f921"
            ]
           ]
          },
          "colorway": [
           "#636efa",
           "#EF553B",
           "#00cc96",
           "#ab63fa",
           "#FFA15A",
           "#19d3f3",
           "#FF6692",
           "#B6E880",
           "#FF97FF",
           "#FECB52"
          ],
          "font": {
           "color": "#2a3f5f"
          },
          "geo": {
           "bgcolor": "white",
           "lakecolor": "white",
           "landcolor": "#E5ECF6",
           "showlakes": true,
           "showland": true,
           "subunitcolor": "white"
          },
          "hoverlabel": {
           "align": "left"
          },
          "hovermode": "closest",
          "mapbox": {
           "style": "light"
          },
          "paper_bgcolor": "white",
          "plot_bgcolor": "#E5ECF6",
          "polar": {
           "angularaxis": {
            "gridcolor": "white",
            "linecolor": "white",
            "ticks": ""
           },
           "bgcolor": "#E5ECF6",
           "radialaxis": {
            "gridcolor": "white",
            "linecolor": "white",
            "ticks": ""
           }
          },
          "scene": {
           "xaxis": {
            "backgroundcolor": "#E5ECF6",
            "gridcolor": "white",
            "gridwidth": 2,
            "linecolor": "white",
            "showbackground": true,
            "ticks": "",
            "zerolinecolor": "white"
           },
           "yaxis": {
            "backgroundcolor": "#E5ECF6",
            "gridcolor": "white",
            "gridwidth": 2,
            "linecolor": "white",
            "showbackground": true,
            "ticks": "",
            "zerolinecolor": "white"
           },
           "zaxis": {
            "backgroundcolor": "#E5ECF6",
            "gridcolor": "white",
            "gridwidth": 2,
            "linecolor": "white",
            "showbackground": true,
            "ticks": "",
            "zerolinecolor": "white"
           }
          },
          "shapedefaults": {
           "line": {
            "color": "#2a3f5f"
           }
          },
          "ternary": {
           "aaxis": {
            "gridcolor": "white",
            "linecolor": "white",
            "ticks": ""
           },
           "baxis": {
            "gridcolor": "white",
            "linecolor": "white",
            "ticks": ""
           },
           "bgcolor": "#E5ECF6",
           "caxis": {
            "gridcolor": "white",
            "linecolor": "white",
            "ticks": ""
           }
          },
          "title": {
           "x": 0.05
          },
          "xaxis": {
           "automargin": true,
           "gridcolor": "white",
           "linecolor": "white",
           "ticks": "",
           "title": {
            "standoff": 15
           },
           "zerolinecolor": "white",
           "zerolinewidth": 2
          },
          "yaxis": {
           "automargin": true,
           "gridcolor": "white",
           "linecolor": "white",
           "ticks": "",
           "title": {
            "standoff": 15
           },
           "zerolinecolor": "white",
           "zerolinewidth": 2
          }
         }
        },
        "title": {
         "font": {
          "color": "#4D5663"
         }
        },
        "xaxis": {
         "gridcolor": "#E1E5ED",
         "showgrid": true,
         "tickfont": {
          "color": "#4D5663"
         },
         "title": {
          "font": {
           "color": "#4D5663"
          },
          "text": ""
         },
         "zerolinecolor": "#E1E5ED"
        },
        "xaxis2": {
         "anchor": "y2",
         "gridcolor": "#E1E5ED",
         "showgrid": true,
         "showticklabels": false,
         "tickfont": {
          "color": "#4D5663"
         },
         "title": {
          "font": {
           "color": "#4D5663"
          },
          "text": ""
         },
         "zerolinecolor": "#E1E5ED"
        },
        "yaxis": {
         "domain": [
          0.3,
          1
         ],
         "gridcolor": "#E1E5ED",
         "showgrid": true,
         "tickfont": {
          "color": "#4D5663"
         },
         "title": {
          "font": {
           "color": "#4D5663"
          },
          "text": ""
         },
         "zerolinecolor": "#E1E5ED"
        },
        "yaxis2": {
         "domain": [
          0,
          0.25
         ],
         "gridcolor": "#E1E5ED",
         "showgrid": true,
         "tickfont": {
          "color": "#4D5663"
         },
         "title": {
          "font": {
           "color": "#4D5663"
          },
          "text": "Spread"
         },
         "zerolinecolor": "#E1E5ED"
        }
       }
      },
      "text/html": [
       "<div>                            <div id=\"ddd1aa48-6ef8-4b47-bf32-3218c343afb5\" class=\"plotly-graph-div\" style=\"height:525px; width:100%;\"></div>            <script type=\"text/javascript\">                require([\"plotly\"], function(Plotly) {                    window.PLOTLYENV=window.PLOTLYENV || {};\n",
       "                    window.PLOTLYENV.BASE_URL='https://plot.ly';                                    if (document.getElementById(\"ddd1aa48-6ef8-4b47-bf32-3218c343afb5\")) {                    Plotly.newPlot(                        \"ddd1aa48-6ef8-4b47-bf32-3218c343afb5\",                        [{\"line\": {\"color\": \"rgba(255, 153, 51, 1.0)\", \"dash\": \"solid\", \"shape\": \"linear\", \"width\": 1.3}, \"mode\": \"lines\", \"name\": \"A\", \"text\": \"\", \"type\": \"scatter\", \"x\": [0, 1, 2, 3, 4, 5, 6, 7, 8, 9, 10, 11, 12, 13, 14, 15, 16, 17, 18, 19, 20, 21, 22, 23, 24, 25, 26, 27, 28, 29, 30, 31, 32, 33, 34, 35, 36, 37, 38, 39, 40, 41, 42, 43, 44, 45, 46, 47, 48, 49, 50, 51, 52, 53, 54, 55, 56, 57, 58, 59, 60, 61, 62, 63, 64, 65, 66, 67, 68, 69, 70, 71, 72, 73, 74, 75, 76, 77, 78, 79, 80, 81, 82, 83, 84, 85, 86, 87, 88, 89, 90, 91, 92, 93, 94, 95, 96, 97, 98, 99], \"y\": [-0.2908630835904841, 0.7522026671935028, -0.3202202412277464, -0.3843185240987831, -0.11931133758015264, -0.06817300711027062, 0.8622886800722961, -0.31057746212150983, 0.8125623712304261, -1.5640669400281466, 1.2355425375738671, 0.8324247793641801, -0.24619011485215633, 0.8599638885984369, 2.515608696935039, -0.07276308416211145, 0.5513061271034504, -1.073197145275396, -2.0003814065736987, 0.08474756277100214, -0.47531304602403646, 0.2849603958855241, 0.3128040140963513, -0.1335933447541138, -0.561357095225552, 0.5683662400926341, 1.0250353032278872, -1.0102201871084513, 0.6989540721372159, -0.4470276481220417, -1.4318993670426283, -1.778709711352007, -0.2013150386506052, 0.90594323014043, -0.7068585466458727, 0.6769572604577522, 0.7939864245468552, -0.7538463469490789, -1.5109525329437004, 0.03241263103920048, 0.9457202231941569, -0.6361641291847315, 0.8719018266954653, 0.4866077668978206, -0.28575776536307634, -2.3753288076766776, -1.122899970532789, -0.7693332131825008, -0.6486311302735432, 0.272670354146497, 1.0501723719960416, -0.3652989022843855, -0.6162279728796006, 0.4587412631291952, -0.5019271653215122, -0.2515218329079029, -0.6317256522448005, -0.08223348033417892, -0.0036923666681755664, 1.266456167863406, -0.3560151451082724, 0.3526100081966942, 0.8185028299045045, -0.15608208664826334, -0.33548634877417594, 0.11600603838969752, 0.2712996817591125, -0.36049681660033206, -1.7525330513020736, 1.450464166516479, -1.216821613042049, 0.6034493801477613, -1.8379363094945262, 1.138064473201576, 0.8394327104637465, -1.929090849772803, -1.072691459283474, -0.43038935680185325, -0.7400367966877052, -1.322632993361467, 0.5787215505345139, -1.357954952041852, -0.6021767109518883, 0.13132077562065864, 1.5594079056934678, 1.535216779827442, -0.19368758523366292, -0.3557438285284079, 0.7849209968717704, -1.7621278569068, 0.6267176980025514, -2.8652636529097717, -0.770483051114564, 0.5280043573619357, -0.800516072738706, -1.743415921195421, -3.1720879132649635, -0.9725183317291045, 0.6848046759556948, -1.0177256470591118]}, {\"line\": {\"color\": \"rgba(55, 128, 191, 1.0)\", \"dash\": \"solid\", \"shape\": \"linear\", \"width\": 1.3}, \"mode\": \"lines\", \"name\": \"B\", \"text\": \"\", \"type\": \"scatter\", \"x\": [0, 1, 2, 3, 4, 5, 6, 7, 8, 9, 10, 11, 12, 13, 14, 15, 16, 17, 18, 19, 20, 21, 22, 23, 24, 25, 26, 27, 28, 29, 30, 31, 32, 33, 34, 35, 36, 37, 38, 39, 40, 41, 42, 43, 44, 45, 46, 47, 48, 49, 50, 51, 52, 53, 54, 55, 56, 57, 58, 59, 60, 61, 62, 63, 64, 65, 66, 67, 68, 69, 70, 71, 72, 73, 74, 75, 76, 77, 78, 79, 80, 81, 82, 83, 84, 85, 86, 87, 88, 89, 90, 91, 92, 93, 94, 95, 96, 97, 98, 99], \"y\": [-0.6057254125189131, -0.1892998620186739, 0.26690625989144934, 0.8801506841686696, -2.163784553004971, -0.4614535843193734, -0.477493821743666, 1.415970231503484, -0.32532434268508886, -0.623502578386509, 0.46107409795762677, -0.17597837771622932, -0.010493028851549516, 0.12707067248642415, 1.6821349613945324, 1.4896885981293346, 1.6774362491281654, 1.7768769787637884, 0.02482122889581526, -0.08490748620525963, -0.7745530167443184, 0.7281703263038644, 0.34604550500472503, 1.6609483397717384, -0.152552190572538, -0.23369305198586304, -0.7120689525561642, 0.42787313319929604, 1.133049796582027, -0.6412951044882726, 0.8955770585287715, -0.4726809527145295, 0.14844968009098905, -0.21346438354012479, 1.1349094316201722, 0.3303734816044888, 0.08667582342525072, 0.8892484751851075, -0.12466594725091838, 0.8827036907344208, 1.2094937839467363, -0.4895836620137229, -0.5408427475391092, -1.0410265851439164, -0.8895250070698203, -0.11542371743890872, -0.2565703204603735, -1.025057326973805, -0.17505685722310804, 0.7156960922973573, 0.3364902049994554, 0.3922927246547013, -1.3069168912035614, 1.0855895861961868, 0.38972558986895434, 1.3949581546509382, -0.15477016380895434, -1.0490182284984666, -0.7284534907657603, -0.43638936764173697, 0.6725356433554945, -1.3786402449176423, 0.48072039417330187, -0.0017498029708925967, 0.5018239222039128, 1.6771097664851364, 0.35373070444751786, 0.8266608353330749, -0.3749302565897924, -0.4353583055446691, -1.2005208565469987, -0.8799068979454695, 1.0274027527929517, 0.3647258386082056, 0.45955622956747993, -0.09155025515307294, -1.3399406737564568, 0.616572965129828, 0.3878866411322037, 0.32055906658916067, 0.7972281495815815, 2.389749279180996, -1.2494200166450264, 1.903338137180644, 0.736383662558544, -0.2549611298886137, 0.4816846935415098, -0.1640079781722683, 0.4242312582039998, 0.8552838937608425, -1.9059829052191977, 0.8331154077999772, 0.443487283792609, -0.2301629498760557, -0.4811227799019512, 0.6444819505648139, -1.2330396356002027, -0.24868752637889677, -0.38122386681139986, -0.16332571723924683]}, {\"connectgaps\": false, \"fill\": \"tozeroy\", \"line\": {\"color\": \"green\", \"dash\": \"solid\", \"shape\": \"linear\", \"width\": 0.5}, \"mode\": \"lines\", \"name\": \"Spread\", \"showlegend\": false, \"type\": \"scatter\", \"x\": [0, 1, 2, 3, 4, 5, 6, 7, 8, 9, 10, 11, 12, 13, 14, 15, 16, 17, 18, 19, 20, 21, 22, 23, 24, 25, 26, 27, 28, 29, 30, 31, 32, 33, 34, 35, 36, 37, 38, 39, 40, 41, 42, 43, 44, 45, 46, 47, 48, 49, 50, 51, 52, 53, 54, 55, 56, 57, 58, 59, 60, 61, 62, 63, 64, 65, 66, 67, 68, 69, 70, 71, 72, 73, 74, 75, 76, 77, 78, 79, 80, 81, 82, 83, 84, 85, 86, 87, 88, 89, 90, 91, 92, 93, 94, 95, 96, 97, 98, 99], \"xaxis\": \"x2\", \"y\": [0.314862328928429, 0.9415025292121767, \"\", \"\", 2.0444732154248184, 0.39328057720910276, 1.3397825018159621, \"\", 1.1378867139155149, \"\", 0.7744684396162403, 1.0084031570804095, \"\", 0.7328932161120127, 0.8334737355405064, \"\", \"\", \"\", \"\", 0.16965504897626177, 0.29923997072028197, \"\", \"\", \"\", \"\", 0.8020592920784972, 1.7371042557840513, \"\", \"\", 0.19426745636623094, \"\", \"\", \"\", 1.1194076136805549, \"\", 0.34658377885326336, 0.7073106011216045, \"\", \"\", \"\", \"\", \"\", 1.4127445742345746, 1.527634352041737, 0.6037672417067439, \"\", \"\", 0.2557241137913042, \"\", \"\", 0.7136821669965863, \"\", 0.6906889183239607, \"\", \"\", \"\", \"\", 0.9667847481642877, 0.7247611240975848, 1.702845535505143, \"\", 1.7312502531143363, 0.33778243573120265, \"\", \"\", \"\", \"\", \"\", \"\", 1.885822472061148, \"\", 1.4833562780932308, \"\", 0.7733386345933705, 0.3798764808962665, \"\", 0.2672492144729828, \"\", \"\", \"\", \"\", \"\", 0.6472433056931381, \"\", 0.8230242431349237, 1.7901779097160557, \"\", \"\", 0.3606897386677706, \"\", 2.532700603221749, \"\", \"\", 0.7581673072379914, \"\", \"\", \"\", \"\", 1.0660285427670946, \"\"], \"yaxis\": \"y2\"}, {\"connectgaps\": false, \"fill\": \"tozeroy\", \"line\": {\"color\": \"red\", \"dash\": \"solid\", \"shape\": \"linear\", \"width\": 0.5}, \"mode\": \"lines\", \"name\": \"Spread\", \"showlegend\": false, \"type\": \"scatter\", \"x\": [0, 1, 2, 3, 4, 5, 6, 7, 8, 9, 10, 11, 12, 13, 14, 15, 16, 17, 18, 19, 20, 21, 22, 23, 24, 25, 26, 27, 28, 29, 30, 31, 32, 33, 34, 35, 36, 37, 38, 39, 40, 41, 42, 43, 44, 45, 46, 47, 48, 49, 50, 51, 52, 53, 54, 55, 56, 57, 58, 59, 60, 61, 62, 63, 64, 65, 66, 67, 68, 69, 70, 71, 72, 73, 74, 75, 76, 77, 78, 79, 80, 81, 82, 83, 84, 85, 86, 87, 88, 89, 90, 91, 92, 93, 94, 95, 96, 97, 98, 99], \"xaxis\": \"x2\", \"y\": [\"\", \"\", -0.5871265011191957, -1.2644692082674527, \"\", \"\", \"\", -1.7265476936249937, \"\", -0.9405643616416376, \"\", \"\", -0.23569708600060682, \"\", \"\", -1.562451682291446, -1.126130122024715, -2.8500741240391845, -2.025202635469514, \"\", \"\", -0.4432099304183403, -0.03324149090837375, -1.7945416845258522, -0.408804904653014, \"\", \"\", -1.4380933203077473, -0.43409572444481104, \"\", -2.3274764255713998, -1.3060287586374775, -0.34976471874159426, \"\", -1.841767978266045, \"\", \"\", -1.6430948221341866, -1.386286585692782, -0.8502910596952203, -0.2637735607525794, -0.14658046717100864, \"\", \"\", \"\", -2.259905090237769, -0.8663296500724154, \"\", -0.4735742730504352, -0.4430257381508603, \"\", -0.7575916269390868, \"\", -0.6268483230669917, -0.8916527551904665, -1.6464799875588412, -0.4769554884358461, \"\", \"\", \"\", -1.028550788463767, \"\", \"\", -0.15433228367737076, -0.8373102709780887, -1.561103728095439, -0.08243102268840535, -1.1871576519334068, -1.3776027947122813, \"\", -0.01630075649505036, \"\", -2.865339062287478, \"\", \"\", -1.83754059461973, \"\", -1.0469623219316813, -1.1279234378199088, -1.6431920599506276, -0.2185065990470676, -3.747704231222848, \"\", -1.7720173615599852, \"\", \"\", -0.6753722787751727, -0.1917358503561396, \"\", -2.6174117506676424, \"\", -3.698379060709749, -1.213970334907173, \"\", -0.31939329283675477, -2.387897871760235, -1.9390482776647608, -0.7238308053502077, \"\", -0.854399929819865], \"yaxis\": \"y2\"}],                        {\"hovermode\": \"x\", \"legend\": {\"bgcolor\": \"#F5F6F9\", \"font\": {\"color\": \"#4D5663\"}}, \"paper_bgcolor\": \"#F5F6F9\", \"plot_bgcolor\": \"#F5F6F9\", \"template\": {\"data\": {\"bar\": [{\"error_x\": {\"color\": \"#2a3f5f\"}, \"error_y\": {\"color\": \"#2a3f5f\"}, \"marker\": {\"line\": {\"color\": \"#E5ECF6\", \"width\": 0.5}}, \"type\": \"bar\"}], \"barpolar\": [{\"marker\": {\"line\": {\"color\": \"#E5ECF6\", \"width\": 0.5}}, \"type\": \"barpolar\"}], \"carpet\": [{\"aaxis\": {\"endlinecolor\": \"#2a3f5f\", \"gridcolor\": \"white\", \"linecolor\": \"white\", \"minorgridcolor\": \"white\", \"startlinecolor\": \"#2a3f5f\"}, \"baxis\": {\"endlinecolor\": \"#2a3f5f\", \"gridcolor\": \"white\", \"linecolor\": \"white\", \"minorgridcolor\": \"white\", \"startlinecolor\": \"#2a3f5f\"}, \"type\": \"carpet\"}], \"choropleth\": [{\"colorbar\": {\"outlinewidth\": 0, \"ticks\": \"\"}, \"type\": \"choropleth\"}], \"contour\": [{\"colorbar\": {\"outlinewidth\": 0, \"ticks\": \"\"}, \"colorscale\": [[0.0, \"#0d0887\"], [0.1111111111111111, \"#46039f\"], [0.2222222222222222, \"#7201a8\"], [0.3333333333333333, \"#9c179e\"], [0.4444444444444444, \"#bd3786\"], [0.5555555555555556, \"#d8576b\"], [0.6666666666666666, \"#ed7953\"], [0.7777777777777778, \"#fb9f3a\"], [0.8888888888888888, \"#fdca26\"], [1.0, \"#f0f921\"]], \"type\": \"contour\"}], \"contourcarpet\": [{\"colorbar\": {\"outlinewidth\": 0, \"ticks\": \"\"}, \"type\": \"contourcarpet\"}], \"heatmap\": [{\"colorbar\": {\"outlinewidth\": 0, \"ticks\": \"\"}, \"colorscale\": [[0.0, \"#0d0887\"], [0.1111111111111111, \"#46039f\"], [0.2222222222222222, \"#7201a8\"], [0.3333333333333333, \"#9c179e\"], [0.4444444444444444, \"#bd3786\"], [0.5555555555555556, \"#d8576b\"], [0.6666666666666666, \"#ed7953\"], [0.7777777777777778, \"#fb9f3a\"], [0.8888888888888888, \"#fdca26\"], [1.0, \"#f0f921\"]], \"type\": \"heatmap\"}], \"heatmapgl\": [{\"colorbar\": {\"outlinewidth\": 0, \"ticks\": \"\"}, \"colorscale\": [[0.0, \"#0d0887\"], [0.1111111111111111, \"#46039f\"], [0.2222222222222222, \"#7201a8\"], [0.3333333333333333, \"#9c179e\"], [0.4444444444444444, \"#bd3786\"], [0.5555555555555556, \"#d8576b\"], [0.6666666666666666, \"#ed7953\"], [0.7777777777777778, \"#fb9f3a\"], [0.8888888888888888, \"#fdca26\"], [1.0, \"#f0f921\"]], \"type\": \"heatmapgl\"}], \"histogram\": [{\"marker\": {\"colorbar\": {\"outlinewidth\": 0, \"ticks\": \"\"}}, \"type\": \"histogram\"}], \"histogram2d\": [{\"colorbar\": {\"outlinewidth\": 0, \"ticks\": \"\"}, \"colorscale\": [[0.0, \"#0d0887\"], [0.1111111111111111, \"#46039f\"], [0.2222222222222222, \"#7201a8\"], [0.3333333333333333, \"#9c179e\"], [0.4444444444444444, \"#bd3786\"], [0.5555555555555556, \"#d8576b\"], [0.6666666666666666, \"#ed7953\"], [0.7777777777777778, \"#fb9f3a\"], [0.8888888888888888, \"#fdca26\"], [1.0, \"#f0f921\"]], \"type\": \"histogram2d\"}], \"histogram2dcontour\": [{\"colorbar\": {\"outlinewidth\": 0, \"ticks\": \"\"}, \"colorscale\": [[0.0, \"#0d0887\"], [0.1111111111111111, \"#46039f\"], [0.2222222222222222, \"#7201a8\"], [0.3333333333333333, \"#9c179e\"], [0.4444444444444444, \"#bd3786\"], [0.5555555555555556, \"#d8576b\"], [0.6666666666666666, \"#ed7953\"], [0.7777777777777778, \"#fb9f3a\"], [0.8888888888888888, \"#fdca26\"], [1.0, \"#f0f921\"]], \"type\": \"histogram2dcontour\"}], \"mesh3d\": [{\"colorbar\": {\"outlinewidth\": 0, \"ticks\": \"\"}, \"type\": \"mesh3d\"}], \"parcoords\": [{\"line\": {\"colorbar\": {\"outlinewidth\": 0, \"ticks\": \"\"}}, \"type\": \"parcoords\"}], \"pie\": [{\"automargin\": true, \"type\": \"pie\"}], \"scatter\": [{\"marker\": {\"colorbar\": {\"outlinewidth\": 0, \"ticks\": \"\"}}, \"type\": \"scatter\"}], \"scatter3d\": [{\"line\": {\"colorbar\": {\"outlinewidth\": 0, \"ticks\": \"\"}}, \"marker\": {\"colorbar\": {\"outlinewidth\": 0, \"ticks\": \"\"}}, \"type\": \"scatter3d\"}], \"scattercarpet\": [{\"marker\": {\"colorbar\": {\"outlinewidth\": 0, \"ticks\": \"\"}}, \"type\": \"scattercarpet\"}], \"scattergeo\": [{\"marker\": {\"colorbar\": {\"outlinewidth\": 0, \"ticks\": \"\"}}, \"type\": \"scattergeo\"}], \"scattergl\": [{\"marker\": {\"colorbar\": {\"outlinewidth\": 0, \"ticks\": \"\"}}, \"type\": \"scattergl\"}], \"scattermapbox\": [{\"marker\": {\"colorbar\": {\"outlinewidth\": 0, \"ticks\": \"\"}}, \"type\": \"scattermapbox\"}], \"scatterpolar\": [{\"marker\": {\"colorbar\": {\"outlinewidth\": 0, \"ticks\": \"\"}}, \"type\": \"scatterpolar\"}], \"scatterpolargl\": [{\"marker\": {\"colorbar\": {\"outlinewidth\": 0, \"ticks\": \"\"}}, \"type\": \"scatterpolargl\"}], \"scatterternary\": [{\"marker\": {\"colorbar\": {\"outlinewidth\": 0, \"ticks\": \"\"}}, \"type\": \"scatterternary\"}], \"surface\": [{\"colorbar\": {\"outlinewidth\": 0, \"ticks\": \"\"}, \"colorscale\": [[0.0, \"#0d0887\"], [0.1111111111111111, \"#46039f\"], [0.2222222222222222, \"#7201a8\"], [0.3333333333333333, \"#9c179e\"], [0.4444444444444444, \"#bd3786\"], [0.5555555555555556, \"#d8576b\"], [0.6666666666666666, \"#ed7953\"], [0.7777777777777778, \"#fb9f3a\"], [0.8888888888888888, \"#fdca26\"], [1.0, \"#f0f921\"]], \"type\": \"surface\"}], \"table\": [{\"cells\": {\"fill\": {\"color\": \"#EBF0F8\"}, \"line\": {\"color\": \"white\"}}, \"header\": {\"fill\": {\"color\": \"#C8D4E3\"}, \"line\": {\"color\": \"white\"}}, \"type\": \"table\"}]}, \"layout\": {\"annotationdefaults\": {\"arrowcolor\": \"#2a3f5f\", \"arrowhead\": 0, \"arrowwidth\": 1}, \"autotypenumbers\": \"strict\", \"coloraxis\": {\"colorbar\": {\"outlinewidth\": 0, \"ticks\": \"\"}}, \"colorscale\": {\"diverging\": [[0, \"#8e0152\"], [0.1, \"#c51b7d\"], [0.2, \"#de77ae\"], [0.3, \"#f1b6da\"], [0.4, \"#fde0ef\"], [0.5, \"#f7f7f7\"], [0.6, \"#e6f5d0\"], [0.7, \"#b8e186\"], [0.8, \"#7fbc41\"], [0.9, \"#4d9221\"], [1, \"#276419\"]], \"sequential\": [[0.0, \"#0d0887\"], [0.1111111111111111, \"#46039f\"], [0.2222222222222222, \"#7201a8\"], [0.3333333333333333, \"#9c179e\"], [0.4444444444444444, \"#bd3786\"], [0.5555555555555556, \"#d8576b\"], [0.6666666666666666, \"#ed7953\"], [0.7777777777777778, \"#fb9f3a\"], [0.8888888888888888, \"#fdca26\"], [1.0, \"#f0f921\"]], \"sequentialminus\": [[0.0, \"#0d0887\"], [0.1111111111111111, \"#46039f\"], [0.2222222222222222, \"#7201a8\"], [0.3333333333333333, \"#9c179e\"], [0.4444444444444444, \"#bd3786\"], [0.5555555555555556, \"#d8576b\"], [0.6666666666666666, \"#ed7953\"], [0.7777777777777778, \"#fb9f3a\"], [0.8888888888888888, \"#fdca26\"], [1.0, \"#f0f921\"]]}, \"colorway\": [\"#636efa\", \"#EF553B\", \"#00cc96\", \"#ab63fa\", \"#FFA15A\", \"#19d3f3\", \"#FF6692\", \"#B6E880\", \"#FF97FF\", \"#FECB52\"], \"font\": {\"color\": \"#2a3f5f\"}, \"geo\": {\"bgcolor\": \"white\", \"lakecolor\": \"white\", \"landcolor\": \"#E5ECF6\", \"showlakes\": true, \"showland\": true, \"subunitcolor\": \"white\"}, \"hoverlabel\": {\"align\": \"left\"}, \"hovermode\": \"closest\", \"mapbox\": {\"style\": \"light\"}, \"paper_bgcolor\": \"white\", \"plot_bgcolor\": \"#E5ECF6\", \"polar\": {\"angularaxis\": {\"gridcolor\": \"white\", \"linecolor\": \"white\", \"ticks\": \"\"}, \"bgcolor\": \"#E5ECF6\", \"radialaxis\": {\"gridcolor\": \"white\", \"linecolor\": \"white\", \"ticks\": \"\"}}, \"scene\": {\"xaxis\": {\"backgroundcolor\": \"#E5ECF6\", \"gridcolor\": \"white\", \"gridwidth\": 2, \"linecolor\": \"white\", \"showbackground\": true, \"ticks\": \"\", \"zerolinecolor\": \"white\"}, \"yaxis\": {\"backgroundcolor\": \"#E5ECF6\", \"gridcolor\": \"white\", \"gridwidth\": 2, \"linecolor\": \"white\", \"showbackground\": true, \"ticks\": \"\", \"zerolinecolor\": \"white\"}, \"zaxis\": {\"backgroundcolor\": \"#E5ECF6\", \"gridcolor\": \"white\", \"gridwidth\": 2, \"linecolor\": \"white\", \"showbackground\": true, \"ticks\": \"\", \"zerolinecolor\": \"white\"}}, \"shapedefaults\": {\"line\": {\"color\": \"#2a3f5f\"}}, \"ternary\": {\"aaxis\": {\"gridcolor\": \"white\", \"linecolor\": \"white\", \"ticks\": \"\"}, \"baxis\": {\"gridcolor\": \"white\", \"linecolor\": \"white\", \"ticks\": \"\"}, \"bgcolor\": \"#E5ECF6\", \"caxis\": {\"gridcolor\": \"white\", \"linecolor\": \"white\", \"ticks\": \"\"}}, \"title\": {\"x\": 0.05}, \"xaxis\": {\"automargin\": true, \"gridcolor\": \"white\", \"linecolor\": \"white\", \"ticks\": \"\", \"title\": {\"standoff\": 15}, \"zerolinecolor\": \"white\", \"zerolinewidth\": 2}, \"yaxis\": {\"automargin\": true, \"gridcolor\": \"white\", \"linecolor\": \"white\", \"ticks\": \"\", \"title\": {\"standoff\": 15}, \"zerolinecolor\": \"white\", \"zerolinewidth\": 2}}}, \"title\": {\"font\": {\"color\": \"#4D5663\"}}, \"xaxis\": {\"gridcolor\": \"#E1E5ED\", \"showgrid\": true, \"tickfont\": {\"color\": \"#4D5663\"}, \"title\": {\"font\": {\"color\": \"#4D5663\"}, \"text\": \"\"}, \"zerolinecolor\": \"#E1E5ED\"}, \"xaxis2\": {\"anchor\": \"y2\", \"gridcolor\": \"#E1E5ED\", \"showgrid\": true, \"showticklabels\": false, \"tickfont\": {\"color\": \"#4D5663\"}, \"title\": {\"font\": {\"color\": \"#4D5663\"}, \"text\": \"\"}, \"zerolinecolor\": \"#E1E5ED\"}, \"yaxis\": {\"domain\": [0.3, 1], \"gridcolor\": \"#E1E5ED\", \"showgrid\": true, \"tickfont\": {\"color\": \"#4D5663\"}, \"title\": {\"font\": {\"color\": \"#4D5663\"}, \"text\": \"\"}, \"zerolinecolor\": \"#E1E5ED\"}, \"yaxis2\": {\"domain\": [0, 0.25], \"gridcolor\": \"#E1E5ED\", \"showgrid\": true, \"tickfont\": {\"color\": \"#4D5663\"}, \"title\": {\"font\": {\"color\": \"#4D5663\"}, \"text\": \"Spread\"}, \"zerolinecolor\": \"#E1E5ED\"}},                        {\"showLink\": true, \"linkText\": \"Export to plot.ly\", \"plotlyServerURL\": \"https://plot.ly\", \"responsive\": true}                    ).then(function(){\n",
       "                            \n",
       "var gd = document.getElementById('ddd1aa48-6ef8-4b47-bf32-3218c343afb5');\n",
       "var x = new MutationObserver(function (mutations, observer) {{\n",
       "        var display = window.getComputedStyle(gd).display;\n",
       "        if (!display || display === 'none') {{\n",
       "            console.log([gd, 'removed!']);\n",
       "            Plotly.purge(gd);\n",
       "            observer.disconnect();\n",
       "        }}\n",
       "}});\n",
       "\n",
       "// Listen for the removal of the full notebook cells\n",
       "var notebookContainer = gd.closest('#notebook-container');\n",
       "if (notebookContainer) {{\n",
       "    x.observe(notebookContainer, {childList: true});\n",
       "}}\n",
       "\n",
       "// Listen for the clearing of the current output cell\n",
       "var outputEl = gd.closest('.output');\n",
       "if (outputEl) {{\n",
       "    x.observe(outputEl, {childList: true});\n",
       "}}\n",
       "\n",
       "                        })                };                });            </script>        </div>"
      ]
     },
     "metadata": {},
     "output_type": "display_data"
    }
   ],
   "source": [
    "df[['A','B']].iplot(kind='spread')"
   ]
  },
  {
   "cell_type": "markdown",
   "metadata": {},
   "source": [
    "### Histogram"
   ]
  },
  {
   "cell_type": "code",
   "execution_count": 16,
   "metadata": {},
   "outputs": [
    {
     "data": {
      "application/vnd.plotly.v1+json": {
       "config": {
        "linkText": "Export to plot.ly",
        "plotlyServerURL": "https://plot.ly",
        "showLink": true
       },
       "data": [
        {
         "histfunc": "count",
         "histnorm": "",
         "marker": {
          "color": "rgba(255, 153, 51, 1.0)",
          "line": {
           "color": "#4D5663",
           "width": 1.3
          }
         },
         "name": "A",
         "nbinsx": 25,
         "opacity": 0.8,
         "orientation": "v",
         "type": "histogram",
         "x": [
          -0.2908630835904841,
          0.7522026671935028,
          -0.3202202412277464,
          -0.3843185240987831,
          -0.11931133758015264,
          -0.06817300711027062,
          0.8622886800722961,
          -0.31057746212150983,
          0.8125623712304261,
          -1.5640669400281466,
          1.2355425375738671,
          0.8324247793641801,
          -0.24619011485215633,
          0.8599638885984369,
          2.515608696935039,
          -0.07276308416211145,
          0.5513061271034504,
          -1.073197145275396,
          -2.0003814065736987,
          0.08474756277100214,
          -0.47531304602403646,
          0.2849603958855241,
          0.3128040140963513,
          -0.1335933447541138,
          -0.561357095225552,
          0.5683662400926341,
          1.0250353032278872,
          -1.0102201871084513,
          0.6989540721372159,
          -0.4470276481220417,
          -1.4318993670426283,
          -1.778709711352007,
          -0.2013150386506052,
          0.90594323014043,
          -0.7068585466458727,
          0.6769572604577522,
          0.7939864245468552,
          -0.7538463469490789,
          -1.5109525329437004,
          0.03241263103920048,
          0.9457202231941569,
          -0.6361641291847315,
          0.8719018266954653,
          0.4866077668978206,
          -0.28575776536307634,
          -2.3753288076766776,
          -1.122899970532789,
          -0.7693332131825008,
          -0.6486311302735432,
          0.272670354146497,
          1.0501723719960416,
          -0.3652989022843855,
          -0.6162279728796006,
          0.4587412631291952,
          -0.5019271653215122,
          -0.2515218329079029,
          -0.6317256522448005,
          -0.08223348033417892,
          -0.0036923666681755664,
          1.266456167863406,
          -0.3560151451082724,
          0.3526100081966942,
          0.8185028299045045,
          -0.15608208664826334,
          -0.33548634877417594,
          0.11600603838969752,
          0.2712996817591125,
          -0.36049681660033206,
          -1.7525330513020736,
          1.450464166516479,
          -1.216821613042049,
          0.6034493801477613,
          -1.8379363094945262,
          1.138064473201576,
          0.8394327104637465,
          -1.929090849772803,
          -1.072691459283474,
          -0.43038935680185325,
          -0.7400367966877052,
          -1.322632993361467,
          0.5787215505345139,
          -1.357954952041852,
          -0.6021767109518883,
          0.13132077562065864,
          1.5594079056934678,
          1.535216779827442,
          -0.19368758523366292,
          -0.3557438285284079,
          0.7849209968717704,
          -1.7621278569068,
          0.6267176980025514,
          -2.8652636529097717,
          -0.770483051114564,
          0.5280043573619357,
          -0.800516072738706,
          -1.743415921195421,
          -3.1720879132649635,
          -0.9725183317291045,
          0.6848046759556948,
          -1.0177256470591118
         ]
        }
       ],
       "layout": {
        "barmode": "overlay",
        "legend": {
         "bgcolor": "#F5F6F9",
         "font": {
          "color": "#4D5663"
         }
        },
        "paper_bgcolor": "#F5F6F9",
        "plot_bgcolor": "#F5F6F9",
        "template": {
         "data": {
          "bar": [
           {
            "error_x": {
             "color": "#2a3f5f"
            },
            "error_y": {
             "color": "#2a3f5f"
            },
            "marker": {
             "line": {
              "color": "#E5ECF6",
              "width": 0.5
             }
            },
            "type": "bar"
           }
          ],
          "barpolar": [
           {
            "marker": {
             "line": {
              "color": "#E5ECF6",
              "width": 0.5
             }
            },
            "type": "barpolar"
           }
          ],
          "carpet": [
           {
            "aaxis": {
             "endlinecolor": "#2a3f5f",
             "gridcolor": "white",
             "linecolor": "white",
             "minorgridcolor": "white",
             "startlinecolor": "#2a3f5f"
            },
            "baxis": {
             "endlinecolor": "#2a3f5f",
             "gridcolor": "white",
             "linecolor": "white",
             "minorgridcolor": "white",
             "startlinecolor": "#2a3f5f"
            },
            "type": "carpet"
           }
          ],
          "choropleth": [
           {
            "colorbar": {
             "outlinewidth": 0,
             "ticks": ""
            },
            "type": "choropleth"
           }
          ],
          "contour": [
           {
            "colorbar": {
             "outlinewidth": 0,
             "ticks": ""
            },
            "colorscale": [
             [
              0,
              "#0d0887"
             ],
             [
              0.1111111111111111,
              "#46039f"
             ],
             [
              0.2222222222222222,
              "#7201a8"
             ],
             [
              0.3333333333333333,
              "#9c179e"
             ],
             [
              0.4444444444444444,
              "#bd3786"
             ],
             [
              0.5555555555555556,
              "#d8576b"
             ],
             [
              0.6666666666666666,
              "#ed7953"
             ],
             [
              0.7777777777777778,
              "#fb9f3a"
             ],
             [
              0.8888888888888888,
              "#fdca26"
             ],
             [
              1,
              "#f0f921"
             ]
            ],
            "type": "contour"
           }
          ],
          "contourcarpet": [
           {
            "colorbar": {
             "outlinewidth": 0,
             "ticks": ""
            },
            "type": "contourcarpet"
           }
          ],
          "heatmap": [
           {
            "colorbar": {
             "outlinewidth": 0,
             "ticks": ""
            },
            "colorscale": [
             [
              0,
              "#0d0887"
             ],
             [
              0.1111111111111111,
              "#46039f"
             ],
             [
              0.2222222222222222,
              "#7201a8"
             ],
             [
              0.3333333333333333,
              "#9c179e"
             ],
             [
              0.4444444444444444,
              "#bd3786"
             ],
             [
              0.5555555555555556,
              "#d8576b"
             ],
             [
              0.6666666666666666,
              "#ed7953"
             ],
             [
              0.7777777777777778,
              "#fb9f3a"
             ],
             [
              0.8888888888888888,
              "#fdca26"
             ],
             [
              1,
              "#f0f921"
             ]
            ],
            "type": "heatmap"
           }
          ],
          "heatmapgl": [
           {
            "colorbar": {
             "outlinewidth": 0,
             "ticks": ""
            },
            "colorscale": [
             [
              0,
              "#0d0887"
             ],
             [
              0.1111111111111111,
              "#46039f"
             ],
             [
              0.2222222222222222,
              "#7201a8"
             ],
             [
              0.3333333333333333,
              "#9c179e"
             ],
             [
              0.4444444444444444,
              "#bd3786"
             ],
             [
              0.5555555555555556,
              "#d8576b"
             ],
             [
              0.6666666666666666,
              "#ed7953"
             ],
             [
              0.7777777777777778,
              "#fb9f3a"
             ],
             [
              0.8888888888888888,
              "#fdca26"
             ],
             [
              1,
              "#f0f921"
             ]
            ],
            "type": "heatmapgl"
           }
          ],
          "histogram": [
           {
            "marker": {
             "colorbar": {
              "outlinewidth": 0,
              "ticks": ""
             }
            },
            "type": "histogram"
           }
          ],
          "histogram2d": [
           {
            "colorbar": {
             "outlinewidth": 0,
             "ticks": ""
            },
            "colorscale": [
             [
              0,
              "#0d0887"
             ],
             [
              0.1111111111111111,
              "#46039f"
             ],
             [
              0.2222222222222222,
              "#7201a8"
             ],
             [
              0.3333333333333333,
              "#9c179e"
             ],
             [
              0.4444444444444444,
              "#bd3786"
             ],
             [
              0.5555555555555556,
              "#d8576b"
             ],
             [
              0.6666666666666666,
              "#ed7953"
             ],
             [
              0.7777777777777778,
              "#fb9f3a"
             ],
             [
              0.8888888888888888,
              "#fdca26"
             ],
             [
              1,
              "#f0f921"
             ]
            ],
            "type": "histogram2d"
           }
          ],
          "histogram2dcontour": [
           {
            "colorbar": {
             "outlinewidth": 0,
             "ticks": ""
            },
            "colorscale": [
             [
              0,
              "#0d0887"
             ],
             [
              0.1111111111111111,
              "#46039f"
             ],
             [
              0.2222222222222222,
              "#7201a8"
             ],
             [
              0.3333333333333333,
              "#9c179e"
             ],
             [
              0.4444444444444444,
              "#bd3786"
             ],
             [
              0.5555555555555556,
              "#d8576b"
             ],
             [
              0.6666666666666666,
              "#ed7953"
             ],
             [
              0.7777777777777778,
              "#fb9f3a"
             ],
             [
              0.8888888888888888,
              "#fdca26"
             ],
             [
              1,
              "#f0f921"
             ]
            ],
            "type": "histogram2dcontour"
           }
          ],
          "mesh3d": [
           {
            "colorbar": {
             "outlinewidth": 0,
             "ticks": ""
            },
            "type": "mesh3d"
           }
          ],
          "parcoords": [
           {
            "line": {
             "colorbar": {
              "outlinewidth": 0,
              "ticks": ""
             }
            },
            "type": "parcoords"
           }
          ],
          "pie": [
           {
            "automargin": true,
            "type": "pie"
           }
          ],
          "scatter": [
           {
            "marker": {
             "colorbar": {
              "outlinewidth": 0,
              "ticks": ""
             }
            },
            "type": "scatter"
           }
          ],
          "scatter3d": [
           {
            "line": {
             "colorbar": {
              "outlinewidth": 0,
              "ticks": ""
             }
            },
            "marker": {
             "colorbar": {
              "outlinewidth": 0,
              "ticks": ""
             }
            },
            "type": "scatter3d"
           }
          ],
          "scattercarpet": [
           {
            "marker": {
             "colorbar": {
              "outlinewidth": 0,
              "ticks": ""
             }
            },
            "type": "scattercarpet"
           }
          ],
          "scattergeo": [
           {
            "marker": {
             "colorbar": {
              "outlinewidth": 0,
              "ticks": ""
             }
            },
            "type": "scattergeo"
           }
          ],
          "scattergl": [
           {
            "marker": {
             "colorbar": {
              "outlinewidth": 0,
              "ticks": ""
             }
            },
            "type": "scattergl"
           }
          ],
          "scattermapbox": [
           {
            "marker": {
             "colorbar": {
              "outlinewidth": 0,
              "ticks": ""
             }
            },
            "type": "scattermapbox"
           }
          ],
          "scatterpolar": [
           {
            "marker": {
             "colorbar": {
              "outlinewidth": 0,
              "ticks": ""
             }
            },
            "type": "scatterpolar"
           }
          ],
          "scatterpolargl": [
           {
            "marker": {
             "colorbar": {
              "outlinewidth": 0,
              "ticks": ""
             }
            },
            "type": "scatterpolargl"
           }
          ],
          "scatterternary": [
           {
            "marker": {
             "colorbar": {
              "outlinewidth": 0,
              "ticks": ""
             }
            },
            "type": "scatterternary"
           }
          ],
          "surface": [
           {
            "colorbar": {
             "outlinewidth": 0,
             "ticks": ""
            },
            "colorscale": [
             [
              0,
              "#0d0887"
             ],
             [
              0.1111111111111111,
              "#46039f"
             ],
             [
              0.2222222222222222,
              "#7201a8"
             ],
             [
              0.3333333333333333,
              "#9c179e"
             ],
             [
              0.4444444444444444,
              "#bd3786"
             ],
             [
              0.5555555555555556,
              "#d8576b"
             ],
             [
              0.6666666666666666,
              "#ed7953"
             ],
             [
              0.7777777777777778,
              "#fb9f3a"
             ],
             [
              0.8888888888888888,
              "#fdca26"
             ],
             [
              1,
              "#f0f921"
             ]
            ],
            "type": "surface"
           }
          ],
          "table": [
           {
            "cells": {
             "fill": {
              "color": "#EBF0F8"
             },
             "line": {
              "color": "white"
             }
            },
            "header": {
             "fill": {
              "color": "#C8D4E3"
             },
             "line": {
              "color": "white"
             }
            },
            "type": "table"
           }
          ]
         },
         "layout": {
          "annotationdefaults": {
           "arrowcolor": "#2a3f5f",
           "arrowhead": 0,
           "arrowwidth": 1
          },
          "autotypenumbers": "strict",
          "coloraxis": {
           "colorbar": {
            "outlinewidth": 0,
            "ticks": ""
           }
          },
          "colorscale": {
           "diverging": [
            [
             0,
             "#8e0152"
            ],
            [
             0.1,
             "#c51b7d"
            ],
            [
             0.2,
             "#de77ae"
            ],
            [
             0.3,
             "#f1b6da"
            ],
            [
             0.4,
             "#fde0ef"
            ],
            [
             0.5,
             "#f7f7f7"
            ],
            [
             0.6,
             "#e6f5d0"
            ],
            [
             0.7,
             "#b8e186"
            ],
            [
             0.8,
             "#7fbc41"
            ],
            [
             0.9,
             "#4d9221"
            ],
            [
             1,
             "#276419"
            ]
           ],
           "sequential": [
            [
             0,
             "#0d0887"
            ],
            [
             0.1111111111111111,
             "#46039f"
            ],
            [
             0.2222222222222222,
             "#7201a8"
            ],
            [
             0.3333333333333333,
             "#9c179e"
            ],
            [
             0.4444444444444444,
             "#bd3786"
            ],
            [
             0.5555555555555556,
             "#d8576b"
            ],
            [
             0.6666666666666666,
             "#ed7953"
            ],
            [
             0.7777777777777778,
             "#fb9f3a"
            ],
            [
             0.8888888888888888,
             "#fdca26"
            ],
            [
             1,
             "#f0f921"
            ]
           ],
           "sequentialminus": [
            [
             0,
             "#0d0887"
            ],
            [
             0.1111111111111111,
             "#46039f"
            ],
            [
             0.2222222222222222,
             "#7201a8"
            ],
            [
             0.3333333333333333,
             "#9c179e"
            ],
            [
             0.4444444444444444,
             "#bd3786"
            ],
            [
             0.5555555555555556,
             "#d8576b"
            ],
            [
             0.6666666666666666,
             "#ed7953"
            ],
            [
             0.7777777777777778,
             "#fb9f3a"
            ],
            [
             0.8888888888888888,
             "#fdca26"
            ],
            [
             1,
             "#f0f921"
            ]
           ]
          },
          "colorway": [
           "#636efa",
           "#EF553B",
           "#00cc96",
           "#ab63fa",
           "#FFA15A",
           "#19d3f3",
           "#FF6692",
           "#B6E880",
           "#FF97FF",
           "#FECB52"
          ],
          "font": {
           "color": "#2a3f5f"
          },
          "geo": {
           "bgcolor": "white",
           "lakecolor": "white",
           "landcolor": "#E5ECF6",
           "showlakes": true,
           "showland": true,
           "subunitcolor": "white"
          },
          "hoverlabel": {
           "align": "left"
          },
          "hovermode": "closest",
          "mapbox": {
           "style": "light"
          },
          "paper_bgcolor": "white",
          "plot_bgcolor": "#E5ECF6",
          "polar": {
           "angularaxis": {
            "gridcolor": "white",
            "linecolor": "white",
            "ticks": ""
           },
           "bgcolor": "#E5ECF6",
           "radialaxis": {
            "gridcolor": "white",
            "linecolor": "white",
            "ticks": ""
           }
          },
          "scene": {
           "xaxis": {
            "backgroundcolor": "#E5ECF6",
            "gridcolor": "white",
            "gridwidth": 2,
            "linecolor": "white",
            "showbackground": true,
            "ticks": "",
            "zerolinecolor": "white"
           },
           "yaxis": {
            "backgroundcolor": "#E5ECF6",
            "gridcolor": "white",
            "gridwidth": 2,
            "linecolor": "white",
            "showbackground": true,
            "ticks": "",
            "zerolinecolor": "white"
           },
           "zaxis": {
            "backgroundcolor": "#E5ECF6",
            "gridcolor": "white",
            "gridwidth": 2,
            "linecolor": "white",
            "showbackground": true,
            "ticks": "",
            "zerolinecolor": "white"
           }
          },
          "shapedefaults": {
           "line": {
            "color": "#2a3f5f"
           }
          },
          "ternary": {
           "aaxis": {
            "gridcolor": "white",
            "linecolor": "white",
            "ticks": ""
           },
           "baxis": {
            "gridcolor": "white",
            "linecolor": "white",
            "ticks": ""
           },
           "bgcolor": "#E5ECF6",
           "caxis": {
            "gridcolor": "white",
            "linecolor": "white",
            "ticks": ""
           }
          },
          "title": {
           "x": 0.05
          },
          "xaxis": {
           "automargin": true,
           "gridcolor": "white",
           "linecolor": "white",
           "ticks": "",
           "title": {
            "standoff": 15
           },
           "zerolinecolor": "white",
           "zerolinewidth": 2
          },
          "yaxis": {
           "automargin": true,
           "gridcolor": "white",
           "linecolor": "white",
           "ticks": "",
           "title": {
            "standoff": 15
           },
           "zerolinecolor": "white",
           "zerolinewidth": 2
          }
         }
        },
        "title": {
         "font": {
          "color": "#4D5663"
         }
        },
        "xaxis": {
         "gridcolor": "#E1E5ED",
         "showgrid": true,
         "tickfont": {
          "color": "#4D5663"
         },
         "title": {
          "font": {
           "color": "#4D5663"
          },
          "text": ""
         },
         "zerolinecolor": "#E1E5ED"
        },
        "yaxis": {
         "gridcolor": "#E1E5ED",
         "showgrid": true,
         "tickfont": {
          "color": "#4D5663"
         },
         "title": {
          "font": {
           "color": "#4D5663"
          },
          "text": ""
         },
         "zerolinecolor": "#E1E5ED"
        }
       }
      },
      "text/html": [
       "<div>                            <div id=\"846b793c-7d72-43e7-ba58-d15bd4bd6c61\" class=\"plotly-graph-div\" style=\"height:525px; width:100%;\"></div>            <script type=\"text/javascript\">                require([\"plotly\"], function(Plotly) {                    window.PLOTLYENV=window.PLOTLYENV || {};\n",
       "                    window.PLOTLYENV.BASE_URL='https://plot.ly';                                    if (document.getElementById(\"846b793c-7d72-43e7-ba58-d15bd4bd6c61\")) {                    Plotly.newPlot(                        \"846b793c-7d72-43e7-ba58-d15bd4bd6c61\",                        [{\"histfunc\": \"count\", \"histnorm\": \"\", \"marker\": {\"color\": \"rgba(255, 153, 51, 1.0)\", \"line\": {\"color\": \"#4D5663\", \"width\": 1.3}}, \"name\": \"A\", \"nbinsx\": 25, \"opacity\": 0.8, \"orientation\": \"v\", \"type\": \"histogram\", \"x\": [-0.2908630835904841, 0.7522026671935028, -0.3202202412277464, -0.3843185240987831, -0.11931133758015264, -0.06817300711027062, 0.8622886800722961, -0.31057746212150983, 0.8125623712304261, -1.5640669400281466, 1.2355425375738671, 0.8324247793641801, -0.24619011485215633, 0.8599638885984369, 2.515608696935039, -0.07276308416211145, 0.5513061271034504, -1.073197145275396, -2.0003814065736987, 0.08474756277100214, -0.47531304602403646, 0.2849603958855241, 0.3128040140963513, -0.1335933447541138, -0.561357095225552, 0.5683662400926341, 1.0250353032278872, -1.0102201871084513, 0.6989540721372159, -0.4470276481220417, -1.4318993670426283, -1.778709711352007, -0.2013150386506052, 0.90594323014043, -0.7068585466458727, 0.6769572604577522, 0.7939864245468552, -0.7538463469490789, -1.5109525329437004, 0.03241263103920048, 0.9457202231941569, -0.6361641291847315, 0.8719018266954653, 0.4866077668978206, -0.28575776536307634, -2.3753288076766776, -1.122899970532789, -0.7693332131825008, -0.6486311302735432, 0.272670354146497, 1.0501723719960416, -0.3652989022843855, -0.6162279728796006, 0.4587412631291952, -0.5019271653215122, -0.2515218329079029, -0.6317256522448005, -0.08223348033417892, -0.0036923666681755664, 1.266456167863406, -0.3560151451082724, 0.3526100081966942, 0.8185028299045045, -0.15608208664826334, -0.33548634877417594, 0.11600603838969752, 0.2712996817591125, -0.36049681660033206, -1.7525330513020736, 1.450464166516479, -1.216821613042049, 0.6034493801477613, -1.8379363094945262, 1.138064473201576, 0.8394327104637465, -1.929090849772803, -1.072691459283474, -0.43038935680185325, -0.7400367966877052, -1.322632993361467, 0.5787215505345139, -1.357954952041852, -0.6021767109518883, 0.13132077562065864, 1.5594079056934678, 1.535216779827442, -0.19368758523366292, -0.3557438285284079, 0.7849209968717704, -1.7621278569068, 0.6267176980025514, -2.8652636529097717, -0.770483051114564, 0.5280043573619357, -0.800516072738706, -1.743415921195421, -3.1720879132649635, -0.9725183317291045, 0.6848046759556948, -1.0177256470591118]}],                        {\"barmode\": \"overlay\", \"legend\": {\"bgcolor\": \"#F5F6F9\", \"font\": {\"color\": \"#4D5663\"}}, \"paper_bgcolor\": \"#F5F6F9\", \"plot_bgcolor\": \"#F5F6F9\", \"template\": {\"data\": {\"bar\": [{\"error_x\": {\"color\": \"#2a3f5f\"}, \"error_y\": {\"color\": \"#2a3f5f\"}, \"marker\": {\"line\": {\"color\": \"#E5ECF6\", \"width\": 0.5}}, \"type\": \"bar\"}], \"barpolar\": [{\"marker\": {\"line\": {\"color\": \"#E5ECF6\", \"width\": 0.5}}, \"type\": \"barpolar\"}], \"carpet\": [{\"aaxis\": {\"endlinecolor\": \"#2a3f5f\", \"gridcolor\": \"white\", \"linecolor\": \"white\", \"minorgridcolor\": \"white\", \"startlinecolor\": \"#2a3f5f\"}, \"baxis\": {\"endlinecolor\": \"#2a3f5f\", \"gridcolor\": \"white\", \"linecolor\": \"white\", \"minorgridcolor\": \"white\", \"startlinecolor\": \"#2a3f5f\"}, \"type\": \"carpet\"}], \"choropleth\": [{\"colorbar\": {\"outlinewidth\": 0, \"ticks\": \"\"}, \"type\": \"choropleth\"}], \"contour\": [{\"colorbar\": {\"outlinewidth\": 0, \"ticks\": \"\"}, \"colorscale\": [[0.0, \"#0d0887\"], [0.1111111111111111, \"#46039f\"], [0.2222222222222222, \"#7201a8\"], [0.3333333333333333, \"#9c179e\"], [0.4444444444444444, \"#bd3786\"], [0.5555555555555556, \"#d8576b\"], [0.6666666666666666, \"#ed7953\"], [0.7777777777777778, \"#fb9f3a\"], [0.8888888888888888, \"#fdca26\"], [1.0, \"#f0f921\"]], \"type\": \"contour\"}], \"contourcarpet\": [{\"colorbar\": {\"outlinewidth\": 0, \"ticks\": \"\"}, \"type\": \"contourcarpet\"}], \"heatmap\": [{\"colorbar\": {\"outlinewidth\": 0, \"ticks\": \"\"}, \"colorscale\": [[0.0, \"#0d0887\"], [0.1111111111111111, \"#46039f\"], [0.2222222222222222, \"#7201a8\"], [0.3333333333333333, \"#9c179e\"], [0.4444444444444444, \"#bd3786\"], [0.5555555555555556, \"#d8576b\"], [0.6666666666666666, \"#ed7953\"], [0.7777777777777778, \"#fb9f3a\"], [0.8888888888888888, \"#fdca26\"], [1.0, \"#f0f921\"]], \"type\": \"heatmap\"}], \"heatmapgl\": [{\"colorbar\": {\"outlinewidth\": 0, \"ticks\": \"\"}, \"colorscale\": [[0.0, \"#0d0887\"], [0.1111111111111111, \"#46039f\"], [0.2222222222222222, \"#7201a8\"], [0.3333333333333333, \"#9c179e\"], [0.4444444444444444, \"#bd3786\"], [0.5555555555555556, \"#d8576b\"], [0.6666666666666666, \"#ed7953\"], [0.7777777777777778, \"#fb9f3a\"], [0.8888888888888888, \"#fdca26\"], [1.0, \"#f0f921\"]], \"type\": \"heatmapgl\"}], \"histogram\": [{\"marker\": {\"colorbar\": {\"outlinewidth\": 0, \"ticks\": \"\"}}, \"type\": \"histogram\"}], \"histogram2d\": [{\"colorbar\": {\"outlinewidth\": 0, \"ticks\": \"\"}, \"colorscale\": [[0.0, \"#0d0887\"], [0.1111111111111111, \"#46039f\"], [0.2222222222222222, \"#7201a8\"], [0.3333333333333333, \"#9c179e\"], [0.4444444444444444, \"#bd3786\"], [0.5555555555555556, \"#d8576b\"], [0.6666666666666666, \"#ed7953\"], [0.7777777777777778, \"#fb9f3a\"], [0.8888888888888888, \"#fdca26\"], [1.0, \"#f0f921\"]], \"type\": \"histogram2d\"}], \"histogram2dcontour\": [{\"colorbar\": {\"outlinewidth\": 0, \"ticks\": \"\"}, \"colorscale\": [[0.0, \"#0d0887\"], [0.1111111111111111, \"#46039f\"], [0.2222222222222222, \"#7201a8\"], [0.3333333333333333, \"#9c179e\"], [0.4444444444444444, \"#bd3786\"], [0.5555555555555556, \"#d8576b\"], [0.6666666666666666, \"#ed7953\"], [0.7777777777777778, \"#fb9f3a\"], [0.8888888888888888, \"#fdca26\"], [1.0, \"#f0f921\"]], \"type\": \"histogram2dcontour\"}], \"mesh3d\": [{\"colorbar\": {\"outlinewidth\": 0, \"ticks\": \"\"}, \"type\": \"mesh3d\"}], \"parcoords\": [{\"line\": {\"colorbar\": {\"outlinewidth\": 0, \"ticks\": \"\"}}, \"type\": \"parcoords\"}], \"pie\": [{\"automargin\": true, \"type\": \"pie\"}], \"scatter\": [{\"marker\": {\"colorbar\": {\"outlinewidth\": 0, \"ticks\": \"\"}}, \"type\": \"scatter\"}], \"scatter3d\": [{\"line\": {\"colorbar\": {\"outlinewidth\": 0, \"ticks\": \"\"}}, \"marker\": {\"colorbar\": {\"outlinewidth\": 0, \"ticks\": \"\"}}, \"type\": \"scatter3d\"}], \"scattercarpet\": [{\"marker\": {\"colorbar\": {\"outlinewidth\": 0, \"ticks\": \"\"}}, \"type\": \"scattercarpet\"}], \"scattergeo\": [{\"marker\": {\"colorbar\": {\"outlinewidth\": 0, \"ticks\": \"\"}}, \"type\": \"scattergeo\"}], \"scattergl\": [{\"marker\": {\"colorbar\": {\"outlinewidth\": 0, \"ticks\": \"\"}}, \"type\": \"scattergl\"}], \"scattermapbox\": [{\"marker\": {\"colorbar\": {\"outlinewidth\": 0, \"ticks\": \"\"}}, \"type\": \"scattermapbox\"}], \"scatterpolar\": [{\"marker\": {\"colorbar\": {\"outlinewidth\": 0, \"ticks\": \"\"}}, \"type\": \"scatterpolar\"}], \"scatterpolargl\": [{\"marker\": {\"colorbar\": {\"outlinewidth\": 0, \"ticks\": \"\"}}, \"type\": \"scatterpolargl\"}], \"scatterternary\": [{\"marker\": {\"colorbar\": {\"outlinewidth\": 0, \"ticks\": \"\"}}, \"type\": \"scatterternary\"}], \"surface\": [{\"colorbar\": {\"outlinewidth\": 0, \"ticks\": \"\"}, \"colorscale\": [[0.0, \"#0d0887\"], [0.1111111111111111, \"#46039f\"], [0.2222222222222222, \"#7201a8\"], [0.3333333333333333, \"#9c179e\"], [0.4444444444444444, \"#bd3786\"], [0.5555555555555556, \"#d8576b\"], [0.6666666666666666, \"#ed7953\"], [0.7777777777777778, \"#fb9f3a\"], [0.8888888888888888, \"#fdca26\"], [1.0, \"#f0f921\"]], \"type\": \"surface\"}], \"table\": [{\"cells\": {\"fill\": {\"color\": \"#EBF0F8\"}, \"line\": {\"color\": \"white\"}}, \"header\": {\"fill\": {\"color\": \"#C8D4E3\"}, \"line\": {\"color\": \"white\"}}, \"type\": \"table\"}]}, \"layout\": {\"annotationdefaults\": {\"arrowcolor\": \"#2a3f5f\", \"arrowhead\": 0, \"arrowwidth\": 1}, \"autotypenumbers\": \"strict\", \"coloraxis\": {\"colorbar\": {\"outlinewidth\": 0, \"ticks\": \"\"}}, \"colorscale\": {\"diverging\": [[0, \"#8e0152\"], [0.1, \"#c51b7d\"], [0.2, \"#de77ae\"], [0.3, \"#f1b6da\"], [0.4, \"#fde0ef\"], [0.5, \"#f7f7f7\"], [0.6, \"#e6f5d0\"], [0.7, \"#b8e186\"], [0.8, \"#7fbc41\"], [0.9, \"#4d9221\"], [1, \"#276419\"]], \"sequential\": [[0.0, \"#0d0887\"], [0.1111111111111111, \"#46039f\"], [0.2222222222222222, \"#7201a8\"], [0.3333333333333333, \"#9c179e\"], [0.4444444444444444, \"#bd3786\"], [0.5555555555555556, \"#d8576b\"], [0.6666666666666666, \"#ed7953\"], [0.7777777777777778, \"#fb9f3a\"], [0.8888888888888888, \"#fdca26\"], [1.0, \"#f0f921\"]], \"sequentialminus\": [[0.0, \"#0d0887\"], [0.1111111111111111, \"#46039f\"], [0.2222222222222222, \"#7201a8\"], [0.3333333333333333, \"#9c179e\"], [0.4444444444444444, \"#bd3786\"], [0.5555555555555556, \"#d8576b\"], [0.6666666666666666, \"#ed7953\"], [0.7777777777777778, \"#fb9f3a\"], [0.8888888888888888, \"#fdca26\"], [1.0, \"#f0f921\"]]}, \"colorway\": [\"#636efa\", \"#EF553B\", \"#00cc96\", \"#ab63fa\", \"#FFA15A\", \"#19d3f3\", \"#FF6692\", \"#B6E880\", \"#FF97FF\", \"#FECB52\"], \"font\": {\"color\": \"#2a3f5f\"}, \"geo\": {\"bgcolor\": \"white\", \"lakecolor\": \"white\", \"landcolor\": \"#E5ECF6\", \"showlakes\": true, \"showland\": true, \"subunitcolor\": \"white\"}, \"hoverlabel\": {\"align\": \"left\"}, \"hovermode\": \"closest\", \"mapbox\": {\"style\": \"light\"}, \"paper_bgcolor\": \"white\", \"plot_bgcolor\": \"#E5ECF6\", \"polar\": {\"angularaxis\": {\"gridcolor\": \"white\", \"linecolor\": \"white\", \"ticks\": \"\"}, \"bgcolor\": \"#E5ECF6\", \"radialaxis\": {\"gridcolor\": \"white\", \"linecolor\": \"white\", \"ticks\": \"\"}}, \"scene\": {\"xaxis\": {\"backgroundcolor\": \"#E5ECF6\", \"gridcolor\": \"white\", \"gridwidth\": 2, \"linecolor\": \"white\", \"showbackground\": true, \"ticks\": \"\", \"zerolinecolor\": \"white\"}, \"yaxis\": {\"backgroundcolor\": \"#E5ECF6\", \"gridcolor\": \"white\", \"gridwidth\": 2, \"linecolor\": \"white\", \"showbackground\": true, \"ticks\": \"\", \"zerolinecolor\": \"white\"}, \"zaxis\": {\"backgroundcolor\": \"#E5ECF6\", \"gridcolor\": \"white\", \"gridwidth\": 2, \"linecolor\": \"white\", \"showbackground\": true, \"ticks\": \"\", \"zerolinecolor\": \"white\"}}, \"shapedefaults\": {\"line\": {\"color\": \"#2a3f5f\"}}, \"ternary\": {\"aaxis\": {\"gridcolor\": \"white\", \"linecolor\": \"white\", \"ticks\": \"\"}, \"baxis\": {\"gridcolor\": \"white\", \"linecolor\": \"white\", \"ticks\": \"\"}, \"bgcolor\": \"#E5ECF6\", \"caxis\": {\"gridcolor\": \"white\", \"linecolor\": \"white\", \"ticks\": \"\"}}, \"title\": {\"x\": 0.05}, \"xaxis\": {\"automargin\": true, \"gridcolor\": \"white\", \"linecolor\": \"white\", \"ticks\": \"\", \"title\": {\"standoff\": 15}, \"zerolinecolor\": \"white\", \"zerolinewidth\": 2}, \"yaxis\": {\"automargin\": true, \"gridcolor\": \"white\", \"linecolor\": \"white\", \"ticks\": \"\", \"title\": {\"standoff\": 15}, \"zerolinecolor\": \"white\", \"zerolinewidth\": 2}}}, \"title\": {\"font\": {\"color\": \"#4D5663\"}}, \"xaxis\": {\"gridcolor\": \"#E1E5ED\", \"showgrid\": true, \"tickfont\": {\"color\": \"#4D5663\"}, \"title\": {\"font\": {\"color\": \"#4D5663\"}, \"text\": \"\"}, \"zerolinecolor\": \"#E1E5ED\"}, \"yaxis\": {\"gridcolor\": \"#E1E5ED\", \"showgrid\": true, \"tickfont\": {\"color\": \"#4D5663\"}, \"title\": {\"font\": {\"color\": \"#4D5663\"}, \"text\": \"\"}, \"zerolinecolor\": \"#E1E5ED\"}},                        {\"showLink\": true, \"linkText\": \"Export to plot.ly\", \"plotlyServerURL\": \"https://plot.ly\", \"responsive\": true}                    ).then(function(){\n",
       "                            \n",
       "var gd = document.getElementById('846b793c-7d72-43e7-ba58-d15bd4bd6c61');\n",
       "var x = new MutationObserver(function (mutations, observer) {{\n",
       "        var display = window.getComputedStyle(gd).display;\n",
       "        if (!display || display === 'none') {{\n",
       "            console.log([gd, 'removed!']);\n",
       "            Plotly.purge(gd);\n",
       "            observer.disconnect();\n",
       "        }}\n",
       "}});\n",
       "\n",
       "// Listen for the removal of the full notebook cells\n",
       "var notebookContainer = gd.closest('#notebook-container');\n",
       "if (notebookContainer) {{\n",
       "    x.observe(notebookContainer, {childList: true});\n",
       "}}\n",
       "\n",
       "// Listen for the clearing of the current output cell\n",
       "var outputEl = gd.closest('.output');\n",
       "if (outputEl) {{\n",
       "    x.observe(outputEl, {childList: true});\n",
       "}}\n",
       "\n",
       "                        })                };                });            </script>        </div>"
      ]
     },
     "metadata": {},
     "output_type": "display_data"
    }
   ],
   "source": [
    "df['A'].iplot(kind='hist',bins=25)"
   ]
  },
  {
   "cell_type": "markdown",
   "metadata": {},
   "source": [
    "### Bubble Plot"
   ]
  },
  {
   "cell_type": "code",
   "execution_count": 17,
   "metadata": {},
   "outputs": [
    {
     "data": {
      "application/vnd.plotly.v1+json": {
       "config": {
        "linkText": "Export to plot.ly",
        "plotlyServerURL": "https://plot.ly",
        "showLink": true
       },
       "data": [
        {
         "marker": {
          "color": [
           "rgb(255, 153, 51)",
           "rgb(55, 128, 191)",
           "rgb(50, 171, 96)",
           "rgb(128, 0, 128)",
           "rgb(219, 64, 82)",
           "rgb(0, 128, 128)",
           "rgb(255, 255, 51)",
           "rgb(128, 128, 0)",
           "rgb(251, 128, 114)",
           "rgb(128, 177, 211)"
          ],
          "line": {
           "width": 1.3
          },
          "size": [
           56,
           59,
           60,
           63,
           56,
           102,
           83,
           65,
           59,
           43,
           56,
           65,
           78,
           34,
           57,
           51,
           63,
           59,
           57,
           34,
           51,
           70,
           112,
           47,
           44,
           50,
           40,
           74,
           81,
           42,
           28,
           86,
           67,
           64,
           12,
           44,
           65,
           57,
           50,
           69,
           69,
           14,
           108,
           76,
           66,
           53,
           24,
           45,
           58,
           20,
           37,
           39,
           43,
           50,
           66,
           54,
           73,
           106,
           90,
           52,
           40,
           31,
           86,
           80,
           52,
           22,
           62,
           63,
           54,
           46,
           96,
           72,
           41,
           47,
           88,
           29,
           83,
           67,
           60,
           92,
           32,
           57,
           94,
           50,
           47,
           82,
           25,
           76,
           35,
           68,
           70,
           76,
           44,
           54,
           29,
           34,
           17,
           28,
           57,
           64
          ],
          "symbol": "circle"
         },
         "mode": "markers",
         "text": "",
         "type": "scatter",
         "x": [
          -0.2908630835904841,
          0.7522026671935028,
          -0.3202202412277464,
          -0.3843185240987831,
          -0.11931133758015264,
          -0.06817300711027062,
          0.8622886800722961,
          -0.31057746212150983,
          0.8125623712304261,
          -1.5640669400281466,
          1.2355425375738671,
          0.8324247793641801,
          -0.24619011485215633,
          0.8599638885984369,
          2.515608696935039,
          -0.07276308416211145,
          0.5513061271034504,
          -1.073197145275396,
          -2.0003814065736987,
          0.08474756277100214,
          -0.47531304602403646,
          0.2849603958855241,
          0.3128040140963513,
          -0.1335933447541138,
          -0.561357095225552,
          0.5683662400926341,
          1.0250353032278872,
          -1.0102201871084513,
          0.6989540721372159,
          -0.4470276481220417,
          -1.4318993670426283,
          -1.778709711352007,
          -0.2013150386506052,
          0.90594323014043,
          -0.7068585466458727,
          0.6769572604577522,
          0.7939864245468552,
          -0.7538463469490789,
          -1.5109525329437004,
          0.03241263103920048,
          0.9457202231941569,
          -0.6361641291847315,
          0.8719018266954653,
          0.4866077668978206,
          -0.28575776536307634,
          -2.3753288076766776,
          -1.122899970532789,
          -0.7693332131825008,
          -0.6486311302735432,
          0.272670354146497,
          1.0501723719960416,
          -0.3652989022843855,
          -0.6162279728796006,
          0.4587412631291952,
          -0.5019271653215122,
          -0.2515218329079029,
          -0.6317256522448005,
          -0.08223348033417892,
          -0.0036923666681755664,
          1.266456167863406,
          -0.3560151451082724,
          0.3526100081966942,
          0.8185028299045045,
          -0.15608208664826334,
          -0.33548634877417594,
          0.11600603838969752,
          0.2712996817591125,
          -0.36049681660033206,
          -1.7525330513020736,
          1.450464166516479,
          -1.216821613042049,
          0.6034493801477613,
          -1.8379363094945262,
          1.138064473201576,
          0.8394327104637465,
          -1.929090849772803,
          -1.072691459283474,
          -0.43038935680185325,
          -0.7400367966877052,
          -1.322632993361467,
          0.5787215505345139,
          -1.357954952041852,
          -0.6021767109518883,
          0.13132077562065864,
          1.5594079056934678,
          1.535216779827442,
          -0.19368758523366292,
          -0.3557438285284079,
          0.7849209968717704,
          -1.7621278569068,
          0.6267176980025514,
          -2.8652636529097717,
          -0.770483051114564,
          0.5280043573619357,
          -0.800516072738706,
          -1.743415921195421,
          -3.1720879132649635,
          -0.9725183317291045,
          0.6848046759556948,
          -1.0177256470591118
         ],
         "y": [
          -0.6057254125189131,
          -0.1892998620186739,
          0.26690625989144934,
          0.8801506841686696,
          -2.163784553004971,
          -0.4614535843193734,
          -0.477493821743666,
          1.415970231503484,
          -0.32532434268508886,
          -0.623502578386509,
          0.46107409795762677,
          -0.17597837771622932,
          -0.010493028851549516,
          0.12707067248642415,
          1.6821349613945324,
          1.4896885981293346,
          1.6774362491281654,
          1.7768769787637884,
          0.02482122889581526,
          -0.08490748620525963,
          -0.7745530167443184,
          0.7281703263038644,
          0.34604550500472503,
          1.6609483397717384,
          -0.152552190572538,
          -0.23369305198586304,
          -0.7120689525561642,
          0.42787313319929604,
          1.133049796582027,
          -0.6412951044882726,
          0.8955770585287715,
          -0.4726809527145295,
          0.14844968009098905,
          -0.21346438354012479,
          1.1349094316201722,
          0.3303734816044888,
          0.08667582342525072,
          0.8892484751851075,
          -0.12466594725091838,
          0.8827036907344208,
          1.2094937839467363,
          -0.4895836620137229,
          -0.5408427475391092,
          -1.0410265851439164,
          -0.8895250070698203,
          -0.11542371743890872,
          -0.2565703204603735,
          -1.025057326973805,
          -0.17505685722310804,
          0.7156960922973573,
          0.3364902049994554,
          0.3922927246547013,
          -1.3069168912035614,
          1.0855895861961868,
          0.38972558986895434,
          1.3949581546509382,
          -0.15477016380895434,
          -1.0490182284984666,
          -0.7284534907657603,
          -0.43638936764173697,
          0.6725356433554945,
          -1.3786402449176423,
          0.48072039417330187,
          -0.0017498029708925967,
          0.5018239222039128,
          1.6771097664851364,
          0.35373070444751786,
          0.8266608353330749,
          -0.3749302565897924,
          -0.4353583055446691,
          -1.2005208565469987,
          -0.8799068979454695,
          1.0274027527929517,
          0.3647258386082056,
          0.45955622956747993,
          -0.09155025515307294,
          -1.3399406737564568,
          0.616572965129828,
          0.3878866411322037,
          0.32055906658916067,
          0.7972281495815815,
          2.389749279180996,
          -1.2494200166450264,
          1.903338137180644,
          0.736383662558544,
          -0.2549611298886137,
          0.4816846935415098,
          -0.1640079781722683,
          0.4242312582039998,
          0.8552838937608425,
          -1.9059829052191977,
          0.8331154077999772,
          0.443487283792609,
          -0.2301629498760557,
          -0.4811227799019512,
          0.6444819505648139,
          -1.2330396356002027,
          -0.24868752637889677,
          -0.38122386681139986,
          -0.16332571723924683
         ]
        }
       ],
       "layout": {
        "legend": {
         "bgcolor": "#F5F6F9",
         "font": {
          "color": "#4D5663"
         }
        },
        "paper_bgcolor": "#F5F6F9",
        "plot_bgcolor": "#F5F6F9",
        "template": {
         "data": {
          "bar": [
           {
            "error_x": {
             "color": "#2a3f5f"
            },
            "error_y": {
             "color": "#2a3f5f"
            },
            "marker": {
             "line": {
              "color": "#E5ECF6",
              "width": 0.5
             }
            },
            "type": "bar"
           }
          ],
          "barpolar": [
           {
            "marker": {
             "line": {
              "color": "#E5ECF6",
              "width": 0.5
             }
            },
            "type": "barpolar"
           }
          ],
          "carpet": [
           {
            "aaxis": {
             "endlinecolor": "#2a3f5f",
             "gridcolor": "white",
             "linecolor": "white",
             "minorgridcolor": "white",
             "startlinecolor": "#2a3f5f"
            },
            "baxis": {
             "endlinecolor": "#2a3f5f",
             "gridcolor": "white",
             "linecolor": "white",
             "minorgridcolor": "white",
             "startlinecolor": "#2a3f5f"
            },
            "type": "carpet"
           }
          ],
          "choropleth": [
           {
            "colorbar": {
             "outlinewidth": 0,
             "ticks": ""
            },
            "type": "choropleth"
           }
          ],
          "contour": [
           {
            "colorbar": {
             "outlinewidth": 0,
             "ticks": ""
            },
            "colorscale": [
             [
              0,
              "#0d0887"
             ],
             [
              0.1111111111111111,
              "#46039f"
             ],
             [
              0.2222222222222222,
              "#7201a8"
             ],
             [
              0.3333333333333333,
              "#9c179e"
             ],
             [
              0.4444444444444444,
              "#bd3786"
             ],
             [
              0.5555555555555556,
              "#d8576b"
             ],
             [
              0.6666666666666666,
              "#ed7953"
             ],
             [
              0.7777777777777778,
              "#fb9f3a"
             ],
             [
              0.8888888888888888,
              "#fdca26"
             ],
             [
              1,
              "#f0f921"
             ]
            ],
            "type": "contour"
           }
          ],
          "contourcarpet": [
           {
            "colorbar": {
             "outlinewidth": 0,
             "ticks": ""
            },
            "type": "contourcarpet"
           }
          ],
          "heatmap": [
           {
            "colorbar": {
             "outlinewidth": 0,
             "ticks": ""
            },
            "colorscale": [
             [
              0,
              "#0d0887"
             ],
             [
              0.1111111111111111,
              "#46039f"
             ],
             [
              0.2222222222222222,
              "#7201a8"
             ],
             [
              0.3333333333333333,
              "#9c179e"
             ],
             [
              0.4444444444444444,
              "#bd3786"
             ],
             [
              0.5555555555555556,
              "#d8576b"
             ],
             [
              0.6666666666666666,
              "#ed7953"
             ],
             [
              0.7777777777777778,
              "#fb9f3a"
             ],
             [
              0.8888888888888888,
              "#fdca26"
             ],
             [
              1,
              "#f0f921"
             ]
            ],
            "type": "heatmap"
           }
          ],
          "heatmapgl": [
           {
            "colorbar": {
             "outlinewidth": 0,
             "ticks": ""
            },
            "colorscale": [
             [
              0,
              "#0d0887"
             ],
             [
              0.1111111111111111,
              "#46039f"
             ],
             [
              0.2222222222222222,
              "#7201a8"
             ],
             [
              0.3333333333333333,
              "#9c179e"
             ],
             [
              0.4444444444444444,
              "#bd3786"
             ],
             [
              0.5555555555555556,
              "#d8576b"
             ],
             [
              0.6666666666666666,
              "#ed7953"
             ],
             [
              0.7777777777777778,
              "#fb9f3a"
             ],
             [
              0.8888888888888888,
              "#fdca26"
             ],
             [
              1,
              "#f0f921"
             ]
            ],
            "type": "heatmapgl"
           }
          ],
          "histogram": [
           {
            "marker": {
             "colorbar": {
              "outlinewidth": 0,
              "ticks": ""
             }
            },
            "type": "histogram"
           }
          ],
          "histogram2d": [
           {
            "colorbar": {
             "outlinewidth": 0,
             "ticks": ""
            },
            "colorscale": [
             [
              0,
              "#0d0887"
             ],
             [
              0.1111111111111111,
              "#46039f"
             ],
             [
              0.2222222222222222,
              "#7201a8"
             ],
             [
              0.3333333333333333,
              "#9c179e"
             ],
             [
              0.4444444444444444,
              "#bd3786"
             ],
             [
              0.5555555555555556,
              "#d8576b"
             ],
             [
              0.6666666666666666,
              "#ed7953"
             ],
             [
              0.7777777777777778,
              "#fb9f3a"
             ],
             [
              0.8888888888888888,
              "#fdca26"
             ],
             [
              1,
              "#f0f921"
             ]
            ],
            "type": "histogram2d"
           }
          ],
          "histogram2dcontour": [
           {
            "colorbar": {
             "outlinewidth": 0,
             "ticks": ""
            },
            "colorscale": [
             [
              0,
              "#0d0887"
             ],
             [
              0.1111111111111111,
              "#46039f"
             ],
             [
              0.2222222222222222,
              "#7201a8"
             ],
             [
              0.3333333333333333,
              "#9c179e"
             ],
             [
              0.4444444444444444,
              "#bd3786"
             ],
             [
              0.5555555555555556,
              "#d8576b"
             ],
             [
              0.6666666666666666,
              "#ed7953"
             ],
             [
              0.7777777777777778,
              "#fb9f3a"
             ],
             [
              0.8888888888888888,
              "#fdca26"
             ],
             [
              1,
              "#f0f921"
             ]
            ],
            "type": "histogram2dcontour"
           }
          ],
          "mesh3d": [
           {
            "colorbar": {
             "outlinewidth": 0,
             "ticks": ""
            },
            "type": "mesh3d"
           }
          ],
          "parcoords": [
           {
            "line": {
             "colorbar": {
              "outlinewidth": 0,
              "ticks": ""
             }
            },
            "type": "parcoords"
           }
          ],
          "pie": [
           {
            "automargin": true,
            "type": "pie"
           }
          ],
          "scatter": [
           {
            "marker": {
             "colorbar": {
              "outlinewidth": 0,
              "ticks": ""
             }
            },
            "type": "scatter"
           }
          ],
          "scatter3d": [
           {
            "line": {
             "colorbar": {
              "outlinewidth": 0,
              "ticks": ""
             }
            },
            "marker": {
             "colorbar": {
              "outlinewidth": 0,
              "ticks": ""
             }
            },
            "type": "scatter3d"
           }
          ],
          "scattercarpet": [
           {
            "marker": {
             "colorbar": {
              "outlinewidth": 0,
              "ticks": ""
             }
            },
            "type": "scattercarpet"
           }
          ],
          "scattergeo": [
           {
            "marker": {
             "colorbar": {
              "outlinewidth": 0,
              "ticks": ""
             }
            },
            "type": "scattergeo"
           }
          ],
          "scattergl": [
           {
            "marker": {
             "colorbar": {
              "outlinewidth": 0,
              "ticks": ""
             }
            },
            "type": "scattergl"
           }
          ],
          "scattermapbox": [
           {
            "marker": {
             "colorbar": {
              "outlinewidth": 0,
              "ticks": ""
             }
            },
            "type": "scattermapbox"
           }
          ],
          "scatterpolar": [
           {
            "marker": {
             "colorbar": {
              "outlinewidth": 0,
              "ticks": ""
             }
            },
            "type": "scatterpolar"
           }
          ],
          "scatterpolargl": [
           {
            "marker": {
             "colorbar": {
              "outlinewidth": 0,
              "ticks": ""
             }
            },
            "type": "scatterpolargl"
           }
          ],
          "scatterternary": [
           {
            "marker": {
             "colorbar": {
              "outlinewidth": 0,
              "ticks": ""
             }
            },
            "type": "scatterternary"
           }
          ],
          "surface": [
           {
            "colorbar": {
             "outlinewidth": 0,
             "ticks": ""
            },
            "colorscale": [
             [
              0,
              "#0d0887"
             ],
             [
              0.1111111111111111,
              "#46039f"
             ],
             [
              0.2222222222222222,
              "#7201a8"
             ],
             [
              0.3333333333333333,
              "#9c179e"
             ],
             [
              0.4444444444444444,
              "#bd3786"
             ],
             [
              0.5555555555555556,
              "#d8576b"
             ],
             [
              0.6666666666666666,
              "#ed7953"
             ],
             [
              0.7777777777777778,
              "#fb9f3a"
             ],
             [
              0.8888888888888888,
              "#fdca26"
             ],
             [
              1,
              "#f0f921"
             ]
            ],
            "type": "surface"
           }
          ],
          "table": [
           {
            "cells": {
             "fill": {
              "color": "#EBF0F8"
             },
             "line": {
              "color": "white"
             }
            },
            "header": {
             "fill": {
              "color": "#C8D4E3"
             },
             "line": {
              "color": "white"
             }
            },
            "type": "table"
           }
          ]
         },
         "layout": {
          "annotationdefaults": {
           "arrowcolor": "#2a3f5f",
           "arrowhead": 0,
           "arrowwidth": 1
          },
          "autotypenumbers": "strict",
          "coloraxis": {
           "colorbar": {
            "outlinewidth": 0,
            "ticks": ""
           }
          },
          "colorscale": {
           "diverging": [
            [
             0,
             "#8e0152"
            ],
            [
             0.1,
             "#c51b7d"
            ],
            [
             0.2,
             "#de77ae"
            ],
            [
             0.3,
             "#f1b6da"
            ],
            [
             0.4,
             "#fde0ef"
            ],
            [
             0.5,
             "#f7f7f7"
            ],
            [
             0.6,
             "#e6f5d0"
            ],
            [
             0.7,
             "#b8e186"
            ],
            [
             0.8,
             "#7fbc41"
            ],
            [
             0.9,
             "#4d9221"
            ],
            [
             1,
             "#276419"
            ]
           ],
           "sequential": [
            [
             0,
             "#0d0887"
            ],
            [
             0.1111111111111111,
             "#46039f"
            ],
            [
             0.2222222222222222,
             "#7201a8"
            ],
            [
             0.3333333333333333,
             "#9c179e"
            ],
            [
             0.4444444444444444,
             "#bd3786"
            ],
            [
             0.5555555555555556,
             "#d8576b"
            ],
            [
             0.6666666666666666,
             "#ed7953"
            ],
            [
             0.7777777777777778,
             "#fb9f3a"
            ],
            [
             0.8888888888888888,
             "#fdca26"
            ],
            [
             1,
             "#f0f921"
            ]
           ],
           "sequentialminus": [
            [
             0,
             "#0d0887"
            ],
            [
             0.1111111111111111,
             "#46039f"
            ],
            [
             0.2222222222222222,
             "#7201a8"
            ],
            [
             0.3333333333333333,
             "#9c179e"
            ],
            [
             0.4444444444444444,
             "#bd3786"
            ],
            [
             0.5555555555555556,
             "#d8576b"
            ],
            [
             0.6666666666666666,
             "#ed7953"
            ],
            [
             0.7777777777777778,
             "#fb9f3a"
            ],
            [
             0.8888888888888888,
             "#fdca26"
            ],
            [
             1,
             "#f0f921"
            ]
           ]
          },
          "colorway": [
           "#636efa",
           "#EF553B",
           "#00cc96",
           "#ab63fa",
           "#FFA15A",
           "#19d3f3",
           "#FF6692",
           "#B6E880",
           "#FF97FF",
           "#FECB52"
          ],
          "font": {
           "color": "#2a3f5f"
          },
          "geo": {
           "bgcolor": "white",
           "lakecolor": "white",
           "landcolor": "#E5ECF6",
           "showlakes": true,
           "showland": true,
           "subunitcolor": "white"
          },
          "hoverlabel": {
           "align": "left"
          },
          "hovermode": "closest",
          "mapbox": {
           "style": "light"
          },
          "paper_bgcolor": "white",
          "plot_bgcolor": "#E5ECF6",
          "polar": {
           "angularaxis": {
            "gridcolor": "white",
            "linecolor": "white",
            "ticks": ""
           },
           "bgcolor": "#E5ECF6",
           "radialaxis": {
            "gridcolor": "white",
            "linecolor": "white",
            "ticks": ""
           }
          },
          "scene": {
           "xaxis": {
            "backgroundcolor": "#E5ECF6",
            "gridcolor": "white",
            "gridwidth": 2,
            "linecolor": "white",
            "showbackground": true,
            "ticks": "",
            "zerolinecolor": "white"
           },
           "yaxis": {
            "backgroundcolor": "#E5ECF6",
            "gridcolor": "white",
            "gridwidth": 2,
            "linecolor": "white",
            "showbackground": true,
            "ticks": "",
            "zerolinecolor": "white"
           },
           "zaxis": {
            "backgroundcolor": "#E5ECF6",
            "gridcolor": "white",
            "gridwidth": 2,
            "linecolor": "white",
            "showbackground": true,
            "ticks": "",
            "zerolinecolor": "white"
           }
          },
          "shapedefaults": {
           "line": {
            "color": "#2a3f5f"
           }
          },
          "ternary": {
           "aaxis": {
            "gridcolor": "white",
            "linecolor": "white",
            "ticks": ""
           },
           "baxis": {
            "gridcolor": "white",
            "linecolor": "white",
            "ticks": ""
           },
           "bgcolor": "#E5ECF6",
           "caxis": {
            "gridcolor": "white",
            "linecolor": "white",
            "ticks": ""
           }
          },
          "title": {
           "x": 0.05
          },
          "xaxis": {
           "automargin": true,
           "gridcolor": "white",
           "linecolor": "white",
           "ticks": "",
           "title": {
            "standoff": 15
           },
           "zerolinecolor": "white",
           "zerolinewidth": 2
          },
          "yaxis": {
           "automargin": true,
           "gridcolor": "white",
           "linecolor": "white",
           "ticks": "",
           "title": {
            "standoff": 15
           },
           "zerolinecolor": "white",
           "zerolinewidth": 2
          }
         }
        },
        "title": {
         "font": {
          "color": "#4D5663"
         }
        },
        "xaxis": {
         "gridcolor": "#E1E5ED",
         "showgrid": true,
         "tickfont": {
          "color": "#4D5663"
         },
         "title": {
          "font": {
           "color": "#4D5663"
          },
          "text": ""
         },
         "zerolinecolor": "#E1E5ED"
        },
        "yaxis": {
         "gridcolor": "#E1E5ED",
         "showgrid": true,
         "tickfont": {
          "color": "#4D5663"
         },
         "title": {
          "font": {
           "color": "#4D5663"
          },
          "text": ""
         },
         "zerolinecolor": "#E1E5ED"
        }
       }
      },
      "text/html": [
       "<div>                            <div id=\"fc113fb0-31a9-44f6-99c0-527eae93b9b5\" class=\"plotly-graph-div\" style=\"height:525px; width:100%;\"></div>            <script type=\"text/javascript\">                require([\"plotly\"], function(Plotly) {                    window.PLOTLYENV=window.PLOTLYENV || {};\n",
       "                    window.PLOTLYENV.BASE_URL='https://plot.ly';                                    if (document.getElementById(\"fc113fb0-31a9-44f6-99c0-527eae93b9b5\")) {                    Plotly.newPlot(                        \"fc113fb0-31a9-44f6-99c0-527eae93b9b5\",                        [{\"marker\": {\"color\": [\"rgb(255, 153, 51)\", \"rgb(55, 128, 191)\", \"rgb(50, 171, 96)\", \"rgb(128, 0, 128)\", \"rgb(219, 64, 82)\", \"rgb(0, 128, 128)\", \"rgb(255, 255, 51)\", \"rgb(128, 128, 0)\", \"rgb(251, 128, 114)\", \"rgb(128, 177, 211)\"], \"line\": {\"width\": 1.3}, \"size\": [56, 59, 60, 63, 56, 102, 83, 65, 59, 43, 56, 65, 78, 34, 57, 51, 63, 59, 57, 34, 51, 70, 112, 47, 44, 50, 40, 74, 81, 42, 28, 86, 67, 64, 12, 44, 65, 57, 50, 69, 69, 14, 108, 76, 66, 53, 24, 45, 58, 20, 37, 39, 43, 50, 66, 54, 73, 106, 90, 52, 40, 31, 86, 80, 52, 22, 62, 63, 54, 46, 96, 72, 41, 47, 88, 29, 83, 67, 60, 92, 32, 57, 94, 50, 47, 82, 25, 76, 35, 68, 70, 76, 44, 54, 29, 34, 17, 28, 57, 64], \"symbol\": \"circle\"}, \"mode\": \"markers\", \"text\": \"\", \"type\": \"scatter\", \"x\": [-0.2908630835904841, 0.7522026671935028, -0.3202202412277464, -0.3843185240987831, -0.11931133758015264, -0.06817300711027062, 0.8622886800722961, -0.31057746212150983, 0.8125623712304261, -1.5640669400281466, 1.2355425375738671, 0.8324247793641801, -0.24619011485215633, 0.8599638885984369, 2.515608696935039, -0.07276308416211145, 0.5513061271034504, -1.073197145275396, -2.0003814065736987, 0.08474756277100214, -0.47531304602403646, 0.2849603958855241, 0.3128040140963513, -0.1335933447541138, -0.561357095225552, 0.5683662400926341, 1.0250353032278872, -1.0102201871084513, 0.6989540721372159, -0.4470276481220417, -1.4318993670426283, -1.778709711352007, -0.2013150386506052, 0.90594323014043, -0.7068585466458727, 0.6769572604577522, 0.7939864245468552, -0.7538463469490789, -1.5109525329437004, 0.03241263103920048, 0.9457202231941569, -0.6361641291847315, 0.8719018266954653, 0.4866077668978206, -0.28575776536307634, -2.3753288076766776, -1.122899970532789, -0.7693332131825008, -0.6486311302735432, 0.272670354146497, 1.0501723719960416, -0.3652989022843855, -0.6162279728796006, 0.4587412631291952, -0.5019271653215122, -0.2515218329079029, -0.6317256522448005, -0.08223348033417892, -0.0036923666681755664, 1.266456167863406, -0.3560151451082724, 0.3526100081966942, 0.8185028299045045, -0.15608208664826334, -0.33548634877417594, 0.11600603838969752, 0.2712996817591125, -0.36049681660033206, -1.7525330513020736, 1.450464166516479, -1.216821613042049, 0.6034493801477613, -1.8379363094945262, 1.138064473201576, 0.8394327104637465, -1.929090849772803, -1.072691459283474, -0.43038935680185325, -0.7400367966877052, -1.322632993361467, 0.5787215505345139, -1.357954952041852, -0.6021767109518883, 0.13132077562065864, 1.5594079056934678, 1.535216779827442, -0.19368758523366292, -0.3557438285284079, 0.7849209968717704, -1.7621278569068, 0.6267176980025514, -2.8652636529097717, -0.770483051114564, 0.5280043573619357, -0.800516072738706, -1.743415921195421, -3.1720879132649635, -0.9725183317291045, 0.6848046759556948, -1.0177256470591118], \"y\": [-0.6057254125189131, -0.1892998620186739, 0.26690625989144934, 0.8801506841686696, -2.163784553004971, -0.4614535843193734, -0.477493821743666, 1.415970231503484, -0.32532434268508886, -0.623502578386509, 0.46107409795762677, -0.17597837771622932, -0.010493028851549516, 0.12707067248642415, 1.6821349613945324, 1.4896885981293346, 1.6774362491281654, 1.7768769787637884, 0.02482122889581526, -0.08490748620525963, -0.7745530167443184, 0.7281703263038644, 0.34604550500472503, 1.6609483397717384, -0.152552190572538, -0.23369305198586304, -0.7120689525561642, 0.42787313319929604, 1.133049796582027, -0.6412951044882726, 0.8955770585287715, -0.4726809527145295, 0.14844968009098905, -0.21346438354012479, 1.1349094316201722, 0.3303734816044888, 0.08667582342525072, 0.8892484751851075, -0.12466594725091838, 0.8827036907344208, 1.2094937839467363, -0.4895836620137229, -0.5408427475391092, -1.0410265851439164, -0.8895250070698203, -0.11542371743890872, -0.2565703204603735, -1.025057326973805, -0.17505685722310804, 0.7156960922973573, 0.3364902049994554, 0.3922927246547013, -1.3069168912035614, 1.0855895861961868, 0.38972558986895434, 1.3949581546509382, -0.15477016380895434, -1.0490182284984666, -0.7284534907657603, -0.43638936764173697, 0.6725356433554945, -1.3786402449176423, 0.48072039417330187, -0.0017498029708925967, 0.5018239222039128, 1.6771097664851364, 0.35373070444751786, 0.8266608353330749, -0.3749302565897924, -0.4353583055446691, -1.2005208565469987, -0.8799068979454695, 1.0274027527929517, 0.3647258386082056, 0.45955622956747993, -0.09155025515307294, -1.3399406737564568, 0.616572965129828, 0.3878866411322037, 0.32055906658916067, 0.7972281495815815, 2.389749279180996, -1.2494200166450264, 1.903338137180644, 0.736383662558544, -0.2549611298886137, 0.4816846935415098, -0.1640079781722683, 0.4242312582039998, 0.8552838937608425, -1.9059829052191977, 0.8331154077999772, 0.443487283792609, -0.2301629498760557, -0.4811227799019512, 0.6444819505648139, -1.2330396356002027, -0.24868752637889677, -0.38122386681139986, -0.16332571723924683]}],                        {\"legend\": {\"bgcolor\": \"#F5F6F9\", \"font\": {\"color\": \"#4D5663\"}}, \"paper_bgcolor\": \"#F5F6F9\", \"plot_bgcolor\": \"#F5F6F9\", \"template\": {\"data\": {\"bar\": [{\"error_x\": {\"color\": \"#2a3f5f\"}, \"error_y\": {\"color\": \"#2a3f5f\"}, \"marker\": {\"line\": {\"color\": \"#E5ECF6\", \"width\": 0.5}}, \"type\": \"bar\"}], \"barpolar\": [{\"marker\": {\"line\": {\"color\": \"#E5ECF6\", \"width\": 0.5}}, \"type\": \"barpolar\"}], \"carpet\": [{\"aaxis\": {\"endlinecolor\": \"#2a3f5f\", \"gridcolor\": \"white\", \"linecolor\": \"white\", \"minorgridcolor\": \"white\", \"startlinecolor\": \"#2a3f5f\"}, \"baxis\": {\"endlinecolor\": \"#2a3f5f\", \"gridcolor\": \"white\", \"linecolor\": \"white\", \"minorgridcolor\": \"white\", \"startlinecolor\": \"#2a3f5f\"}, \"type\": \"carpet\"}], \"choropleth\": [{\"colorbar\": {\"outlinewidth\": 0, \"ticks\": \"\"}, \"type\": \"choropleth\"}], \"contour\": [{\"colorbar\": {\"outlinewidth\": 0, \"ticks\": \"\"}, \"colorscale\": [[0.0, \"#0d0887\"], [0.1111111111111111, \"#46039f\"], [0.2222222222222222, \"#7201a8\"], [0.3333333333333333, \"#9c179e\"], [0.4444444444444444, \"#bd3786\"], [0.5555555555555556, \"#d8576b\"], [0.6666666666666666, \"#ed7953\"], [0.7777777777777778, \"#fb9f3a\"], [0.8888888888888888, \"#fdca26\"], [1.0, \"#f0f921\"]], \"type\": \"contour\"}], \"contourcarpet\": [{\"colorbar\": {\"outlinewidth\": 0, \"ticks\": \"\"}, \"type\": \"contourcarpet\"}], \"heatmap\": [{\"colorbar\": {\"outlinewidth\": 0, \"ticks\": \"\"}, \"colorscale\": [[0.0, \"#0d0887\"], [0.1111111111111111, \"#46039f\"], [0.2222222222222222, \"#7201a8\"], [0.3333333333333333, \"#9c179e\"], [0.4444444444444444, \"#bd3786\"], [0.5555555555555556, \"#d8576b\"], [0.6666666666666666, \"#ed7953\"], [0.7777777777777778, \"#fb9f3a\"], [0.8888888888888888, \"#fdca26\"], [1.0, \"#f0f921\"]], \"type\": \"heatmap\"}], \"heatmapgl\": [{\"colorbar\": {\"outlinewidth\": 0, \"ticks\": \"\"}, \"colorscale\": [[0.0, \"#0d0887\"], [0.1111111111111111, \"#46039f\"], [0.2222222222222222, \"#7201a8\"], [0.3333333333333333, \"#9c179e\"], [0.4444444444444444, \"#bd3786\"], [0.5555555555555556, \"#d8576b\"], [0.6666666666666666, \"#ed7953\"], [0.7777777777777778, \"#fb9f3a\"], [0.8888888888888888, \"#fdca26\"], [1.0, \"#f0f921\"]], \"type\": \"heatmapgl\"}], \"histogram\": [{\"marker\": {\"colorbar\": {\"outlinewidth\": 0, \"ticks\": \"\"}}, \"type\": \"histogram\"}], \"histogram2d\": [{\"colorbar\": {\"outlinewidth\": 0, \"ticks\": \"\"}, \"colorscale\": [[0.0, \"#0d0887\"], [0.1111111111111111, \"#46039f\"], [0.2222222222222222, \"#7201a8\"], [0.3333333333333333, \"#9c179e\"], [0.4444444444444444, \"#bd3786\"], [0.5555555555555556, \"#d8576b\"], [0.6666666666666666, \"#ed7953\"], [0.7777777777777778, \"#fb9f3a\"], [0.8888888888888888, \"#fdca26\"], [1.0, \"#f0f921\"]], \"type\": \"histogram2d\"}], \"histogram2dcontour\": [{\"colorbar\": {\"outlinewidth\": 0, \"ticks\": \"\"}, \"colorscale\": [[0.0, \"#0d0887\"], [0.1111111111111111, \"#46039f\"], [0.2222222222222222, \"#7201a8\"], [0.3333333333333333, \"#9c179e\"], [0.4444444444444444, \"#bd3786\"], [0.5555555555555556, \"#d8576b\"], [0.6666666666666666, \"#ed7953\"], [0.7777777777777778, \"#fb9f3a\"], [0.8888888888888888, \"#fdca26\"], [1.0, \"#f0f921\"]], \"type\": \"histogram2dcontour\"}], \"mesh3d\": [{\"colorbar\": {\"outlinewidth\": 0, \"ticks\": \"\"}, \"type\": \"mesh3d\"}], \"parcoords\": [{\"line\": {\"colorbar\": {\"outlinewidth\": 0, \"ticks\": \"\"}}, \"type\": \"parcoords\"}], \"pie\": [{\"automargin\": true, \"type\": \"pie\"}], \"scatter\": [{\"marker\": {\"colorbar\": {\"outlinewidth\": 0, \"ticks\": \"\"}}, \"type\": \"scatter\"}], \"scatter3d\": [{\"line\": {\"colorbar\": {\"outlinewidth\": 0, \"ticks\": \"\"}}, \"marker\": {\"colorbar\": {\"outlinewidth\": 0, \"ticks\": \"\"}}, \"type\": \"scatter3d\"}], \"scattercarpet\": [{\"marker\": {\"colorbar\": {\"outlinewidth\": 0, \"ticks\": \"\"}}, \"type\": \"scattercarpet\"}], \"scattergeo\": [{\"marker\": {\"colorbar\": {\"outlinewidth\": 0, \"ticks\": \"\"}}, \"type\": \"scattergeo\"}], \"scattergl\": [{\"marker\": {\"colorbar\": {\"outlinewidth\": 0, \"ticks\": \"\"}}, \"type\": \"scattergl\"}], \"scattermapbox\": [{\"marker\": {\"colorbar\": {\"outlinewidth\": 0, \"ticks\": \"\"}}, \"type\": \"scattermapbox\"}], \"scatterpolar\": [{\"marker\": {\"colorbar\": {\"outlinewidth\": 0, \"ticks\": \"\"}}, \"type\": \"scatterpolar\"}], \"scatterpolargl\": [{\"marker\": {\"colorbar\": {\"outlinewidth\": 0, \"ticks\": \"\"}}, \"type\": \"scatterpolargl\"}], \"scatterternary\": [{\"marker\": {\"colorbar\": {\"outlinewidth\": 0, \"ticks\": \"\"}}, \"type\": \"scatterternary\"}], \"surface\": [{\"colorbar\": {\"outlinewidth\": 0, \"ticks\": \"\"}, \"colorscale\": [[0.0, \"#0d0887\"], [0.1111111111111111, \"#46039f\"], [0.2222222222222222, \"#7201a8\"], [0.3333333333333333, \"#9c179e\"], [0.4444444444444444, \"#bd3786\"], [0.5555555555555556, \"#d8576b\"], [0.6666666666666666, \"#ed7953\"], [0.7777777777777778, \"#fb9f3a\"], [0.8888888888888888, \"#fdca26\"], [1.0, \"#f0f921\"]], \"type\": \"surface\"}], \"table\": [{\"cells\": {\"fill\": {\"color\": \"#EBF0F8\"}, \"line\": {\"color\": \"white\"}}, \"header\": {\"fill\": {\"color\": \"#C8D4E3\"}, \"line\": {\"color\": \"white\"}}, \"type\": \"table\"}]}, \"layout\": {\"annotationdefaults\": {\"arrowcolor\": \"#2a3f5f\", \"arrowhead\": 0, \"arrowwidth\": 1}, \"autotypenumbers\": \"strict\", \"coloraxis\": {\"colorbar\": {\"outlinewidth\": 0, \"ticks\": \"\"}}, \"colorscale\": {\"diverging\": [[0, \"#8e0152\"], [0.1, \"#c51b7d\"], [0.2, \"#de77ae\"], [0.3, \"#f1b6da\"], [0.4, \"#fde0ef\"], [0.5, \"#f7f7f7\"], [0.6, \"#e6f5d0\"], [0.7, \"#b8e186\"], [0.8, \"#7fbc41\"], [0.9, \"#4d9221\"], [1, \"#276419\"]], \"sequential\": [[0.0, \"#0d0887\"], [0.1111111111111111, \"#46039f\"], [0.2222222222222222, \"#7201a8\"], [0.3333333333333333, \"#9c179e\"], [0.4444444444444444, \"#bd3786\"], [0.5555555555555556, \"#d8576b\"], [0.6666666666666666, \"#ed7953\"], [0.7777777777777778, \"#fb9f3a\"], [0.8888888888888888, \"#fdca26\"], [1.0, \"#f0f921\"]], \"sequentialminus\": [[0.0, \"#0d0887\"], [0.1111111111111111, \"#46039f\"], [0.2222222222222222, \"#7201a8\"], [0.3333333333333333, \"#9c179e\"], [0.4444444444444444, \"#bd3786\"], [0.5555555555555556, \"#d8576b\"], [0.6666666666666666, \"#ed7953\"], [0.7777777777777778, \"#fb9f3a\"], [0.8888888888888888, \"#fdca26\"], [1.0, \"#f0f921\"]]}, \"colorway\": [\"#636efa\", \"#EF553B\", \"#00cc96\", \"#ab63fa\", \"#FFA15A\", \"#19d3f3\", \"#FF6692\", \"#B6E880\", \"#FF97FF\", \"#FECB52\"], \"font\": {\"color\": \"#2a3f5f\"}, \"geo\": {\"bgcolor\": \"white\", \"lakecolor\": \"white\", \"landcolor\": \"#E5ECF6\", \"showlakes\": true, \"showland\": true, \"subunitcolor\": \"white\"}, \"hoverlabel\": {\"align\": \"left\"}, \"hovermode\": \"closest\", \"mapbox\": {\"style\": \"light\"}, \"paper_bgcolor\": \"white\", \"plot_bgcolor\": \"#E5ECF6\", \"polar\": {\"angularaxis\": {\"gridcolor\": \"white\", \"linecolor\": \"white\", \"ticks\": \"\"}, \"bgcolor\": \"#E5ECF6\", \"radialaxis\": {\"gridcolor\": \"white\", \"linecolor\": \"white\", \"ticks\": \"\"}}, \"scene\": {\"xaxis\": {\"backgroundcolor\": \"#E5ECF6\", \"gridcolor\": \"white\", \"gridwidth\": 2, \"linecolor\": \"white\", \"showbackground\": true, \"ticks\": \"\", \"zerolinecolor\": \"white\"}, \"yaxis\": {\"backgroundcolor\": \"#E5ECF6\", \"gridcolor\": \"white\", \"gridwidth\": 2, \"linecolor\": \"white\", \"showbackground\": true, \"ticks\": \"\", \"zerolinecolor\": \"white\"}, \"zaxis\": {\"backgroundcolor\": \"#E5ECF6\", \"gridcolor\": \"white\", \"gridwidth\": 2, \"linecolor\": \"white\", \"showbackground\": true, \"ticks\": \"\", \"zerolinecolor\": \"white\"}}, \"shapedefaults\": {\"line\": {\"color\": \"#2a3f5f\"}}, \"ternary\": {\"aaxis\": {\"gridcolor\": \"white\", \"linecolor\": \"white\", \"ticks\": \"\"}, \"baxis\": {\"gridcolor\": \"white\", \"linecolor\": \"white\", \"ticks\": \"\"}, \"bgcolor\": \"#E5ECF6\", \"caxis\": {\"gridcolor\": \"white\", \"linecolor\": \"white\", \"ticks\": \"\"}}, \"title\": {\"x\": 0.05}, \"xaxis\": {\"automargin\": true, \"gridcolor\": \"white\", \"linecolor\": \"white\", \"ticks\": \"\", \"title\": {\"standoff\": 15}, \"zerolinecolor\": \"white\", \"zerolinewidth\": 2}, \"yaxis\": {\"automargin\": true, \"gridcolor\": \"white\", \"linecolor\": \"white\", \"ticks\": \"\", \"title\": {\"standoff\": 15}, \"zerolinecolor\": \"white\", \"zerolinewidth\": 2}}}, \"title\": {\"font\": {\"color\": \"#4D5663\"}}, \"xaxis\": {\"gridcolor\": \"#E1E5ED\", \"showgrid\": true, \"tickfont\": {\"color\": \"#4D5663\"}, \"title\": {\"font\": {\"color\": \"#4D5663\"}, \"text\": \"\"}, \"zerolinecolor\": \"#E1E5ED\"}, \"yaxis\": {\"gridcolor\": \"#E1E5ED\", \"showgrid\": true, \"tickfont\": {\"color\": \"#4D5663\"}, \"title\": {\"font\": {\"color\": \"#4D5663\"}, \"text\": \"\"}, \"zerolinecolor\": \"#E1E5ED\"}},                        {\"showLink\": true, \"linkText\": \"Export to plot.ly\", \"plotlyServerURL\": \"https://plot.ly\", \"responsive\": true}                    ).then(function(){\n",
       "                            \n",
       "var gd = document.getElementById('fc113fb0-31a9-44f6-99c0-527eae93b9b5');\n",
       "var x = new MutationObserver(function (mutations, observer) {{\n",
       "        var display = window.getComputedStyle(gd).display;\n",
       "        if (!display || display === 'none') {{\n",
       "            console.log([gd, 'removed!']);\n",
       "            Plotly.purge(gd);\n",
       "            observer.disconnect();\n",
       "        }}\n",
       "}});\n",
       "\n",
       "// Listen for the removal of the full notebook cells\n",
       "var notebookContainer = gd.closest('#notebook-container');\n",
       "if (notebookContainer) {{\n",
       "    x.observe(notebookContainer, {childList: true});\n",
       "}}\n",
       "\n",
       "// Listen for the clearing of the current output cell\n",
       "var outputEl = gd.closest('.output');\n",
       "if (outputEl) {{\n",
       "    x.observe(outputEl, {childList: true});\n",
       "}}\n",
       "\n",
       "                        })                };                });            </script>        </div>"
      ]
     },
     "metadata": {},
     "output_type": "display_data"
    }
   ],
   "source": [
    "df.iplot(kind='bubble',x='A',y='B',size='C')"
   ]
  },
  {
   "cell_type": "markdown",
   "metadata": {},
   "source": [
    "### Scatter Matrix<br>\n",
    "*Similar to sns.pairplot()*"
   ]
  },
  {
   "cell_type": "code",
   "execution_count": 18,
   "metadata": {},
   "outputs": [
    {
     "data": {
      "application/vnd.plotly.v1+json": {
       "config": {
        "linkText": "Export to plot.ly",
        "plotlyServerURL": "https://plot.ly",
        "showLink": true
       },
       "data": [
        {
         "histfunc": "count",
         "histnorm": "",
         "marker": {
          "color": "rgba(255, 153, 51, 1.0)",
          "line": {
           "color": "#4D5663",
           "width": 1.3
          }
         },
         "name": "A",
         "nbinsx": 10,
         "opacity": 0.8,
         "orientation": "v",
         "type": "histogram",
         "x": [
          -0.2908630835904841,
          0.7522026671935028,
          -0.3202202412277464,
          -0.3843185240987831,
          -0.11931133758015264,
          -0.06817300711027062,
          0.8622886800722961,
          -0.31057746212150983,
          0.8125623712304261,
          -1.5640669400281466,
          1.2355425375738671,
          0.8324247793641801,
          -0.24619011485215633,
          0.8599638885984369,
          2.515608696935039,
          -0.07276308416211145,
          0.5513061271034504,
          -1.073197145275396,
          -2.0003814065736987,
          0.08474756277100214,
          -0.47531304602403646,
          0.2849603958855241,
          0.3128040140963513,
          -0.1335933447541138,
          -0.561357095225552,
          0.5683662400926341,
          1.0250353032278872,
          -1.0102201871084513,
          0.6989540721372159,
          -0.4470276481220417,
          -1.4318993670426283,
          -1.778709711352007,
          -0.2013150386506052,
          0.90594323014043,
          -0.7068585466458727,
          0.6769572604577522,
          0.7939864245468552,
          -0.7538463469490789,
          -1.5109525329437004,
          0.03241263103920048,
          0.9457202231941569,
          -0.6361641291847315,
          0.8719018266954653,
          0.4866077668978206,
          -0.28575776536307634,
          -2.3753288076766776,
          -1.122899970532789,
          -0.7693332131825008,
          -0.6486311302735432,
          0.272670354146497,
          1.0501723719960416,
          -0.3652989022843855,
          -0.6162279728796006,
          0.4587412631291952,
          -0.5019271653215122,
          -0.2515218329079029,
          -0.6317256522448005,
          -0.08223348033417892,
          -0.0036923666681755664,
          1.266456167863406,
          -0.3560151451082724,
          0.3526100081966942,
          0.8185028299045045,
          -0.15608208664826334,
          -0.33548634877417594,
          0.11600603838969752,
          0.2712996817591125,
          -0.36049681660033206,
          -1.7525330513020736,
          1.450464166516479,
          -1.216821613042049,
          0.6034493801477613,
          -1.8379363094945262,
          1.138064473201576,
          0.8394327104637465,
          -1.929090849772803,
          -1.072691459283474,
          -0.43038935680185325,
          -0.7400367966877052,
          -1.322632993361467,
          0.5787215505345139,
          -1.357954952041852,
          -0.6021767109518883,
          0.13132077562065864,
          1.5594079056934678,
          1.535216779827442,
          -0.19368758523366292,
          -0.3557438285284079,
          0.7849209968717704,
          -1.7621278569068,
          0.6267176980025514,
          -2.8652636529097717,
          -0.770483051114564,
          0.5280043573619357,
          -0.800516072738706,
          -1.743415921195421,
          -3.1720879132649635,
          -0.9725183317291045,
          0.6848046759556948,
          -1.0177256470591118
         ],
         "xaxis": "x",
         "yaxis": "y"
        },
        {
         "line": {
          "color": "rgba(128, 128, 128, 1.0)",
          "dash": "solid",
          "shape": "linear",
          "width": 1.3
         },
         "marker": {
          "size": 2,
          "symbol": "circle"
         },
         "mode": "markers",
         "name": "A",
         "text": "",
         "type": "scatter",
         "x": [
          -0.6057254125189131,
          -0.1892998620186739,
          0.26690625989144934,
          0.8801506841686696,
          -2.163784553004971,
          -0.4614535843193734,
          -0.477493821743666,
          1.415970231503484,
          -0.32532434268508886,
          -0.623502578386509,
          0.46107409795762677,
          -0.17597837771622932,
          -0.010493028851549516,
          0.12707067248642415,
          1.6821349613945324,
          1.4896885981293346,
          1.6774362491281654,
          1.7768769787637884,
          0.02482122889581526,
          -0.08490748620525963,
          -0.7745530167443184,
          0.7281703263038644,
          0.34604550500472503,
          1.6609483397717384,
          -0.152552190572538,
          -0.23369305198586304,
          -0.7120689525561642,
          0.42787313319929604,
          1.133049796582027,
          -0.6412951044882726,
          0.8955770585287715,
          -0.4726809527145295,
          0.14844968009098905,
          -0.21346438354012479,
          1.1349094316201722,
          0.3303734816044888,
          0.08667582342525072,
          0.8892484751851075,
          -0.12466594725091838,
          0.8827036907344208,
          1.2094937839467363,
          -0.4895836620137229,
          -0.5408427475391092,
          -1.0410265851439164,
          -0.8895250070698203,
          -0.11542371743890872,
          -0.2565703204603735,
          -1.025057326973805,
          -0.17505685722310804,
          0.7156960922973573,
          0.3364902049994554,
          0.3922927246547013,
          -1.3069168912035614,
          1.0855895861961868,
          0.38972558986895434,
          1.3949581546509382,
          -0.15477016380895434,
          -1.0490182284984666,
          -0.7284534907657603,
          -0.43638936764173697,
          0.6725356433554945,
          -1.3786402449176423,
          0.48072039417330187,
          -0.0017498029708925967,
          0.5018239222039128,
          1.6771097664851364,
          0.35373070444751786,
          0.8266608353330749,
          -0.3749302565897924,
          -0.4353583055446691,
          -1.2005208565469987,
          -0.8799068979454695,
          1.0274027527929517,
          0.3647258386082056,
          0.45955622956747993,
          -0.09155025515307294,
          -1.3399406737564568,
          0.616572965129828,
          0.3878866411322037,
          0.32055906658916067,
          0.7972281495815815,
          2.389749279180996,
          -1.2494200166450264,
          1.903338137180644,
          0.736383662558544,
          -0.2549611298886137,
          0.4816846935415098,
          -0.1640079781722683,
          0.4242312582039998,
          0.8552838937608425,
          -1.9059829052191977,
          0.8331154077999772,
          0.443487283792609,
          -0.2301629498760557,
          -0.4811227799019512,
          0.6444819505648139,
          -1.2330396356002027,
          -0.24868752637889677,
          -0.38122386681139986,
          -0.16332571723924683
         ],
         "xaxis": "x2",
         "y": [
          -0.2908630835904841,
          0.7522026671935028,
          -0.3202202412277464,
          -0.3843185240987831,
          -0.11931133758015264,
          -0.06817300711027062,
          0.8622886800722961,
          -0.31057746212150983,
          0.8125623712304261,
          -1.5640669400281466,
          1.2355425375738671,
          0.8324247793641801,
          -0.24619011485215633,
          0.8599638885984369,
          2.515608696935039,
          -0.07276308416211145,
          0.5513061271034504,
          -1.073197145275396,
          -2.0003814065736987,
          0.08474756277100214,
          -0.47531304602403646,
          0.2849603958855241,
          0.3128040140963513,
          -0.1335933447541138,
          -0.561357095225552,
          0.5683662400926341,
          1.0250353032278872,
          -1.0102201871084513,
          0.6989540721372159,
          -0.4470276481220417,
          -1.4318993670426283,
          -1.778709711352007,
          -0.2013150386506052,
          0.90594323014043,
          -0.7068585466458727,
          0.6769572604577522,
          0.7939864245468552,
          -0.7538463469490789,
          -1.5109525329437004,
          0.03241263103920048,
          0.9457202231941569,
          -0.6361641291847315,
          0.8719018266954653,
          0.4866077668978206,
          -0.28575776536307634,
          -2.3753288076766776,
          -1.122899970532789,
          -0.7693332131825008,
          -0.6486311302735432,
          0.272670354146497,
          1.0501723719960416,
          -0.3652989022843855,
          -0.6162279728796006,
          0.4587412631291952,
          -0.5019271653215122,
          -0.2515218329079029,
          -0.6317256522448005,
          -0.08223348033417892,
          -0.0036923666681755664,
          1.266456167863406,
          -0.3560151451082724,
          0.3526100081966942,
          0.8185028299045045,
          -0.15608208664826334,
          -0.33548634877417594,
          0.11600603838969752,
          0.2712996817591125,
          -0.36049681660033206,
          -1.7525330513020736,
          1.450464166516479,
          -1.216821613042049,
          0.6034493801477613,
          -1.8379363094945262,
          1.138064473201576,
          0.8394327104637465,
          -1.929090849772803,
          -1.072691459283474,
          -0.43038935680185325,
          -0.7400367966877052,
          -1.322632993361467,
          0.5787215505345139,
          -1.357954952041852,
          -0.6021767109518883,
          0.13132077562065864,
          1.5594079056934678,
          1.535216779827442,
          -0.19368758523366292,
          -0.3557438285284079,
          0.7849209968717704,
          -1.7621278569068,
          0.6267176980025514,
          -2.8652636529097717,
          -0.770483051114564,
          0.5280043573619357,
          -0.800516072738706,
          -1.743415921195421,
          -3.1720879132649635,
          -0.9725183317291045,
          0.6848046759556948,
          -1.0177256470591118
         ],
         "yaxis": "y2"
        },
        {
         "line": {
          "color": "rgba(128, 128, 128, 1.0)",
          "dash": "solid",
          "shape": "linear",
          "width": 1.3
         },
         "marker": {
          "size": 2,
          "symbol": "circle"
         },
         "mode": "markers",
         "name": "A",
         "text": "",
         "type": "scatter",
         "x": [
          0.1601249787527821,
          0.29467420148564255,
          0.3568882970336668,
          0.49339091812602603,
          0.16530264922437402,
          2.2807082818300626,
          1.4178626566598593,
          0.5889050796635561,
          0.2979322274628636,
          -0.46252389970771896,
          0.13144175857810902,
          0.5736688504658046,
          1.1827446651909586,
          -0.8718692524802156,
          0.20105309216440514,
          -0.08201145688342751,
          0.49058096735497736,
          0.3073301521120699,
          0.2062732752023993,
          -0.8575271388635829,
          -0.06424561735245785,
          0.813349097868763,
          2.741697991028217,
          -0.2793545347105481,
          -0.41986215159009505,
          -0.11499129002598239,
          -0.5715410238192038,
          1.0007504048377733,
          1.3350996160222715,
          -0.5112842995073376,
          -1.1338750384907732,
          1.5711619122979843,
          0.6870070701377833,
          0.5382487054828127,
          -1.9239708678727752,
          -0.4210262882065965,
          0.5638420270406669,
          0.20511189975442604,
          -0.12907921148531795,
          0.757698401531798,
          0.7424669848460085,
          -1.8127059462077935,
          2.576212391160004,
          1.0680317017372118,
          0.6368591290761687,
          0.01397484001391836,
          -1.3260636410754556,
          -0.3454200227156687,
          0.23104677009196176,
          -1.504623218406821,
          -0.7293169981334667,
          -0.6177334832660625,
          -0.46237664722806426,
          -0.1430308666814354,
          0.6280356845129812,
          0.08167521621781876,
          0.9448994153372875,
          2.4854180051941137,
          1.738936345972523,
          -0.048645016737942116,
          -0.5812073885088923,
          -1.0086837242273425,
          1.5473440295073544,
          1.2822811201946844,
          -0.018777519523717173,
          -1.4534708086641772,
          0.45049743683620114,
          0.45948627986481416,
          0.08059342752465515,
          -0.32707985257690864,
          2.0071909451730634,
          0.8792142349076734,
          -0.5655594051944282,
          -0.2631396115731665,
          1.6359234677717236,
          -1.1272003032769349,
          1.3888430168995958,
          0.6783820575897243,
          0.3339377866861008,
          1.8216227062158385,
          -0.9590968968998035,
          0.2114721317851453,
          1.9049164731508406,
          -0.1501836091332619,
          -0.2756392951508617,
          1.3877819674178027,
          -1.2709051234011197,
          1.0917916681144118,
          -0.8501591958376347,
          0.7004656422210184,
          0.7878066663610747,
          1.074070542351294,
          -0.38940669791984817,
          0.06892194841765428,
          -1.1123923558984532,
          -0.8812451059562298,
          -1.6585485110351523,
          -1.1472413656126865,
          0.19786640777415176,
          0.5077386863533896
         ],
         "xaxis": "x3",
         "y": [
          -0.2908630835904841,
          0.7522026671935028,
          -0.3202202412277464,
          -0.3843185240987831,
          -0.11931133758015264,
          -0.06817300711027062,
          0.8622886800722961,
          -0.31057746212150983,
          0.8125623712304261,
          -1.5640669400281466,
          1.2355425375738671,
          0.8324247793641801,
          -0.24619011485215633,
          0.8599638885984369,
          2.515608696935039,
          -0.07276308416211145,
          0.5513061271034504,
          -1.073197145275396,
          -2.0003814065736987,
          0.08474756277100214,
          -0.47531304602403646,
          0.2849603958855241,
          0.3128040140963513,
          -0.1335933447541138,
          -0.561357095225552,
          0.5683662400926341,
          1.0250353032278872,
          -1.0102201871084513,
          0.6989540721372159,
          -0.4470276481220417,
          -1.4318993670426283,
          -1.778709711352007,
          -0.2013150386506052,
          0.90594323014043,
          -0.7068585466458727,
          0.6769572604577522,
          0.7939864245468552,
          -0.7538463469490789,
          -1.5109525329437004,
          0.03241263103920048,
          0.9457202231941569,
          -0.6361641291847315,
          0.8719018266954653,
          0.4866077668978206,
          -0.28575776536307634,
          -2.3753288076766776,
          -1.122899970532789,
          -0.7693332131825008,
          -0.6486311302735432,
          0.272670354146497,
          1.0501723719960416,
          -0.3652989022843855,
          -0.6162279728796006,
          0.4587412631291952,
          -0.5019271653215122,
          -0.2515218329079029,
          -0.6317256522448005,
          -0.08223348033417892,
          -0.0036923666681755664,
          1.266456167863406,
          -0.3560151451082724,
          0.3526100081966942,
          0.8185028299045045,
          -0.15608208664826334,
          -0.33548634877417594,
          0.11600603838969752,
          0.2712996817591125,
          -0.36049681660033206,
          -1.7525330513020736,
          1.450464166516479,
          -1.216821613042049,
          0.6034493801477613,
          -1.8379363094945262,
          1.138064473201576,
          0.8394327104637465,
          -1.929090849772803,
          -1.072691459283474,
          -0.43038935680185325,
          -0.7400367966877052,
          -1.322632993361467,
          0.5787215505345139,
          -1.357954952041852,
          -0.6021767109518883,
          0.13132077562065864,
          1.5594079056934678,
          1.535216779827442,
          -0.19368758523366292,
          -0.3557438285284079,
          0.7849209968717704,
          -1.7621278569068,
          0.6267176980025514,
          -2.8652636529097717,
          -0.770483051114564,
          0.5280043573619357,
          -0.800516072738706,
          -1.743415921195421,
          -3.1720879132649635,
          -0.9725183317291045,
          0.6848046759556948,
          -1.0177256470591118
         ],
         "yaxis": "y3"
        },
        {
         "line": {
          "color": "rgba(128, 128, 128, 1.0)",
          "dash": "solid",
          "shape": "linear",
          "width": 1.3
         },
         "marker": {
          "size": 2,
          "symbol": "circle"
         },
         "mode": "markers",
         "name": "A",
         "text": "",
         "type": "scatter",
         "x": [
          1.3426741245866363,
          -0.1834048490438496,
          0.5328701812928004,
          -1.656655718697109,
          0.05958791043719714,
          -0.19321217176039682,
          0.06697395147157933,
          1.2728946133940555,
          1.6643370286610772,
          -1.5298365985683589,
          -0.9948984208642397,
          -0.289097184657636,
          0.4872438797747574,
          -0.9346972356629407,
          0.634849949945669,
          -0.39628347477726644,
          -2.547089675866158,
          -1.7910532792329155,
          -0.9645522216640807,
          -0.19828174573655213,
          -0.39914923917814354,
          0.45504859536829234,
          -0.8250249932745054,
          -0.20729714524589746,
          0.31887015011812375,
          1.9513687669838113,
          0.15194731092481026,
          0.7383368942851168,
          1.500574460132519,
          -0.4870595150175634,
          1.456454413800416,
          -0.42216075416439364,
          0.6560702633200569,
          1.1792352012079161,
          1.0429843786375605,
          0.7036294942885998,
          0.08074177433226708,
          -1.4487970875512286,
          0.894558078926984,
          -0.0699282582298491,
          -0.9520511502426532,
          -0.8876588084539955,
          0.5781969438845166,
          -1.7430486173832038,
          -1.0073018621411078,
          -0.09471496007539422,
          -0.310076014622057,
          1.4200365177865308,
          0.7422544097753597,
          1.7528188543357193,
          0.7584308483426954,
          0.9261195761969273,
          1.0118865358079006,
          0.4300919260168664,
          0.9294146926947682,
          1.3924465982379013,
          -0.13465429145725835,
          0.11240045614705331,
          2.1263570870016677,
          -1.3760755934994795,
          0.4963343390016291,
          1.7577565294397053,
          -0.4950895720694699,
          0.9182203047219385,
          0.21420340042688107,
          -0.5694921352855646,
          -0.9966297263957835,
          1.8913948677061185,
          -0.6095726404258395,
          0.07937391098492103,
          1.5742394986620833,
          2.2208035124948706,
          1.7931480125786967,
          1.040558149695388,
          -0.14860657963079282,
          0.4183506064769205,
          -0.5825850114800133,
          0.18926300512470912,
          -1.8135214054753488,
          -0.7926467849208718,
          -0.8139609097186383,
          -0.839992505317087,
          -0.7777280525675709,
          1.188828962652113,
          0.20893714463873903,
          -0.8378980888052304,
          0.09162398386714583,
          0.09998081544549062,
          -0.10154735279607056,
          0.5766338514647803,
          0.02486186174479018,
          -0.37183414153807004,
          -0.8281281218747182,
          1.2489116158283142,
          1.0625211745812095,
          -0.21442203657256956,
          1.2391079074889888,
          -0.8440304806921777,
          -1.6817763878890764,
          1.5489363423738167
         ],
         "xaxis": "x4",
         "y": [
          -0.2908630835904841,
          0.7522026671935028,
          -0.3202202412277464,
          -0.3843185240987831,
          -0.11931133758015264,
          -0.06817300711027062,
          0.8622886800722961,
          -0.31057746212150983,
          0.8125623712304261,
          -1.5640669400281466,
          1.2355425375738671,
          0.8324247793641801,
          -0.24619011485215633,
          0.8599638885984369,
          2.515608696935039,
          -0.07276308416211145,
          0.5513061271034504,
          -1.073197145275396,
          -2.0003814065736987,
          0.08474756277100214,
          -0.47531304602403646,
          0.2849603958855241,
          0.3128040140963513,
          -0.1335933447541138,
          -0.561357095225552,
          0.5683662400926341,
          1.0250353032278872,
          -1.0102201871084513,
          0.6989540721372159,
          -0.4470276481220417,
          -1.4318993670426283,
          -1.778709711352007,
          -0.2013150386506052,
          0.90594323014043,
          -0.7068585466458727,
          0.6769572604577522,
          0.7939864245468552,
          -0.7538463469490789,
          -1.5109525329437004,
          0.03241263103920048,
          0.9457202231941569,
          -0.6361641291847315,
          0.8719018266954653,
          0.4866077668978206,
          -0.28575776536307634,
          -2.3753288076766776,
          -1.122899970532789,
          -0.7693332131825008,
          -0.6486311302735432,
          0.272670354146497,
          1.0501723719960416,
          -0.3652989022843855,
          -0.6162279728796006,
          0.4587412631291952,
          -0.5019271653215122,
          -0.2515218329079029,
          -0.6317256522448005,
          -0.08223348033417892,
          -0.0036923666681755664,
          1.266456167863406,
          -0.3560151451082724,
          0.3526100081966942,
          0.8185028299045045,
          -0.15608208664826334,
          -0.33548634877417594,
          0.11600603838969752,
          0.2712996817591125,
          -0.36049681660033206,
          -1.7525330513020736,
          1.450464166516479,
          -1.216821613042049,
          0.6034493801477613,
          -1.8379363094945262,
          1.138064473201576,
          0.8394327104637465,
          -1.929090849772803,
          -1.072691459283474,
          -0.43038935680185325,
          -0.7400367966877052,
          -1.322632993361467,
          0.5787215505345139,
          -1.357954952041852,
          -0.6021767109518883,
          0.13132077562065864,
          1.5594079056934678,
          1.535216779827442,
          -0.19368758523366292,
          -0.3557438285284079,
          0.7849209968717704,
          -1.7621278569068,
          0.6267176980025514,
          -2.8652636529097717,
          -0.770483051114564,
          0.5280043573619357,
          -0.800516072738706,
          -1.743415921195421,
          -3.1720879132649635,
          -0.9725183317291045,
          0.6848046759556948,
          -1.0177256470591118
         ],
         "yaxis": "y4"
        },
        {
         "line": {
          "color": "rgba(128, 128, 128, 1.0)",
          "dash": "solid",
          "shape": "linear",
          "width": 1.3
         },
         "marker": {
          "size": 2,
          "symbol": "circle"
         },
         "mode": "markers",
         "name": "B",
         "text": "",
         "type": "scatter",
         "x": [
          -0.2908630835904841,
          0.7522026671935028,
          -0.3202202412277464,
          -0.3843185240987831,
          -0.11931133758015264,
          -0.06817300711027062,
          0.8622886800722961,
          -0.31057746212150983,
          0.8125623712304261,
          -1.5640669400281466,
          1.2355425375738671,
          0.8324247793641801,
          -0.24619011485215633,
          0.8599638885984369,
          2.515608696935039,
          -0.07276308416211145,
          0.5513061271034504,
          -1.073197145275396,
          -2.0003814065736987,
          0.08474756277100214,
          -0.47531304602403646,
          0.2849603958855241,
          0.3128040140963513,
          -0.1335933447541138,
          -0.561357095225552,
          0.5683662400926341,
          1.0250353032278872,
          -1.0102201871084513,
          0.6989540721372159,
          -0.4470276481220417,
          -1.4318993670426283,
          -1.778709711352007,
          -0.2013150386506052,
          0.90594323014043,
          -0.7068585466458727,
          0.6769572604577522,
          0.7939864245468552,
          -0.7538463469490789,
          -1.5109525329437004,
          0.03241263103920048,
          0.9457202231941569,
          -0.6361641291847315,
          0.8719018266954653,
          0.4866077668978206,
          -0.28575776536307634,
          -2.3753288076766776,
          -1.122899970532789,
          -0.7693332131825008,
          -0.6486311302735432,
          0.272670354146497,
          1.0501723719960416,
          -0.3652989022843855,
          -0.6162279728796006,
          0.4587412631291952,
          -0.5019271653215122,
          -0.2515218329079029,
          -0.6317256522448005,
          -0.08223348033417892,
          -0.0036923666681755664,
          1.266456167863406,
          -0.3560151451082724,
          0.3526100081966942,
          0.8185028299045045,
          -0.15608208664826334,
          -0.33548634877417594,
          0.11600603838969752,
          0.2712996817591125,
          -0.36049681660033206,
          -1.7525330513020736,
          1.450464166516479,
          -1.216821613042049,
          0.6034493801477613,
          -1.8379363094945262,
          1.138064473201576,
          0.8394327104637465,
          -1.929090849772803,
          -1.072691459283474,
          -0.43038935680185325,
          -0.7400367966877052,
          -1.322632993361467,
          0.5787215505345139,
          -1.357954952041852,
          -0.6021767109518883,
          0.13132077562065864,
          1.5594079056934678,
          1.535216779827442,
          -0.19368758523366292,
          -0.3557438285284079,
          0.7849209968717704,
          -1.7621278569068,
          0.6267176980025514,
          -2.8652636529097717,
          -0.770483051114564,
          0.5280043573619357,
          -0.800516072738706,
          -1.743415921195421,
          -3.1720879132649635,
          -0.9725183317291045,
          0.6848046759556948,
          -1.0177256470591118
         ],
         "xaxis": "x5",
         "y": [
          -0.6057254125189131,
          -0.1892998620186739,
          0.26690625989144934,
          0.8801506841686696,
          -2.163784553004971,
          -0.4614535843193734,
          -0.477493821743666,
          1.415970231503484,
          -0.32532434268508886,
          -0.623502578386509,
          0.46107409795762677,
          -0.17597837771622932,
          -0.010493028851549516,
          0.12707067248642415,
          1.6821349613945324,
          1.4896885981293346,
          1.6774362491281654,
          1.7768769787637884,
          0.02482122889581526,
          -0.08490748620525963,
          -0.7745530167443184,
          0.7281703263038644,
          0.34604550500472503,
          1.6609483397717384,
          -0.152552190572538,
          -0.23369305198586304,
          -0.7120689525561642,
          0.42787313319929604,
          1.133049796582027,
          -0.6412951044882726,
          0.8955770585287715,
          -0.4726809527145295,
          0.14844968009098905,
          -0.21346438354012479,
          1.1349094316201722,
          0.3303734816044888,
          0.08667582342525072,
          0.8892484751851075,
          -0.12466594725091838,
          0.8827036907344208,
          1.2094937839467363,
          -0.4895836620137229,
          -0.5408427475391092,
          -1.0410265851439164,
          -0.8895250070698203,
          -0.11542371743890872,
          -0.2565703204603735,
          -1.025057326973805,
          -0.17505685722310804,
          0.7156960922973573,
          0.3364902049994554,
          0.3922927246547013,
          -1.3069168912035614,
          1.0855895861961868,
          0.38972558986895434,
          1.3949581546509382,
          -0.15477016380895434,
          -1.0490182284984666,
          -0.7284534907657603,
          -0.43638936764173697,
          0.6725356433554945,
          -1.3786402449176423,
          0.48072039417330187,
          -0.0017498029708925967,
          0.5018239222039128,
          1.6771097664851364,
          0.35373070444751786,
          0.8266608353330749,
          -0.3749302565897924,
          -0.4353583055446691,
          -1.2005208565469987,
          -0.8799068979454695,
          1.0274027527929517,
          0.3647258386082056,
          0.45955622956747993,
          -0.09155025515307294,
          -1.3399406737564568,
          0.616572965129828,
          0.3878866411322037,
          0.32055906658916067,
          0.7972281495815815,
          2.389749279180996,
          -1.2494200166450264,
          1.903338137180644,
          0.736383662558544,
          -0.2549611298886137,
          0.4816846935415098,
          -0.1640079781722683,
          0.4242312582039998,
          0.8552838937608425,
          -1.9059829052191977,
          0.8331154077999772,
          0.443487283792609,
          -0.2301629498760557,
          -0.4811227799019512,
          0.6444819505648139,
          -1.2330396356002027,
          -0.24868752637889677,
          -0.38122386681139986,
          -0.16332571723924683
         ],
         "yaxis": "y5"
        },
        {
         "histfunc": "count",
         "histnorm": "",
         "marker": {
          "color": "rgba(55, 128, 191, 1.0)",
          "line": {
           "color": "#4D5663",
           "width": 1.3
          }
         },
         "name": "B",
         "nbinsx": 10,
         "opacity": 0.8,
         "orientation": "v",
         "type": "histogram",
         "x": [
          -0.6057254125189131,
          -0.1892998620186739,
          0.26690625989144934,
          0.8801506841686696,
          -2.163784553004971,
          -0.4614535843193734,
          -0.477493821743666,
          1.415970231503484,
          -0.32532434268508886,
          -0.623502578386509,
          0.46107409795762677,
          -0.17597837771622932,
          -0.010493028851549516,
          0.12707067248642415,
          1.6821349613945324,
          1.4896885981293346,
          1.6774362491281654,
          1.7768769787637884,
          0.02482122889581526,
          -0.08490748620525963,
          -0.7745530167443184,
          0.7281703263038644,
          0.34604550500472503,
          1.6609483397717384,
          -0.152552190572538,
          -0.23369305198586304,
          -0.7120689525561642,
          0.42787313319929604,
          1.133049796582027,
          -0.6412951044882726,
          0.8955770585287715,
          -0.4726809527145295,
          0.14844968009098905,
          -0.21346438354012479,
          1.1349094316201722,
          0.3303734816044888,
          0.08667582342525072,
          0.8892484751851075,
          -0.12466594725091838,
          0.8827036907344208,
          1.2094937839467363,
          -0.4895836620137229,
          -0.5408427475391092,
          -1.0410265851439164,
          -0.8895250070698203,
          -0.11542371743890872,
          -0.2565703204603735,
          -1.025057326973805,
          -0.17505685722310804,
          0.7156960922973573,
          0.3364902049994554,
          0.3922927246547013,
          -1.3069168912035614,
          1.0855895861961868,
          0.38972558986895434,
          1.3949581546509382,
          -0.15477016380895434,
          -1.0490182284984666,
          -0.7284534907657603,
          -0.43638936764173697,
          0.6725356433554945,
          -1.3786402449176423,
          0.48072039417330187,
          -0.0017498029708925967,
          0.5018239222039128,
          1.6771097664851364,
          0.35373070444751786,
          0.8266608353330749,
          -0.3749302565897924,
          -0.4353583055446691,
          -1.2005208565469987,
          -0.8799068979454695,
          1.0274027527929517,
          0.3647258386082056,
          0.45955622956747993,
          -0.09155025515307294,
          -1.3399406737564568,
          0.616572965129828,
          0.3878866411322037,
          0.32055906658916067,
          0.7972281495815815,
          2.389749279180996,
          -1.2494200166450264,
          1.903338137180644,
          0.736383662558544,
          -0.2549611298886137,
          0.4816846935415098,
          -0.1640079781722683,
          0.4242312582039998,
          0.8552838937608425,
          -1.9059829052191977,
          0.8331154077999772,
          0.443487283792609,
          -0.2301629498760557,
          -0.4811227799019512,
          0.6444819505648139,
          -1.2330396356002027,
          -0.24868752637889677,
          -0.38122386681139986,
          -0.16332571723924683
         ],
         "xaxis": "x6",
         "yaxis": "y6"
        },
        {
         "line": {
          "color": "rgba(128, 128, 128, 1.0)",
          "dash": "solid",
          "shape": "linear",
          "width": 1.3
         },
         "marker": {
          "size": 2,
          "symbol": "circle"
         },
         "mode": "markers",
         "name": "B",
         "text": "",
         "type": "scatter",
         "x": [
          0.1601249787527821,
          0.29467420148564255,
          0.3568882970336668,
          0.49339091812602603,
          0.16530264922437402,
          2.2807082818300626,
          1.4178626566598593,
          0.5889050796635561,
          0.2979322274628636,
          -0.46252389970771896,
          0.13144175857810902,
          0.5736688504658046,
          1.1827446651909586,
          -0.8718692524802156,
          0.20105309216440514,
          -0.08201145688342751,
          0.49058096735497736,
          0.3073301521120699,
          0.2062732752023993,
          -0.8575271388635829,
          -0.06424561735245785,
          0.813349097868763,
          2.741697991028217,
          -0.2793545347105481,
          -0.41986215159009505,
          -0.11499129002598239,
          -0.5715410238192038,
          1.0007504048377733,
          1.3350996160222715,
          -0.5112842995073376,
          -1.1338750384907732,
          1.5711619122979843,
          0.6870070701377833,
          0.5382487054828127,
          -1.9239708678727752,
          -0.4210262882065965,
          0.5638420270406669,
          0.20511189975442604,
          -0.12907921148531795,
          0.757698401531798,
          0.7424669848460085,
          -1.8127059462077935,
          2.576212391160004,
          1.0680317017372118,
          0.6368591290761687,
          0.01397484001391836,
          -1.3260636410754556,
          -0.3454200227156687,
          0.23104677009196176,
          -1.504623218406821,
          -0.7293169981334667,
          -0.6177334832660625,
          -0.46237664722806426,
          -0.1430308666814354,
          0.6280356845129812,
          0.08167521621781876,
          0.9448994153372875,
          2.4854180051941137,
          1.738936345972523,
          -0.048645016737942116,
          -0.5812073885088923,
          -1.0086837242273425,
          1.5473440295073544,
          1.2822811201946844,
          -0.018777519523717173,
          -1.4534708086641772,
          0.45049743683620114,
          0.45948627986481416,
          0.08059342752465515,
          -0.32707985257690864,
          2.0071909451730634,
          0.8792142349076734,
          -0.5655594051944282,
          -0.2631396115731665,
          1.6359234677717236,
          -1.1272003032769349,
          1.3888430168995958,
          0.6783820575897243,
          0.3339377866861008,
          1.8216227062158385,
          -0.9590968968998035,
          0.2114721317851453,
          1.9049164731508406,
          -0.1501836091332619,
          -0.2756392951508617,
          1.3877819674178027,
          -1.2709051234011197,
          1.0917916681144118,
          -0.8501591958376347,
          0.7004656422210184,
          0.7878066663610747,
          1.074070542351294,
          -0.38940669791984817,
          0.06892194841765428,
          -1.1123923558984532,
          -0.8812451059562298,
          -1.6585485110351523,
          -1.1472413656126865,
          0.19786640777415176,
          0.5077386863533896
         ],
         "xaxis": "x7",
         "y": [
          -0.6057254125189131,
          -0.1892998620186739,
          0.26690625989144934,
          0.8801506841686696,
          -2.163784553004971,
          -0.4614535843193734,
          -0.477493821743666,
          1.415970231503484,
          -0.32532434268508886,
          -0.623502578386509,
          0.46107409795762677,
          -0.17597837771622932,
          -0.010493028851549516,
          0.12707067248642415,
          1.6821349613945324,
          1.4896885981293346,
          1.6774362491281654,
          1.7768769787637884,
          0.02482122889581526,
          -0.08490748620525963,
          -0.7745530167443184,
          0.7281703263038644,
          0.34604550500472503,
          1.6609483397717384,
          -0.152552190572538,
          -0.23369305198586304,
          -0.7120689525561642,
          0.42787313319929604,
          1.133049796582027,
          -0.6412951044882726,
          0.8955770585287715,
          -0.4726809527145295,
          0.14844968009098905,
          -0.21346438354012479,
          1.1349094316201722,
          0.3303734816044888,
          0.08667582342525072,
          0.8892484751851075,
          -0.12466594725091838,
          0.8827036907344208,
          1.2094937839467363,
          -0.4895836620137229,
          -0.5408427475391092,
          -1.0410265851439164,
          -0.8895250070698203,
          -0.11542371743890872,
          -0.2565703204603735,
          -1.025057326973805,
          -0.17505685722310804,
          0.7156960922973573,
          0.3364902049994554,
          0.3922927246547013,
          -1.3069168912035614,
          1.0855895861961868,
          0.38972558986895434,
          1.3949581546509382,
          -0.15477016380895434,
          -1.0490182284984666,
          -0.7284534907657603,
          -0.43638936764173697,
          0.6725356433554945,
          -1.3786402449176423,
          0.48072039417330187,
          -0.0017498029708925967,
          0.5018239222039128,
          1.6771097664851364,
          0.35373070444751786,
          0.8266608353330749,
          -0.3749302565897924,
          -0.4353583055446691,
          -1.2005208565469987,
          -0.8799068979454695,
          1.0274027527929517,
          0.3647258386082056,
          0.45955622956747993,
          -0.09155025515307294,
          -1.3399406737564568,
          0.616572965129828,
          0.3878866411322037,
          0.32055906658916067,
          0.7972281495815815,
          2.389749279180996,
          -1.2494200166450264,
          1.903338137180644,
          0.736383662558544,
          -0.2549611298886137,
          0.4816846935415098,
          -0.1640079781722683,
          0.4242312582039998,
          0.8552838937608425,
          -1.9059829052191977,
          0.8331154077999772,
          0.443487283792609,
          -0.2301629498760557,
          -0.4811227799019512,
          0.6444819505648139,
          -1.2330396356002027,
          -0.24868752637889677,
          -0.38122386681139986,
          -0.16332571723924683
         ],
         "yaxis": "y7"
        },
        {
         "line": {
          "color": "rgba(128, 128, 128, 1.0)",
          "dash": "solid",
          "shape": "linear",
          "width": 1.3
         },
         "marker": {
          "size": 2,
          "symbol": "circle"
         },
         "mode": "markers",
         "name": "B",
         "text": "",
         "type": "scatter",
         "x": [
          1.3426741245866363,
          -0.1834048490438496,
          0.5328701812928004,
          -1.656655718697109,
          0.05958791043719714,
          -0.19321217176039682,
          0.06697395147157933,
          1.2728946133940555,
          1.6643370286610772,
          -1.5298365985683589,
          -0.9948984208642397,
          -0.289097184657636,
          0.4872438797747574,
          -0.9346972356629407,
          0.634849949945669,
          -0.39628347477726644,
          -2.547089675866158,
          -1.7910532792329155,
          -0.9645522216640807,
          -0.19828174573655213,
          -0.39914923917814354,
          0.45504859536829234,
          -0.8250249932745054,
          -0.20729714524589746,
          0.31887015011812375,
          1.9513687669838113,
          0.15194731092481026,
          0.7383368942851168,
          1.500574460132519,
          -0.4870595150175634,
          1.456454413800416,
          -0.42216075416439364,
          0.6560702633200569,
          1.1792352012079161,
          1.0429843786375605,
          0.7036294942885998,
          0.08074177433226708,
          -1.4487970875512286,
          0.894558078926984,
          -0.0699282582298491,
          -0.9520511502426532,
          -0.8876588084539955,
          0.5781969438845166,
          -1.7430486173832038,
          -1.0073018621411078,
          -0.09471496007539422,
          -0.310076014622057,
          1.4200365177865308,
          0.7422544097753597,
          1.7528188543357193,
          0.7584308483426954,
          0.9261195761969273,
          1.0118865358079006,
          0.4300919260168664,
          0.9294146926947682,
          1.3924465982379013,
          -0.13465429145725835,
          0.11240045614705331,
          2.1263570870016677,
          -1.3760755934994795,
          0.4963343390016291,
          1.7577565294397053,
          -0.4950895720694699,
          0.9182203047219385,
          0.21420340042688107,
          -0.5694921352855646,
          -0.9966297263957835,
          1.8913948677061185,
          -0.6095726404258395,
          0.07937391098492103,
          1.5742394986620833,
          2.2208035124948706,
          1.7931480125786967,
          1.040558149695388,
          -0.14860657963079282,
          0.4183506064769205,
          -0.5825850114800133,
          0.18926300512470912,
          -1.8135214054753488,
          -0.7926467849208718,
          -0.8139609097186383,
          -0.839992505317087,
          -0.7777280525675709,
          1.188828962652113,
          0.20893714463873903,
          -0.8378980888052304,
          0.09162398386714583,
          0.09998081544549062,
          -0.10154735279607056,
          0.5766338514647803,
          0.02486186174479018,
          -0.37183414153807004,
          -0.8281281218747182,
          1.2489116158283142,
          1.0625211745812095,
          -0.21442203657256956,
          1.2391079074889888,
          -0.8440304806921777,
          -1.6817763878890764,
          1.5489363423738167
         ],
         "xaxis": "x8",
         "y": [
          -0.6057254125189131,
          -0.1892998620186739,
          0.26690625989144934,
          0.8801506841686696,
          -2.163784553004971,
          -0.4614535843193734,
          -0.477493821743666,
          1.415970231503484,
          -0.32532434268508886,
          -0.623502578386509,
          0.46107409795762677,
          -0.17597837771622932,
          -0.010493028851549516,
          0.12707067248642415,
          1.6821349613945324,
          1.4896885981293346,
          1.6774362491281654,
          1.7768769787637884,
          0.02482122889581526,
          -0.08490748620525963,
          -0.7745530167443184,
          0.7281703263038644,
          0.34604550500472503,
          1.6609483397717384,
          -0.152552190572538,
          -0.23369305198586304,
          -0.7120689525561642,
          0.42787313319929604,
          1.133049796582027,
          -0.6412951044882726,
          0.8955770585287715,
          -0.4726809527145295,
          0.14844968009098905,
          -0.21346438354012479,
          1.1349094316201722,
          0.3303734816044888,
          0.08667582342525072,
          0.8892484751851075,
          -0.12466594725091838,
          0.8827036907344208,
          1.2094937839467363,
          -0.4895836620137229,
          -0.5408427475391092,
          -1.0410265851439164,
          -0.8895250070698203,
          -0.11542371743890872,
          -0.2565703204603735,
          -1.025057326973805,
          -0.17505685722310804,
          0.7156960922973573,
          0.3364902049994554,
          0.3922927246547013,
          -1.3069168912035614,
          1.0855895861961868,
          0.38972558986895434,
          1.3949581546509382,
          -0.15477016380895434,
          -1.0490182284984666,
          -0.7284534907657603,
          -0.43638936764173697,
          0.6725356433554945,
          -1.3786402449176423,
          0.48072039417330187,
          -0.0017498029708925967,
          0.5018239222039128,
          1.6771097664851364,
          0.35373070444751786,
          0.8266608353330749,
          -0.3749302565897924,
          -0.4353583055446691,
          -1.2005208565469987,
          -0.8799068979454695,
          1.0274027527929517,
          0.3647258386082056,
          0.45955622956747993,
          -0.09155025515307294,
          -1.3399406737564568,
          0.616572965129828,
          0.3878866411322037,
          0.32055906658916067,
          0.7972281495815815,
          2.389749279180996,
          -1.2494200166450264,
          1.903338137180644,
          0.736383662558544,
          -0.2549611298886137,
          0.4816846935415098,
          -0.1640079781722683,
          0.4242312582039998,
          0.8552838937608425,
          -1.9059829052191977,
          0.8331154077999772,
          0.443487283792609,
          -0.2301629498760557,
          -0.4811227799019512,
          0.6444819505648139,
          -1.2330396356002027,
          -0.24868752637889677,
          -0.38122386681139986,
          -0.16332571723924683
         ],
         "yaxis": "y8"
        },
        {
         "line": {
          "color": "rgba(128, 128, 128, 1.0)",
          "dash": "solid",
          "shape": "linear",
          "width": 1.3
         },
         "marker": {
          "size": 2,
          "symbol": "circle"
         },
         "mode": "markers",
         "name": "C",
         "text": "",
         "type": "scatter",
         "x": [
          -0.2908630835904841,
          0.7522026671935028,
          -0.3202202412277464,
          -0.3843185240987831,
          -0.11931133758015264,
          -0.06817300711027062,
          0.8622886800722961,
          -0.31057746212150983,
          0.8125623712304261,
          -1.5640669400281466,
          1.2355425375738671,
          0.8324247793641801,
          -0.24619011485215633,
          0.8599638885984369,
          2.515608696935039,
          -0.07276308416211145,
          0.5513061271034504,
          -1.073197145275396,
          -2.0003814065736987,
          0.08474756277100214,
          -0.47531304602403646,
          0.2849603958855241,
          0.3128040140963513,
          -0.1335933447541138,
          -0.561357095225552,
          0.5683662400926341,
          1.0250353032278872,
          -1.0102201871084513,
          0.6989540721372159,
          -0.4470276481220417,
          -1.4318993670426283,
          -1.778709711352007,
          -0.2013150386506052,
          0.90594323014043,
          -0.7068585466458727,
          0.6769572604577522,
          0.7939864245468552,
          -0.7538463469490789,
          -1.5109525329437004,
          0.03241263103920048,
          0.9457202231941569,
          -0.6361641291847315,
          0.8719018266954653,
          0.4866077668978206,
          -0.28575776536307634,
          -2.3753288076766776,
          -1.122899970532789,
          -0.7693332131825008,
          -0.6486311302735432,
          0.272670354146497,
          1.0501723719960416,
          -0.3652989022843855,
          -0.6162279728796006,
          0.4587412631291952,
          -0.5019271653215122,
          -0.2515218329079029,
          -0.6317256522448005,
          -0.08223348033417892,
          -0.0036923666681755664,
          1.266456167863406,
          -0.3560151451082724,
          0.3526100081966942,
          0.8185028299045045,
          -0.15608208664826334,
          -0.33548634877417594,
          0.11600603838969752,
          0.2712996817591125,
          -0.36049681660033206,
          -1.7525330513020736,
          1.450464166516479,
          -1.216821613042049,
          0.6034493801477613,
          -1.8379363094945262,
          1.138064473201576,
          0.8394327104637465,
          -1.929090849772803,
          -1.072691459283474,
          -0.43038935680185325,
          -0.7400367966877052,
          -1.322632993361467,
          0.5787215505345139,
          -1.357954952041852,
          -0.6021767109518883,
          0.13132077562065864,
          1.5594079056934678,
          1.535216779827442,
          -0.19368758523366292,
          -0.3557438285284079,
          0.7849209968717704,
          -1.7621278569068,
          0.6267176980025514,
          -2.8652636529097717,
          -0.770483051114564,
          0.5280043573619357,
          -0.800516072738706,
          -1.743415921195421,
          -3.1720879132649635,
          -0.9725183317291045,
          0.6848046759556948,
          -1.0177256470591118
         ],
         "xaxis": "x9",
         "y": [
          0.1601249787527821,
          0.29467420148564255,
          0.3568882970336668,
          0.49339091812602603,
          0.16530264922437402,
          2.2807082818300626,
          1.4178626566598593,
          0.5889050796635561,
          0.2979322274628636,
          -0.46252389970771896,
          0.13144175857810902,
          0.5736688504658046,
          1.1827446651909586,
          -0.8718692524802156,
          0.20105309216440514,
          -0.08201145688342751,
          0.49058096735497736,
          0.3073301521120699,
          0.2062732752023993,
          -0.8575271388635829,
          -0.06424561735245785,
          0.813349097868763,
          2.741697991028217,
          -0.2793545347105481,
          -0.41986215159009505,
          -0.11499129002598239,
          -0.5715410238192038,
          1.0007504048377733,
          1.3350996160222715,
          -0.5112842995073376,
          -1.1338750384907732,
          1.5711619122979843,
          0.6870070701377833,
          0.5382487054828127,
          -1.9239708678727752,
          -0.4210262882065965,
          0.5638420270406669,
          0.20511189975442604,
          -0.12907921148531795,
          0.757698401531798,
          0.7424669848460085,
          -1.8127059462077935,
          2.576212391160004,
          1.0680317017372118,
          0.6368591290761687,
          0.01397484001391836,
          -1.3260636410754556,
          -0.3454200227156687,
          0.23104677009196176,
          -1.504623218406821,
          -0.7293169981334667,
          -0.6177334832660625,
          -0.46237664722806426,
          -0.1430308666814354,
          0.6280356845129812,
          0.08167521621781876,
          0.9448994153372875,
          2.4854180051941137,
          1.738936345972523,
          -0.048645016737942116,
          -0.5812073885088923,
          -1.0086837242273425,
          1.5473440295073544,
          1.2822811201946844,
          -0.018777519523717173,
          -1.4534708086641772,
          0.45049743683620114,
          0.45948627986481416,
          0.08059342752465515,
          -0.32707985257690864,
          2.0071909451730634,
          0.8792142349076734,
          -0.5655594051944282,
          -0.2631396115731665,
          1.6359234677717236,
          -1.1272003032769349,
          1.3888430168995958,
          0.6783820575897243,
          0.3339377866861008,
          1.8216227062158385,
          -0.9590968968998035,
          0.2114721317851453,
          1.9049164731508406,
          -0.1501836091332619,
          -0.2756392951508617,
          1.3877819674178027,
          -1.2709051234011197,
          1.0917916681144118,
          -0.8501591958376347,
          0.7004656422210184,
          0.7878066663610747,
          1.074070542351294,
          -0.38940669791984817,
          0.06892194841765428,
          -1.1123923558984532,
          -0.8812451059562298,
          -1.6585485110351523,
          -1.1472413656126865,
          0.19786640777415176,
          0.5077386863533896
         ],
         "yaxis": "y9"
        },
        {
         "line": {
          "color": "rgba(128, 128, 128, 1.0)",
          "dash": "solid",
          "shape": "linear",
          "width": 1.3
         },
         "marker": {
          "size": 2,
          "symbol": "circle"
         },
         "mode": "markers",
         "name": "C",
         "text": "",
         "type": "scatter",
         "x": [
          -0.6057254125189131,
          -0.1892998620186739,
          0.26690625989144934,
          0.8801506841686696,
          -2.163784553004971,
          -0.4614535843193734,
          -0.477493821743666,
          1.415970231503484,
          -0.32532434268508886,
          -0.623502578386509,
          0.46107409795762677,
          -0.17597837771622932,
          -0.010493028851549516,
          0.12707067248642415,
          1.6821349613945324,
          1.4896885981293346,
          1.6774362491281654,
          1.7768769787637884,
          0.02482122889581526,
          -0.08490748620525963,
          -0.7745530167443184,
          0.7281703263038644,
          0.34604550500472503,
          1.6609483397717384,
          -0.152552190572538,
          -0.23369305198586304,
          -0.7120689525561642,
          0.42787313319929604,
          1.133049796582027,
          -0.6412951044882726,
          0.8955770585287715,
          -0.4726809527145295,
          0.14844968009098905,
          -0.21346438354012479,
          1.1349094316201722,
          0.3303734816044888,
          0.08667582342525072,
          0.8892484751851075,
          -0.12466594725091838,
          0.8827036907344208,
          1.2094937839467363,
          -0.4895836620137229,
          -0.5408427475391092,
          -1.0410265851439164,
          -0.8895250070698203,
          -0.11542371743890872,
          -0.2565703204603735,
          -1.025057326973805,
          -0.17505685722310804,
          0.7156960922973573,
          0.3364902049994554,
          0.3922927246547013,
          -1.3069168912035614,
          1.0855895861961868,
          0.38972558986895434,
          1.3949581546509382,
          -0.15477016380895434,
          -1.0490182284984666,
          -0.7284534907657603,
          -0.43638936764173697,
          0.6725356433554945,
          -1.3786402449176423,
          0.48072039417330187,
          -0.0017498029708925967,
          0.5018239222039128,
          1.6771097664851364,
          0.35373070444751786,
          0.8266608353330749,
          -0.3749302565897924,
          -0.4353583055446691,
          -1.2005208565469987,
          -0.8799068979454695,
          1.0274027527929517,
          0.3647258386082056,
          0.45955622956747993,
          -0.09155025515307294,
          -1.3399406737564568,
          0.616572965129828,
          0.3878866411322037,
          0.32055906658916067,
          0.7972281495815815,
          2.389749279180996,
          -1.2494200166450264,
          1.903338137180644,
          0.736383662558544,
          -0.2549611298886137,
          0.4816846935415098,
          -0.1640079781722683,
          0.4242312582039998,
          0.8552838937608425,
          -1.9059829052191977,
          0.8331154077999772,
          0.443487283792609,
          -0.2301629498760557,
          -0.4811227799019512,
          0.6444819505648139,
          -1.2330396356002027,
          -0.24868752637889677,
          -0.38122386681139986,
          -0.16332571723924683
         ],
         "xaxis": "x10",
         "y": [
          0.1601249787527821,
          0.29467420148564255,
          0.3568882970336668,
          0.49339091812602603,
          0.16530264922437402,
          2.2807082818300626,
          1.4178626566598593,
          0.5889050796635561,
          0.2979322274628636,
          -0.46252389970771896,
          0.13144175857810902,
          0.5736688504658046,
          1.1827446651909586,
          -0.8718692524802156,
          0.20105309216440514,
          -0.08201145688342751,
          0.49058096735497736,
          0.3073301521120699,
          0.2062732752023993,
          -0.8575271388635829,
          -0.06424561735245785,
          0.813349097868763,
          2.741697991028217,
          -0.2793545347105481,
          -0.41986215159009505,
          -0.11499129002598239,
          -0.5715410238192038,
          1.0007504048377733,
          1.3350996160222715,
          -0.5112842995073376,
          -1.1338750384907732,
          1.5711619122979843,
          0.6870070701377833,
          0.5382487054828127,
          -1.9239708678727752,
          -0.4210262882065965,
          0.5638420270406669,
          0.20511189975442604,
          -0.12907921148531795,
          0.757698401531798,
          0.7424669848460085,
          -1.8127059462077935,
          2.576212391160004,
          1.0680317017372118,
          0.6368591290761687,
          0.01397484001391836,
          -1.3260636410754556,
          -0.3454200227156687,
          0.23104677009196176,
          -1.504623218406821,
          -0.7293169981334667,
          -0.6177334832660625,
          -0.46237664722806426,
          -0.1430308666814354,
          0.6280356845129812,
          0.08167521621781876,
          0.9448994153372875,
          2.4854180051941137,
          1.738936345972523,
          -0.048645016737942116,
          -0.5812073885088923,
          -1.0086837242273425,
          1.5473440295073544,
          1.2822811201946844,
          -0.018777519523717173,
          -1.4534708086641772,
          0.45049743683620114,
          0.45948627986481416,
          0.08059342752465515,
          -0.32707985257690864,
          2.0071909451730634,
          0.8792142349076734,
          -0.5655594051944282,
          -0.2631396115731665,
          1.6359234677717236,
          -1.1272003032769349,
          1.3888430168995958,
          0.6783820575897243,
          0.3339377866861008,
          1.8216227062158385,
          -0.9590968968998035,
          0.2114721317851453,
          1.9049164731508406,
          -0.1501836091332619,
          -0.2756392951508617,
          1.3877819674178027,
          -1.2709051234011197,
          1.0917916681144118,
          -0.8501591958376347,
          0.7004656422210184,
          0.7878066663610747,
          1.074070542351294,
          -0.38940669791984817,
          0.06892194841765428,
          -1.1123923558984532,
          -0.8812451059562298,
          -1.6585485110351523,
          -1.1472413656126865,
          0.19786640777415176,
          0.5077386863533896
         ],
         "yaxis": "y10"
        },
        {
         "histfunc": "count",
         "histnorm": "",
         "marker": {
          "color": "rgba(50, 171, 96, 1.0)",
          "line": {
           "color": "#4D5663",
           "width": 1.3
          }
         },
         "name": "C",
         "nbinsx": 10,
         "opacity": 0.8,
         "orientation": "v",
         "type": "histogram",
         "x": [
          0.1601249787527821,
          0.29467420148564255,
          0.3568882970336668,
          0.49339091812602603,
          0.16530264922437402,
          2.2807082818300626,
          1.4178626566598593,
          0.5889050796635561,
          0.2979322274628636,
          -0.46252389970771896,
          0.13144175857810902,
          0.5736688504658046,
          1.1827446651909586,
          -0.8718692524802156,
          0.20105309216440514,
          -0.08201145688342751,
          0.49058096735497736,
          0.3073301521120699,
          0.2062732752023993,
          -0.8575271388635829,
          -0.06424561735245785,
          0.813349097868763,
          2.741697991028217,
          -0.2793545347105481,
          -0.41986215159009505,
          -0.11499129002598239,
          -0.5715410238192038,
          1.0007504048377733,
          1.3350996160222715,
          -0.5112842995073376,
          -1.1338750384907732,
          1.5711619122979843,
          0.6870070701377833,
          0.5382487054828127,
          -1.9239708678727752,
          -0.4210262882065965,
          0.5638420270406669,
          0.20511189975442604,
          -0.12907921148531795,
          0.757698401531798,
          0.7424669848460085,
          -1.8127059462077935,
          2.576212391160004,
          1.0680317017372118,
          0.6368591290761687,
          0.01397484001391836,
          -1.3260636410754556,
          -0.3454200227156687,
          0.23104677009196176,
          -1.504623218406821,
          -0.7293169981334667,
          -0.6177334832660625,
          -0.46237664722806426,
          -0.1430308666814354,
          0.6280356845129812,
          0.08167521621781876,
          0.9448994153372875,
          2.4854180051941137,
          1.738936345972523,
          -0.048645016737942116,
          -0.5812073885088923,
          -1.0086837242273425,
          1.5473440295073544,
          1.2822811201946844,
          -0.018777519523717173,
          -1.4534708086641772,
          0.45049743683620114,
          0.45948627986481416,
          0.08059342752465515,
          -0.32707985257690864,
          2.0071909451730634,
          0.8792142349076734,
          -0.5655594051944282,
          -0.2631396115731665,
          1.6359234677717236,
          -1.1272003032769349,
          1.3888430168995958,
          0.6783820575897243,
          0.3339377866861008,
          1.8216227062158385,
          -0.9590968968998035,
          0.2114721317851453,
          1.9049164731508406,
          -0.1501836091332619,
          -0.2756392951508617,
          1.3877819674178027,
          -1.2709051234011197,
          1.0917916681144118,
          -0.8501591958376347,
          0.7004656422210184,
          0.7878066663610747,
          1.074070542351294,
          -0.38940669791984817,
          0.06892194841765428,
          -1.1123923558984532,
          -0.8812451059562298,
          -1.6585485110351523,
          -1.1472413656126865,
          0.19786640777415176,
          0.5077386863533896
         ],
         "xaxis": "x11",
         "yaxis": "y11"
        },
        {
         "line": {
          "color": "rgba(128, 128, 128, 1.0)",
          "dash": "solid",
          "shape": "linear",
          "width": 1.3
         },
         "marker": {
          "size": 2,
          "symbol": "circle"
         },
         "mode": "markers",
         "name": "C",
         "text": "",
         "type": "scatter",
         "x": [
          1.3426741245866363,
          -0.1834048490438496,
          0.5328701812928004,
          -1.656655718697109,
          0.05958791043719714,
          -0.19321217176039682,
          0.06697395147157933,
          1.2728946133940555,
          1.6643370286610772,
          -1.5298365985683589,
          -0.9948984208642397,
          -0.289097184657636,
          0.4872438797747574,
          -0.9346972356629407,
          0.634849949945669,
          -0.39628347477726644,
          -2.547089675866158,
          -1.7910532792329155,
          -0.9645522216640807,
          -0.19828174573655213,
          -0.39914923917814354,
          0.45504859536829234,
          -0.8250249932745054,
          -0.20729714524589746,
          0.31887015011812375,
          1.9513687669838113,
          0.15194731092481026,
          0.7383368942851168,
          1.500574460132519,
          -0.4870595150175634,
          1.456454413800416,
          -0.42216075416439364,
          0.6560702633200569,
          1.1792352012079161,
          1.0429843786375605,
          0.7036294942885998,
          0.08074177433226708,
          -1.4487970875512286,
          0.894558078926984,
          -0.0699282582298491,
          -0.9520511502426532,
          -0.8876588084539955,
          0.5781969438845166,
          -1.7430486173832038,
          -1.0073018621411078,
          -0.09471496007539422,
          -0.310076014622057,
          1.4200365177865308,
          0.7422544097753597,
          1.7528188543357193,
          0.7584308483426954,
          0.9261195761969273,
          1.0118865358079006,
          0.4300919260168664,
          0.9294146926947682,
          1.3924465982379013,
          -0.13465429145725835,
          0.11240045614705331,
          2.1263570870016677,
          -1.3760755934994795,
          0.4963343390016291,
          1.7577565294397053,
          -0.4950895720694699,
          0.9182203047219385,
          0.21420340042688107,
          -0.5694921352855646,
          -0.9966297263957835,
          1.8913948677061185,
          -0.6095726404258395,
          0.07937391098492103,
          1.5742394986620833,
          2.2208035124948706,
          1.7931480125786967,
          1.040558149695388,
          -0.14860657963079282,
          0.4183506064769205,
          -0.5825850114800133,
          0.18926300512470912,
          -1.8135214054753488,
          -0.7926467849208718,
          -0.8139609097186383,
          -0.839992505317087,
          -0.7777280525675709,
          1.188828962652113,
          0.20893714463873903,
          -0.8378980888052304,
          0.09162398386714583,
          0.09998081544549062,
          -0.10154735279607056,
          0.5766338514647803,
          0.02486186174479018,
          -0.37183414153807004,
          -0.8281281218747182,
          1.2489116158283142,
          1.0625211745812095,
          -0.21442203657256956,
          1.2391079074889888,
          -0.8440304806921777,
          -1.6817763878890764,
          1.5489363423738167
         ],
         "xaxis": "x12",
         "y": [
          0.1601249787527821,
          0.29467420148564255,
          0.3568882970336668,
          0.49339091812602603,
          0.16530264922437402,
          2.2807082818300626,
          1.4178626566598593,
          0.5889050796635561,
          0.2979322274628636,
          -0.46252389970771896,
          0.13144175857810902,
          0.5736688504658046,
          1.1827446651909586,
          -0.8718692524802156,
          0.20105309216440514,
          -0.08201145688342751,
          0.49058096735497736,
          0.3073301521120699,
          0.2062732752023993,
          -0.8575271388635829,
          -0.06424561735245785,
          0.813349097868763,
          2.741697991028217,
          -0.2793545347105481,
          -0.41986215159009505,
          -0.11499129002598239,
          -0.5715410238192038,
          1.0007504048377733,
          1.3350996160222715,
          -0.5112842995073376,
          -1.1338750384907732,
          1.5711619122979843,
          0.6870070701377833,
          0.5382487054828127,
          -1.9239708678727752,
          -0.4210262882065965,
          0.5638420270406669,
          0.20511189975442604,
          -0.12907921148531795,
          0.757698401531798,
          0.7424669848460085,
          -1.8127059462077935,
          2.576212391160004,
          1.0680317017372118,
          0.6368591290761687,
          0.01397484001391836,
          -1.3260636410754556,
          -0.3454200227156687,
          0.23104677009196176,
          -1.504623218406821,
          -0.7293169981334667,
          -0.6177334832660625,
          -0.46237664722806426,
          -0.1430308666814354,
          0.6280356845129812,
          0.08167521621781876,
          0.9448994153372875,
          2.4854180051941137,
          1.738936345972523,
          -0.048645016737942116,
          -0.5812073885088923,
          -1.0086837242273425,
          1.5473440295073544,
          1.2822811201946844,
          -0.018777519523717173,
          -1.4534708086641772,
          0.45049743683620114,
          0.45948627986481416,
          0.08059342752465515,
          -0.32707985257690864,
          2.0071909451730634,
          0.8792142349076734,
          -0.5655594051944282,
          -0.2631396115731665,
          1.6359234677717236,
          -1.1272003032769349,
          1.3888430168995958,
          0.6783820575897243,
          0.3339377866861008,
          1.8216227062158385,
          -0.9590968968998035,
          0.2114721317851453,
          1.9049164731508406,
          -0.1501836091332619,
          -0.2756392951508617,
          1.3877819674178027,
          -1.2709051234011197,
          1.0917916681144118,
          -0.8501591958376347,
          0.7004656422210184,
          0.7878066663610747,
          1.074070542351294,
          -0.38940669791984817,
          0.06892194841765428,
          -1.1123923558984532,
          -0.8812451059562298,
          -1.6585485110351523,
          -1.1472413656126865,
          0.19786640777415176,
          0.5077386863533896
         ],
         "yaxis": "y12"
        },
        {
         "line": {
          "color": "rgba(128, 128, 128, 1.0)",
          "dash": "solid",
          "shape": "linear",
          "width": 1.3
         },
         "marker": {
          "size": 2,
          "symbol": "circle"
         },
         "mode": "markers",
         "name": "D",
         "text": "",
         "type": "scatter",
         "x": [
          -0.2908630835904841,
          0.7522026671935028,
          -0.3202202412277464,
          -0.3843185240987831,
          -0.11931133758015264,
          -0.06817300711027062,
          0.8622886800722961,
          -0.31057746212150983,
          0.8125623712304261,
          -1.5640669400281466,
          1.2355425375738671,
          0.8324247793641801,
          -0.24619011485215633,
          0.8599638885984369,
          2.515608696935039,
          -0.07276308416211145,
          0.5513061271034504,
          -1.073197145275396,
          -2.0003814065736987,
          0.08474756277100214,
          -0.47531304602403646,
          0.2849603958855241,
          0.3128040140963513,
          -0.1335933447541138,
          -0.561357095225552,
          0.5683662400926341,
          1.0250353032278872,
          -1.0102201871084513,
          0.6989540721372159,
          -0.4470276481220417,
          -1.4318993670426283,
          -1.778709711352007,
          -0.2013150386506052,
          0.90594323014043,
          -0.7068585466458727,
          0.6769572604577522,
          0.7939864245468552,
          -0.7538463469490789,
          -1.5109525329437004,
          0.03241263103920048,
          0.9457202231941569,
          -0.6361641291847315,
          0.8719018266954653,
          0.4866077668978206,
          -0.28575776536307634,
          -2.3753288076766776,
          -1.122899970532789,
          -0.7693332131825008,
          -0.6486311302735432,
          0.272670354146497,
          1.0501723719960416,
          -0.3652989022843855,
          -0.6162279728796006,
          0.4587412631291952,
          -0.5019271653215122,
          -0.2515218329079029,
          -0.6317256522448005,
          -0.08223348033417892,
          -0.0036923666681755664,
          1.266456167863406,
          -0.3560151451082724,
          0.3526100081966942,
          0.8185028299045045,
          -0.15608208664826334,
          -0.33548634877417594,
          0.11600603838969752,
          0.2712996817591125,
          -0.36049681660033206,
          -1.7525330513020736,
          1.450464166516479,
          -1.216821613042049,
          0.6034493801477613,
          -1.8379363094945262,
          1.138064473201576,
          0.8394327104637465,
          -1.929090849772803,
          -1.072691459283474,
          -0.43038935680185325,
          -0.7400367966877052,
          -1.322632993361467,
          0.5787215505345139,
          -1.357954952041852,
          -0.6021767109518883,
          0.13132077562065864,
          1.5594079056934678,
          1.535216779827442,
          -0.19368758523366292,
          -0.3557438285284079,
          0.7849209968717704,
          -1.7621278569068,
          0.6267176980025514,
          -2.8652636529097717,
          -0.770483051114564,
          0.5280043573619357,
          -0.800516072738706,
          -1.743415921195421,
          -3.1720879132649635,
          -0.9725183317291045,
          0.6848046759556948,
          -1.0177256470591118
         ],
         "xaxis": "x13",
         "y": [
          1.3426741245866363,
          -0.1834048490438496,
          0.5328701812928004,
          -1.656655718697109,
          0.05958791043719714,
          -0.19321217176039682,
          0.06697395147157933,
          1.2728946133940555,
          1.6643370286610772,
          -1.5298365985683589,
          -0.9948984208642397,
          -0.289097184657636,
          0.4872438797747574,
          -0.9346972356629407,
          0.634849949945669,
          -0.39628347477726644,
          -2.547089675866158,
          -1.7910532792329155,
          -0.9645522216640807,
          -0.19828174573655213,
          -0.39914923917814354,
          0.45504859536829234,
          -0.8250249932745054,
          -0.20729714524589746,
          0.31887015011812375,
          1.9513687669838113,
          0.15194731092481026,
          0.7383368942851168,
          1.500574460132519,
          -0.4870595150175634,
          1.456454413800416,
          -0.42216075416439364,
          0.6560702633200569,
          1.1792352012079161,
          1.0429843786375605,
          0.7036294942885998,
          0.08074177433226708,
          -1.4487970875512286,
          0.894558078926984,
          -0.0699282582298491,
          -0.9520511502426532,
          -0.8876588084539955,
          0.5781969438845166,
          -1.7430486173832038,
          -1.0073018621411078,
          -0.09471496007539422,
          -0.310076014622057,
          1.4200365177865308,
          0.7422544097753597,
          1.7528188543357193,
          0.7584308483426954,
          0.9261195761969273,
          1.0118865358079006,
          0.4300919260168664,
          0.9294146926947682,
          1.3924465982379013,
          -0.13465429145725835,
          0.11240045614705331,
          2.1263570870016677,
          -1.3760755934994795,
          0.4963343390016291,
          1.7577565294397053,
          -0.4950895720694699,
          0.9182203047219385,
          0.21420340042688107,
          -0.5694921352855646,
          -0.9966297263957835,
          1.8913948677061185,
          -0.6095726404258395,
          0.07937391098492103,
          1.5742394986620833,
          2.2208035124948706,
          1.7931480125786967,
          1.040558149695388,
          -0.14860657963079282,
          0.4183506064769205,
          -0.5825850114800133,
          0.18926300512470912,
          -1.8135214054753488,
          -0.7926467849208718,
          -0.8139609097186383,
          -0.839992505317087,
          -0.7777280525675709,
          1.188828962652113,
          0.20893714463873903,
          -0.8378980888052304,
          0.09162398386714583,
          0.09998081544549062,
          -0.10154735279607056,
          0.5766338514647803,
          0.02486186174479018,
          -0.37183414153807004,
          -0.8281281218747182,
          1.2489116158283142,
          1.0625211745812095,
          -0.21442203657256956,
          1.2391079074889888,
          -0.8440304806921777,
          -1.6817763878890764,
          1.5489363423738167
         ],
         "yaxis": "y13"
        },
        {
         "line": {
          "color": "rgba(128, 128, 128, 1.0)",
          "dash": "solid",
          "shape": "linear",
          "width": 1.3
         },
         "marker": {
          "size": 2,
          "symbol": "circle"
         },
         "mode": "markers",
         "name": "D",
         "text": "",
         "type": "scatter",
         "x": [
          -0.6057254125189131,
          -0.1892998620186739,
          0.26690625989144934,
          0.8801506841686696,
          -2.163784553004971,
          -0.4614535843193734,
          -0.477493821743666,
          1.415970231503484,
          -0.32532434268508886,
          -0.623502578386509,
          0.46107409795762677,
          -0.17597837771622932,
          -0.010493028851549516,
          0.12707067248642415,
          1.6821349613945324,
          1.4896885981293346,
          1.6774362491281654,
          1.7768769787637884,
          0.02482122889581526,
          -0.08490748620525963,
          -0.7745530167443184,
          0.7281703263038644,
          0.34604550500472503,
          1.6609483397717384,
          -0.152552190572538,
          -0.23369305198586304,
          -0.7120689525561642,
          0.42787313319929604,
          1.133049796582027,
          -0.6412951044882726,
          0.8955770585287715,
          -0.4726809527145295,
          0.14844968009098905,
          -0.21346438354012479,
          1.1349094316201722,
          0.3303734816044888,
          0.08667582342525072,
          0.8892484751851075,
          -0.12466594725091838,
          0.8827036907344208,
          1.2094937839467363,
          -0.4895836620137229,
          -0.5408427475391092,
          -1.0410265851439164,
          -0.8895250070698203,
          -0.11542371743890872,
          -0.2565703204603735,
          -1.025057326973805,
          -0.17505685722310804,
          0.7156960922973573,
          0.3364902049994554,
          0.3922927246547013,
          -1.3069168912035614,
          1.0855895861961868,
          0.38972558986895434,
          1.3949581546509382,
          -0.15477016380895434,
          -1.0490182284984666,
          -0.7284534907657603,
          -0.43638936764173697,
          0.6725356433554945,
          -1.3786402449176423,
          0.48072039417330187,
          -0.0017498029708925967,
          0.5018239222039128,
          1.6771097664851364,
          0.35373070444751786,
          0.8266608353330749,
          -0.3749302565897924,
          -0.4353583055446691,
          -1.2005208565469987,
          -0.8799068979454695,
          1.0274027527929517,
          0.3647258386082056,
          0.45955622956747993,
          -0.09155025515307294,
          -1.3399406737564568,
          0.616572965129828,
          0.3878866411322037,
          0.32055906658916067,
          0.7972281495815815,
          2.389749279180996,
          -1.2494200166450264,
          1.903338137180644,
          0.736383662558544,
          -0.2549611298886137,
          0.4816846935415098,
          -0.1640079781722683,
          0.4242312582039998,
          0.8552838937608425,
          -1.9059829052191977,
          0.8331154077999772,
          0.443487283792609,
          -0.2301629498760557,
          -0.4811227799019512,
          0.6444819505648139,
          -1.2330396356002027,
          -0.24868752637889677,
          -0.38122386681139986,
          -0.16332571723924683
         ],
         "xaxis": "x14",
         "y": [
          1.3426741245866363,
          -0.1834048490438496,
          0.5328701812928004,
          -1.656655718697109,
          0.05958791043719714,
          -0.19321217176039682,
          0.06697395147157933,
          1.2728946133940555,
          1.6643370286610772,
          -1.5298365985683589,
          -0.9948984208642397,
          -0.289097184657636,
          0.4872438797747574,
          -0.9346972356629407,
          0.634849949945669,
          -0.39628347477726644,
          -2.547089675866158,
          -1.7910532792329155,
          -0.9645522216640807,
          -0.19828174573655213,
          -0.39914923917814354,
          0.45504859536829234,
          -0.8250249932745054,
          -0.20729714524589746,
          0.31887015011812375,
          1.9513687669838113,
          0.15194731092481026,
          0.7383368942851168,
          1.500574460132519,
          -0.4870595150175634,
          1.456454413800416,
          -0.42216075416439364,
          0.6560702633200569,
          1.1792352012079161,
          1.0429843786375605,
          0.7036294942885998,
          0.08074177433226708,
          -1.4487970875512286,
          0.894558078926984,
          -0.0699282582298491,
          -0.9520511502426532,
          -0.8876588084539955,
          0.5781969438845166,
          -1.7430486173832038,
          -1.0073018621411078,
          -0.09471496007539422,
          -0.310076014622057,
          1.4200365177865308,
          0.7422544097753597,
          1.7528188543357193,
          0.7584308483426954,
          0.9261195761969273,
          1.0118865358079006,
          0.4300919260168664,
          0.9294146926947682,
          1.3924465982379013,
          -0.13465429145725835,
          0.11240045614705331,
          2.1263570870016677,
          -1.3760755934994795,
          0.4963343390016291,
          1.7577565294397053,
          -0.4950895720694699,
          0.9182203047219385,
          0.21420340042688107,
          -0.5694921352855646,
          -0.9966297263957835,
          1.8913948677061185,
          -0.6095726404258395,
          0.07937391098492103,
          1.5742394986620833,
          2.2208035124948706,
          1.7931480125786967,
          1.040558149695388,
          -0.14860657963079282,
          0.4183506064769205,
          -0.5825850114800133,
          0.18926300512470912,
          -1.8135214054753488,
          -0.7926467849208718,
          -0.8139609097186383,
          -0.839992505317087,
          -0.7777280525675709,
          1.188828962652113,
          0.20893714463873903,
          -0.8378980888052304,
          0.09162398386714583,
          0.09998081544549062,
          -0.10154735279607056,
          0.5766338514647803,
          0.02486186174479018,
          -0.37183414153807004,
          -0.8281281218747182,
          1.2489116158283142,
          1.0625211745812095,
          -0.21442203657256956,
          1.2391079074889888,
          -0.8440304806921777,
          -1.6817763878890764,
          1.5489363423738167
         ],
         "yaxis": "y14"
        },
        {
         "line": {
          "color": "rgba(128, 128, 128, 1.0)",
          "dash": "solid",
          "shape": "linear",
          "width": 1.3
         },
         "marker": {
          "size": 2,
          "symbol": "circle"
         },
         "mode": "markers",
         "name": "D",
         "text": "",
         "type": "scatter",
         "x": [
          0.1601249787527821,
          0.29467420148564255,
          0.3568882970336668,
          0.49339091812602603,
          0.16530264922437402,
          2.2807082818300626,
          1.4178626566598593,
          0.5889050796635561,
          0.2979322274628636,
          -0.46252389970771896,
          0.13144175857810902,
          0.5736688504658046,
          1.1827446651909586,
          -0.8718692524802156,
          0.20105309216440514,
          -0.08201145688342751,
          0.49058096735497736,
          0.3073301521120699,
          0.2062732752023993,
          -0.8575271388635829,
          -0.06424561735245785,
          0.813349097868763,
          2.741697991028217,
          -0.2793545347105481,
          -0.41986215159009505,
          -0.11499129002598239,
          -0.5715410238192038,
          1.0007504048377733,
          1.3350996160222715,
          -0.5112842995073376,
          -1.1338750384907732,
          1.5711619122979843,
          0.6870070701377833,
          0.5382487054828127,
          -1.9239708678727752,
          -0.4210262882065965,
          0.5638420270406669,
          0.20511189975442604,
          -0.12907921148531795,
          0.757698401531798,
          0.7424669848460085,
          -1.8127059462077935,
          2.576212391160004,
          1.0680317017372118,
          0.6368591290761687,
          0.01397484001391836,
          -1.3260636410754556,
          -0.3454200227156687,
          0.23104677009196176,
          -1.504623218406821,
          -0.7293169981334667,
          -0.6177334832660625,
          -0.46237664722806426,
          -0.1430308666814354,
          0.6280356845129812,
          0.08167521621781876,
          0.9448994153372875,
          2.4854180051941137,
          1.738936345972523,
          -0.048645016737942116,
          -0.5812073885088923,
          -1.0086837242273425,
          1.5473440295073544,
          1.2822811201946844,
          -0.018777519523717173,
          -1.4534708086641772,
          0.45049743683620114,
          0.45948627986481416,
          0.08059342752465515,
          -0.32707985257690864,
          2.0071909451730634,
          0.8792142349076734,
          -0.5655594051944282,
          -0.2631396115731665,
          1.6359234677717236,
          -1.1272003032769349,
          1.3888430168995958,
          0.6783820575897243,
          0.3339377866861008,
          1.8216227062158385,
          -0.9590968968998035,
          0.2114721317851453,
          1.9049164731508406,
          -0.1501836091332619,
          -0.2756392951508617,
          1.3877819674178027,
          -1.2709051234011197,
          1.0917916681144118,
          -0.8501591958376347,
          0.7004656422210184,
          0.7878066663610747,
          1.074070542351294,
          -0.38940669791984817,
          0.06892194841765428,
          -1.1123923558984532,
          -0.8812451059562298,
          -1.6585485110351523,
          -1.1472413656126865,
          0.19786640777415176,
          0.5077386863533896
         ],
         "xaxis": "x15",
         "y": [
          1.3426741245866363,
          -0.1834048490438496,
          0.5328701812928004,
          -1.656655718697109,
          0.05958791043719714,
          -0.19321217176039682,
          0.06697395147157933,
          1.2728946133940555,
          1.6643370286610772,
          -1.5298365985683589,
          -0.9948984208642397,
          -0.289097184657636,
          0.4872438797747574,
          -0.9346972356629407,
          0.634849949945669,
          -0.39628347477726644,
          -2.547089675866158,
          -1.7910532792329155,
          -0.9645522216640807,
          -0.19828174573655213,
          -0.39914923917814354,
          0.45504859536829234,
          -0.8250249932745054,
          -0.20729714524589746,
          0.31887015011812375,
          1.9513687669838113,
          0.15194731092481026,
          0.7383368942851168,
          1.500574460132519,
          -0.4870595150175634,
          1.456454413800416,
          -0.42216075416439364,
          0.6560702633200569,
          1.1792352012079161,
          1.0429843786375605,
          0.7036294942885998,
          0.08074177433226708,
          -1.4487970875512286,
          0.894558078926984,
          -0.0699282582298491,
          -0.9520511502426532,
          -0.8876588084539955,
          0.5781969438845166,
          -1.7430486173832038,
          -1.0073018621411078,
          -0.09471496007539422,
          -0.310076014622057,
          1.4200365177865308,
          0.7422544097753597,
          1.7528188543357193,
          0.7584308483426954,
          0.9261195761969273,
          1.0118865358079006,
          0.4300919260168664,
          0.9294146926947682,
          1.3924465982379013,
          -0.13465429145725835,
          0.11240045614705331,
          2.1263570870016677,
          -1.3760755934994795,
          0.4963343390016291,
          1.7577565294397053,
          -0.4950895720694699,
          0.9182203047219385,
          0.21420340042688107,
          -0.5694921352855646,
          -0.9966297263957835,
          1.8913948677061185,
          -0.6095726404258395,
          0.07937391098492103,
          1.5742394986620833,
          2.2208035124948706,
          1.7931480125786967,
          1.040558149695388,
          -0.14860657963079282,
          0.4183506064769205,
          -0.5825850114800133,
          0.18926300512470912,
          -1.8135214054753488,
          -0.7926467849208718,
          -0.8139609097186383,
          -0.839992505317087,
          -0.7777280525675709,
          1.188828962652113,
          0.20893714463873903,
          -0.8378980888052304,
          0.09162398386714583,
          0.09998081544549062,
          -0.10154735279607056,
          0.5766338514647803,
          0.02486186174479018,
          -0.37183414153807004,
          -0.8281281218747182,
          1.2489116158283142,
          1.0625211745812095,
          -0.21442203657256956,
          1.2391079074889888,
          -0.8440304806921777,
          -1.6817763878890764,
          1.5489363423738167
         ],
         "yaxis": "y15"
        },
        {
         "histfunc": "count",
         "histnorm": "",
         "marker": {
          "color": "rgba(128, 0, 128, 1.0)",
          "line": {
           "color": "#4D5663",
           "width": 1.3
          }
         },
         "name": "D",
         "nbinsx": 10,
         "opacity": 0.8,
         "orientation": "v",
         "type": "histogram",
         "x": [
          1.3426741245866363,
          -0.1834048490438496,
          0.5328701812928004,
          -1.656655718697109,
          0.05958791043719714,
          -0.19321217176039682,
          0.06697395147157933,
          1.2728946133940555,
          1.6643370286610772,
          -1.5298365985683589,
          -0.9948984208642397,
          -0.289097184657636,
          0.4872438797747574,
          -0.9346972356629407,
          0.634849949945669,
          -0.39628347477726644,
          -2.547089675866158,
          -1.7910532792329155,
          -0.9645522216640807,
          -0.19828174573655213,
          -0.39914923917814354,
          0.45504859536829234,
          -0.8250249932745054,
          -0.20729714524589746,
          0.31887015011812375,
          1.9513687669838113,
          0.15194731092481026,
          0.7383368942851168,
          1.500574460132519,
          -0.4870595150175634,
          1.456454413800416,
          -0.42216075416439364,
          0.6560702633200569,
          1.1792352012079161,
          1.0429843786375605,
          0.7036294942885998,
          0.08074177433226708,
          -1.4487970875512286,
          0.894558078926984,
          -0.0699282582298491,
          -0.9520511502426532,
          -0.8876588084539955,
          0.5781969438845166,
          -1.7430486173832038,
          -1.0073018621411078,
          -0.09471496007539422,
          -0.310076014622057,
          1.4200365177865308,
          0.7422544097753597,
          1.7528188543357193,
          0.7584308483426954,
          0.9261195761969273,
          1.0118865358079006,
          0.4300919260168664,
          0.9294146926947682,
          1.3924465982379013,
          -0.13465429145725835,
          0.11240045614705331,
          2.1263570870016677,
          -1.3760755934994795,
          0.4963343390016291,
          1.7577565294397053,
          -0.4950895720694699,
          0.9182203047219385,
          0.21420340042688107,
          -0.5694921352855646,
          -0.9966297263957835,
          1.8913948677061185,
          -0.6095726404258395,
          0.07937391098492103,
          1.5742394986620833,
          2.2208035124948706,
          1.7931480125786967,
          1.040558149695388,
          -0.14860657963079282,
          0.4183506064769205,
          -0.5825850114800133,
          0.18926300512470912,
          -1.8135214054753488,
          -0.7926467849208718,
          -0.8139609097186383,
          -0.839992505317087,
          -0.7777280525675709,
          1.188828962652113,
          0.20893714463873903,
          -0.8378980888052304,
          0.09162398386714583,
          0.09998081544549062,
          -0.10154735279607056,
          0.5766338514647803,
          0.02486186174479018,
          -0.37183414153807004,
          -0.8281281218747182,
          1.2489116158283142,
          1.0625211745812095,
          -0.21442203657256956,
          1.2391079074889888,
          -0.8440304806921777,
          -1.6817763878890764,
          1.5489363423738167
         ],
         "xaxis": "x16",
         "yaxis": "y16"
        }
       ],
       "layout": {
        "bargap": 0.02,
        "legend": {
         "bgcolor": "#F5F6F9",
         "font": {
          "color": "#4D5663"
         }
        },
        "paper_bgcolor": "#F5F6F9",
        "plot_bgcolor": "#F5F6F9",
        "showlegend": false,
        "template": {
         "data": {
          "bar": [
           {
            "error_x": {
             "color": "#2a3f5f"
            },
            "error_y": {
             "color": "#2a3f5f"
            },
            "marker": {
             "line": {
              "color": "#E5ECF6",
              "width": 0.5
             }
            },
            "type": "bar"
           }
          ],
          "barpolar": [
           {
            "marker": {
             "line": {
              "color": "#E5ECF6",
              "width": 0.5
             }
            },
            "type": "barpolar"
           }
          ],
          "carpet": [
           {
            "aaxis": {
             "endlinecolor": "#2a3f5f",
             "gridcolor": "white",
             "linecolor": "white",
             "minorgridcolor": "white",
             "startlinecolor": "#2a3f5f"
            },
            "baxis": {
             "endlinecolor": "#2a3f5f",
             "gridcolor": "white",
             "linecolor": "white",
             "minorgridcolor": "white",
             "startlinecolor": "#2a3f5f"
            },
            "type": "carpet"
           }
          ],
          "choropleth": [
           {
            "colorbar": {
             "outlinewidth": 0,
             "ticks": ""
            },
            "type": "choropleth"
           }
          ],
          "contour": [
           {
            "colorbar": {
             "outlinewidth": 0,
             "ticks": ""
            },
            "colorscale": [
             [
              0,
              "#0d0887"
             ],
             [
              0.1111111111111111,
              "#46039f"
             ],
             [
              0.2222222222222222,
              "#7201a8"
             ],
             [
              0.3333333333333333,
              "#9c179e"
             ],
             [
              0.4444444444444444,
              "#bd3786"
             ],
             [
              0.5555555555555556,
              "#d8576b"
             ],
             [
              0.6666666666666666,
              "#ed7953"
             ],
             [
              0.7777777777777778,
              "#fb9f3a"
             ],
             [
              0.8888888888888888,
              "#fdca26"
             ],
             [
              1,
              "#f0f921"
             ]
            ],
            "type": "contour"
           }
          ],
          "contourcarpet": [
           {
            "colorbar": {
             "outlinewidth": 0,
             "ticks": ""
            },
            "type": "contourcarpet"
           }
          ],
          "heatmap": [
           {
            "colorbar": {
             "outlinewidth": 0,
             "ticks": ""
            },
            "colorscale": [
             [
              0,
              "#0d0887"
             ],
             [
              0.1111111111111111,
              "#46039f"
             ],
             [
              0.2222222222222222,
              "#7201a8"
             ],
             [
              0.3333333333333333,
              "#9c179e"
             ],
             [
              0.4444444444444444,
              "#bd3786"
             ],
             [
              0.5555555555555556,
              "#d8576b"
             ],
             [
              0.6666666666666666,
              "#ed7953"
             ],
             [
              0.7777777777777778,
              "#fb9f3a"
             ],
             [
              0.8888888888888888,
              "#fdca26"
             ],
             [
              1,
              "#f0f921"
             ]
            ],
            "type": "heatmap"
           }
          ],
          "heatmapgl": [
           {
            "colorbar": {
             "outlinewidth": 0,
             "ticks": ""
            },
            "colorscale": [
             [
              0,
              "#0d0887"
             ],
             [
              0.1111111111111111,
              "#46039f"
             ],
             [
              0.2222222222222222,
              "#7201a8"
             ],
             [
              0.3333333333333333,
              "#9c179e"
             ],
             [
              0.4444444444444444,
              "#bd3786"
             ],
             [
              0.5555555555555556,
              "#d8576b"
             ],
             [
              0.6666666666666666,
              "#ed7953"
             ],
             [
              0.7777777777777778,
              "#fb9f3a"
             ],
             [
              0.8888888888888888,
              "#fdca26"
             ],
             [
              1,
              "#f0f921"
             ]
            ],
            "type": "heatmapgl"
           }
          ],
          "histogram": [
           {
            "marker": {
             "colorbar": {
              "outlinewidth": 0,
              "ticks": ""
             }
            },
            "type": "histogram"
           }
          ],
          "histogram2d": [
           {
            "colorbar": {
             "outlinewidth": 0,
             "ticks": ""
            },
            "colorscale": [
             [
              0,
              "#0d0887"
             ],
             [
              0.1111111111111111,
              "#46039f"
             ],
             [
              0.2222222222222222,
              "#7201a8"
             ],
             [
              0.3333333333333333,
              "#9c179e"
             ],
             [
              0.4444444444444444,
              "#bd3786"
             ],
             [
              0.5555555555555556,
              "#d8576b"
             ],
             [
              0.6666666666666666,
              "#ed7953"
             ],
             [
              0.7777777777777778,
              "#fb9f3a"
             ],
             [
              0.8888888888888888,
              "#fdca26"
             ],
             [
              1,
              "#f0f921"
             ]
            ],
            "type": "histogram2d"
           }
          ],
          "histogram2dcontour": [
           {
            "colorbar": {
             "outlinewidth": 0,
             "ticks": ""
            },
            "colorscale": [
             [
              0,
              "#0d0887"
             ],
             [
              0.1111111111111111,
              "#46039f"
             ],
             [
              0.2222222222222222,
              "#7201a8"
             ],
             [
              0.3333333333333333,
              "#9c179e"
             ],
             [
              0.4444444444444444,
              "#bd3786"
             ],
             [
              0.5555555555555556,
              "#d8576b"
             ],
             [
              0.6666666666666666,
              "#ed7953"
             ],
             [
              0.7777777777777778,
              "#fb9f3a"
             ],
             [
              0.8888888888888888,
              "#fdca26"
             ],
             [
              1,
              "#f0f921"
             ]
            ],
            "type": "histogram2dcontour"
           }
          ],
          "mesh3d": [
           {
            "colorbar": {
             "outlinewidth": 0,
             "ticks": ""
            },
            "type": "mesh3d"
           }
          ],
          "parcoords": [
           {
            "line": {
             "colorbar": {
              "outlinewidth": 0,
              "ticks": ""
             }
            },
            "type": "parcoords"
           }
          ],
          "pie": [
           {
            "automargin": true,
            "type": "pie"
           }
          ],
          "scatter": [
           {
            "marker": {
             "colorbar": {
              "outlinewidth": 0,
              "ticks": ""
             }
            },
            "type": "scatter"
           }
          ],
          "scatter3d": [
           {
            "line": {
             "colorbar": {
              "outlinewidth": 0,
              "ticks": ""
             }
            },
            "marker": {
             "colorbar": {
              "outlinewidth": 0,
              "ticks": ""
             }
            },
            "type": "scatter3d"
           }
          ],
          "scattercarpet": [
           {
            "marker": {
             "colorbar": {
              "outlinewidth": 0,
              "ticks": ""
             }
            },
            "type": "scattercarpet"
           }
          ],
          "scattergeo": [
           {
            "marker": {
             "colorbar": {
              "outlinewidth": 0,
              "ticks": ""
             }
            },
            "type": "scattergeo"
           }
          ],
          "scattergl": [
           {
            "marker": {
             "colorbar": {
              "outlinewidth": 0,
              "ticks": ""
             }
            },
            "type": "scattergl"
           }
          ],
          "scattermapbox": [
           {
            "marker": {
             "colorbar": {
              "outlinewidth": 0,
              "ticks": ""
             }
            },
            "type": "scattermapbox"
           }
          ],
          "scatterpolar": [
           {
            "marker": {
             "colorbar": {
              "outlinewidth": 0,
              "ticks": ""
             }
            },
            "type": "scatterpolar"
           }
          ],
          "scatterpolargl": [
           {
            "marker": {
             "colorbar": {
              "outlinewidth": 0,
              "ticks": ""
             }
            },
            "type": "scatterpolargl"
           }
          ],
          "scatterternary": [
           {
            "marker": {
             "colorbar": {
              "outlinewidth": 0,
              "ticks": ""
             }
            },
            "type": "scatterternary"
           }
          ],
          "surface": [
           {
            "colorbar": {
             "outlinewidth": 0,
             "ticks": ""
            },
            "colorscale": [
             [
              0,
              "#0d0887"
             ],
             [
              0.1111111111111111,
              "#46039f"
             ],
             [
              0.2222222222222222,
              "#7201a8"
             ],
             [
              0.3333333333333333,
              "#9c179e"
             ],
             [
              0.4444444444444444,
              "#bd3786"
             ],
             [
              0.5555555555555556,
              "#d8576b"
             ],
             [
              0.6666666666666666,
              "#ed7953"
             ],
             [
              0.7777777777777778,
              "#fb9f3a"
             ],
             [
              0.8888888888888888,
              "#fdca26"
             ],
             [
              1,
              "#f0f921"
             ]
            ],
            "type": "surface"
           }
          ],
          "table": [
           {
            "cells": {
             "fill": {
              "color": "#EBF0F8"
             },
             "line": {
              "color": "white"
             }
            },
            "header": {
             "fill": {
              "color": "#C8D4E3"
             },
             "line": {
              "color": "white"
             }
            },
            "type": "table"
           }
          ]
         },
         "layout": {
          "annotationdefaults": {
           "arrowcolor": "#2a3f5f",
           "arrowhead": 0,
           "arrowwidth": 1
          },
          "autotypenumbers": "strict",
          "coloraxis": {
           "colorbar": {
            "outlinewidth": 0,
            "ticks": ""
           }
          },
          "colorscale": {
           "diverging": [
            [
             0,
             "#8e0152"
            ],
            [
             0.1,
             "#c51b7d"
            ],
            [
             0.2,
             "#de77ae"
            ],
            [
             0.3,
             "#f1b6da"
            ],
            [
             0.4,
             "#fde0ef"
            ],
            [
             0.5,
             "#f7f7f7"
            ],
            [
             0.6,
             "#e6f5d0"
            ],
            [
             0.7,
             "#b8e186"
            ],
            [
             0.8,
             "#7fbc41"
            ],
            [
             0.9,
             "#4d9221"
            ],
            [
             1,
             "#276419"
            ]
           ],
           "sequential": [
            [
             0,
             "#0d0887"
            ],
            [
             0.1111111111111111,
             "#46039f"
            ],
            [
             0.2222222222222222,
             "#7201a8"
            ],
            [
             0.3333333333333333,
             "#9c179e"
            ],
            [
             0.4444444444444444,
             "#bd3786"
            ],
            [
             0.5555555555555556,
             "#d8576b"
            ],
            [
             0.6666666666666666,
             "#ed7953"
            ],
            [
             0.7777777777777778,
             "#fb9f3a"
            ],
            [
             0.8888888888888888,
             "#fdca26"
            ],
            [
             1,
             "#f0f921"
            ]
           ],
           "sequentialminus": [
            [
             0,
             "#0d0887"
            ],
            [
             0.1111111111111111,
             "#46039f"
            ],
            [
             0.2222222222222222,
             "#7201a8"
            ],
            [
             0.3333333333333333,
             "#9c179e"
            ],
            [
             0.4444444444444444,
             "#bd3786"
            ],
            [
             0.5555555555555556,
             "#d8576b"
            ],
            [
             0.6666666666666666,
             "#ed7953"
            ],
            [
             0.7777777777777778,
             "#fb9f3a"
            ],
            [
             0.8888888888888888,
             "#fdca26"
            ],
            [
             1,
             "#f0f921"
            ]
           ]
          },
          "colorway": [
           "#636efa",
           "#EF553B",
           "#00cc96",
           "#ab63fa",
           "#FFA15A",
           "#19d3f3",
           "#FF6692",
           "#B6E880",
           "#FF97FF",
           "#FECB52"
          ],
          "font": {
           "color": "#2a3f5f"
          },
          "geo": {
           "bgcolor": "white",
           "lakecolor": "white",
           "landcolor": "#E5ECF6",
           "showlakes": true,
           "showland": true,
           "subunitcolor": "white"
          },
          "hoverlabel": {
           "align": "left"
          },
          "hovermode": "closest",
          "mapbox": {
           "style": "light"
          },
          "paper_bgcolor": "white",
          "plot_bgcolor": "#E5ECF6",
          "polar": {
           "angularaxis": {
            "gridcolor": "white",
            "linecolor": "white",
            "ticks": ""
           },
           "bgcolor": "#E5ECF6",
           "radialaxis": {
            "gridcolor": "white",
            "linecolor": "white",
            "ticks": ""
           }
          },
          "scene": {
           "xaxis": {
            "backgroundcolor": "#E5ECF6",
            "gridcolor": "white",
            "gridwidth": 2,
            "linecolor": "white",
            "showbackground": true,
            "ticks": "",
            "zerolinecolor": "white"
           },
           "yaxis": {
            "backgroundcolor": "#E5ECF6",
            "gridcolor": "white",
            "gridwidth": 2,
            "linecolor": "white",
            "showbackground": true,
            "ticks": "",
            "zerolinecolor": "white"
           },
           "zaxis": {
            "backgroundcolor": "#E5ECF6",
            "gridcolor": "white",
            "gridwidth": 2,
            "linecolor": "white",
            "showbackground": true,
            "ticks": "",
            "zerolinecolor": "white"
           }
          },
          "shapedefaults": {
           "line": {
            "color": "#2a3f5f"
           }
          },
          "ternary": {
           "aaxis": {
            "gridcolor": "white",
            "linecolor": "white",
            "ticks": ""
           },
           "baxis": {
            "gridcolor": "white",
            "linecolor": "white",
            "ticks": ""
           },
           "bgcolor": "#E5ECF6",
           "caxis": {
            "gridcolor": "white",
            "linecolor": "white",
            "ticks": ""
           }
          },
          "title": {
           "x": 0.05
          },
          "xaxis": {
           "automargin": true,
           "gridcolor": "white",
           "linecolor": "white",
           "ticks": "",
           "title": {
            "standoff": 15
           },
           "zerolinecolor": "white",
           "zerolinewidth": 2
          },
          "yaxis": {
           "automargin": true,
           "gridcolor": "white",
           "linecolor": "white",
           "ticks": "",
           "title": {
            "standoff": 15
           },
           "zerolinecolor": "white",
           "zerolinewidth": 2
          }
         }
        },
        "title": {
         "font": {
          "color": "#4D5663"
         }
        },
        "xaxis": {
         "anchor": "y",
         "domain": [
          0,
          0.2125
         ],
         "gridcolor": "#E1E5ED",
         "showgrid": false,
         "tickfont": {
          "color": "#4D5663"
         },
         "title": {
          "font": {
           "color": "#4D5663"
          },
          "text": ""
         },
         "zerolinecolor": "#E1E5ED"
        },
        "xaxis10": {
         "anchor": "y10",
         "domain": [
          0.2625,
          0.475
         ],
         "gridcolor": "#E1E5ED",
         "showgrid": false,
         "tickfont": {
          "color": "#4D5663"
         },
         "title": {
          "font": {
           "color": "#4D5663"
          },
          "text": ""
         },
         "zerolinecolor": "#E1E5ED"
        },
        "xaxis11": {
         "anchor": "y11",
         "domain": [
          0.525,
          0.7375
         ],
         "gridcolor": "#E1E5ED",
         "showgrid": false,
         "tickfont": {
          "color": "#4D5663"
         },
         "title": {
          "font": {
           "color": "#4D5663"
          },
          "text": ""
         },
         "zerolinecolor": "#E1E5ED"
        },
        "xaxis12": {
         "anchor": "y12",
         "domain": [
          0.7875,
          1
         ],
         "gridcolor": "#E1E5ED",
         "showgrid": false,
         "tickfont": {
          "color": "#4D5663"
         },
         "title": {
          "font": {
           "color": "#4D5663"
          },
          "text": ""
         },
         "zerolinecolor": "#E1E5ED"
        },
        "xaxis13": {
         "anchor": "y13",
         "domain": [
          0,
          0.2125
         ],
         "gridcolor": "#E1E5ED",
         "showgrid": false,
         "tickfont": {
          "color": "#4D5663"
         },
         "title": {
          "font": {
           "color": "#4D5663"
          },
          "text": ""
         },
         "zerolinecolor": "#E1E5ED"
        },
        "xaxis14": {
         "anchor": "y14",
         "domain": [
          0.2625,
          0.475
         ],
         "gridcolor": "#E1E5ED",
         "showgrid": false,
         "tickfont": {
          "color": "#4D5663"
         },
         "title": {
          "font": {
           "color": "#4D5663"
          },
          "text": ""
         },
         "zerolinecolor": "#E1E5ED"
        },
        "xaxis15": {
         "anchor": "y15",
         "domain": [
          0.525,
          0.7375
         ],
         "gridcolor": "#E1E5ED",
         "showgrid": false,
         "tickfont": {
          "color": "#4D5663"
         },
         "title": {
          "font": {
           "color": "#4D5663"
          },
          "text": ""
         },
         "zerolinecolor": "#E1E5ED"
        },
        "xaxis16": {
         "anchor": "y16",
         "domain": [
          0.7875,
          1
         ],
         "gridcolor": "#E1E5ED",
         "showgrid": false,
         "tickfont": {
          "color": "#4D5663"
         },
         "title": {
          "font": {
           "color": "#4D5663"
          },
          "text": ""
         },
         "zerolinecolor": "#E1E5ED"
        },
        "xaxis2": {
         "anchor": "y2",
         "domain": [
          0.2625,
          0.475
         ],
         "gridcolor": "#E1E5ED",
         "showgrid": false,
         "tickfont": {
          "color": "#4D5663"
         },
         "title": {
          "font": {
           "color": "#4D5663"
          },
          "text": ""
         },
         "zerolinecolor": "#E1E5ED"
        },
        "xaxis3": {
         "anchor": "y3",
         "domain": [
          0.525,
          0.7375
         ],
         "gridcolor": "#E1E5ED",
         "showgrid": false,
         "tickfont": {
          "color": "#4D5663"
         },
         "title": {
          "font": {
           "color": "#4D5663"
          },
          "text": ""
         },
         "zerolinecolor": "#E1E5ED"
        },
        "xaxis4": {
         "anchor": "y4",
         "domain": [
          0.7875,
          1
         ],
         "gridcolor": "#E1E5ED",
         "showgrid": false,
         "tickfont": {
          "color": "#4D5663"
         },
         "title": {
          "font": {
           "color": "#4D5663"
          },
          "text": ""
         },
         "zerolinecolor": "#E1E5ED"
        },
        "xaxis5": {
         "anchor": "y5",
         "domain": [
          0,
          0.2125
         ],
         "gridcolor": "#E1E5ED",
         "showgrid": false,
         "tickfont": {
          "color": "#4D5663"
         },
         "title": {
          "font": {
           "color": "#4D5663"
          },
          "text": ""
         },
         "zerolinecolor": "#E1E5ED"
        },
        "xaxis6": {
         "anchor": "y6",
         "domain": [
          0.2625,
          0.475
         ],
         "gridcolor": "#E1E5ED",
         "showgrid": false,
         "tickfont": {
          "color": "#4D5663"
         },
         "title": {
          "font": {
           "color": "#4D5663"
          },
          "text": ""
         },
         "zerolinecolor": "#E1E5ED"
        },
        "xaxis7": {
         "anchor": "y7",
         "domain": [
          0.525,
          0.7375
         ],
         "gridcolor": "#E1E5ED",
         "showgrid": false,
         "tickfont": {
          "color": "#4D5663"
         },
         "title": {
          "font": {
           "color": "#4D5663"
          },
          "text": ""
         },
         "zerolinecolor": "#E1E5ED"
        },
        "xaxis8": {
         "anchor": "y8",
         "domain": [
          0.7875,
          1
         ],
         "gridcolor": "#E1E5ED",
         "showgrid": false,
         "tickfont": {
          "color": "#4D5663"
         },
         "title": {
          "font": {
           "color": "#4D5663"
          },
          "text": ""
         },
         "zerolinecolor": "#E1E5ED"
        },
        "xaxis9": {
         "anchor": "y9",
         "domain": [
          0,
          0.2125
         ],
         "gridcolor": "#E1E5ED",
         "showgrid": false,
         "tickfont": {
          "color": "#4D5663"
         },
         "title": {
          "font": {
           "color": "#4D5663"
          },
          "text": ""
         },
         "zerolinecolor": "#E1E5ED"
        },
        "yaxis": {
         "anchor": "x",
         "domain": [
          0.8025,
          1
         ],
         "gridcolor": "#E1E5ED",
         "showgrid": false,
         "tickfont": {
          "color": "#4D5663"
         },
         "title": {
          "font": {
           "color": "#4D5663"
          },
          "text": ""
         },
         "zerolinecolor": "#E1E5ED"
        },
        "yaxis10": {
         "anchor": "x10",
         "domain": [
          0.2675,
          0.465
         ],
         "gridcolor": "#E1E5ED",
         "showgrid": false,
         "tickfont": {
          "color": "#4D5663"
         },
         "title": {
          "font": {
           "color": "#4D5663"
          },
          "text": ""
         },
         "zerolinecolor": "#E1E5ED"
        },
        "yaxis11": {
         "anchor": "x11",
         "domain": [
          0.2675,
          0.465
         ],
         "gridcolor": "#E1E5ED",
         "showgrid": false,
         "tickfont": {
          "color": "#4D5663"
         },
         "title": {
          "font": {
           "color": "#4D5663"
          },
          "text": ""
         },
         "zerolinecolor": "#E1E5ED"
        },
        "yaxis12": {
         "anchor": "x12",
         "domain": [
          0.2675,
          0.465
         ],
         "gridcolor": "#E1E5ED",
         "showgrid": false,
         "tickfont": {
          "color": "#4D5663"
         },
         "title": {
          "font": {
           "color": "#4D5663"
          },
          "text": ""
         },
         "zerolinecolor": "#E1E5ED"
        },
        "yaxis13": {
         "anchor": "x13",
         "domain": [
          0,
          0.1975
         ],
         "gridcolor": "#E1E5ED",
         "showgrid": false,
         "tickfont": {
          "color": "#4D5663"
         },
         "title": {
          "font": {
           "color": "#4D5663"
          },
          "text": ""
         },
         "zerolinecolor": "#E1E5ED"
        },
        "yaxis14": {
         "anchor": "x14",
         "domain": [
          0,
          0.1975
         ],
         "gridcolor": "#E1E5ED",
         "showgrid": false,
         "tickfont": {
          "color": "#4D5663"
         },
         "title": {
          "font": {
           "color": "#4D5663"
          },
          "text": ""
         },
         "zerolinecolor": "#E1E5ED"
        },
        "yaxis15": {
         "anchor": "x15",
         "domain": [
          0,
          0.1975
         ],
         "gridcolor": "#E1E5ED",
         "showgrid": false,
         "tickfont": {
          "color": "#4D5663"
         },
         "title": {
          "font": {
           "color": "#4D5663"
          },
          "text": ""
         },
         "zerolinecolor": "#E1E5ED"
        },
        "yaxis16": {
         "anchor": "x16",
         "domain": [
          0,
          0.1975
         ],
         "gridcolor": "#E1E5ED",
         "showgrid": false,
         "tickfont": {
          "color": "#4D5663"
         },
         "title": {
          "font": {
           "color": "#4D5663"
          },
          "text": ""
         },
         "zerolinecolor": "#E1E5ED"
        },
        "yaxis2": {
         "anchor": "x2",
         "domain": [
          0.8025,
          1
         ],
         "gridcolor": "#E1E5ED",
         "showgrid": false,
         "tickfont": {
          "color": "#4D5663"
         },
         "title": {
          "font": {
           "color": "#4D5663"
          },
          "text": ""
         },
         "zerolinecolor": "#E1E5ED"
        },
        "yaxis3": {
         "anchor": "x3",
         "domain": [
          0.8025,
          1
         ],
         "gridcolor": "#E1E5ED",
         "showgrid": false,
         "tickfont": {
          "color": "#4D5663"
         },
         "title": {
          "font": {
           "color": "#4D5663"
          },
          "text": ""
         },
         "zerolinecolor": "#E1E5ED"
        },
        "yaxis4": {
         "anchor": "x4",
         "domain": [
          0.8025,
          1
         ],
         "gridcolor": "#E1E5ED",
         "showgrid": false,
         "tickfont": {
          "color": "#4D5663"
         },
         "title": {
          "font": {
           "color": "#4D5663"
          },
          "text": ""
         },
         "zerolinecolor": "#E1E5ED"
        },
        "yaxis5": {
         "anchor": "x5",
         "domain": [
          0.535,
          0.7325
         ],
         "gridcolor": "#E1E5ED",
         "showgrid": false,
         "tickfont": {
          "color": "#4D5663"
         },
         "title": {
          "font": {
           "color": "#4D5663"
          },
          "text": ""
         },
         "zerolinecolor": "#E1E5ED"
        },
        "yaxis6": {
         "anchor": "x6",
         "domain": [
          0.535,
          0.7325
         ],
         "gridcolor": "#E1E5ED",
         "showgrid": false,
         "tickfont": {
          "color": "#4D5663"
         },
         "title": {
          "font": {
           "color": "#4D5663"
          },
          "text": ""
         },
         "zerolinecolor": "#E1E5ED"
        },
        "yaxis7": {
         "anchor": "x7",
         "domain": [
          0.535,
          0.7325
         ],
         "gridcolor": "#E1E5ED",
         "showgrid": false,
         "tickfont": {
          "color": "#4D5663"
         },
         "title": {
          "font": {
           "color": "#4D5663"
          },
          "text": ""
         },
         "zerolinecolor": "#E1E5ED"
        },
        "yaxis8": {
         "anchor": "x8",
         "domain": [
          0.535,
          0.7325
         ],
         "gridcolor": "#E1E5ED",
         "showgrid": false,
         "tickfont": {
          "color": "#4D5663"
         },
         "title": {
          "font": {
           "color": "#4D5663"
          },
          "text": ""
         },
         "zerolinecolor": "#E1E5ED"
        },
        "yaxis9": {
         "anchor": "x9",
         "domain": [
          0.2675,
          0.465
         ],
         "gridcolor": "#E1E5ED",
         "showgrid": false,
         "tickfont": {
          "color": "#4D5663"
         },
         "title": {
          "font": {
           "color": "#4D5663"
          },
          "text": ""
         },
         "zerolinecolor": "#E1E5ED"
        }
       }
      },
      "text/html": [
       "<div>                            <div id=\"2992f2a8-8f76-41ba-8df9-94659bd7345f\" class=\"plotly-graph-div\" style=\"height:525px; width:100%;\"></div>            <script type=\"text/javascript\">                require([\"plotly\"], function(Plotly) {                    window.PLOTLYENV=window.PLOTLYENV || {};\n",
       "                    window.PLOTLYENV.BASE_URL='https://plot.ly';                                    if (document.getElementById(\"2992f2a8-8f76-41ba-8df9-94659bd7345f\")) {                    Plotly.newPlot(                        \"2992f2a8-8f76-41ba-8df9-94659bd7345f\",                        [{\"histfunc\": \"count\", \"histnorm\": \"\", \"marker\": {\"color\": \"rgba(255, 153, 51, 1.0)\", \"line\": {\"color\": \"#4D5663\", \"width\": 1.3}}, \"name\": \"A\", \"nbinsx\": 10, \"opacity\": 0.8, \"orientation\": \"v\", \"type\": \"histogram\", \"x\": [-0.2908630835904841, 0.7522026671935028, -0.3202202412277464, -0.3843185240987831, -0.11931133758015264, -0.06817300711027062, 0.8622886800722961, -0.31057746212150983, 0.8125623712304261, -1.5640669400281466, 1.2355425375738671, 0.8324247793641801, -0.24619011485215633, 0.8599638885984369, 2.515608696935039, -0.07276308416211145, 0.5513061271034504, -1.073197145275396, -2.0003814065736987, 0.08474756277100214, -0.47531304602403646, 0.2849603958855241, 0.3128040140963513, -0.1335933447541138, -0.561357095225552, 0.5683662400926341, 1.0250353032278872, -1.0102201871084513, 0.6989540721372159, -0.4470276481220417, -1.4318993670426283, -1.778709711352007, -0.2013150386506052, 0.90594323014043, -0.7068585466458727, 0.6769572604577522, 0.7939864245468552, -0.7538463469490789, -1.5109525329437004, 0.03241263103920048, 0.9457202231941569, -0.6361641291847315, 0.8719018266954653, 0.4866077668978206, -0.28575776536307634, -2.3753288076766776, -1.122899970532789, -0.7693332131825008, -0.6486311302735432, 0.272670354146497, 1.0501723719960416, -0.3652989022843855, -0.6162279728796006, 0.4587412631291952, -0.5019271653215122, -0.2515218329079029, -0.6317256522448005, -0.08223348033417892, -0.0036923666681755664, 1.266456167863406, -0.3560151451082724, 0.3526100081966942, 0.8185028299045045, -0.15608208664826334, -0.33548634877417594, 0.11600603838969752, 0.2712996817591125, -0.36049681660033206, -1.7525330513020736, 1.450464166516479, -1.216821613042049, 0.6034493801477613, -1.8379363094945262, 1.138064473201576, 0.8394327104637465, -1.929090849772803, -1.072691459283474, -0.43038935680185325, -0.7400367966877052, -1.322632993361467, 0.5787215505345139, -1.357954952041852, -0.6021767109518883, 0.13132077562065864, 1.5594079056934678, 1.535216779827442, -0.19368758523366292, -0.3557438285284079, 0.7849209968717704, -1.7621278569068, 0.6267176980025514, -2.8652636529097717, -0.770483051114564, 0.5280043573619357, -0.800516072738706, -1.743415921195421, -3.1720879132649635, -0.9725183317291045, 0.6848046759556948, -1.0177256470591118], \"xaxis\": \"x\", \"yaxis\": \"y\"}, {\"line\": {\"color\": \"rgba(128, 128, 128, 1.0)\", \"dash\": \"solid\", \"shape\": \"linear\", \"width\": 1.3}, \"marker\": {\"size\": 2, \"symbol\": \"circle\"}, \"mode\": \"markers\", \"name\": \"A\", \"text\": \"\", \"type\": \"scatter\", \"x\": [-0.6057254125189131, -0.1892998620186739, 0.26690625989144934, 0.8801506841686696, -2.163784553004971, -0.4614535843193734, -0.477493821743666, 1.415970231503484, -0.32532434268508886, -0.623502578386509, 0.46107409795762677, -0.17597837771622932, -0.010493028851549516, 0.12707067248642415, 1.6821349613945324, 1.4896885981293346, 1.6774362491281654, 1.7768769787637884, 0.02482122889581526, -0.08490748620525963, -0.7745530167443184, 0.7281703263038644, 0.34604550500472503, 1.6609483397717384, -0.152552190572538, -0.23369305198586304, -0.7120689525561642, 0.42787313319929604, 1.133049796582027, -0.6412951044882726, 0.8955770585287715, -0.4726809527145295, 0.14844968009098905, -0.21346438354012479, 1.1349094316201722, 0.3303734816044888, 0.08667582342525072, 0.8892484751851075, -0.12466594725091838, 0.8827036907344208, 1.2094937839467363, -0.4895836620137229, -0.5408427475391092, -1.0410265851439164, -0.8895250070698203, -0.11542371743890872, -0.2565703204603735, -1.025057326973805, -0.17505685722310804, 0.7156960922973573, 0.3364902049994554, 0.3922927246547013, -1.3069168912035614, 1.0855895861961868, 0.38972558986895434, 1.3949581546509382, -0.15477016380895434, -1.0490182284984666, -0.7284534907657603, -0.43638936764173697, 0.6725356433554945, -1.3786402449176423, 0.48072039417330187, -0.0017498029708925967, 0.5018239222039128, 1.6771097664851364, 0.35373070444751786, 0.8266608353330749, -0.3749302565897924, -0.4353583055446691, -1.2005208565469987, -0.8799068979454695, 1.0274027527929517, 0.3647258386082056, 0.45955622956747993, -0.09155025515307294, -1.3399406737564568, 0.616572965129828, 0.3878866411322037, 0.32055906658916067, 0.7972281495815815, 2.389749279180996, -1.2494200166450264, 1.903338137180644, 0.736383662558544, -0.2549611298886137, 0.4816846935415098, -0.1640079781722683, 0.4242312582039998, 0.8552838937608425, -1.9059829052191977, 0.8331154077999772, 0.443487283792609, -0.2301629498760557, -0.4811227799019512, 0.6444819505648139, -1.2330396356002027, -0.24868752637889677, -0.38122386681139986, -0.16332571723924683], \"xaxis\": \"x2\", \"y\": [-0.2908630835904841, 0.7522026671935028, -0.3202202412277464, -0.3843185240987831, -0.11931133758015264, -0.06817300711027062, 0.8622886800722961, -0.31057746212150983, 0.8125623712304261, -1.5640669400281466, 1.2355425375738671, 0.8324247793641801, -0.24619011485215633, 0.8599638885984369, 2.515608696935039, -0.07276308416211145, 0.5513061271034504, -1.073197145275396, -2.0003814065736987, 0.08474756277100214, -0.47531304602403646, 0.2849603958855241, 0.3128040140963513, -0.1335933447541138, -0.561357095225552, 0.5683662400926341, 1.0250353032278872, -1.0102201871084513, 0.6989540721372159, -0.4470276481220417, -1.4318993670426283, -1.778709711352007, -0.2013150386506052, 0.90594323014043, -0.7068585466458727, 0.6769572604577522, 0.7939864245468552, -0.7538463469490789, -1.5109525329437004, 0.03241263103920048, 0.9457202231941569, -0.6361641291847315, 0.8719018266954653, 0.4866077668978206, -0.28575776536307634, -2.3753288076766776, -1.122899970532789, -0.7693332131825008, -0.6486311302735432, 0.272670354146497, 1.0501723719960416, -0.3652989022843855, -0.6162279728796006, 0.4587412631291952, -0.5019271653215122, -0.2515218329079029, -0.6317256522448005, -0.08223348033417892, -0.0036923666681755664, 1.266456167863406, -0.3560151451082724, 0.3526100081966942, 0.8185028299045045, -0.15608208664826334, -0.33548634877417594, 0.11600603838969752, 0.2712996817591125, -0.36049681660033206, -1.7525330513020736, 1.450464166516479, -1.216821613042049, 0.6034493801477613, -1.8379363094945262, 1.138064473201576, 0.8394327104637465, -1.929090849772803, -1.072691459283474, -0.43038935680185325, -0.7400367966877052, -1.322632993361467, 0.5787215505345139, -1.357954952041852, -0.6021767109518883, 0.13132077562065864, 1.5594079056934678, 1.535216779827442, -0.19368758523366292, -0.3557438285284079, 0.7849209968717704, -1.7621278569068, 0.6267176980025514, -2.8652636529097717, -0.770483051114564, 0.5280043573619357, -0.800516072738706, -1.743415921195421, -3.1720879132649635, -0.9725183317291045, 0.6848046759556948, -1.0177256470591118], \"yaxis\": \"y2\"}, {\"line\": {\"color\": \"rgba(128, 128, 128, 1.0)\", \"dash\": \"solid\", \"shape\": \"linear\", \"width\": 1.3}, \"marker\": {\"size\": 2, \"symbol\": \"circle\"}, \"mode\": \"markers\", \"name\": \"A\", \"text\": \"\", \"type\": \"scatter\", \"x\": [0.1601249787527821, 0.29467420148564255, 0.3568882970336668, 0.49339091812602603, 0.16530264922437402, 2.2807082818300626, 1.4178626566598593, 0.5889050796635561, 0.2979322274628636, -0.46252389970771896, 0.13144175857810902, 0.5736688504658046, 1.1827446651909586, -0.8718692524802156, 0.20105309216440514, -0.08201145688342751, 0.49058096735497736, 0.3073301521120699, 0.2062732752023993, -0.8575271388635829, -0.06424561735245785, 0.813349097868763, 2.741697991028217, -0.2793545347105481, -0.41986215159009505, -0.11499129002598239, -0.5715410238192038, 1.0007504048377733, 1.3350996160222715, -0.5112842995073376, -1.1338750384907732, 1.5711619122979843, 0.6870070701377833, 0.5382487054828127, -1.9239708678727752, -0.4210262882065965, 0.5638420270406669, 0.20511189975442604, -0.12907921148531795, 0.757698401531798, 0.7424669848460085, -1.8127059462077935, 2.576212391160004, 1.0680317017372118, 0.6368591290761687, 0.01397484001391836, -1.3260636410754556, -0.3454200227156687, 0.23104677009196176, -1.504623218406821, -0.7293169981334667, -0.6177334832660625, -0.46237664722806426, -0.1430308666814354, 0.6280356845129812, 0.08167521621781876, 0.9448994153372875, 2.4854180051941137, 1.738936345972523, -0.048645016737942116, -0.5812073885088923, -1.0086837242273425, 1.5473440295073544, 1.2822811201946844, -0.018777519523717173, -1.4534708086641772, 0.45049743683620114, 0.45948627986481416, 0.08059342752465515, -0.32707985257690864, 2.0071909451730634, 0.8792142349076734, -0.5655594051944282, -0.2631396115731665, 1.6359234677717236, -1.1272003032769349, 1.3888430168995958, 0.6783820575897243, 0.3339377866861008, 1.8216227062158385, -0.9590968968998035, 0.2114721317851453, 1.9049164731508406, -0.1501836091332619, -0.2756392951508617, 1.3877819674178027, -1.2709051234011197, 1.0917916681144118, -0.8501591958376347, 0.7004656422210184, 0.7878066663610747, 1.074070542351294, -0.38940669791984817, 0.06892194841765428, -1.1123923558984532, -0.8812451059562298, -1.6585485110351523, -1.1472413656126865, 0.19786640777415176, 0.5077386863533896], \"xaxis\": \"x3\", \"y\": [-0.2908630835904841, 0.7522026671935028, -0.3202202412277464, -0.3843185240987831, -0.11931133758015264, -0.06817300711027062, 0.8622886800722961, -0.31057746212150983, 0.8125623712304261, -1.5640669400281466, 1.2355425375738671, 0.8324247793641801, -0.24619011485215633, 0.8599638885984369, 2.515608696935039, -0.07276308416211145, 0.5513061271034504, -1.073197145275396, -2.0003814065736987, 0.08474756277100214, -0.47531304602403646, 0.2849603958855241, 0.3128040140963513, -0.1335933447541138, -0.561357095225552, 0.5683662400926341, 1.0250353032278872, -1.0102201871084513, 0.6989540721372159, -0.4470276481220417, -1.4318993670426283, -1.778709711352007, -0.2013150386506052, 0.90594323014043, -0.7068585466458727, 0.6769572604577522, 0.7939864245468552, -0.7538463469490789, -1.5109525329437004, 0.03241263103920048, 0.9457202231941569, -0.6361641291847315, 0.8719018266954653, 0.4866077668978206, -0.28575776536307634, -2.3753288076766776, -1.122899970532789, -0.7693332131825008, -0.6486311302735432, 0.272670354146497, 1.0501723719960416, -0.3652989022843855, -0.6162279728796006, 0.4587412631291952, -0.5019271653215122, -0.2515218329079029, -0.6317256522448005, -0.08223348033417892, -0.0036923666681755664, 1.266456167863406, -0.3560151451082724, 0.3526100081966942, 0.8185028299045045, -0.15608208664826334, -0.33548634877417594, 0.11600603838969752, 0.2712996817591125, -0.36049681660033206, -1.7525330513020736, 1.450464166516479, -1.216821613042049, 0.6034493801477613, -1.8379363094945262, 1.138064473201576, 0.8394327104637465, -1.929090849772803, -1.072691459283474, -0.43038935680185325, -0.7400367966877052, -1.322632993361467, 0.5787215505345139, -1.357954952041852, -0.6021767109518883, 0.13132077562065864, 1.5594079056934678, 1.535216779827442, -0.19368758523366292, -0.3557438285284079, 0.7849209968717704, -1.7621278569068, 0.6267176980025514, -2.8652636529097717, -0.770483051114564, 0.5280043573619357, -0.800516072738706, -1.743415921195421, -3.1720879132649635, -0.9725183317291045, 0.6848046759556948, -1.0177256470591118], \"yaxis\": \"y3\"}, {\"line\": {\"color\": \"rgba(128, 128, 128, 1.0)\", \"dash\": \"solid\", \"shape\": \"linear\", \"width\": 1.3}, \"marker\": {\"size\": 2, \"symbol\": \"circle\"}, \"mode\": \"markers\", \"name\": \"A\", \"text\": \"\", \"type\": \"scatter\", \"x\": [1.3426741245866363, -0.1834048490438496, 0.5328701812928004, -1.656655718697109, 0.05958791043719714, -0.19321217176039682, 0.06697395147157933, 1.2728946133940555, 1.6643370286610772, -1.5298365985683589, -0.9948984208642397, -0.289097184657636, 0.4872438797747574, -0.9346972356629407, 0.634849949945669, -0.39628347477726644, -2.547089675866158, -1.7910532792329155, -0.9645522216640807, -0.19828174573655213, -0.39914923917814354, 0.45504859536829234, -0.8250249932745054, -0.20729714524589746, 0.31887015011812375, 1.9513687669838113, 0.15194731092481026, 0.7383368942851168, 1.500574460132519, -0.4870595150175634, 1.456454413800416, -0.42216075416439364, 0.6560702633200569, 1.1792352012079161, 1.0429843786375605, 0.7036294942885998, 0.08074177433226708, -1.4487970875512286, 0.894558078926984, -0.0699282582298491, -0.9520511502426532, -0.8876588084539955, 0.5781969438845166, -1.7430486173832038, -1.0073018621411078, -0.09471496007539422, -0.310076014622057, 1.4200365177865308, 0.7422544097753597, 1.7528188543357193, 0.7584308483426954, 0.9261195761969273, 1.0118865358079006, 0.4300919260168664, 0.9294146926947682, 1.3924465982379013, -0.13465429145725835, 0.11240045614705331, 2.1263570870016677, -1.3760755934994795, 0.4963343390016291, 1.7577565294397053, -0.4950895720694699, 0.9182203047219385, 0.21420340042688107, -0.5694921352855646, -0.9966297263957835, 1.8913948677061185, -0.6095726404258395, 0.07937391098492103, 1.5742394986620833, 2.2208035124948706, 1.7931480125786967, 1.040558149695388, -0.14860657963079282, 0.4183506064769205, -0.5825850114800133, 0.18926300512470912, -1.8135214054753488, -0.7926467849208718, -0.8139609097186383, -0.839992505317087, -0.7777280525675709, 1.188828962652113, 0.20893714463873903, -0.8378980888052304, 0.09162398386714583, 0.09998081544549062, -0.10154735279607056, 0.5766338514647803, 0.02486186174479018, -0.37183414153807004, -0.8281281218747182, 1.2489116158283142, 1.0625211745812095, -0.21442203657256956, 1.2391079074889888, -0.8440304806921777, -1.6817763878890764, 1.5489363423738167], \"xaxis\": \"x4\", \"y\": [-0.2908630835904841, 0.7522026671935028, -0.3202202412277464, -0.3843185240987831, -0.11931133758015264, -0.06817300711027062, 0.8622886800722961, -0.31057746212150983, 0.8125623712304261, -1.5640669400281466, 1.2355425375738671, 0.8324247793641801, -0.24619011485215633, 0.8599638885984369, 2.515608696935039, -0.07276308416211145, 0.5513061271034504, -1.073197145275396, -2.0003814065736987, 0.08474756277100214, -0.47531304602403646, 0.2849603958855241, 0.3128040140963513, -0.1335933447541138, -0.561357095225552, 0.5683662400926341, 1.0250353032278872, -1.0102201871084513, 0.6989540721372159, -0.4470276481220417, -1.4318993670426283, -1.778709711352007, -0.2013150386506052, 0.90594323014043, -0.7068585466458727, 0.6769572604577522, 0.7939864245468552, -0.7538463469490789, -1.5109525329437004, 0.03241263103920048, 0.9457202231941569, -0.6361641291847315, 0.8719018266954653, 0.4866077668978206, -0.28575776536307634, -2.3753288076766776, -1.122899970532789, -0.7693332131825008, -0.6486311302735432, 0.272670354146497, 1.0501723719960416, -0.3652989022843855, -0.6162279728796006, 0.4587412631291952, -0.5019271653215122, -0.2515218329079029, -0.6317256522448005, -0.08223348033417892, -0.0036923666681755664, 1.266456167863406, -0.3560151451082724, 0.3526100081966942, 0.8185028299045045, -0.15608208664826334, -0.33548634877417594, 0.11600603838969752, 0.2712996817591125, -0.36049681660033206, -1.7525330513020736, 1.450464166516479, -1.216821613042049, 0.6034493801477613, -1.8379363094945262, 1.138064473201576, 0.8394327104637465, -1.929090849772803, -1.072691459283474, -0.43038935680185325, -0.7400367966877052, -1.322632993361467, 0.5787215505345139, -1.357954952041852, -0.6021767109518883, 0.13132077562065864, 1.5594079056934678, 1.535216779827442, -0.19368758523366292, -0.3557438285284079, 0.7849209968717704, -1.7621278569068, 0.6267176980025514, -2.8652636529097717, -0.770483051114564, 0.5280043573619357, -0.800516072738706, -1.743415921195421, -3.1720879132649635, -0.9725183317291045, 0.6848046759556948, -1.0177256470591118], \"yaxis\": \"y4\"}, {\"line\": {\"color\": \"rgba(128, 128, 128, 1.0)\", \"dash\": \"solid\", \"shape\": \"linear\", \"width\": 1.3}, \"marker\": {\"size\": 2, \"symbol\": \"circle\"}, \"mode\": \"markers\", \"name\": \"B\", \"text\": \"\", \"type\": \"scatter\", \"x\": [-0.2908630835904841, 0.7522026671935028, -0.3202202412277464, -0.3843185240987831, -0.11931133758015264, -0.06817300711027062, 0.8622886800722961, -0.31057746212150983, 0.8125623712304261, -1.5640669400281466, 1.2355425375738671, 0.8324247793641801, -0.24619011485215633, 0.8599638885984369, 2.515608696935039, -0.07276308416211145, 0.5513061271034504, -1.073197145275396, -2.0003814065736987, 0.08474756277100214, -0.47531304602403646, 0.2849603958855241, 0.3128040140963513, -0.1335933447541138, -0.561357095225552, 0.5683662400926341, 1.0250353032278872, -1.0102201871084513, 0.6989540721372159, -0.4470276481220417, -1.4318993670426283, -1.778709711352007, -0.2013150386506052, 0.90594323014043, -0.7068585466458727, 0.6769572604577522, 0.7939864245468552, -0.7538463469490789, -1.5109525329437004, 0.03241263103920048, 0.9457202231941569, -0.6361641291847315, 0.8719018266954653, 0.4866077668978206, -0.28575776536307634, -2.3753288076766776, -1.122899970532789, -0.7693332131825008, -0.6486311302735432, 0.272670354146497, 1.0501723719960416, -0.3652989022843855, -0.6162279728796006, 0.4587412631291952, -0.5019271653215122, -0.2515218329079029, -0.6317256522448005, -0.08223348033417892, -0.0036923666681755664, 1.266456167863406, -0.3560151451082724, 0.3526100081966942, 0.8185028299045045, -0.15608208664826334, -0.33548634877417594, 0.11600603838969752, 0.2712996817591125, -0.36049681660033206, -1.7525330513020736, 1.450464166516479, -1.216821613042049, 0.6034493801477613, -1.8379363094945262, 1.138064473201576, 0.8394327104637465, -1.929090849772803, -1.072691459283474, -0.43038935680185325, -0.7400367966877052, -1.322632993361467, 0.5787215505345139, -1.357954952041852, -0.6021767109518883, 0.13132077562065864, 1.5594079056934678, 1.535216779827442, -0.19368758523366292, -0.3557438285284079, 0.7849209968717704, -1.7621278569068, 0.6267176980025514, -2.8652636529097717, -0.770483051114564, 0.5280043573619357, -0.800516072738706, -1.743415921195421, -3.1720879132649635, -0.9725183317291045, 0.6848046759556948, -1.0177256470591118], \"xaxis\": \"x5\", \"y\": [-0.6057254125189131, -0.1892998620186739, 0.26690625989144934, 0.8801506841686696, -2.163784553004971, -0.4614535843193734, -0.477493821743666, 1.415970231503484, -0.32532434268508886, -0.623502578386509, 0.46107409795762677, -0.17597837771622932, -0.010493028851549516, 0.12707067248642415, 1.6821349613945324, 1.4896885981293346, 1.6774362491281654, 1.7768769787637884, 0.02482122889581526, -0.08490748620525963, -0.7745530167443184, 0.7281703263038644, 0.34604550500472503, 1.6609483397717384, -0.152552190572538, -0.23369305198586304, -0.7120689525561642, 0.42787313319929604, 1.133049796582027, -0.6412951044882726, 0.8955770585287715, -0.4726809527145295, 0.14844968009098905, -0.21346438354012479, 1.1349094316201722, 0.3303734816044888, 0.08667582342525072, 0.8892484751851075, -0.12466594725091838, 0.8827036907344208, 1.2094937839467363, -0.4895836620137229, -0.5408427475391092, -1.0410265851439164, -0.8895250070698203, -0.11542371743890872, -0.2565703204603735, -1.025057326973805, -0.17505685722310804, 0.7156960922973573, 0.3364902049994554, 0.3922927246547013, -1.3069168912035614, 1.0855895861961868, 0.38972558986895434, 1.3949581546509382, -0.15477016380895434, -1.0490182284984666, -0.7284534907657603, -0.43638936764173697, 0.6725356433554945, -1.3786402449176423, 0.48072039417330187, -0.0017498029708925967, 0.5018239222039128, 1.6771097664851364, 0.35373070444751786, 0.8266608353330749, -0.3749302565897924, -0.4353583055446691, -1.2005208565469987, -0.8799068979454695, 1.0274027527929517, 0.3647258386082056, 0.45955622956747993, -0.09155025515307294, -1.3399406737564568, 0.616572965129828, 0.3878866411322037, 0.32055906658916067, 0.7972281495815815, 2.389749279180996, -1.2494200166450264, 1.903338137180644, 0.736383662558544, -0.2549611298886137, 0.4816846935415098, -0.1640079781722683, 0.4242312582039998, 0.8552838937608425, -1.9059829052191977, 0.8331154077999772, 0.443487283792609, -0.2301629498760557, -0.4811227799019512, 0.6444819505648139, -1.2330396356002027, -0.24868752637889677, -0.38122386681139986, -0.16332571723924683], \"yaxis\": \"y5\"}, {\"histfunc\": \"count\", \"histnorm\": \"\", \"marker\": {\"color\": \"rgba(55, 128, 191, 1.0)\", \"line\": {\"color\": \"#4D5663\", \"width\": 1.3}}, \"name\": \"B\", \"nbinsx\": 10, \"opacity\": 0.8, \"orientation\": \"v\", \"type\": \"histogram\", \"x\": [-0.6057254125189131, -0.1892998620186739, 0.26690625989144934, 0.8801506841686696, -2.163784553004971, -0.4614535843193734, -0.477493821743666, 1.415970231503484, -0.32532434268508886, -0.623502578386509, 0.46107409795762677, -0.17597837771622932, -0.010493028851549516, 0.12707067248642415, 1.6821349613945324, 1.4896885981293346, 1.6774362491281654, 1.7768769787637884, 0.02482122889581526, -0.08490748620525963, -0.7745530167443184, 0.7281703263038644, 0.34604550500472503, 1.6609483397717384, -0.152552190572538, -0.23369305198586304, -0.7120689525561642, 0.42787313319929604, 1.133049796582027, -0.6412951044882726, 0.8955770585287715, -0.4726809527145295, 0.14844968009098905, -0.21346438354012479, 1.1349094316201722, 0.3303734816044888, 0.08667582342525072, 0.8892484751851075, -0.12466594725091838, 0.8827036907344208, 1.2094937839467363, -0.4895836620137229, -0.5408427475391092, -1.0410265851439164, -0.8895250070698203, -0.11542371743890872, -0.2565703204603735, -1.025057326973805, -0.17505685722310804, 0.7156960922973573, 0.3364902049994554, 0.3922927246547013, -1.3069168912035614, 1.0855895861961868, 0.38972558986895434, 1.3949581546509382, -0.15477016380895434, -1.0490182284984666, -0.7284534907657603, -0.43638936764173697, 0.6725356433554945, -1.3786402449176423, 0.48072039417330187, -0.0017498029708925967, 0.5018239222039128, 1.6771097664851364, 0.35373070444751786, 0.8266608353330749, -0.3749302565897924, -0.4353583055446691, -1.2005208565469987, -0.8799068979454695, 1.0274027527929517, 0.3647258386082056, 0.45955622956747993, -0.09155025515307294, -1.3399406737564568, 0.616572965129828, 0.3878866411322037, 0.32055906658916067, 0.7972281495815815, 2.389749279180996, -1.2494200166450264, 1.903338137180644, 0.736383662558544, -0.2549611298886137, 0.4816846935415098, -0.1640079781722683, 0.4242312582039998, 0.8552838937608425, -1.9059829052191977, 0.8331154077999772, 0.443487283792609, -0.2301629498760557, -0.4811227799019512, 0.6444819505648139, -1.2330396356002027, -0.24868752637889677, -0.38122386681139986, -0.16332571723924683], \"xaxis\": \"x6\", \"yaxis\": \"y6\"}, {\"line\": {\"color\": \"rgba(128, 128, 128, 1.0)\", \"dash\": \"solid\", \"shape\": \"linear\", \"width\": 1.3}, \"marker\": {\"size\": 2, \"symbol\": \"circle\"}, \"mode\": \"markers\", \"name\": \"B\", \"text\": \"\", \"type\": \"scatter\", \"x\": [0.1601249787527821, 0.29467420148564255, 0.3568882970336668, 0.49339091812602603, 0.16530264922437402, 2.2807082818300626, 1.4178626566598593, 0.5889050796635561, 0.2979322274628636, -0.46252389970771896, 0.13144175857810902, 0.5736688504658046, 1.1827446651909586, -0.8718692524802156, 0.20105309216440514, -0.08201145688342751, 0.49058096735497736, 0.3073301521120699, 0.2062732752023993, -0.8575271388635829, -0.06424561735245785, 0.813349097868763, 2.741697991028217, -0.2793545347105481, -0.41986215159009505, -0.11499129002598239, -0.5715410238192038, 1.0007504048377733, 1.3350996160222715, -0.5112842995073376, -1.1338750384907732, 1.5711619122979843, 0.6870070701377833, 0.5382487054828127, -1.9239708678727752, -0.4210262882065965, 0.5638420270406669, 0.20511189975442604, -0.12907921148531795, 0.757698401531798, 0.7424669848460085, -1.8127059462077935, 2.576212391160004, 1.0680317017372118, 0.6368591290761687, 0.01397484001391836, -1.3260636410754556, -0.3454200227156687, 0.23104677009196176, -1.504623218406821, -0.7293169981334667, -0.6177334832660625, -0.46237664722806426, -0.1430308666814354, 0.6280356845129812, 0.08167521621781876, 0.9448994153372875, 2.4854180051941137, 1.738936345972523, -0.048645016737942116, -0.5812073885088923, -1.0086837242273425, 1.5473440295073544, 1.2822811201946844, -0.018777519523717173, -1.4534708086641772, 0.45049743683620114, 0.45948627986481416, 0.08059342752465515, -0.32707985257690864, 2.0071909451730634, 0.8792142349076734, -0.5655594051944282, -0.2631396115731665, 1.6359234677717236, -1.1272003032769349, 1.3888430168995958, 0.6783820575897243, 0.3339377866861008, 1.8216227062158385, -0.9590968968998035, 0.2114721317851453, 1.9049164731508406, -0.1501836091332619, -0.2756392951508617, 1.3877819674178027, -1.2709051234011197, 1.0917916681144118, -0.8501591958376347, 0.7004656422210184, 0.7878066663610747, 1.074070542351294, -0.38940669791984817, 0.06892194841765428, -1.1123923558984532, -0.8812451059562298, -1.6585485110351523, -1.1472413656126865, 0.19786640777415176, 0.5077386863533896], \"xaxis\": \"x7\", \"y\": [-0.6057254125189131, -0.1892998620186739, 0.26690625989144934, 0.8801506841686696, -2.163784553004971, -0.4614535843193734, -0.477493821743666, 1.415970231503484, -0.32532434268508886, -0.623502578386509, 0.46107409795762677, -0.17597837771622932, -0.010493028851549516, 0.12707067248642415, 1.6821349613945324, 1.4896885981293346, 1.6774362491281654, 1.7768769787637884, 0.02482122889581526, -0.08490748620525963, -0.7745530167443184, 0.7281703263038644, 0.34604550500472503, 1.6609483397717384, -0.152552190572538, -0.23369305198586304, -0.7120689525561642, 0.42787313319929604, 1.133049796582027, -0.6412951044882726, 0.8955770585287715, -0.4726809527145295, 0.14844968009098905, -0.21346438354012479, 1.1349094316201722, 0.3303734816044888, 0.08667582342525072, 0.8892484751851075, -0.12466594725091838, 0.8827036907344208, 1.2094937839467363, -0.4895836620137229, -0.5408427475391092, -1.0410265851439164, -0.8895250070698203, -0.11542371743890872, -0.2565703204603735, -1.025057326973805, -0.17505685722310804, 0.7156960922973573, 0.3364902049994554, 0.3922927246547013, -1.3069168912035614, 1.0855895861961868, 0.38972558986895434, 1.3949581546509382, -0.15477016380895434, -1.0490182284984666, -0.7284534907657603, -0.43638936764173697, 0.6725356433554945, -1.3786402449176423, 0.48072039417330187, -0.0017498029708925967, 0.5018239222039128, 1.6771097664851364, 0.35373070444751786, 0.8266608353330749, -0.3749302565897924, -0.4353583055446691, -1.2005208565469987, -0.8799068979454695, 1.0274027527929517, 0.3647258386082056, 0.45955622956747993, -0.09155025515307294, -1.3399406737564568, 0.616572965129828, 0.3878866411322037, 0.32055906658916067, 0.7972281495815815, 2.389749279180996, -1.2494200166450264, 1.903338137180644, 0.736383662558544, -0.2549611298886137, 0.4816846935415098, -0.1640079781722683, 0.4242312582039998, 0.8552838937608425, -1.9059829052191977, 0.8331154077999772, 0.443487283792609, -0.2301629498760557, -0.4811227799019512, 0.6444819505648139, -1.2330396356002027, -0.24868752637889677, -0.38122386681139986, -0.16332571723924683], \"yaxis\": \"y7\"}, {\"line\": {\"color\": \"rgba(128, 128, 128, 1.0)\", \"dash\": \"solid\", \"shape\": \"linear\", \"width\": 1.3}, \"marker\": {\"size\": 2, \"symbol\": \"circle\"}, \"mode\": \"markers\", \"name\": \"B\", \"text\": \"\", \"type\": \"scatter\", \"x\": [1.3426741245866363, -0.1834048490438496, 0.5328701812928004, -1.656655718697109, 0.05958791043719714, -0.19321217176039682, 0.06697395147157933, 1.2728946133940555, 1.6643370286610772, -1.5298365985683589, -0.9948984208642397, -0.289097184657636, 0.4872438797747574, -0.9346972356629407, 0.634849949945669, -0.39628347477726644, -2.547089675866158, -1.7910532792329155, -0.9645522216640807, -0.19828174573655213, -0.39914923917814354, 0.45504859536829234, -0.8250249932745054, -0.20729714524589746, 0.31887015011812375, 1.9513687669838113, 0.15194731092481026, 0.7383368942851168, 1.500574460132519, -0.4870595150175634, 1.456454413800416, -0.42216075416439364, 0.6560702633200569, 1.1792352012079161, 1.0429843786375605, 0.7036294942885998, 0.08074177433226708, -1.4487970875512286, 0.894558078926984, -0.0699282582298491, -0.9520511502426532, -0.8876588084539955, 0.5781969438845166, -1.7430486173832038, -1.0073018621411078, -0.09471496007539422, -0.310076014622057, 1.4200365177865308, 0.7422544097753597, 1.7528188543357193, 0.7584308483426954, 0.9261195761969273, 1.0118865358079006, 0.4300919260168664, 0.9294146926947682, 1.3924465982379013, -0.13465429145725835, 0.11240045614705331, 2.1263570870016677, -1.3760755934994795, 0.4963343390016291, 1.7577565294397053, -0.4950895720694699, 0.9182203047219385, 0.21420340042688107, -0.5694921352855646, -0.9966297263957835, 1.8913948677061185, -0.6095726404258395, 0.07937391098492103, 1.5742394986620833, 2.2208035124948706, 1.7931480125786967, 1.040558149695388, -0.14860657963079282, 0.4183506064769205, -0.5825850114800133, 0.18926300512470912, -1.8135214054753488, -0.7926467849208718, -0.8139609097186383, -0.839992505317087, -0.7777280525675709, 1.188828962652113, 0.20893714463873903, -0.8378980888052304, 0.09162398386714583, 0.09998081544549062, -0.10154735279607056, 0.5766338514647803, 0.02486186174479018, -0.37183414153807004, -0.8281281218747182, 1.2489116158283142, 1.0625211745812095, -0.21442203657256956, 1.2391079074889888, -0.8440304806921777, -1.6817763878890764, 1.5489363423738167], \"xaxis\": \"x8\", \"y\": [-0.6057254125189131, -0.1892998620186739, 0.26690625989144934, 0.8801506841686696, -2.163784553004971, -0.4614535843193734, -0.477493821743666, 1.415970231503484, -0.32532434268508886, -0.623502578386509, 0.46107409795762677, -0.17597837771622932, -0.010493028851549516, 0.12707067248642415, 1.6821349613945324, 1.4896885981293346, 1.6774362491281654, 1.7768769787637884, 0.02482122889581526, -0.08490748620525963, -0.7745530167443184, 0.7281703263038644, 0.34604550500472503, 1.6609483397717384, -0.152552190572538, -0.23369305198586304, -0.7120689525561642, 0.42787313319929604, 1.133049796582027, -0.6412951044882726, 0.8955770585287715, -0.4726809527145295, 0.14844968009098905, -0.21346438354012479, 1.1349094316201722, 0.3303734816044888, 0.08667582342525072, 0.8892484751851075, -0.12466594725091838, 0.8827036907344208, 1.2094937839467363, -0.4895836620137229, -0.5408427475391092, -1.0410265851439164, -0.8895250070698203, -0.11542371743890872, -0.2565703204603735, -1.025057326973805, -0.17505685722310804, 0.7156960922973573, 0.3364902049994554, 0.3922927246547013, -1.3069168912035614, 1.0855895861961868, 0.38972558986895434, 1.3949581546509382, -0.15477016380895434, -1.0490182284984666, -0.7284534907657603, -0.43638936764173697, 0.6725356433554945, -1.3786402449176423, 0.48072039417330187, -0.0017498029708925967, 0.5018239222039128, 1.6771097664851364, 0.35373070444751786, 0.8266608353330749, -0.3749302565897924, -0.4353583055446691, -1.2005208565469987, -0.8799068979454695, 1.0274027527929517, 0.3647258386082056, 0.45955622956747993, -0.09155025515307294, -1.3399406737564568, 0.616572965129828, 0.3878866411322037, 0.32055906658916067, 0.7972281495815815, 2.389749279180996, -1.2494200166450264, 1.903338137180644, 0.736383662558544, -0.2549611298886137, 0.4816846935415098, -0.1640079781722683, 0.4242312582039998, 0.8552838937608425, -1.9059829052191977, 0.8331154077999772, 0.443487283792609, -0.2301629498760557, -0.4811227799019512, 0.6444819505648139, -1.2330396356002027, -0.24868752637889677, -0.38122386681139986, -0.16332571723924683], \"yaxis\": \"y8\"}, {\"line\": {\"color\": \"rgba(128, 128, 128, 1.0)\", \"dash\": \"solid\", \"shape\": \"linear\", \"width\": 1.3}, \"marker\": {\"size\": 2, \"symbol\": \"circle\"}, \"mode\": \"markers\", \"name\": \"C\", \"text\": \"\", \"type\": \"scatter\", \"x\": [-0.2908630835904841, 0.7522026671935028, -0.3202202412277464, -0.3843185240987831, -0.11931133758015264, -0.06817300711027062, 0.8622886800722961, -0.31057746212150983, 0.8125623712304261, -1.5640669400281466, 1.2355425375738671, 0.8324247793641801, -0.24619011485215633, 0.8599638885984369, 2.515608696935039, -0.07276308416211145, 0.5513061271034504, -1.073197145275396, -2.0003814065736987, 0.08474756277100214, -0.47531304602403646, 0.2849603958855241, 0.3128040140963513, -0.1335933447541138, -0.561357095225552, 0.5683662400926341, 1.0250353032278872, -1.0102201871084513, 0.6989540721372159, -0.4470276481220417, -1.4318993670426283, -1.778709711352007, -0.2013150386506052, 0.90594323014043, -0.7068585466458727, 0.6769572604577522, 0.7939864245468552, -0.7538463469490789, -1.5109525329437004, 0.03241263103920048, 0.9457202231941569, -0.6361641291847315, 0.8719018266954653, 0.4866077668978206, -0.28575776536307634, -2.3753288076766776, -1.122899970532789, -0.7693332131825008, -0.6486311302735432, 0.272670354146497, 1.0501723719960416, -0.3652989022843855, -0.6162279728796006, 0.4587412631291952, -0.5019271653215122, -0.2515218329079029, -0.6317256522448005, -0.08223348033417892, -0.0036923666681755664, 1.266456167863406, -0.3560151451082724, 0.3526100081966942, 0.8185028299045045, -0.15608208664826334, -0.33548634877417594, 0.11600603838969752, 0.2712996817591125, -0.36049681660033206, -1.7525330513020736, 1.450464166516479, -1.216821613042049, 0.6034493801477613, -1.8379363094945262, 1.138064473201576, 0.8394327104637465, -1.929090849772803, -1.072691459283474, -0.43038935680185325, -0.7400367966877052, -1.322632993361467, 0.5787215505345139, -1.357954952041852, -0.6021767109518883, 0.13132077562065864, 1.5594079056934678, 1.535216779827442, -0.19368758523366292, -0.3557438285284079, 0.7849209968717704, -1.7621278569068, 0.6267176980025514, -2.8652636529097717, -0.770483051114564, 0.5280043573619357, -0.800516072738706, -1.743415921195421, -3.1720879132649635, -0.9725183317291045, 0.6848046759556948, -1.0177256470591118], \"xaxis\": \"x9\", \"y\": [0.1601249787527821, 0.29467420148564255, 0.3568882970336668, 0.49339091812602603, 0.16530264922437402, 2.2807082818300626, 1.4178626566598593, 0.5889050796635561, 0.2979322274628636, -0.46252389970771896, 0.13144175857810902, 0.5736688504658046, 1.1827446651909586, -0.8718692524802156, 0.20105309216440514, -0.08201145688342751, 0.49058096735497736, 0.3073301521120699, 0.2062732752023993, -0.8575271388635829, -0.06424561735245785, 0.813349097868763, 2.741697991028217, -0.2793545347105481, -0.41986215159009505, -0.11499129002598239, -0.5715410238192038, 1.0007504048377733, 1.3350996160222715, -0.5112842995073376, -1.1338750384907732, 1.5711619122979843, 0.6870070701377833, 0.5382487054828127, -1.9239708678727752, -0.4210262882065965, 0.5638420270406669, 0.20511189975442604, -0.12907921148531795, 0.757698401531798, 0.7424669848460085, -1.8127059462077935, 2.576212391160004, 1.0680317017372118, 0.6368591290761687, 0.01397484001391836, -1.3260636410754556, -0.3454200227156687, 0.23104677009196176, -1.504623218406821, -0.7293169981334667, -0.6177334832660625, -0.46237664722806426, -0.1430308666814354, 0.6280356845129812, 0.08167521621781876, 0.9448994153372875, 2.4854180051941137, 1.738936345972523, -0.048645016737942116, -0.5812073885088923, -1.0086837242273425, 1.5473440295073544, 1.2822811201946844, -0.018777519523717173, -1.4534708086641772, 0.45049743683620114, 0.45948627986481416, 0.08059342752465515, -0.32707985257690864, 2.0071909451730634, 0.8792142349076734, -0.5655594051944282, -0.2631396115731665, 1.6359234677717236, -1.1272003032769349, 1.3888430168995958, 0.6783820575897243, 0.3339377866861008, 1.8216227062158385, -0.9590968968998035, 0.2114721317851453, 1.9049164731508406, -0.1501836091332619, -0.2756392951508617, 1.3877819674178027, -1.2709051234011197, 1.0917916681144118, -0.8501591958376347, 0.7004656422210184, 0.7878066663610747, 1.074070542351294, -0.38940669791984817, 0.06892194841765428, -1.1123923558984532, -0.8812451059562298, -1.6585485110351523, -1.1472413656126865, 0.19786640777415176, 0.5077386863533896], \"yaxis\": \"y9\"}, {\"line\": {\"color\": \"rgba(128, 128, 128, 1.0)\", \"dash\": \"solid\", \"shape\": \"linear\", \"width\": 1.3}, \"marker\": {\"size\": 2, \"symbol\": \"circle\"}, \"mode\": \"markers\", \"name\": \"C\", \"text\": \"\", \"type\": \"scatter\", \"x\": [-0.6057254125189131, -0.1892998620186739, 0.26690625989144934, 0.8801506841686696, -2.163784553004971, -0.4614535843193734, -0.477493821743666, 1.415970231503484, -0.32532434268508886, -0.623502578386509, 0.46107409795762677, -0.17597837771622932, -0.010493028851549516, 0.12707067248642415, 1.6821349613945324, 1.4896885981293346, 1.6774362491281654, 1.7768769787637884, 0.02482122889581526, -0.08490748620525963, -0.7745530167443184, 0.7281703263038644, 0.34604550500472503, 1.6609483397717384, -0.152552190572538, -0.23369305198586304, -0.7120689525561642, 0.42787313319929604, 1.133049796582027, -0.6412951044882726, 0.8955770585287715, -0.4726809527145295, 0.14844968009098905, -0.21346438354012479, 1.1349094316201722, 0.3303734816044888, 0.08667582342525072, 0.8892484751851075, -0.12466594725091838, 0.8827036907344208, 1.2094937839467363, -0.4895836620137229, -0.5408427475391092, -1.0410265851439164, -0.8895250070698203, -0.11542371743890872, -0.2565703204603735, -1.025057326973805, -0.17505685722310804, 0.7156960922973573, 0.3364902049994554, 0.3922927246547013, -1.3069168912035614, 1.0855895861961868, 0.38972558986895434, 1.3949581546509382, -0.15477016380895434, -1.0490182284984666, -0.7284534907657603, -0.43638936764173697, 0.6725356433554945, -1.3786402449176423, 0.48072039417330187, -0.0017498029708925967, 0.5018239222039128, 1.6771097664851364, 0.35373070444751786, 0.8266608353330749, -0.3749302565897924, -0.4353583055446691, -1.2005208565469987, -0.8799068979454695, 1.0274027527929517, 0.3647258386082056, 0.45955622956747993, -0.09155025515307294, -1.3399406737564568, 0.616572965129828, 0.3878866411322037, 0.32055906658916067, 0.7972281495815815, 2.389749279180996, -1.2494200166450264, 1.903338137180644, 0.736383662558544, -0.2549611298886137, 0.4816846935415098, -0.1640079781722683, 0.4242312582039998, 0.8552838937608425, -1.9059829052191977, 0.8331154077999772, 0.443487283792609, -0.2301629498760557, -0.4811227799019512, 0.6444819505648139, -1.2330396356002027, -0.24868752637889677, -0.38122386681139986, -0.16332571723924683], \"xaxis\": \"x10\", \"y\": [0.1601249787527821, 0.29467420148564255, 0.3568882970336668, 0.49339091812602603, 0.16530264922437402, 2.2807082818300626, 1.4178626566598593, 0.5889050796635561, 0.2979322274628636, -0.46252389970771896, 0.13144175857810902, 0.5736688504658046, 1.1827446651909586, -0.8718692524802156, 0.20105309216440514, -0.08201145688342751, 0.49058096735497736, 0.3073301521120699, 0.2062732752023993, -0.8575271388635829, -0.06424561735245785, 0.813349097868763, 2.741697991028217, -0.2793545347105481, -0.41986215159009505, -0.11499129002598239, -0.5715410238192038, 1.0007504048377733, 1.3350996160222715, -0.5112842995073376, -1.1338750384907732, 1.5711619122979843, 0.6870070701377833, 0.5382487054828127, -1.9239708678727752, -0.4210262882065965, 0.5638420270406669, 0.20511189975442604, -0.12907921148531795, 0.757698401531798, 0.7424669848460085, -1.8127059462077935, 2.576212391160004, 1.0680317017372118, 0.6368591290761687, 0.01397484001391836, -1.3260636410754556, -0.3454200227156687, 0.23104677009196176, -1.504623218406821, -0.7293169981334667, -0.6177334832660625, -0.46237664722806426, -0.1430308666814354, 0.6280356845129812, 0.08167521621781876, 0.9448994153372875, 2.4854180051941137, 1.738936345972523, -0.048645016737942116, -0.5812073885088923, -1.0086837242273425, 1.5473440295073544, 1.2822811201946844, -0.018777519523717173, -1.4534708086641772, 0.45049743683620114, 0.45948627986481416, 0.08059342752465515, -0.32707985257690864, 2.0071909451730634, 0.8792142349076734, -0.5655594051944282, -0.2631396115731665, 1.6359234677717236, -1.1272003032769349, 1.3888430168995958, 0.6783820575897243, 0.3339377866861008, 1.8216227062158385, -0.9590968968998035, 0.2114721317851453, 1.9049164731508406, -0.1501836091332619, -0.2756392951508617, 1.3877819674178027, -1.2709051234011197, 1.0917916681144118, -0.8501591958376347, 0.7004656422210184, 0.7878066663610747, 1.074070542351294, -0.38940669791984817, 0.06892194841765428, -1.1123923558984532, -0.8812451059562298, -1.6585485110351523, -1.1472413656126865, 0.19786640777415176, 0.5077386863533896], \"yaxis\": \"y10\"}, {\"histfunc\": \"count\", \"histnorm\": \"\", \"marker\": {\"color\": \"rgba(50, 171, 96, 1.0)\", \"line\": {\"color\": \"#4D5663\", \"width\": 1.3}}, \"name\": \"C\", \"nbinsx\": 10, \"opacity\": 0.8, \"orientation\": \"v\", \"type\": \"histogram\", \"x\": [0.1601249787527821, 0.29467420148564255, 0.3568882970336668, 0.49339091812602603, 0.16530264922437402, 2.2807082818300626, 1.4178626566598593, 0.5889050796635561, 0.2979322274628636, -0.46252389970771896, 0.13144175857810902, 0.5736688504658046, 1.1827446651909586, -0.8718692524802156, 0.20105309216440514, -0.08201145688342751, 0.49058096735497736, 0.3073301521120699, 0.2062732752023993, -0.8575271388635829, -0.06424561735245785, 0.813349097868763, 2.741697991028217, -0.2793545347105481, -0.41986215159009505, -0.11499129002598239, -0.5715410238192038, 1.0007504048377733, 1.3350996160222715, -0.5112842995073376, -1.1338750384907732, 1.5711619122979843, 0.6870070701377833, 0.5382487054828127, -1.9239708678727752, -0.4210262882065965, 0.5638420270406669, 0.20511189975442604, -0.12907921148531795, 0.757698401531798, 0.7424669848460085, -1.8127059462077935, 2.576212391160004, 1.0680317017372118, 0.6368591290761687, 0.01397484001391836, -1.3260636410754556, -0.3454200227156687, 0.23104677009196176, -1.504623218406821, -0.7293169981334667, -0.6177334832660625, -0.46237664722806426, -0.1430308666814354, 0.6280356845129812, 0.08167521621781876, 0.9448994153372875, 2.4854180051941137, 1.738936345972523, -0.048645016737942116, -0.5812073885088923, -1.0086837242273425, 1.5473440295073544, 1.2822811201946844, -0.018777519523717173, -1.4534708086641772, 0.45049743683620114, 0.45948627986481416, 0.08059342752465515, -0.32707985257690864, 2.0071909451730634, 0.8792142349076734, -0.5655594051944282, -0.2631396115731665, 1.6359234677717236, -1.1272003032769349, 1.3888430168995958, 0.6783820575897243, 0.3339377866861008, 1.8216227062158385, -0.9590968968998035, 0.2114721317851453, 1.9049164731508406, -0.1501836091332619, -0.2756392951508617, 1.3877819674178027, -1.2709051234011197, 1.0917916681144118, -0.8501591958376347, 0.7004656422210184, 0.7878066663610747, 1.074070542351294, -0.38940669791984817, 0.06892194841765428, -1.1123923558984532, -0.8812451059562298, -1.6585485110351523, -1.1472413656126865, 0.19786640777415176, 0.5077386863533896], \"xaxis\": \"x11\", \"yaxis\": \"y11\"}, {\"line\": {\"color\": \"rgba(128, 128, 128, 1.0)\", \"dash\": \"solid\", \"shape\": \"linear\", \"width\": 1.3}, \"marker\": {\"size\": 2, \"symbol\": \"circle\"}, \"mode\": \"markers\", \"name\": \"C\", \"text\": \"\", \"type\": \"scatter\", \"x\": [1.3426741245866363, -0.1834048490438496, 0.5328701812928004, -1.656655718697109, 0.05958791043719714, -0.19321217176039682, 0.06697395147157933, 1.2728946133940555, 1.6643370286610772, -1.5298365985683589, -0.9948984208642397, -0.289097184657636, 0.4872438797747574, -0.9346972356629407, 0.634849949945669, -0.39628347477726644, -2.547089675866158, -1.7910532792329155, -0.9645522216640807, -0.19828174573655213, -0.39914923917814354, 0.45504859536829234, -0.8250249932745054, -0.20729714524589746, 0.31887015011812375, 1.9513687669838113, 0.15194731092481026, 0.7383368942851168, 1.500574460132519, -0.4870595150175634, 1.456454413800416, -0.42216075416439364, 0.6560702633200569, 1.1792352012079161, 1.0429843786375605, 0.7036294942885998, 0.08074177433226708, -1.4487970875512286, 0.894558078926984, -0.0699282582298491, -0.9520511502426532, -0.8876588084539955, 0.5781969438845166, -1.7430486173832038, -1.0073018621411078, -0.09471496007539422, -0.310076014622057, 1.4200365177865308, 0.7422544097753597, 1.7528188543357193, 0.7584308483426954, 0.9261195761969273, 1.0118865358079006, 0.4300919260168664, 0.9294146926947682, 1.3924465982379013, -0.13465429145725835, 0.11240045614705331, 2.1263570870016677, -1.3760755934994795, 0.4963343390016291, 1.7577565294397053, -0.4950895720694699, 0.9182203047219385, 0.21420340042688107, -0.5694921352855646, -0.9966297263957835, 1.8913948677061185, -0.6095726404258395, 0.07937391098492103, 1.5742394986620833, 2.2208035124948706, 1.7931480125786967, 1.040558149695388, -0.14860657963079282, 0.4183506064769205, -0.5825850114800133, 0.18926300512470912, -1.8135214054753488, -0.7926467849208718, -0.8139609097186383, -0.839992505317087, -0.7777280525675709, 1.188828962652113, 0.20893714463873903, -0.8378980888052304, 0.09162398386714583, 0.09998081544549062, -0.10154735279607056, 0.5766338514647803, 0.02486186174479018, -0.37183414153807004, -0.8281281218747182, 1.2489116158283142, 1.0625211745812095, -0.21442203657256956, 1.2391079074889888, -0.8440304806921777, -1.6817763878890764, 1.5489363423738167], \"xaxis\": \"x12\", \"y\": [0.1601249787527821, 0.29467420148564255, 0.3568882970336668, 0.49339091812602603, 0.16530264922437402, 2.2807082818300626, 1.4178626566598593, 0.5889050796635561, 0.2979322274628636, -0.46252389970771896, 0.13144175857810902, 0.5736688504658046, 1.1827446651909586, -0.8718692524802156, 0.20105309216440514, -0.08201145688342751, 0.49058096735497736, 0.3073301521120699, 0.2062732752023993, -0.8575271388635829, -0.06424561735245785, 0.813349097868763, 2.741697991028217, -0.2793545347105481, -0.41986215159009505, -0.11499129002598239, -0.5715410238192038, 1.0007504048377733, 1.3350996160222715, -0.5112842995073376, -1.1338750384907732, 1.5711619122979843, 0.6870070701377833, 0.5382487054828127, -1.9239708678727752, -0.4210262882065965, 0.5638420270406669, 0.20511189975442604, -0.12907921148531795, 0.757698401531798, 0.7424669848460085, -1.8127059462077935, 2.576212391160004, 1.0680317017372118, 0.6368591290761687, 0.01397484001391836, -1.3260636410754556, -0.3454200227156687, 0.23104677009196176, -1.504623218406821, -0.7293169981334667, -0.6177334832660625, -0.46237664722806426, -0.1430308666814354, 0.6280356845129812, 0.08167521621781876, 0.9448994153372875, 2.4854180051941137, 1.738936345972523, -0.048645016737942116, -0.5812073885088923, -1.0086837242273425, 1.5473440295073544, 1.2822811201946844, -0.018777519523717173, -1.4534708086641772, 0.45049743683620114, 0.45948627986481416, 0.08059342752465515, -0.32707985257690864, 2.0071909451730634, 0.8792142349076734, -0.5655594051944282, -0.2631396115731665, 1.6359234677717236, -1.1272003032769349, 1.3888430168995958, 0.6783820575897243, 0.3339377866861008, 1.8216227062158385, -0.9590968968998035, 0.2114721317851453, 1.9049164731508406, -0.1501836091332619, -0.2756392951508617, 1.3877819674178027, -1.2709051234011197, 1.0917916681144118, -0.8501591958376347, 0.7004656422210184, 0.7878066663610747, 1.074070542351294, -0.38940669791984817, 0.06892194841765428, -1.1123923558984532, -0.8812451059562298, -1.6585485110351523, -1.1472413656126865, 0.19786640777415176, 0.5077386863533896], \"yaxis\": \"y12\"}, {\"line\": {\"color\": \"rgba(128, 128, 128, 1.0)\", \"dash\": \"solid\", \"shape\": \"linear\", \"width\": 1.3}, \"marker\": {\"size\": 2, \"symbol\": \"circle\"}, \"mode\": \"markers\", \"name\": \"D\", \"text\": \"\", \"type\": \"scatter\", \"x\": [-0.2908630835904841, 0.7522026671935028, -0.3202202412277464, -0.3843185240987831, -0.11931133758015264, -0.06817300711027062, 0.8622886800722961, -0.31057746212150983, 0.8125623712304261, -1.5640669400281466, 1.2355425375738671, 0.8324247793641801, -0.24619011485215633, 0.8599638885984369, 2.515608696935039, -0.07276308416211145, 0.5513061271034504, -1.073197145275396, -2.0003814065736987, 0.08474756277100214, -0.47531304602403646, 0.2849603958855241, 0.3128040140963513, -0.1335933447541138, -0.561357095225552, 0.5683662400926341, 1.0250353032278872, -1.0102201871084513, 0.6989540721372159, -0.4470276481220417, -1.4318993670426283, -1.778709711352007, -0.2013150386506052, 0.90594323014043, -0.7068585466458727, 0.6769572604577522, 0.7939864245468552, -0.7538463469490789, -1.5109525329437004, 0.03241263103920048, 0.9457202231941569, -0.6361641291847315, 0.8719018266954653, 0.4866077668978206, -0.28575776536307634, -2.3753288076766776, -1.122899970532789, -0.7693332131825008, -0.6486311302735432, 0.272670354146497, 1.0501723719960416, -0.3652989022843855, -0.6162279728796006, 0.4587412631291952, -0.5019271653215122, -0.2515218329079029, -0.6317256522448005, -0.08223348033417892, -0.0036923666681755664, 1.266456167863406, -0.3560151451082724, 0.3526100081966942, 0.8185028299045045, -0.15608208664826334, -0.33548634877417594, 0.11600603838969752, 0.2712996817591125, -0.36049681660033206, -1.7525330513020736, 1.450464166516479, -1.216821613042049, 0.6034493801477613, -1.8379363094945262, 1.138064473201576, 0.8394327104637465, -1.929090849772803, -1.072691459283474, -0.43038935680185325, -0.7400367966877052, -1.322632993361467, 0.5787215505345139, -1.357954952041852, -0.6021767109518883, 0.13132077562065864, 1.5594079056934678, 1.535216779827442, -0.19368758523366292, -0.3557438285284079, 0.7849209968717704, -1.7621278569068, 0.6267176980025514, -2.8652636529097717, -0.770483051114564, 0.5280043573619357, -0.800516072738706, -1.743415921195421, -3.1720879132649635, -0.9725183317291045, 0.6848046759556948, -1.0177256470591118], \"xaxis\": \"x13\", \"y\": [1.3426741245866363, -0.1834048490438496, 0.5328701812928004, -1.656655718697109, 0.05958791043719714, -0.19321217176039682, 0.06697395147157933, 1.2728946133940555, 1.6643370286610772, -1.5298365985683589, -0.9948984208642397, -0.289097184657636, 0.4872438797747574, -0.9346972356629407, 0.634849949945669, -0.39628347477726644, -2.547089675866158, -1.7910532792329155, -0.9645522216640807, -0.19828174573655213, -0.39914923917814354, 0.45504859536829234, -0.8250249932745054, -0.20729714524589746, 0.31887015011812375, 1.9513687669838113, 0.15194731092481026, 0.7383368942851168, 1.500574460132519, -0.4870595150175634, 1.456454413800416, -0.42216075416439364, 0.6560702633200569, 1.1792352012079161, 1.0429843786375605, 0.7036294942885998, 0.08074177433226708, -1.4487970875512286, 0.894558078926984, -0.0699282582298491, -0.9520511502426532, -0.8876588084539955, 0.5781969438845166, -1.7430486173832038, -1.0073018621411078, -0.09471496007539422, -0.310076014622057, 1.4200365177865308, 0.7422544097753597, 1.7528188543357193, 0.7584308483426954, 0.9261195761969273, 1.0118865358079006, 0.4300919260168664, 0.9294146926947682, 1.3924465982379013, -0.13465429145725835, 0.11240045614705331, 2.1263570870016677, -1.3760755934994795, 0.4963343390016291, 1.7577565294397053, -0.4950895720694699, 0.9182203047219385, 0.21420340042688107, -0.5694921352855646, -0.9966297263957835, 1.8913948677061185, -0.6095726404258395, 0.07937391098492103, 1.5742394986620833, 2.2208035124948706, 1.7931480125786967, 1.040558149695388, -0.14860657963079282, 0.4183506064769205, -0.5825850114800133, 0.18926300512470912, -1.8135214054753488, -0.7926467849208718, -0.8139609097186383, -0.839992505317087, -0.7777280525675709, 1.188828962652113, 0.20893714463873903, -0.8378980888052304, 0.09162398386714583, 0.09998081544549062, -0.10154735279607056, 0.5766338514647803, 0.02486186174479018, -0.37183414153807004, -0.8281281218747182, 1.2489116158283142, 1.0625211745812095, -0.21442203657256956, 1.2391079074889888, -0.8440304806921777, -1.6817763878890764, 1.5489363423738167], \"yaxis\": \"y13\"}, {\"line\": {\"color\": \"rgba(128, 128, 128, 1.0)\", \"dash\": \"solid\", \"shape\": \"linear\", \"width\": 1.3}, \"marker\": {\"size\": 2, \"symbol\": \"circle\"}, \"mode\": \"markers\", \"name\": \"D\", \"text\": \"\", \"type\": \"scatter\", \"x\": [-0.6057254125189131, -0.1892998620186739, 0.26690625989144934, 0.8801506841686696, -2.163784553004971, -0.4614535843193734, -0.477493821743666, 1.415970231503484, -0.32532434268508886, -0.623502578386509, 0.46107409795762677, -0.17597837771622932, -0.010493028851549516, 0.12707067248642415, 1.6821349613945324, 1.4896885981293346, 1.6774362491281654, 1.7768769787637884, 0.02482122889581526, -0.08490748620525963, -0.7745530167443184, 0.7281703263038644, 0.34604550500472503, 1.6609483397717384, -0.152552190572538, -0.23369305198586304, -0.7120689525561642, 0.42787313319929604, 1.133049796582027, -0.6412951044882726, 0.8955770585287715, -0.4726809527145295, 0.14844968009098905, -0.21346438354012479, 1.1349094316201722, 0.3303734816044888, 0.08667582342525072, 0.8892484751851075, -0.12466594725091838, 0.8827036907344208, 1.2094937839467363, -0.4895836620137229, -0.5408427475391092, -1.0410265851439164, -0.8895250070698203, -0.11542371743890872, -0.2565703204603735, -1.025057326973805, -0.17505685722310804, 0.7156960922973573, 0.3364902049994554, 0.3922927246547013, -1.3069168912035614, 1.0855895861961868, 0.38972558986895434, 1.3949581546509382, -0.15477016380895434, -1.0490182284984666, -0.7284534907657603, -0.43638936764173697, 0.6725356433554945, -1.3786402449176423, 0.48072039417330187, -0.0017498029708925967, 0.5018239222039128, 1.6771097664851364, 0.35373070444751786, 0.8266608353330749, -0.3749302565897924, -0.4353583055446691, -1.2005208565469987, -0.8799068979454695, 1.0274027527929517, 0.3647258386082056, 0.45955622956747993, -0.09155025515307294, -1.3399406737564568, 0.616572965129828, 0.3878866411322037, 0.32055906658916067, 0.7972281495815815, 2.389749279180996, -1.2494200166450264, 1.903338137180644, 0.736383662558544, -0.2549611298886137, 0.4816846935415098, -0.1640079781722683, 0.4242312582039998, 0.8552838937608425, -1.9059829052191977, 0.8331154077999772, 0.443487283792609, -0.2301629498760557, -0.4811227799019512, 0.6444819505648139, -1.2330396356002027, -0.24868752637889677, -0.38122386681139986, -0.16332571723924683], \"xaxis\": \"x14\", \"y\": [1.3426741245866363, -0.1834048490438496, 0.5328701812928004, -1.656655718697109, 0.05958791043719714, -0.19321217176039682, 0.06697395147157933, 1.2728946133940555, 1.6643370286610772, -1.5298365985683589, -0.9948984208642397, -0.289097184657636, 0.4872438797747574, -0.9346972356629407, 0.634849949945669, -0.39628347477726644, -2.547089675866158, -1.7910532792329155, -0.9645522216640807, -0.19828174573655213, -0.39914923917814354, 0.45504859536829234, -0.8250249932745054, -0.20729714524589746, 0.31887015011812375, 1.9513687669838113, 0.15194731092481026, 0.7383368942851168, 1.500574460132519, -0.4870595150175634, 1.456454413800416, -0.42216075416439364, 0.6560702633200569, 1.1792352012079161, 1.0429843786375605, 0.7036294942885998, 0.08074177433226708, -1.4487970875512286, 0.894558078926984, -0.0699282582298491, -0.9520511502426532, -0.8876588084539955, 0.5781969438845166, -1.7430486173832038, -1.0073018621411078, -0.09471496007539422, -0.310076014622057, 1.4200365177865308, 0.7422544097753597, 1.7528188543357193, 0.7584308483426954, 0.9261195761969273, 1.0118865358079006, 0.4300919260168664, 0.9294146926947682, 1.3924465982379013, -0.13465429145725835, 0.11240045614705331, 2.1263570870016677, -1.3760755934994795, 0.4963343390016291, 1.7577565294397053, -0.4950895720694699, 0.9182203047219385, 0.21420340042688107, -0.5694921352855646, -0.9966297263957835, 1.8913948677061185, -0.6095726404258395, 0.07937391098492103, 1.5742394986620833, 2.2208035124948706, 1.7931480125786967, 1.040558149695388, -0.14860657963079282, 0.4183506064769205, -0.5825850114800133, 0.18926300512470912, -1.8135214054753488, -0.7926467849208718, -0.8139609097186383, -0.839992505317087, -0.7777280525675709, 1.188828962652113, 0.20893714463873903, -0.8378980888052304, 0.09162398386714583, 0.09998081544549062, -0.10154735279607056, 0.5766338514647803, 0.02486186174479018, -0.37183414153807004, -0.8281281218747182, 1.2489116158283142, 1.0625211745812095, -0.21442203657256956, 1.2391079074889888, -0.8440304806921777, -1.6817763878890764, 1.5489363423738167], \"yaxis\": \"y14\"}, {\"line\": {\"color\": \"rgba(128, 128, 128, 1.0)\", \"dash\": \"solid\", \"shape\": \"linear\", \"width\": 1.3}, \"marker\": {\"size\": 2, \"symbol\": \"circle\"}, \"mode\": \"markers\", \"name\": \"D\", \"text\": \"\", \"type\": \"scatter\", \"x\": [0.1601249787527821, 0.29467420148564255, 0.3568882970336668, 0.49339091812602603, 0.16530264922437402, 2.2807082818300626, 1.4178626566598593, 0.5889050796635561, 0.2979322274628636, -0.46252389970771896, 0.13144175857810902, 0.5736688504658046, 1.1827446651909586, -0.8718692524802156, 0.20105309216440514, -0.08201145688342751, 0.49058096735497736, 0.3073301521120699, 0.2062732752023993, -0.8575271388635829, -0.06424561735245785, 0.813349097868763, 2.741697991028217, -0.2793545347105481, -0.41986215159009505, -0.11499129002598239, -0.5715410238192038, 1.0007504048377733, 1.3350996160222715, -0.5112842995073376, -1.1338750384907732, 1.5711619122979843, 0.6870070701377833, 0.5382487054828127, -1.9239708678727752, -0.4210262882065965, 0.5638420270406669, 0.20511189975442604, -0.12907921148531795, 0.757698401531798, 0.7424669848460085, -1.8127059462077935, 2.576212391160004, 1.0680317017372118, 0.6368591290761687, 0.01397484001391836, -1.3260636410754556, -0.3454200227156687, 0.23104677009196176, -1.504623218406821, -0.7293169981334667, -0.6177334832660625, -0.46237664722806426, -0.1430308666814354, 0.6280356845129812, 0.08167521621781876, 0.9448994153372875, 2.4854180051941137, 1.738936345972523, -0.048645016737942116, -0.5812073885088923, -1.0086837242273425, 1.5473440295073544, 1.2822811201946844, -0.018777519523717173, -1.4534708086641772, 0.45049743683620114, 0.45948627986481416, 0.08059342752465515, -0.32707985257690864, 2.0071909451730634, 0.8792142349076734, -0.5655594051944282, -0.2631396115731665, 1.6359234677717236, -1.1272003032769349, 1.3888430168995958, 0.6783820575897243, 0.3339377866861008, 1.8216227062158385, -0.9590968968998035, 0.2114721317851453, 1.9049164731508406, -0.1501836091332619, -0.2756392951508617, 1.3877819674178027, -1.2709051234011197, 1.0917916681144118, -0.8501591958376347, 0.7004656422210184, 0.7878066663610747, 1.074070542351294, -0.38940669791984817, 0.06892194841765428, -1.1123923558984532, -0.8812451059562298, -1.6585485110351523, -1.1472413656126865, 0.19786640777415176, 0.5077386863533896], \"xaxis\": \"x15\", \"y\": [1.3426741245866363, -0.1834048490438496, 0.5328701812928004, -1.656655718697109, 0.05958791043719714, -0.19321217176039682, 0.06697395147157933, 1.2728946133940555, 1.6643370286610772, -1.5298365985683589, -0.9948984208642397, -0.289097184657636, 0.4872438797747574, -0.9346972356629407, 0.634849949945669, -0.39628347477726644, -2.547089675866158, -1.7910532792329155, -0.9645522216640807, -0.19828174573655213, -0.39914923917814354, 0.45504859536829234, -0.8250249932745054, -0.20729714524589746, 0.31887015011812375, 1.9513687669838113, 0.15194731092481026, 0.7383368942851168, 1.500574460132519, -0.4870595150175634, 1.456454413800416, -0.42216075416439364, 0.6560702633200569, 1.1792352012079161, 1.0429843786375605, 0.7036294942885998, 0.08074177433226708, -1.4487970875512286, 0.894558078926984, -0.0699282582298491, -0.9520511502426532, -0.8876588084539955, 0.5781969438845166, -1.7430486173832038, -1.0073018621411078, -0.09471496007539422, -0.310076014622057, 1.4200365177865308, 0.7422544097753597, 1.7528188543357193, 0.7584308483426954, 0.9261195761969273, 1.0118865358079006, 0.4300919260168664, 0.9294146926947682, 1.3924465982379013, -0.13465429145725835, 0.11240045614705331, 2.1263570870016677, -1.3760755934994795, 0.4963343390016291, 1.7577565294397053, -0.4950895720694699, 0.9182203047219385, 0.21420340042688107, -0.5694921352855646, -0.9966297263957835, 1.8913948677061185, -0.6095726404258395, 0.07937391098492103, 1.5742394986620833, 2.2208035124948706, 1.7931480125786967, 1.040558149695388, -0.14860657963079282, 0.4183506064769205, -0.5825850114800133, 0.18926300512470912, -1.8135214054753488, -0.7926467849208718, -0.8139609097186383, -0.839992505317087, -0.7777280525675709, 1.188828962652113, 0.20893714463873903, -0.8378980888052304, 0.09162398386714583, 0.09998081544549062, -0.10154735279607056, 0.5766338514647803, 0.02486186174479018, -0.37183414153807004, -0.8281281218747182, 1.2489116158283142, 1.0625211745812095, -0.21442203657256956, 1.2391079074889888, -0.8440304806921777, -1.6817763878890764, 1.5489363423738167], \"yaxis\": \"y15\"}, {\"histfunc\": \"count\", \"histnorm\": \"\", \"marker\": {\"color\": \"rgba(128, 0, 128, 1.0)\", \"line\": {\"color\": \"#4D5663\", \"width\": 1.3}}, \"name\": \"D\", \"nbinsx\": 10, \"opacity\": 0.8, \"orientation\": \"v\", \"type\": \"histogram\", \"x\": [1.3426741245866363, -0.1834048490438496, 0.5328701812928004, -1.656655718697109, 0.05958791043719714, -0.19321217176039682, 0.06697395147157933, 1.2728946133940555, 1.6643370286610772, -1.5298365985683589, -0.9948984208642397, -0.289097184657636, 0.4872438797747574, -0.9346972356629407, 0.634849949945669, -0.39628347477726644, -2.547089675866158, -1.7910532792329155, -0.9645522216640807, -0.19828174573655213, -0.39914923917814354, 0.45504859536829234, -0.8250249932745054, -0.20729714524589746, 0.31887015011812375, 1.9513687669838113, 0.15194731092481026, 0.7383368942851168, 1.500574460132519, -0.4870595150175634, 1.456454413800416, -0.42216075416439364, 0.6560702633200569, 1.1792352012079161, 1.0429843786375605, 0.7036294942885998, 0.08074177433226708, -1.4487970875512286, 0.894558078926984, -0.0699282582298491, -0.9520511502426532, -0.8876588084539955, 0.5781969438845166, -1.7430486173832038, -1.0073018621411078, -0.09471496007539422, -0.310076014622057, 1.4200365177865308, 0.7422544097753597, 1.7528188543357193, 0.7584308483426954, 0.9261195761969273, 1.0118865358079006, 0.4300919260168664, 0.9294146926947682, 1.3924465982379013, -0.13465429145725835, 0.11240045614705331, 2.1263570870016677, -1.3760755934994795, 0.4963343390016291, 1.7577565294397053, -0.4950895720694699, 0.9182203047219385, 0.21420340042688107, -0.5694921352855646, -0.9966297263957835, 1.8913948677061185, -0.6095726404258395, 0.07937391098492103, 1.5742394986620833, 2.2208035124948706, 1.7931480125786967, 1.040558149695388, -0.14860657963079282, 0.4183506064769205, -0.5825850114800133, 0.18926300512470912, -1.8135214054753488, -0.7926467849208718, -0.8139609097186383, -0.839992505317087, -0.7777280525675709, 1.188828962652113, 0.20893714463873903, -0.8378980888052304, 0.09162398386714583, 0.09998081544549062, -0.10154735279607056, 0.5766338514647803, 0.02486186174479018, -0.37183414153807004, -0.8281281218747182, 1.2489116158283142, 1.0625211745812095, -0.21442203657256956, 1.2391079074889888, -0.8440304806921777, -1.6817763878890764, 1.5489363423738167], \"xaxis\": \"x16\", \"yaxis\": \"y16\"}],                        {\"bargap\": 0.02, \"legend\": {\"bgcolor\": \"#F5F6F9\", \"font\": {\"color\": \"#4D5663\"}}, \"paper_bgcolor\": \"#F5F6F9\", \"plot_bgcolor\": \"#F5F6F9\", \"showlegend\": false, \"template\": {\"data\": {\"bar\": [{\"error_x\": {\"color\": \"#2a3f5f\"}, \"error_y\": {\"color\": \"#2a3f5f\"}, \"marker\": {\"line\": {\"color\": \"#E5ECF6\", \"width\": 0.5}}, \"type\": \"bar\"}], \"barpolar\": [{\"marker\": {\"line\": {\"color\": \"#E5ECF6\", \"width\": 0.5}}, \"type\": \"barpolar\"}], \"carpet\": [{\"aaxis\": {\"endlinecolor\": \"#2a3f5f\", \"gridcolor\": \"white\", \"linecolor\": \"white\", \"minorgridcolor\": \"white\", \"startlinecolor\": \"#2a3f5f\"}, \"baxis\": {\"endlinecolor\": \"#2a3f5f\", \"gridcolor\": \"white\", \"linecolor\": \"white\", \"minorgridcolor\": \"white\", \"startlinecolor\": \"#2a3f5f\"}, \"type\": \"carpet\"}], \"choropleth\": [{\"colorbar\": {\"outlinewidth\": 0, \"ticks\": \"\"}, \"type\": \"choropleth\"}], \"contour\": [{\"colorbar\": {\"outlinewidth\": 0, \"ticks\": \"\"}, \"colorscale\": [[0.0, \"#0d0887\"], [0.1111111111111111, \"#46039f\"], [0.2222222222222222, \"#7201a8\"], [0.3333333333333333, \"#9c179e\"], [0.4444444444444444, \"#bd3786\"], [0.5555555555555556, \"#d8576b\"], [0.6666666666666666, \"#ed7953\"], [0.7777777777777778, \"#fb9f3a\"], [0.8888888888888888, \"#fdca26\"], [1.0, \"#f0f921\"]], \"type\": \"contour\"}], \"contourcarpet\": [{\"colorbar\": {\"outlinewidth\": 0, \"ticks\": \"\"}, \"type\": \"contourcarpet\"}], \"heatmap\": [{\"colorbar\": {\"outlinewidth\": 0, \"ticks\": \"\"}, \"colorscale\": [[0.0, \"#0d0887\"], [0.1111111111111111, \"#46039f\"], [0.2222222222222222, \"#7201a8\"], [0.3333333333333333, \"#9c179e\"], [0.4444444444444444, \"#bd3786\"], [0.5555555555555556, \"#d8576b\"], [0.6666666666666666, \"#ed7953\"], [0.7777777777777778, \"#fb9f3a\"], [0.8888888888888888, \"#fdca26\"], [1.0, \"#f0f921\"]], \"type\": \"heatmap\"}], \"heatmapgl\": [{\"colorbar\": {\"outlinewidth\": 0, \"ticks\": \"\"}, \"colorscale\": [[0.0, \"#0d0887\"], [0.1111111111111111, \"#46039f\"], [0.2222222222222222, \"#7201a8\"], [0.3333333333333333, \"#9c179e\"], [0.4444444444444444, \"#bd3786\"], [0.5555555555555556, \"#d8576b\"], [0.6666666666666666, \"#ed7953\"], [0.7777777777777778, \"#fb9f3a\"], [0.8888888888888888, \"#fdca26\"], [1.0, \"#f0f921\"]], \"type\": \"heatmapgl\"}], \"histogram\": [{\"marker\": {\"colorbar\": {\"outlinewidth\": 0, \"ticks\": \"\"}}, \"type\": \"histogram\"}], \"histogram2d\": [{\"colorbar\": {\"outlinewidth\": 0, \"ticks\": \"\"}, \"colorscale\": [[0.0, \"#0d0887\"], [0.1111111111111111, \"#46039f\"], [0.2222222222222222, \"#7201a8\"], [0.3333333333333333, \"#9c179e\"], [0.4444444444444444, \"#bd3786\"], [0.5555555555555556, \"#d8576b\"], [0.6666666666666666, \"#ed7953\"], [0.7777777777777778, \"#fb9f3a\"], [0.8888888888888888, \"#fdca26\"], [1.0, \"#f0f921\"]], \"type\": \"histogram2d\"}], \"histogram2dcontour\": [{\"colorbar\": {\"outlinewidth\": 0, \"ticks\": \"\"}, \"colorscale\": [[0.0, \"#0d0887\"], [0.1111111111111111, \"#46039f\"], [0.2222222222222222, \"#7201a8\"], [0.3333333333333333, \"#9c179e\"], [0.4444444444444444, \"#bd3786\"], [0.5555555555555556, \"#d8576b\"], [0.6666666666666666, \"#ed7953\"], [0.7777777777777778, \"#fb9f3a\"], [0.8888888888888888, \"#fdca26\"], [1.0, \"#f0f921\"]], \"type\": \"histogram2dcontour\"}], \"mesh3d\": [{\"colorbar\": {\"outlinewidth\": 0, \"ticks\": \"\"}, \"type\": \"mesh3d\"}], \"parcoords\": [{\"line\": {\"colorbar\": {\"outlinewidth\": 0, \"ticks\": \"\"}}, \"type\": \"parcoords\"}], \"pie\": [{\"automargin\": true, \"type\": \"pie\"}], \"scatter\": [{\"marker\": {\"colorbar\": {\"outlinewidth\": 0, \"ticks\": \"\"}}, \"type\": \"scatter\"}], \"scatter3d\": [{\"line\": {\"colorbar\": {\"outlinewidth\": 0, \"ticks\": \"\"}}, \"marker\": {\"colorbar\": {\"outlinewidth\": 0, \"ticks\": \"\"}}, \"type\": \"scatter3d\"}], \"scattercarpet\": [{\"marker\": {\"colorbar\": {\"outlinewidth\": 0, \"ticks\": \"\"}}, \"type\": \"scattercarpet\"}], \"scattergeo\": [{\"marker\": {\"colorbar\": {\"outlinewidth\": 0, \"ticks\": \"\"}}, \"type\": \"scattergeo\"}], \"scattergl\": [{\"marker\": {\"colorbar\": {\"outlinewidth\": 0, \"ticks\": \"\"}}, \"type\": \"scattergl\"}], \"scattermapbox\": [{\"marker\": {\"colorbar\": {\"outlinewidth\": 0, \"ticks\": \"\"}}, \"type\": \"scattermapbox\"}], \"scatterpolar\": [{\"marker\": {\"colorbar\": {\"outlinewidth\": 0, \"ticks\": \"\"}}, \"type\": \"scatterpolar\"}], \"scatterpolargl\": [{\"marker\": {\"colorbar\": {\"outlinewidth\": 0, \"ticks\": \"\"}}, \"type\": \"scatterpolargl\"}], \"scatterternary\": [{\"marker\": {\"colorbar\": {\"outlinewidth\": 0, \"ticks\": \"\"}}, \"type\": \"scatterternary\"}], \"surface\": [{\"colorbar\": {\"outlinewidth\": 0, \"ticks\": \"\"}, \"colorscale\": [[0.0, \"#0d0887\"], [0.1111111111111111, \"#46039f\"], [0.2222222222222222, \"#7201a8\"], [0.3333333333333333, \"#9c179e\"], [0.4444444444444444, \"#bd3786\"], [0.5555555555555556, \"#d8576b\"], [0.6666666666666666, \"#ed7953\"], [0.7777777777777778, \"#fb9f3a\"], [0.8888888888888888, \"#fdca26\"], [1.0, \"#f0f921\"]], \"type\": \"surface\"}], \"table\": [{\"cells\": {\"fill\": {\"color\": \"#EBF0F8\"}, \"line\": {\"color\": \"white\"}}, \"header\": {\"fill\": {\"color\": \"#C8D4E3\"}, \"line\": {\"color\": \"white\"}}, \"type\": \"table\"}]}, \"layout\": {\"annotationdefaults\": {\"arrowcolor\": \"#2a3f5f\", \"arrowhead\": 0, \"arrowwidth\": 1}, \"autotypenumbers\": \"strict\", \"coloraxis\": {\"colorbar\": {\"outlinewidth\": 0, \"ticks\": \"\"}}, \"colorscale\": {\"diverging\": [[0, \"#8e0152\"], [0.1, \"#c51b7d\"], [0.2, \"#de77ae\"], [0.3, \"#f1b6da\"], [0.4, \"#fde0ef\"], [0.5, \"#f7f7f7\"], [0.6, \"#e6f5d0\"], [0.7, \"#b8e186\"], [0.8, \"#7fbc41\"], [0.9, \"#4d9221\"], [1, \"#276419\"]], \"sequential\": [[0.0, \"#0d0887\"], [0.1111111111111111, \"#46039f\"], [0.2222222222222222, \"#7201a8\"], [0.3333333333333333, \"#9c179e\"], [0.4444444444444444, \"#bd3786\"], [0.5555555555555556, \"#d8576b\"], [0.6666666666666666, \"#ed7953\"], [0.7777777777777778, \"#fb9f3a\"], [0.8888888888888888, \"#fdca26\"], [1.0, \"#f0f921\"]], \"sequentialminus\": [[0.0, \"#0d0887\"], [0.1111111111111111, \"#46039f\"], [0.2222222222222222, \"#7201a8\"], [0.3333333333333333, \"#9c179e\"], [0.4444444444444444, \"#bd3786\"], [0.5555555555555556, \"#d8576b\"], [0.6666666666666666, \"#ed7953\"], [0.7777777777777778, \"#fb9f3a\"], [0.8888888888888888, \"#fdca26\"], [1.0, \"#f0f921\"]]}, \"colorway\": [\"#636efa\", \"#EF553B\", \"#00cc96\", \"#ab63fa\", \"#FFA15A\", \"#19d3f3\", \"#FF6692\", \"#B6E880\", \"#FF97FF\", \"#FECB52\"], \"font\": {\"color\": \"#2a3f5f\"}, \"geo\": {\"bgcolor\": \"white\", \"lakecolor\": \"white\", \"landcolor\": \"#E5ECF6\", \"showlakes\": true, \"showland\": true, \"subunitcolor\": \"white\"}, \"hoverlabel\": {\"align\": \"left\"}, \"hovermode\": \"closest\", \"mapbox\": {\"style\": \"light\"}, \"paper_bgcolor\": \"white\", \"plot_bgcolor\": \"#E5ECF6\", \"polar\": {\"angularaxis\": {\"gridcolor\": \"white\", \"linecolor\": \"white\", \"ticks\": \"\"}, \"bgcolor\": \"#E5ECF6\", \"radialaxis\": {\"gridcolor\": \"white\", \"linecolor\": \"white\", \"ticks\": \"\"}}, \"scene\": {\"xaxis\": {\"backgroundcolor\": \"#E5ECF6\", \"gridcolor\": \"white\", \"gridwidth\": 2, \"linecolor\": \"white\", \"showbackground\": true, \"ticks\": \"\", \"zerolinecolor\": \"white\"}, \"yaxis\": {\"backgroundcolor\": \"#E5ECF6\", \"gridcolor\": \"white\", \"gridwidth\": 2, \"linecolor\": \"white\", \"showbackground\": true, \"ticks\": \"\", \"zerolinecolor\": \"white\"}, \"zaxis\": {\"backgroundcolor\": \"#E5ECF6\", \"gridcolor\": \"white\", \"gridwidth\": 2, \"linecolor\": \"white\", \"showbackground\": true, \"ticks\": \"\", \"zerolinecolor\": \"white\"}}, \"shapedefaults\": {\"line\": {\"color\": \"#2a3f5f\"}}, \"ternary\": {\"aaxis\": {\"gridcolor\": \"white\", \"linecolor\": \"white\", \"ticks\": \"\"}, \"baxis\": {\"gridcolor\": \"white\", \"linecolor\": \"white\", \"ticks\": \"\"}, \"bgcolor\": \"#E5ECF6\", \"caxis\": {\"gridcolor\": \"white\", \"linecolor\": \"white\", \"ticks\": \"\"}}, \"title\": {\"x\": 0.05}, \"xaxis\": {\"automargin\": true, \"gridcolor\": \"white\", \"linecolor\": \"white\", \"ticks\": \"\", \"title\": {\"standoff\": 15}, \"zerolinecolor\": \"white\", \"zerolinewidth\": 2}, \"yaxis\": {\"automargin\": true, \"gridcolor\": \"white\", \"linecolor\": \"white\", \"ticks\": \"\", \"title\": {\"standoff\": 15}, \"zerolinecolor\": \"white\", \"zerolinewidth\": 2}}}, \"title\": {\"font\": {\"color\": \"#4D5663\"}}, \"xaxis\": {\"anchor\": \"y\", \"domain\": [0.0, 0.2125], \"gridcolor\": \"#E1E5ED\", \"showgrid\": false, \"tickfont\": {\"color\": \"#4D5663\"}, \"title\": {\"font\": {\"color\": \"#4D5663\"}, \"text\": \"\"}, \"zerolinecolor\": \"#E1E5ED\"}, \"xaxis10\": {\"anchor\": \"y10\", \"domain\": [0.2625, 0.475], \"gridcolor\": \"#E1E5ED\", \"showgrid\": false, \"tickfont\": {\"color\": \"#4D5663\"}, \"title\": {\"font\": {\"color\": \"#4D5663\"}, \"text\": \"\"}, \"zerolinecolor\": \"#E1E5ED\"}, \"xaxis11\": {\"anchor\": \"y11\", \"domain\": [0.525, 0.7375], \"gridcolor\": \"#E1E5ED\", \"showgrid\": false, \"tickfont\": {\"color\": \"#4D5663\"}, \"title\": {\"font\": {\"color\": \"#4D5663\"}, \"text\": \"\"}, \"zerolinecolor\": \"#E1E5ED\"}, \"xaxis12\": {\"anchor\": \"y12\", \"domain\": [0.7875, 1.0], \"gridcolor\": \"#E1E5ED\", \"showgrid\": false, \"tickfont\": {\"color\": \"#4D5663\"}, \"title\": {\"font\": {\"color\": \"#4D5663\"}, \"text\": \"\"}, \"zerolinecolor\": \"#E1E5ED\"}, \"xaxis13\": {\"anchor\": \"y13\", \"domain\": [0.0, 0.2125], \"gridcolor\": \"#E1E5ED\", \"showgrid\": false, \"tickfont\": {\"color\": \"#4D5663\"}, \"title\": {\"font\": {\"color\": \"#4D5663\"}, \"text\": \"\"}, \"zerolinecolor\": \"#E1E5ED\"}, \"xaxis14\": {\"anchor\": \"y14\", \"domain\": [0.2625, 0.475], \"gridcolor\": \"#E1E5ED\", \"showgrid\": false, \"tickfont\": {\"color\": \"#4D5663\"}, \"title\": {\"font\": {\"color\": \"#4D5663\"}, \"text\": \"\"}, \"zerolinecolor\": \"#E1E5ED\"}, \"xaxis15\": {\"anchor\": \"y15\", \"domain\": [0.525, 0.7375], \"gridcolor\": \"#E1E5ED\", \"showgrid\": false, \"tickfont\": {\"color\": \"#4D5663\"}, \"title\": {\"font\": {\"color\": \"#4D5663\"}, \"text\": \"\"}, \"zerolinecolor\": \"#E1E5ED\"}, \"xaxis16\": {\"anchor\": \"y16\", \"domain\": [0.7875, 1.0], \"gridcolor\": \"#E1E5ED\", \"showgrid\": false, \"tickfont\": {\"color\": \"#4D5663\"}, \"title\": {\"font\": {\"color\": \"#4D5663\"}, \"text\": \"\"}, \"zerolinecolor\": \"#E1E5ED\"}, \"xaxis2\": {\"anchor\": \"y2\", \"domain\": [0.2625, 0.475], \"gridcolor\": \"#E1E5ED\", \"showgrid\": false, \"tickfont\": {\"color\": \"#4D5663\"}, \"title\": {\"font\": {\"color\": \"#4D5663\"}, \"text\": \"\"}, \"zerolinecolor\": \"#E1E5ED\"}, \"xaxis3\": {\"anchor\": \"y3\", \"domain\": [0.525, 0.7375], \"gridcolor\": \"#E1E5ED\", \"showgrid\": false, \"tickfont\": {\"color\": \"#4D5663\"}, \"title\": {\"font\": {\"color\": \"#4D5663\"}, \"text\": \"\"}, \"zerolinecolor\": \"#E1E5ED\"}, \"xaxis4\": {\"anchor\": \"y4\", \"domain\": [0.7875, 1.0], \"gridcolor\": \"#E1E5ED\", \"showgrid\": false, \"tickfont\": {\"color\": \"#4D5663\"}, \"title\": {\"font\": {\"color\": \"#4D5663\"}, \"text\": \"\"}, \"zerolinecolor\": \"#E1E5ED\"}, \"xaxis5\": {\"anchor\": \"y5\", \"domain\": [0.0, 0.2125], \"gridcolor\": \"#E1E5ED\", \"showgrid\": false, \"tickfont\": {\"color\": \"#4D5663\"}, \"title\": {\"font\": {\"color\": \"#4D5663\"}, \"text\": \"\"}, \"zerolinecolor\": \"#E1E5ED\"}, \"xaxis6\": {\"anchor\": \"y6\", \"domain\": [0.2625, 0.475], \"gridcolor\": \"#E1E5ED\", \"showgrid\": false, \"tickfont\": {\"color\": \"#4D5663\"}, \"title\": {\"font\": {\"color\": \"#4D5663\"}, \"text\": \"\"}, \"zerolinecolor\": \"#E1E5ED\"}, \"xaxis7\": {\"anchor\": \"y7\", \"domain\": [0.525, 0.7375], \"gridcolor\": \"#E1E5ED\", \"showgrid\": false, \"tickfont\": {\"color\": \"#4D5663\"}, \"title\": {\"font\": {\"color\": \"#4D5663\"}, \"text\": \"\"}, \"zerolinecolor\": \"#E1E5ED\"}, \"xaxis8\": {\"anchor\": \"y8\", \"domain\": [0.7875, 1.0], \"gridcolor\": \"#E1E5ED\", \"showgrid\": false, \"tickfont\": {\"color\": \"#4D5663\"}, \"title\": {\"font\": {\"color\": \"#4D5663\"}, \"text\": \"\"}, \"zerolinecolor\": \"#E1E5ED\"}, \"xaxis9\": {\"anchor\": \"y9\", \"domain\": [0.0, 0.2125], \"gridcolor\": \"#E1E5ED\", \"showgrid\": false, \"tickfont\": {\"color\": \"#4D5663\"}, \"title\": {\"font\": {\"color\": \"#4D5663\"}, \"text\": \"\"}, \"zerolinecolor\": \"#E1E5ED\"}, \"yaxis\": {\"anchor\": \"x\", \"domain\": [0.8025, 1.0], \"gridcolor\": \"#E1E5ED\", \"showgrid\": false, \"tickfont\": {\"color\": \"#4D5663\"}, \"title\": {\"font\": {\"color\": \"#4D5663\"}, \"text\": \"\"}, \"zerolinecolor\": \"#E1E5ED\"}, \"yaxis10\": {\"anchor\": \"x10\", \"domain\": [0.2675, 0.465], \"gridcolor\": \"#E1E5ED\", \"showgrid\": false, \"tickfont\": {\"color\": \"#4D5663\"}, \"title\": {\"font\": {\"color\": \"#4D5663\"}, \"text\": \"\"}, \"zerolinecolor\": \"#E1E5ED\"}, \"yaxis11\": {\"anchor\": \"x11\", \"domain\": [0.2675, 0.465], \"gridcolor\": \"#E1E5ED\", \"showgrid\": false, \"tickfont\": {\"color\": \"#4D5663\"}, \"title\": {\"font\": {\"color\": \"#4D5663\"}, \"text\": \"\"}, \"zerolinecolor\": \"#E1E5ED\"}, \"yaxis12\": {\"anchor\": \"x12\", \"domain\": [0.2675, 0.465], \"gridcolor\": \"#E1E5ED\", \"showgrid\": false, \"tickfont\": {\"color\": \"#4D5663\"}, \"title\": {\"font\": {\"color\": \"#4D5663\"}, \"text\": \"\"}, \"zerolinecolor\": \"#E1E5ED\"}, \"yaxis13\": {\"anchor\": \"x13\", \"domain\": [0.0, 0.1975], \"gridcolor\": \"#E1E5ED\", \"showgrid\": false, \"tickfont\": {\"color\": \"#4D5663\"}, \"title\": {\"font\": {\"color\": \"#4D5663\"}, \"text\": \"\"}, \"zerolinecolor\": \"#E1E5ED\"}, \"yaxis14\": {\"anchor\": \"x14\", \"domain\": [0.0, 0.1975], \"gridcolor\": \"#E1E5ED\", \"showgrid\": false, \"tickfont\": {\"color\": \"#4D5663\"}, \"title\": {\"font\": {\"color\": \"#4D5663\"}, \"text\": \"\"}, \"zerolinecolor\": \"#E1E5ED\"}, \"yaxis15\": {\"anchor\": \"x15\", \"domain\": [0.0, 0.1975], \"gridcolor\": \"#E1E5ED\", \"showgrid\": false, \"tickfont\": {\"color\": \"#4D5663\"}, \"title\": {\"font\": {\"color\": \"#4D5663\"}, \"text\": \"\"}, \"zerolinecolor\": \"#E1E5ED\"}, \"yaxis16\": {\"anchor\": \"x16\", \"domain\": [0.0, 0.1975], \"gridcolor\": \"#E1E5ED\", \"showgrid\": false, \"tickfont\": {\"color\": \"#4D5663\"}, \"title\": {\"font\": {\"color\": \"#4D5663\"}, \"text\": \"\"}, \"zerolinecolor\": \"#E1E5ED\"}, \"yaxis2\": {\"anchor\": \"x2\", \"domain\": [0.8025, 1.0], \"gridcolor\": \"#E1E5ED\", \"showgrid\": false, \"tickfont\": {\"color\": \"#4D5663\"}, \"title\": {\"font\": {\"color\": \"#4D5663\"}, \"text\": \"\"}, \"zerolinecolor\": \"#E1E5ED\"}, \"yaxis3\": {\"anchor\": \"x3\", \"domain\": [0.8025, 1.0], \"gridcolor\": \"#E1E5ED\", \"showgrid\": false, \"tickfont\": {\"color\": \"#4D5663\"}, \"title\": {\"font\": {\"color\": \"#4D5663\"}, \"text\": \"\"}, \"zerolinecolor\": \"#E1E5ED\"}, \"yaxis4\": {\"anchor\": \"x4\", \"domain\": [0.8025, 1.0], \"gridcolor\": \"#E1E5ED\", \"showgrid\": false, \"tickfont\": {\"color\": \"#4D5663\"}, \"title\": {\"font\": {\"color\": \"#4D5663\"}, \"text\": \"\"}, \"zerolinecolor\": \"#E1E5ED\"}, \"yaxis5\": {\"anchor\": \"x5\", \"domain\": [0.535, 0.7325], \"gridcolor\": \"#E1E5ED\", \"showgrid\": false, \"tickfont\": {\"color\": \"#4D5663\"}, \"title\": {\"font\": {\"color\": \"#4D5663\"}, \"text\": \"\"}, \"zerolinecolor\": \"#E1E5ED\"}, \"yaxis6\": {\"anchor\": \"x6\", \"domain\": [0.535, 0.7325], \"gridcolor\": \"#E1E5ED\", \"showgrid\": false, \"tickfont\": {\"color\": \"#4D5663\"}, \"title\": {\"font\": {\"color\": \"#4D5663\"}, \"text\": \"\"}, \"zerolinecolor\": \"#E1E5ED\"}, \"yaxis7\": {\"anchor\": \"x7\", \"domain\": [0.535, 0.7325], \"gridcolor\": \"#E1E5ED\", \"showgrid\": false, \"tickfont\": {\"color\": \"#4D5663\"}, \"title\": {\"font\": {\"color\": \"#4D5663\"}, \"text\": \"\"}, \"zerolinecolor\": \"#E1E5ED\"}, \"yaxis8\": {\"anchor\": \"x8\", \"domain\": [0.535, 0.7325], \"gridcolor\": \"#E1E5ED\", \"showgrid\": false, \"tickfont\": {\"color\": \"#4D5663\"}, \"title\": {\"font\": {\"color\": \"#4D5663\"}, \"text\": \"\"}, \"zerolinecolor\": \"#E1E5ED\"}, \"yaxis9\": {\"anchor\": \"x9\", \"domain\": [0.2675, 0.465], \"gridcolor\": \"#E1E5ED\", \"showgrid\": false, \"tickfont\": {\"color\": \"#4D5663\"}, \"title\": {\"font\": {\"color\": \"#4D5663\"}, \"text\": \"\"}, \"zerolinecolor\": \"#E1E5ED\"}},                        {\"showLink\": true, \"linkText\": \"Export to plot.ly\", \"plotlyServerURL\": \"https://plot.ly\", \"responsive\": true}                    ).then(function(){\n",
       "                            \n",
       "var gd = document.getElementById('2992f2a8-8f76-41ba-8df9-94659bd7345f');\n",
       "var x = new MutationObserver(function (mutations, observer) {{\n",
       "        var display = window.getComputedStyle(gd).display;\n",
       "        if (!display || display === 'none') {{\n",
       "            console.log([gd, 'removed!']);\n",
       "            Plotly.purge(gd);\n",
       "            observer.disconnect();\n",
       "        }}\n",
       "}});\n",
       "\n",
       "// Listen for the removal of the full notebook cells\n",
       "var notebookContainer = gd.closest('#notebook-container');\n",
       "if (notebookContainer) {{\n",
       "    x.observe(notebookContainer, {childList: true});\n",
       "}}\n",
       "\n",
       "// Listen for the clearing of the current output cell\n",
       "var outputEl = gd.closest('.output');\n",
       "if (outputEl) {{\n",
       "    x.observe(outputEl, {childList: true});\n",
       "}}\n",
       "\n",
       "                        })                };                });            </script>        </div>"
      ]
     },
     "metadata": {},
     "output_type": "display_data"
    }
   ],
   "source": [
    "df.scatter_matrix()"
   ]
  }
 ],
 "metadata": {
  "kernelspec": {
   "display_name": "Python 3",
   "language": "python",
   "name": "python3"
  },
  "language_info": {
   "codemirror_mode": {
    "name": "ipython",
    "version": 3
   },
   "file_extension": ".py",
   "mimetype": "text/x-python",
   "name": "python",
   "nbconvert_exporter": "python",
   "pygments_lexer": "ipython3",
   "version": "3.8.3"
  }
 },
 "nbformat": 4,
 "nbformat_minor": 1
}
